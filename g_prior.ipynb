{
 "cells": [
  {
   "attachments": {},
   "cell_type": "markdown",
   "metadata": {},
   "source": [
    "# Refinement and G-Prior"
   ]
  },
  {
   "cell_type": "code",
   "execution_count": 1,
   "metadata": {},
   "outputs": [],
   "source": [
    "%load_ext autoreload\n",
    "%autoreload 2"
   ]
  },
  {
   "cell_type": "markdown",
   "metadata": {},
   "source": [
    "## Imports"
   ]
  },
  {
   "cell_type": "code",
   "execution_count": 2,
   "metadata": {},
   "outputs": [],
   "source": [
    "import numpy as np\n",
    "import torch\n",
    "import copy\n",
    "import plotly.graph_objects as go\n",
    "import math\n",
    "\n",
    "import torch.nn as nn\n",
    "import torch.nn.functional as F\n",
    "\n",
    "from torch.utils.data import ConcatDataset, DataLoader\n",
    "from torch.distributions.normal import Normal\n",
    "\n",
    "from data.uci_datasets import UCIData\n",
    "from main import set_seed, get_device\n",
    "from util.plots import plot_data, plot_regression, plot_bayesian_regression\n",
    "from models.nets import create_mlp\n",
    "from trainer import ModelTrainer, NegativeLogLikelihood\n",
    "\n",
    "from laplace import Laplace\n",
    "\n",
    "from backpack import backpack, extend\n",
    "from backpack.extensions import BatchGrad"
   ]
  },
  {
   "cell_type": "code",
   "execution_count": 3,
   "metadata": {},
   "outputs": [],
   "source": [
    "from hydra import initialize, compose\n",
    "from omegaconf import OmegaConf\n",
    "try:\n",
    "    initialize(version_base=None, config_path=\"configuration\")\n",
    "except Exception as e:\n",
    "    print(e)\n",
    "config = compose(config_name=\"uci.yaml\")\n",
    "set_seed(config.seed)"
   ]
  },
  {
   "cell_type": "markdown",
   "metadata": {},
   "source": [
    "## Refined Laplace"
   ]
  },
  {
   "cell_type": "markdown",
   "metadata": {},
   "source": [
    "### Helper functions"
   ]
  },
  {
   "cell_type": "code",
   "execution_count": 4,
   "metadata": {},
   "outputs": [],
   "source": [
    "def flatten_nn(model):\n",
    "    weights = []\n",
    "    for name, param in model.named_parameters():\n",
    "        weights.append(param.detach().flatten())\n",
    "    return torch.cat(weights, dim=0)"
   ]
  },
  {
   "cell_type": "markdown",
   "metadata": {},
   "source": [
    "### RefinedLaplace Module"
   ]
  },
  {
   "cell_type": "code",
   "execution_count": 5,
   "metadata": {},
   "outputs": [],
   "source": [
    "class RefinedLaplace(nn.Module):\n",
    "    def __init__(self, model, output_dim, posterior_covariance):\n",
    "        super(RefinedLaplace, self).__init__()\n",
    "        self.model = model\n",
    "        self.output_dim = output_dim\n",
    "        self.weights_map = flatten_nn(self.model)\n",
    "        self.weights = torch.nn.Parameter(torch.zeros_like(self.weights_map), requires_grad=True)\n",
    "        self.posterior_covariance = posterior_covariance\n",
    "\n",
    "    def forward(self, X):\n",
    "        with torch.no_grad():\n",
    "            f = self.model(X)\n",
    "        J = self._jacobian(X) \n",
    "        out = torch.einsum(\"ijk,k->ij\", J, (self.weights - self.weights_map))\n",
    "        return out\n",
    "    \n",
    "    def predict(self, X):\n",
    "        with torch.no_grad():\n",
    "            f = self.model(X)\n",
    "        J = self._jacobian(X)\n",
    "        mean = torch.einsum(\"ijk,k->ij\", J, (self.weights - self.weights_map)) + f\n",
    "        return mean, self._functional_variance(J)\n",
    "        \n",
    "    def _functional_variance(self, Js):\n",
    "        return torch.einsum('ncp,pq,nkq->nck', Js, self.posterior_covariance, Js)\n",
    " \n",
    "\n",
    "    def _jacobian(self, X):\n",
    "        \"\"\"\n",
    "        Compute the jacobian of the model with respect to the input X\n",
    "        Args:\n",
    "            X: input tensor\n",
    "        Returns:\n",
    "            J: jacobian of the model with respect to X\n",
    "        \"\"\"\n",
    "        model = copy.deepcopy(self.model)\n",
    "        model.eval()\n",
    "        model = extend(model)\n",
    "        Js = []\n",
    "        for o in range(self.output_dim):\n",
    "            f = model(X)\n",
    "            f_o = f.sum(dim=0)[o]\n",
    "\n",
    "            with backpack(BatchGrad()):\n",
    "                f_o.backward()\n",
    "            Jo = []\n",
    "            for name, param in model.named_parameters():    \n",
    "                batch_size = param.grad_batch.size(0)\n",
    "                Jo.append(param.grad_batch.reshape(batch_size, -1))\n",
    "            Jo = torch.cat(Jo, dim=1)\n",
    "            Js.append(Jo)\n",
    "        return torch.stack(Js, dim=1)\n"
   ]
  },
  {
   "cell_type": "markdown",
   "metadata": {},
   "source": [
    "### Trainer for refinement"
   ]
  },
  {
   "cell_type": "code",
   "execution_count": 6,
   "metadata": {},
   "outputs": [],
   "source": [
    "def log_likelihood(y, mu, std):\n",
    "    dist = Normal(mu.squeeze(), std.squeeze())\n",
    "    log_probs = dist.log_prob(y.squeeze())\n",
    "    return log_probs.squeeze().sum().item()\n",
    "\n",
    "def evaluate(model, sigma, dataloader, device):\n",
    "    ll = 0.0\n",
    "    count = 0\n",
    "    for X, y in dataloader:\n",
    "        X = X.to(device)\n",
    "        y = y.to(device)\n",
    "        f_mu, f_var = model.predict(X)\n",
    "        f_sigma = torch.sqrt(f_var)\n",
    "        pred_std = torch.sqrt(f_sigma**2 + sigma**2)\n",
    "        ll += log_likelihood(y, f_mu, pred_std)\n",
    "        count += X.shape[0]\n",
    "    return -ll / count\n",
    "\n",
    "def train(model, sigma, train_dataloader, val_dataloader, epochs, lr, device):\n",
    "    criteria = NegativeLogLikelihood(sigma=sigma).to(device)\n",
    "    optimizer = torch.optim.SGD(\n",
    "        model.parameters(), lr=lr, momentum=0.9, weight_decay=1e-3\n",
    "    )\n",
    "    best_val_nll = math.inf\n",
    "    best_model = copy.deepcopy(model)\n",
    "    for i in range(epochs):\n",
    "        epoch_err = 0.0\n",
    "        epoch_nll = 0.0\n",
    "        count = 0\n",
    "        model.train()\n",
    "        for X, y in train_dataloader:\n",
    "            X = X.to(device)\n",
    "            y = y.to(device)\n",
    "            optimizer.zero_grad()\n",
    "            out = model(X)\n",
    "            loss = criteria(out, y).mean()    \n",
    "            loss.backward()\n",
    "            optimizer.step()\n",
    "            batch_size = X.shape[0]\n",
    "            epoch_err += (\n",
    "                F.mse_loss(out, y, reduction=\"mean\").sqrt().item() * batch_size\n",
    "            )\n",
    "            epoch_nll += loss * batch_size\n",
    "            count += batch_size\n",
    "\n",
    "        epoch_nll = epoch_nll / count\n",
    "        epoch_err = epoch_err / count\n",
    "        val_nll = evaluate(model, sigma, val_dataloader, device)\n",
    "        print(f\"Epoch {i} | Train NLL {epoch_nll} | Val NLL {val_nll}\")\n",
    "        if val_nll < best_val_nll:\n",
    "            best_val_nll = val_nll\n",
    "            best_model = copy.deepcopy(model)\n",
    "            \n",
    "    return best_model"
   ]
  },
  {
   "cell_type": "markdown",
   "metadata": {},
   "source": [
    "### Train a MAP model"
   ]
  },
  {
   "cell_type": "code",
   "execution_count": 7,
   "metadata": {},
   "outputs": [],
   "source": [
    "data = UCIData(config.data.path)\n",
    "meta_data = data.get_metadata()\n",
    "device = get_device()\n",
    "train_dataloader, val_dataloader, test_dataloader = data.get_dataloaders(\n",
    "        dataset=config.data.name,\n",
    "        batch_size=config.trainer.batch_size,\n",
    "        seed=config.data.seed,\n",
    "        val_size=config.data.val_size,\n",
    "        split_index=config.data.split_index,\n",
    "        gap=(config.data.split == \"GAP\"),\n",
    "    )\n",
    "trainer = ModelTrainer(config.trainer, device=device)\n",
    "  \n",
    "\n",
    "model = create_mlp(\n",
    "        input_size=meta_data[config.data.name][\"input_dim\"],\n",
    "        hidden_sizes=config.model.hidden_sizes,\n",
    "        output_size=meta_data[config.data.name][\"output_dim\"],\n",
    "    )\n",
    "model = model.to(device=device, dtype=torch.float64)\n",
    "map_model, sigma = trainer.train(\n",
    "        model=model,\n",
    "        train_dataloader=train_dataloader,\n",
    "        val_dataloader=val_dataloader,\n",
    "    )"
   ]
  },
  {
   "cell_type": "code",
   "execution_count": 8,
   "metadata": {},
   "outputs": [
    {
     "name": "stdout",
     "output_type": "stream",
     "text": [
      "Sigma: 0.6844667196273804\n"
     ]
    }
   ],
   "source": [
    "print(f\"Sigma: {sigma}\")"
   ]
  },
  {
   "cell_type": "markdown",
   "metadata": {},
   "source": [
    "### Train Full Laplace"
   ]
  },
  {
   "cell_type": "code",
   "execution_count": 9,
   "metadata": {},
   "outputs": [
    {
     "name": "stdout",
     "output_type": "stream",
     "text": [
      "[1.2589254117941673, 2.113489039836647, 3.548133892335755, 5.956621435290105, 10.0, 12.91549665014884, 16.68100537200059, 21.544346900318832, 27.825594022071243, 35.938136638046274, 46.41588833612777, 59.94842503189409, 77.4263682681127, 100.0]\n"
     ]
    }
   ],
   "source": [
    "prior_precisions = np.logspace(0.1, 1, num=5, base=10).tolist()[:-1]  + np.logspace(1, 2, num=10, base=10).tolist()\n",
    "print(prior_precisions)"
   ]
  },
  {
   "cell_type": "code",
   "execution_count": 10,
   "metadata": {},
   "outputs": [],
   "source": [
    "model_copy = copy.deepcopy(map_model)\n",
    "la, prior_precision = trainer.train_la_posthoc(\n",
    "                model=model_copy,\n",
    "                dataloader=train_dataloader,\n",
    "                subset_of_weights=\"all\",\n",
    "                hessian_structure=\"full\",\n",
    "                sigma_noise=sigma,\n",
    "                prior_mean=config.trainer.la.prior_mean,\n",
    "                val_dataloader=val_dataloader,\n",
    "                prior_precisions=prior_precisions\n",
    "            )\n"
   ]
  },
  {
   "cell_type": "code",
   "execution_count": 11,
   "metadata": {},
   "outputs": [
    {
     "name": "stdout",
     "output_type": "stream",
     "text": [
      "Prior precision: 12.91549665014884\n"
     ]
    }
   ],
   "source": [
    "print(f\"Prior precision: {prior_precision}\")"
   ]
  },
  {
   "cell_type": "code",
   "execution_count": 12,
   "metadata": {},
   "outputs": [],
   "source": [
    "posterior_covariance = la.posterior_covariance"
   ]
  },
  {
   "cell_type": "code",
   "execution_count": 13,
   "metadata": {},
   "outputs": [
    {
     "data": {
      "text/plain": [
       "1.1229294272116894"
      ]
     },
     "execution_count": 13,
     "metadata": {},
     "output_type": "execute_result"
    }
   ],
   "source": [
    "trainer.evaluate_la(la, test_dataloader)"
   ]
  },
  {
   "cell_type": "code",
   "execution_count": 14,
   "metadata": {},
   "outputs": [],
   "source": [
    "refined_model = RefinedLaplace(model=map_model,\n",
    "                               output_dim=meta_data[config.data.name][\"output_dim\"],\n",
    "                               posterior_covariance=posterior_covariance)"
   ]
  },
  {
   "cell_type": "code",
   "execution_count": 15,
   "metadata": {},
   "outputs": [
    {
     "name": "stdout",
     "output_type": "stream",
     "text": [
      "Epoch 0 | Train NLL 3.8988862386182075 | Val NLL 1.5421363804779908\n",
      "Epoch 1 | Train NLL 1.8634767322968617 | Val NLL 1.8851955220958183\n",
      "Epoch 2 | Train NLL 1.7045278392984051 | Val NLL 1.7735799267865997\n",
      "Epoch 3 | Train NLL 1.625040727521054 | Val NLL 1.6767984284934538\n",
      "Epoch 4 | Train NLL 1.5712423662593502 | Val NLL 1.7112473170944171\n",
      "Epoch 5 | Train NLL 1.5218078680311922 | Val NLL 1.673452442461878\n",
      "Epoch 6 | Train NLL 1.4857665014502666 | Val NLL 1.6566689417755698\n",
      "Epoch 7 | Train NLL 1.4564540302919082 | Val NLL 1.6879857617765508\n",
      "Epoch 8 | Train NLL 1.4335647523985535 | Val NLL 1.7116341245895563\n",
      "Epoch 9 | Train NLL 1.4140337012072983 | Val NLL 1.6887787293293717\n",
      "Epoch 10 | Train NLL 1.3996436983239993 | Val NLL 1.6709366781102506\n",
      "Epoch 11 | Train NLL 1.3772540326105247 | Val NLL 1.6424996599877384\n",
      "Epoch 12 | Train NLL 1.3624814909216192 | Val NLL 1.676260540699261\n",
      "Epoch 13 | Train NLL 1.348009006260022 | Val NLL 1.6911219140112466\n",
      "Epoch 14 | Train NLL 1.334487074329372 | Val NLL 1.6991853679427813\n",
      "Epoch 15 | Train NLL 1.3293323740237548 | Val NLL 1.6755777183992702\n",
      "Epoch 16 | Train NLL 1.3119679484646023 | Val NLL 1.6796061256007777\n",
      "Epoch 17 | Train NLL 1.303925165602379 | Val NLL 1.6768788920496538\n",
      "Epoch 18 | Train NLL 1.2936641635031607 | Val NLL 1.6864326949516328\n",
      "Epoch 19 | Train NLL 1.2918589785820287 | Val NLL 1.665137172318593\n",
      "Epoch 20 | Train NLL 1.2784016770492348 | Val NLL 1.712555616339234\n",
      "Epoch 21 | Train NLL 1.2721011934027677 | Val NLL 1.6969913230586395\n",
      "Epoch 22 | Train NLL 1.2676125068493478 | Val NLL 1.7082745572776366\n",
      "Epoch 23 | Train NLL 1.2579590304628343 | Val NLL 1.6981289125187673\n",
      "Epoch 24 | Train NLL 1.2501374133286194 | Val NLL 1.708830052107746\n",
      "Epoch 25 | Train NLL 1.2452668537679092 | Val NLL 1.7062551407782631\n",
      "Epoch 26 | Train NLL 1.2392439220162783 | Val NLL 1.7071023159587233\n",
      "Epoch 27 | Train NLL 1.2338650257912156 | Val NLL 1.7069150657219898\n",
      "Epoch 28 | Train NLL 1.2281662702672986 | Val NLL 1.7035659310705131\n",
      "Epoch 29 | Train NLL 1.2257432993987671 | Val NLL 1.7192207950375058\n",
      "Epoch 30 | Train NLL 1.2215477594167565 | Val NLL 1.7198867666781685\n",
      "Epoch 31 | Train NLL 1.2155858171784464 | Val NLL 1.714997995791659\n",
      "Epoch 32 | Train NLL 1.2113478792862067 | Val NLL 1.7125687362879334\n",
      "Epoch 33 | Train NLL 1.2081390978104425 | Val NLL 1.708920978865913\n",
      "Epoch 34 | Train NLL 1.2046957562398615 | Val NLL 1.7061598687559802\n",
      "Epoch 35 | Train NLL 1.2060392453537807 | Val NLL 1.7345695470949276\n",
      "Epoch 36 | Train NLL 1.1988619205667175 | Val NLL 1.7297677020254503\n",
      "Epoch 37 | Train NLL 1.1945471044686973 | Val NLL 1.7376784149191136\n",
      "Epoch 38 | Train NLL 1.1930477997222633 | Val NLL 1.7414371934178325\n",
      "Epoch 39 | Train NLL 1.1901937889073104 | Val NLL 1.7135118609562496\n",
      "Epoch 40 | Train NLL 1.1829351453255732 | Val NLL 1.7086188337405115\n",
      "Epoch 41 | Train NLL 1.1813379849508199 | Val NLL 1.7321010871827895\n",
      "Epoch 42 | Train NLL 1.177211185856259 | Val NLL 1.7324473088737957\n",
      "Epoch 43 | Train NLL 1.1754631970792144 | Val NLL 1.741883261782891\n",
      "Epoch 44 | Train NLL 1.172968310264233 | Val NLL 1.7315842989576438\n",
      "Epoch 45 | Train NLL 1.1694492207726659 | Val NLL 1.7302687268320691\n",
      "Epoch 46 | Train NLL 1.168470867277419 | Val NLL 1.7383269862982034\n",
      "Epoch 47 | Train NLL 1.1627556427438983 | Val NLL 1.7079852110986482\n",
      "Epoch 48 | Train NLL 1.1609519645941069 | Val NLL 1.759365430212299\n",
      "Epoch 49 | Train NLL 1.1586076979913127 | Val NLL 1.7385516005734385\n",
      "Epoch 50 | Train NLL 1.1553959385177157 | Val NLL 1.7252664008587109\n",
      "Epoch 51 | Train NLL 1.1525361014502677 | Val NLL 1.7361201553227255\n",
      "Epoch 52 | Train NLL 1.1511106738241608 | Val NLL 1.732832027764831\n",
      "Epoch 53 | Train NLL 1.149759609274845 | Val NLL 1.7346761454946558\n",
      "Epoch 54 | Train NLL 1.1469659918768356 | Val NLL 1.7478452545072616\n",
      "Epoch 55 | Train NLL 1.1461032360045742 | Val NLL 1.7418516809052453\n",
      "Epoch 56 | Train NLL 1.1433412985446196 | Val NLL 1.7425914807214125\n",
      "Epoch 57 | Train NLL 1.1398601851231118 | Val NLL 1.752398869112666\n",
      "Epoch 58 | Train NLL 1.1411930256642422 | Val NLL 1.7582113995229587\n",
      "Epoch 59 | Train NLL 1.137873607514001 | Val NLL 1.7528620519526685\n",
      "Epoch 60 | Train NLL 1.1352399015834915 | Val NLL 1.73626628623919\n",
      "Epoch 61 | Train NLL 1.133610364096219 | Val NLL 1.74665513194633\n",
      "Epoch 62 | Train NLL 1.134617201069852 | Val NLL 1.7630376050962886\n",
      "Epoch 63 | Train NLL 1.1292055085990316 | Val NLL 1.745974383416521\n",
      "Epoch 64 | Train NLL 1.1291166721445944 | Val NLL 1.735417976140361\n",
      "Epoch 65 | Train NLL 1.1279344054927876 | Val NLL 1.7681793587095698\n",
      "Epoch 66 | Train NLL 1.123362422833871 | Val NLL 1.7463120251582458\n",
      "Epoch 67 | Train NLL 1.1218774786288868 | Val NLL 1.7593024000865374\n",
      "Epoch 68 | Train NLL 1.1206119623543271 | Val NLL 1.7442532422228576\n",
      "Epoch 69 | Train NLL 1.1197703106216454 | Val NLL 1.7511203934687123\n",
      "Epoch 70 | Train NLL 1.1176305487116631 | Val NLL 1.737314464516423\n",
      "Epoch 71 | Train NLL 1.1174489541696135 | Val NLL 1.7706786261183378\n",
      "Epoch 72 | Train NLL 1.1152994088048827 | Val NLL 1.7623073181921491\n",
      "Epoch 73 | Train NLL 1.1128004107437166 | Val NLL 1.7240846186195862\n",
      "Epoch 74 | Train NLL 1.1140880680017236 | Val NLL 1.7532027572545166\n",
      "Epoch 75 | Train NLL 1.1138405045752688 | Val NLL 1.7530318620659302\n",
      "Epoch 76 | Train NLL 1.1106223511244715 | Val NLL 1.7421933036886177\n",
      "Epoch 77 | Train NLL 1.1063640568445714 | Val NLL 1.7719770929230083\n",
      "Epoch 78 | Train NLL 1.1056605416552796 | Val NLL 1.7545913371071846\n",
      "Epoch 79 | Train NLL 1.1055773627784207 | Val NLL 1.7397926481018435\n",
      "Epoch 80 | Train NLL 1.103106216202954 | Val NLL 1.7778086276418483\n",
      "Epoch 81 | Train NLL 1.102367844395573 | Val NLL 1.7507413955891185\n",
      "Epoch 82 | Train NLL 1.0999507703871356 | Val NLL 1.7518742047636915\n",
      "Epoch 83 | Train NLL 1.0977821966490802 | Val NLL 1.7686446672123441\n",
      "Epoch 84 | Train NLL 1.0985254291923883 | Val NLL 1.7648572092048695\n",
      "Epoch 85 | Train NLL 1.0976826897130731 | Val NLL 1.7386702928309403\n",
      "Epoch 86 | Train NLL 1.096189198232967 | Val NLL 1.7541945031827564\n",
      "Epoch 87 | Train NLL 1.0956457180469668 | Val NLL 1.7635835049889832\n",
      "Epoch 88 | Train NLL 1.0913296938293808 | Val NLL 1.7596998755253221\n",
      "Epoch 89 | Train NLL 1.0914709522950106 | Val NLL 1.764633158439313\n",
      "Epoch 90 | Train NLL 1.0920531693795568 | Val NLL 1.7341169659330962\n",
      "Epoch 91 | Train NLL 1.090393209585141 | Val NLL 1.7935340058302238\n",
      "Epoch 92 | Train NLL 1.0866082605429561 | Val NLL 1.755305987702172\n",
      "Epoch 93 | Train NLL 1.0867034508087736 | Val NLL 1.7476931525029022\n",
      "Epoch 94 | Train NLL 1.0846597554778983 | Val NLL 1.770079059815853\n",
      "Epoch 95 | Train NLL 1.083951058531367 | Val NLL 1.7487414521789753\n",
      "Epoch 96 | Train NLL 1.0839697772677463 | Val NLL 1.7574139763218402\n",
      "Epoch 97 | Train NLL 1.0838338650576633 | Val NLL 1.7653088437145459\n",
      "Epoch 98 | Train NLL 1.0806678738627593 | Val NLL 1.7490684573792776\n",
      "Epoch 99 | Train NLL 1.0809645634589866 | Val NLL 1.7601880308078324\n"
     ]
    }
   ],
   "source": [
    "refined_model = train(model=refined_model, sigma=sigma, train_dataloader=train_dataloader, val_dataloader=val_dataloader, epochs=100, lr=config.trainer.lr, device=device)"
   ]
  },
  {
   "cell_type": "code",
   "execution_count": 16,
   "metadata": {},
   "outputs": [
    {
     "data": {
      "text/plain": [
       "1.3661867485730306"
      ]
     },
     "execution_count": 16,
     "metadata": {},
     "output_type": "execute_result"
    }
   ],
   "source": [
    "evaluate(model=refined_model, sigma=sigma, dataloader=test_dataloader, device=device)"
   ]
  }
 ],
 "metadata": {
  "kernelspec": {
   "display_name": "subnetwork_inference",
   "language": "python",
   "name": "python3"
  },
  "language_info": {
   "codemirror_mode": {
    "name": "ipython",
    "version": 3
   },
   "file_extension": ".py",
   "mimetype": "text/x-python",
   "name": "python",
   "nbconvert_exporter": "python",
   "pygments_lexer": "ipython3",
   "version": "3.8.16"
  },
  "orig_nbformat": 4
 },
 "nbformat": 4,
 "nbformat_minor": 2
}
