{
 "cells": [
  {
   "attachments": {},
   "cell_type": "markdown",
   "metadata": {},
   "source": [
    "# Refinement and G-Prior"
   ]
  },
  {
   "cell_type": "code",
   "execution_count": 1,
   "metadata": {},
   "outputs": [],
   "source": [
    "%load_ext autoreload\n",
    "%autoreload 2"
   ]
  },
  {
   "cell_type": "markdown",
   "metadata": {},
   "source": [
    "## Imports"
   ]
  },
  {
   "cell_type": "code",
   "execution_count": 2,
   "metadata": {},
   "outputs": [],
   "source": [
    "import numpy as np\n",
    "import torch\n",
    "import copy\n",
    "import plotly.graph_objects as go\n",
    "import math\n",
    "\n",
    "import torch.nn as nn\n",
    "import torch.nn.functional as F\n",
    "\n",
    "from torch.utils.data import ConcatDataset, DataLoader\n",
    "from torch.distributions.normal import Normal\n",
    "from torch.nn.utils import parameters_to_vector\n",
    "\n",
    "from data.snelson1d import Snelson1D\n",
    "from main import set_seed, get_device\n",
    "from util.plots import plot_data, plot_regression, plot_bayesian_regression\n",
    "from models.nets import create_mlp\n",
    "from trainer import ModelTrainer, NegativeLogLikelihood\n",
    "\n",
    "from laplace import Laplace\n",
    "\n",
    "from backpack import backpack, extend\n",
    "from backpack.extensions import BatchGrad"
   ]
  },
  {
   "cell_type": "code",
   "execution_count": 3,
   "metadata": {},
   "outputs": [],
   "source": [
    "from hydra import initialize, compose\n",
    "from omegaconf import OmegaConf\n",
    "try:\n",
    "    initialize(version_base=None, config_path=\"configuration\")\n",
    "except Exception as e:\n",
    "    print(e)\n",
    "config = compose(config_name=\"snelson.yaml\")\n",
    "set_seed(config.seed)"
   ]
  },
  {
   "cell_type": "markdown",
   "metadata": {},
   "source": [
    "## Refined Laplace"
   ]
  },
  {
   "cell_type": "markdown",
   "metadata": {},
   "source": [
    "### Helper functions"
   ]
  },
  {
   "cell_type": "code",
   "execution_count": 4,
   "metadata": {},
   "outputs": [],
   "source": [
    "def flatten_nn(model):\n",
    "    weights = []\n",
    "    for name, param in model.named_parameters():\n",
    "        weights.append(param.detach().flatten())\n",
    "    return torch.cat(weights, dim=0)"
   ]
  },
  {
   "cell_type": "markdown",
   "metadata": {},
   "source": [
    "### RefinedLaplace Module"
   ]
  },
  {
   "cell_type": "code",
   "execution_count": 5,
   "metadata": {},
   "outputs": [],
   "source": [
    "class RefinedLaplace(nn.Module):\n",
    "    def __init__(self, model, output_dim, posterior_covariance):\n",
    "        super(RefinedLaplace, self).__init__()\n",
    "        self.model = model\n",
    "        self.output_dim = output_dim\n",
    "        self.weights_map = flatten_nn(self.model)\n",
    "        self.weights = torch.nn.Parameter(torch.ones_like(self.weights_map).detach(), requires_grad=True)\n",
    "        self.posterior_covariance = posterior_covariance\n",
    "\n",
    "    def get_parameters(self):\n",
    "        return self.weights\n",
    "\n",
    "    def forward(self, X):\n",
    "        with torch.no_grad():\n",
    "            f = self.model(X)\n",
    "        J = self._jacobian(X) \n",
    "        out = torch.einsum(\"ijk,k->ij\", J, (self.weights - self.weights_map)) + f\n",
    "        return out\n",
    "    \n",
    "    def predict(self, X):\n",
    "        with torch.no_grad():\n",
    "            f = self.model(X)\n",
    "        J = self._jacobian(X)\n",
    "        mean = torch.einsum(\"ijk,k->ij\", J, (self.weights - self.weights_map)) + f\n",
    "        return mean, self._functional_variance(J)\n",
    "        \n",
    "    def _functional_variance(self, Js):\n",
    "        return torch.einsum('ncp,pq,nkq->nck', Js, self.posterior_covariance, Js)\n",
    " \n",
    "\n",
    "    def _jacobian(self, X):\n",
    "        \"\"\"\n",
    "        Compute the jacobian of the model with respect to the input X\n",
    "        Args:\n",
    "            X: input tensor\n",
    "        Returns:\n",
    "            J: jacobian of the model with respect to X\n",
    "        \"\"\"\n",
    "        model = copy.deepcopy(self.model)\n",
    "        model.eval()\n",
    "        model = extend(model)\n",
    "        Js = []\n",
    "        for o in range(self.output_dim):\n",
    "            f = model(X)\n",
    "            f_o = f.sum(dim=0)[o]\n",
    "\n",
    "            with backpack(BatchGrad()):\n",
    "                f_o.backward()\n",
    "            Jo = []\n",
    "            for name, param in model.named_parameters():    \n",
    "                batch_size = param.grad_batch.size(0)\n",
    "                Jo.append(param.grad_batch.reshape(batch_size, -1))\n",
    "            Jo = torch.cat(Jo, dim=1)\n",
    "            Js.append(Jo)\n",
    "        return torch.stack(Js, dim=1)\n"
   ]
  },
  {
   "cell_type": "markdown",
   "metadata": {},
   "source": [
    "### Trainer for refinement"
   ]
  },
  {
   "cell_type": "code",
   "execution_count": 6,
   "metadata": {},
   "outputs": [],
   "source": [
    "def log_likelihood(y, mu, std):\n",
    "    dist = Normal(mu.squeeze(), std.squeeze())\n",
    "    log_probs = dist.log_prob(y.squeeze())\n",
    "    return log_probs.squeeze().sum().item()\n",
    "\n",
    "def evaluate_predictive(model, sigma, dataloader, device):\n",
    "    ll = 0.0\n",
    "    count = 0\n",
    "    for X, y in dataloader:\n",
    "        X = X.to(device)\n",
    "        y = y.to(device)\n",
    "        f_mu, f_var = model.predict(X)\n",
    "        f_sigma = torch.sqrt(f_var)\n",
    "        pred_std = torch.sqrt(f_sigma**2 + sigma**2)\n",
    "        ll += log_likelihood(y, f_mu, pred_std)\n",
    "        count += X.shape[0]\n",
    "    return -ll / count\n",
    "\n",
    "def evaluate(model, sigma, dataloader, device):\n",
    "    model.eval()\n",
    "    criteria = torch.nn.MSELoss(reduction='sum')\n",
    "    err = 0.0\n",
    "    nll = 0.0\n",
    "    count = 0\n",
    "    for X, y in dataloader:\n",
    "        X = X.to(device)\n",
    "        y = y.to(device)\n",
    "        batch_size = X.shape[0]\n",
    "        out = model(X)\n",
    "        loss = criteria(out, y).mean()\n",
    "        err += F.mse_loss(out, y, reduction=\"mean\").sqrt().item() * batch_size\n",
    "        nll += loss.item() * batch_size\n",
    "        count += batch_size\n",
    "\n",
    "    nll = nll / count\n",
    "    err = err / count\n",
    "\n",
    "    return nll, err\n",
    "\n",
    "def train(model, sigma, delta, train_dataloader, val_dataloader, epochs, lr, device):\n",
    "    criteria =  NegativeLogLikelihood(sigma=sigma).to(device)\n",
    "    optimizer = torch.optim.Adam(\n",
    "        [model.get_parameters()], lr=lr\n",
    "    )\n",
    "    theta = model.get_parameters()\n",
    "    best_val_nll = math.inf\n",
    "    best_model = copy.deepcopy(model)\n",
    "    best_epoch = 0\n",
    "    for i in range(epochs):\n",
    "        epoch_err = 0.0\n",
    "        epoch_nll = 0.0\n",
    "        count = 0\n",
    "        model.train()\n",
    "        for X, y in train_dataloader:\n",
    "            X = X.to(device)\n",
    "            y = y.to(device)\n",
    "            optimizer.zero_grad()\n",
    "            out = model(X)\n",
    "            loss =  criteria(out, y).sum() + (0.5 * (delta * theta) @ theta)\n",
    "            loss.backward()\n",
    "            optimizer.step()\n",
    "            batch_size = X.shape[0]\n",
    "            epoch_err += (\n",
    "                F.mse_loss(out, y, reduction=\"mean\").sqrt().item() * batch_size\n",
    "            )\n",
    "            epoch_nll += loss * batch_size\n",
    "            count += batch_size\n",
    "\n",
    "        epoch_nll = epoch_nll / count\n",
    "        epoch_err = epoch_err / count\n",
    "        val_nll, val_err = evaluate(model, sigma, val_dataloader, device)\n",
    "        if (i + 1) % 100 == 0:\n",
    "            print(f\"Epoch {i} | Train NLL {epoch_nll} | Val NLL {val_nll} | Train Err {epoch_err} | Val Err {val_err}\")\n",
    "        if val_nll < best_val_nll:\n",
    "            best_val_nll = val_nll\n",
    "            best_model = copy.deepcopy(model)\n",
    "            best_epoch = i\n",
    "    print(f\"Best epoch {best_epoch} | Val NLL {best_val_nll}\")\n",
    "    return best_model"
   ]
  },
  {
   "cell_type": "markdown",
   "metadata": {},
   "source": [
    "### Train a MAP model"
   ]
  },
  {
   "cell_type": "code",
   "execution_count": 7,
   "metadata": {},
   "outputs": [
    {
     "name": "stdout",
     "output_type": "stream",
     "text": [
      "Sigma: 0.08778076618909836\n"
     ]
    }
   ],
   "source": [
    "snelson1d = Snelson1D(config.data.path)\n",
    "train_dataloader, val_dataloader, test_dataloader = snelson1d.get_dataloaders(batch_size=config.trainer.batch_size, val_size=config.data.val_size, random_state=config.data.seed)\n",
    "device = get_device()\n",
    "trainer = ModelTrainer(config.trainer, device=device)\n",
    "  \n",
    "input_size = 1\n",
    "output_size = 1\n",
    "\n",
    "model = create_mlp(\n",
    "        input_size=input_size,\n",
    "        hidden_sizes=config.model.hidden_sizes,\n",
    "        output_size=output_size,\n",
    "    )\n",
    "model = model.to(device=device, dtype=torch.float64)\n",
    "map_model, sigma = trainer.train(\n",
    "        model=model,\n",
    "        train_dataloader=train_dataloader,\n",
    "        val_dataloader=val_dataloader,\n",
    "    )\n",
    "print(f\"Sigma: {sigma}\")"
   ]
  },
  {
   "cell_type": "markdown",
   "metadata": {},
   "source": [
    "### Train Full Laplace"
   ]
  },
  {
   "cell_type": "code",
   "execution_count": 8,
   "metadata": {},
   "outputs": [
    {
     "name": "stdout",
     "output_type": "stream",
     "text": [
      "Prior precision: 100.0\n"
     ]
    }
   ],
   "source": [
    "prior_precisions = np.logspace(0.1, 1, num=5, base=10).tolist()[:-1]  + np.logspace(1, 2, num=10, base=10).tolist()\n",
    "model_copy = copy.deepcopy(map_model)\n",
    "la, prior_precision = trainer.train_la_posthoc(\n",
    "                model=model_copy,\n",
    "                dataloader=train_dataloader,\n",
    "                subset_of_weights=\"all\",\n",
    "                hessian_structure=\"full\",\n",
    "                sigma_noise=sigma,\n",
    "                prior_mean=config.trainer.la.prior_mean,\n",
    "                val_dataloader=val_dataloader,\n",
    "                prior_precisions=prior_precisions\n",
    "            )\n",
    "posterior_covariance = la.posterior_covariance\n",
    "print(f\"Prior precision: {prior_precision}\")\n"
   ]
  },
  {
   "cell_type": "markdown",
   "metadata": {},
   "source": [
    "### Evaluate Full Laplace"
   ]
  },
  {
   "cell_type": "code",
   "execution_count": 9,
   "metadata": {},
   "outputs": [
    {
     "name": "stdout",
     "output_type": "stream",
     "text": [
      "NLL of Full Laplace for the test dataset: 0.20758638481663608\n"
     ]
    }
   ],
   "source": [
    "nll_la = trainer.evaluate_la(la, test_dataloader)\n",
    "print(f\"NLL of Full Laplace for the test dataset: {nll_la}\")"
   ]
  },
  {
   "cell_type": "code",
   "execution_count": 10,
   "metadata": {},
   "outputs": [
    {
     "name": "stdout",
     "output_type": "stream",
     "text": [
      "Epoch 99 | Train NLL 233414.0571754079 | Val NLL 1156.1304200179866 | Train Err 8.558508630166422 | Val Err 8.500479471837114\n",
      "Epoch 199 | Train NLL 99652.39754992897 | Val NLL 285.1373845420672 | Train Err 4.1171036306663416 | Val Err 4.221502876213541\n",
      "Epoch 299 | Train NLL 67391.62685267218 | Val NLL 145.77366069932168 | Train Err 3.2991782291709097 | Val Err 3.018419088481188\n",
      "Epoch 399 | Train NLL 51265.571458328355 | Val NLL 106.7673282727636 | Train Err 2.858250334086449 | Val Err 2.583206924938017\n",
      "Epoch 499 | Train NLL 40882.28696702542 | Val NLL 82.7769696721826 | Train Err 2.4823640441568346 | Val Err 2.274546241453757\n",
      "Epoch 599 | Train NLL 33114.20258941136 | Val NLL 63.03082495407801 | Train Err 2.1486670959679546 | Val Err 1.9847988713292528\n",
      "Epoch 699 | Train NLL 26479.66879691529 | Val NLL 46.829598021596055 | Train Err 1.854338488348938 | Val Err 1.7108038684635225\n",
      "Epoch 799 | Train NLL 21290.906690468593 | Val NLL 33.954570330100466 | Train Err 1.5360553052158963 | Val Err 1.4567637576598613\n",
      "Epoch 899 | Train NLL 17423.810000675392 | Val NLL 24.083065672263317 | Train Err 1.2738564454591907 | Val Err 1.2268625043241224\n",
      "Epoch 999 | Train NLL 14025.430553761636 | Val NLL 16.764601770480034 | Train Err 1.030690998507122 | Val Err 1.0236149718790764\n",
      "Epoch 1099 | Train NLL 11218.349529528676 | Val NLL 11.48316708010928 | Train Err 0.8559973654238998 | Val Err 0.8471705510148649\n",
      "Epoch 1199 | Train NLL 9063.700293816115 | Val NLL 7.742493670885589 | Train Err 0.6900709000925397 | Val Err 0.6956334195755328\n",
      "Epoch 1299 | Train NLL 7221.7727971307995 | Val NLL 5.161893360835881 | Train Err 0.5605344304875618 | Val Err 0.5679950132283228\n",
      "Epoch 1399 | Train NLL 5770.368199113284 | Val NLL 3.406945001337541 | Train Err 0.46141905889207313 | Val Err 0.46144778966162175\n",
      "Epoch 1499 | Train NLL 4587.176098492286 | Val NLL 2.234963247432362 | Train Err 0.38249914716866884 | Val Err 0.37374483670617126\n",
      "Epoch 1599 | Train NLL 3596.581280502632 | Val NLL 1.4622363052146767 | Train Err 0.3204970376311158 | Val Err 0.30230740823856317\n",
      "Epoch 1699 | Train NLL 2796.3812032359306 | Val NLL 0.964165204659894 | Train Err 0.26299553355286087 | Val Err 0.2454797859116782\n",
      "Epoch 1799 | Train NLL 2146.7403011602164 | Val NLL 0.6471272020436771 | Train Err 0.23522328497127445 | Val Err 0.2011105420601561\n",
      "Epoch 1899 | Train NLL 1626.4905018977197 | Val NLL 0.4529032441149027 | Train Err 0.20424861590059873 | Val Err 0.16824521614946863\n",
      "Epoch 1999 | Train NLL 1206.4788718841753 | Val NLL 0.3378163508649229 | Train Err 0.1841768705788588 | Val Err 0.14530492740804657\n",
      "Epoch 2099 | Train NLL 887.3733477048656 | Val NLL 0.27585057184042877 | Train Err 0.16751713966506823 | Val Err 0.13130369659696103\n",
      "Epoch 2199 | Train NLL 637.4329002864011 | Val NLL 0.24440868826957998 | Train Err 0.16059859110208288 | Val Err 0.1235942677345869\n",
      "Epoch 2299 | Train NLL 450.61114040786083 | Val NLL 0.23432374843488976 | Train Err 0.15301239335740147 | Val Err 0.121017495748262\n",
      "Epoch 2399 | Train NLL 315.59502590836615 | Val NLL 0.2330739138269426 | Train Err 0.14845685176121884 | Val Err 0.12069432304041443\n",
      "Epoch 2499 | Train NLL 221.23399639479797 | Val NLL 0.24399074426206824 | Train Err 0.14273271657697276 | Val Err 0.12348854811835494\n",
      "Epoch 2599 | Train NLL 155.01706730061213 | Val NLL 0.2535686561771507 | Train Err 0.142270529481032 | Val Err 0.12588900274079512\n",
      "Epoch 2699 | Train NLL 111.20510762599628 | Val NLL 0.25746037311890313 | Train Err 0.142457054916813 | Val Err 0.12685138280654037\n",
      "Epoch 2799 | Train NLL 82.30396107818052 | Val NLL 0.2650932365464853 | Train Err 0.14128516119011642 | Val Err 0.12871801460617444\n",
      "Epoch 2899 | Train NLL 65.43540228987138 | Val NLL 0.28250787068459793 | Train Err 0.14103103891493485 | Val Err 0.13287867367560294\n",
      "Epoch 2999 | Train NLL 55.98299923442387 | Val NLL 0.27452629346780316 | Train Err 0.13950748785134906 | Val Err 0.13098814198902775\n",
      "Epoch 3099 | Train NLL 50.22017814496373 | Val NLL 0.26375435841749406 | Train Err 0.14230673623474288 | Val Err 0.12839255196892607\n",
      "Epoch 3199 | Train NLL 47.11788005240353 | Val NLL 0.27434673359055556 | Train Err 0.14169261249681173 | Val Err 0.1309452971641583\n",
      "Epoch 3299 | Train NLL 44.48235216441698 | Val NLL 0.2799302358824871 | Train Err 0.14037111265646862 | Val Err 0.13227108430286433\n",
      "Epoch 3399 | Train NLL 45.36037211601414 | Val NLL 0.278696112337774 | Train Err 0.1414059617892545 | Val Err 0.13197919162167526\n",
      "Epoch 3499 | Train NLL 45.156474540940685 | Val NLL 0.2796205365164806 | Train Err 0.14097492823592106 | Val Err 0.1321978953398277\n",
      "Epoch 3599 | Train NLL 44.69539091896381 | Val NLL 0.2807899701840502 | Train Err 0.14230036334185875 | Val Err 0.13247404702998675\n",
      "Epoch 3699 | Train NLL 43.97048303523202 | Val NLL 0.2720361567158846 | Train Err 0.14097955173679214 | Val Err 0.13039271373333247\n",
      "Epoch 3799 | Train NLL 43.00946992055629 | Val NLL 0.2781424271982497 | Train Err 0.14040646921986213 | Val Err 0.13184802501323487\n",
      "Epoch 3899 | Train NLL 44.50388524617336 | Val NLL 0.28802795025168176 | Train Err 0.14046739530197314 | Val Err 0.13417058876940993\n",
      "Epoch 3999 | Train NLL 43.758211026438524 | Val NLL 0.2769226243069349 | Train Err 0.14096215871306905 | Val Err 0.131558595383135\n",
      "Epoch 4099 | Train NLL 45.436126218403096 | Val NLL 0.26495733746780276 | Train Err 0.13785612928614277 | Val Err 0.12868501696676918\n",
      "Epoch 4199 | Train NLL 44.50928030807848 | Val NLL 0.260342632578965 | Train Err 0.14088274679932747 | Val Err 0.12755945490705622\n",
      "Epoch 4299 | Train NLL 44.958535014011595 | Val NLL 0.27261502138196314 | Train Err 0.1396163029676389 | Val Err 0.13053137108133314\n",
      "Epoch 4399 | Train NLL 43.74955557186536 | Val NLL 0.2770726292426168 | Train Err 0.13943059409721334 | Val Err 0.13159422224270922\n",
      "Epoch 4499 | Train NLL 44.86022464689145 | Val NLL 0.26951964799121264 | Train Err 0.1410734036942555 | Val Err 0.12978820439258257\n",
      "Epoch 4599 | Train NLL 43.81850993849206 | Val NLL 0.25166209698264536 | Train Err 0.1408830263069407 | Val Err 0.12541483589039748\n",
      "Epoch 4699 | Train NLL 42.96315938077049 | Val NLL 0.26715028200536495 | Train Err 0.13992949886888237 | Val Err 0.12921645648033886\n",
      "Epoch 4799 | Train NLL 44.13031709591149 | Val NLL 0.27866818690726697 | Train Err 0.14211272027953675 | Val Err 0.1319725792795768\n",
      "Epoch 4899 | Train NLL 43.22227632908903 | Val NLL 0.2752033281351577 | Train Err 0.13935702291382038 | Val Err 0.1311495635084134\n",
      "Epoch 4999 | Train NLL 44.134606403414814 | Val NLL 0.2507123870013057 | Train Err 0.14138965622640712 | Val Err 0.12517797005696174\n",
      "Best epoch 2371 | Val NLL 0.23196593432277263\n"
     ]
    }
   ],
   "source": [
    "refined_model = RefinedLaplace(model=map_model,\n",
    "                               output_dim=output_size,\n",
    "                               posterior_covariance=posterior_covariance)\n",
    "refined_model = train(model=refined_model,\n",
    "                      sigma=sigma,\n",
    "                      delta=prior_precision,\n",
    "                      train_dataloader=train_dataloader,\n",
    "                      val_dataloader=val_dataloader,\n",
    "                      epochs=5000,\n",
    "                      lr=1E-3,\n",
    "                      device=device)"
   ]
  },
  {
   "cell_type": "code",
   "execution_count": 11,
   "metadata": {},
   "outputs": [
    {
     "name": "stdout",
     "output_type": "stream",
     "text": [
      "NLL of Refined Laplace for the test dataset: 2.708476848621137\n"
     ]
    }
   ],
   "source": [
    "nll_refined = evaluate_predictive(model=refined_model, sigma=sigma, dataloader=test_dataloader, device=device)\n",
    "print(f\"NLL of Refined Laplace for the test dataset: {nll_refined}\")"
   ]
  },
  {
   "cell_type": "markdown",
   "metadata": {},
   "source": [
    "### Plot Refined Laplace"
   ]
  },
  {
   "cell_type": "code",
   "execution_count": 12,
   "metadata": {},
   "outputs": [],
   "source": [
    "def bayesian_regression(model, sigma, train_dataloader, test_dataloader, title):\n",
    "    X_train = train_dataloader.dataset.X.numpy().squeeze()\n",
    "    y_train = train_dataloader.dataset.y.numpy().squeeze()\n",
    "    X_test = test_dataloader.dataset.X.numpy().squeeze()\n",
    "    y_test = test_dataloader.dataset.y.numpy().squeeze()\n",
    "    X_test = np.concatenate([X_train, X_test]).reshape(-1, 1)\n",
    "    X = torch.from_numpy(X_test).to(device=device, dtype=torch.float64)\n",
    "    f_mu, f_var = model.predict(X)\n",
    "    f_mu = f_mu.detach().squeeze().cpu().numpy()\n",
    "    pred_std = torch.sqrt(f_var.squeeze() + sigma**2).detach().cpu().numpy()\n",
    "    return plot_bayesian_regression(X_train=X_train, y_train=y_train, X_test=X.squeeze().detach().cpu().numpy(), y_test=f_mu, y_std=pred_std, title=title)\n"
   ]
  },
  {
   "cell_type": "code",
   "execution_count": 13,
   "metadata": {},
   "outputs": [
    {
     "data": {
      "application/vnd.plotly.v1+json": {
       "config": {
        "plotlyServerURL": "https://plot.ly"
       },
       "data": [
        {
         "mode": "markers",
         "name": "Training data",
         "type": "scatter",
         "x": [
          -1.337305284443211,
          -0.6505575615004684,
          -1.1706828703822998,
          -1.0048781172148298,
          1.0565193525847998,
          -0.9341019618420752,
          -0.5349868759873495,
          0.9594500563170882,
          -1.2322372817727305,
          -0.8098621340437078,
          0.5148387174316689,
          0.5803617706424027,
          1.1427894843640654,
          0.5637229064551632,
          0.9557879865412287,
          -0.6062782511776712,
          -1.2161835929855433,
          0.7052427112184918,
          1.3887819582783902,
          -0.6537149081821738,
          -0.9513328412297837,
          -1.475720842401142,
          -0.8007836872661649,
          -1.23092160214396,
          -1.333469104500295,
          0.8426891778105761,
          -1.014792238617606,
          -0.8628407901268635,
          0.9943063564512253,
          0.8153374931500585,
          -1.3238558665950806,
          0.7821298557996577,
          0.7319730575737817,
          -0.9371114063048578,
          0.9159809576001492,
          -1.097824842292453,
          -1.346095376070491,
          -0.5465489152451033,
          0.7744184887352086,
          -1.2166625144563414,
          0.912415999446055,
          -1.267748780610201,
          1.2984139733996534,
          0.8010081112759737,
          1.3669482995346671,
          -0.8262832758711316,
          0.5256736385005145,
          -1.4159281942961977,
          1.3397244040165979,
          -0.5026456585036609,
          1.3699639743107008,
          0.8687408940670442,
          1.454371310148614,
          1.297511932394134,
          0.6425992139834094,
          1.1894860885075835,
          -1.2326131999124934,
          0.7281290220185053,
          -0.5347297401241398,
          0.9852863527208116,
          -1.269458730714507,
          -1.1905681340982608,
          -0.8023330713626566,
          -1.2644494911396391,
          1.0494825523714,
          -1.4853594349724577,
          1.165271637452297,
          -1.1984372906178793,
          -1.2541102185782558,
          0.7263760692086061,
          1.4285434111236208,
          0.8758575370991757,
          1.1870057466255908,
          1.3654140171757305,
          0.6909921563511956,
          -1.4965170862677222,
          1.4770925176474674,
          -0.8844463652289509,
          1.264028061915992,
          -0.7695520750283793,
          0.6475361954687213,
          0.5193214955367993,
          1.3983383784355845,
          0.7356005220227777,
          -1.1219786155143354,
          0.574599678976067,
          0.5625489664528609,
          1.2835634799987314
         ],
         "y": [
          0.22704033068578572,
          0.48213400083255037,
          0.20785458160346182,
          0.00026943756731534485,
          0.706442008093481,
          0.07158809090658802,
          0.42623770676391837,
          1,
          0.21982861064577247,
          0.26543594880733284,
          0.7739387807255895,
          0.5189987429384414,
          0.888130675102298,
          0.8404413522659699,
          0.8604278427369398,
          0.40377064344750196,
          0.2154583391868351,
          0.66607830149852,
          0.3717250393155298,
          0.4258012267292421,
          0.06920295072963467,
          0.1654301953151749,
          0.2928651932079143,
          0.10034478595950258,
          0.16821843291816418,
          0.8726242107185324,
          0.0457404979723941,
          0.24996343767509033,
          0.9072010749029378,
          0.8217604485888413,
          0.15680228083018777,
          0.9677590595146406,
          0.8710789362651906,
          0.052672691243608516,
          0.8457074389241511,
          0.2362547719275705,
          0.30863176191225844,
          0.498244205386257,
          0.9808506955842595,
          0.16497494583598948,
          0.9027645588648137,
          0.10031113567816974,
          0.6611235452430386,
          0.8751842558805043,
          0.4639940107205561,
          0.24651566632381033,
          0.44618619653693903,
          0.14744626720723614,
          0.4535021177322158,
          0.6354437941468748,
          0.5384571357774733,
          0.9465656181662574,
          0.33371166368167493,
          0.5566899200699926,
          0.8137168724157819,
          0.7540921389413057,
          0.28237639463355674,
          0.7138127080640428,
          0.45861115993931656,
          0.974475055611208,
          0.17538097177776796,
          0.027531960119475007,
          0.04906352208317366,
          0.11910208224646457,
          0.7356842937664854,
          0.3354713910249758,
          0.8111442642860152,
          0.05341190909341209,
          0.07351904052929303,
          0.7949028442253177,
          0.4360894443303159,
          0.8891126191378798,
          0.5998621632706944,
          0.3708144609377887,
          0.7823249985351538,
          0.22995937493308188,
          0.5121378829690278,
          0.23864038273782928,
          0.663373154205591,
          0.19605574580906932,
          0.6512735607857035,
          0.7045515152862875,
          0.6069200188700424,
          0.8006099907685278,
          0.14560741463947258,
          0.6928888160583849,
          0.6295780240013573,
          0.6254645633122984
         ]
        },
        {
         "line": {
          "color": "rgb(31, 119, 180)"
         },
         "mode": "lines",
         "name": "MAP",
         "type": "scatter",
         "x": [
          -1.9999999999999998,
          -1.9922985743484347,
          -1.987805080104512,
          -1.9790815959435524,
          -1.978007158107121,
          -1.9760328625836405,
          -1.9736147608538208,
          -1.9648840204095472,
          -1.9602686991620744,
          -1.929609016136602,
          -1.8964805443969703,
          -1.8617113264346798,
          -1.8379041143874026,
          -1.8358143047929947,
          -1.8061026722819864,
          -1.8048421918742066,
          -1.7995953674299947,
          -1.7768471528776129,
          -1.7215749898171284,
          -1.6984348547008397,
          -1.6628269823982826,
          -1.548224494336501,
          -1.4965170862677222,
          -1.4853594349724577,
          -1.475720842401142,
          -1.4159281942961977,
          -1.346095376070491,
          -1.337305284443211,
          -1.333469104500295,
          -1.3238558665950806,
          -1.269458730714507,
          -1.267748780610201,
          -1.2644494911396391,
          -1.2541102185782558,
          -1.2326131999124934,
          -1.2322372817727305,
          -1.23092160214396,
          -1.2166625144563414,
          -1.2161835929855433,
          -1.1984372906178793,
          -1.1905681340982608,
          -1.1706828703822998,
          -1.1219786155143354,
          -1.097824842292453,
          -1.014792238617606,
          -1.0048781172148298,
          -0.9513328412297837,
          -0.9371114063048578,
          -0.9341019618420752,
          -0.8844463652289509,
          -0.8628407901268635,
          -0.8262832758711316,
          -0.8098621340437078,
          -0.8023330713626566,
          -0.8007836872661649,
          -0.7695520750283793,
          -0.6537149081821738,
          -0.6505575615004684,
          -0.6062782511776712,
          -0.5465489152451033,
          -0.5349868759873495,
          -0.5347297401241398,
          -0.5026456585036609,
          -0.49814351225081444,
          -0.4967727756147251,
          -0.4799146992101535,
          -0.39158402676460224,
          -0.3730394316512131,
          -0.3662009856499131,
          -0.3522979061879712,
          -0.338992395031787,
          -0.31929871344830474,
          -0.29737295442173584,
          -0.28106212977133826,
          -0.2576905994664789,
          -0.2525474081567074,
          -0.244811052118457,
          -0.23312894388902272,
          -0.2324104262412332,
          -0.2315318166312028,
          -0.20854399235767018,
          -0.20581795942702708,
          -0.1939113567581563,
          -0.18532767811772466,
          -0.16652513449157103,
          -0.14661840328321163,
          -0.13349438386087087,
          -0.09627462793899966,
          -0.0654017327587395,
          -0.022453271523063645,
          -0.01530662817821149,
          0.002984420274167121,
          0.05458306197215279,
          0.08334516765533895,
          0.09375581793592813,
          0.1127336907034695,
          0.13002646689891417,
          0.16088615652391347,
          0.18078509984070879,
          0.2143915449599918,
          0.26715986025011906,
          0.2681502768946924,
          0.2968990415810251,
          0.31583005155758936,
          0.3279581012300672,
          0.3447262444172723,
          0.3717242910799805,
          0.40953755205983766,
          0.41328955505306375,
          0.4256828670842969,
          0.4271308731488621,
          0.4325813814318358,
          0.44824567564081486,
          0.46058521735985725,
          0.4844681073968995,
          0.5148387174316689,
          0.5193214955367993,
          0.5256736385005145,
          0.5625489664528609,
          0.5637229064551632,
          0.574599678976067,
          0.5803617706424027,
          0.6425992139834094,
          0.6475361954687213,
          0.6909921563511956,
          0.7052427112184918,
          0.7263760692086061,
          0.7281290220185053,
          0.7319730575737817,
          0.7356005220227777,
          0.7744184887352086,
          0.7821298557996577,
          0.8010081112759737,
          0.8153374931500585,
          0.8426891778105761,
          0.8687408940670442,
          0.8758575370991757,
          0.912415999446055,
          0.9159809576001492,
          0.9557879865412287,
          0.9594500563170882,
          0.9852863527208116,
          0.9943063564512253,
          1.0494825523714,
          1.0565193525847998,
          1.1427894843640654,
          1.165271637452297,
          1.1870057466255908,
          1.1894860885075835,
          1.264028061915992,
          1.2835634799987314,
          1.297511932394134,
          1.2984139733996534,
          1.3397244040165979,
          1.3654140171757305,
          1.3669482995346671,
          1.3699639743107008,
          1.3887819582783902,
          1.3983383784355845,
          1.4285434111236208,
          1.454371310148614,
          1.4770925176474674,
          1.5127015344314803,
          1.5182874165860771,
          1.5361669257598867,
          1.5814996330677324,
          1.587767734523351,
          1.5910505678404334,
          1.5920600140287422,
          1.615916222072077,
          1.65097541371166,
          1.6855409884676673,
          1.7054855756011085,
          1.7461246222444258,
          1.7524857043532402,
          1.7609762668988838,
          1.820541786225419,
          1.847823108978674,
          1.8610495899656803,
          1.9047146049460557,
          1.9408855011762243,
          1.9757808084889787,
          1.9828820111795742,
          2.0000000000000004
         ],
         "y": [
          0.1589948052051504,
          0.16123505614458544,
          0.1625421589014942,
          0.16507971421539486,
          0.16539225509825584,
          0.16596655362443885,
          0.16666994997168166,
          0.16920961605003623,
          0.1705521567987534,
          0.17926207767901525,
          0.18421732183080358,
          0.2286236293891721,
          0.2306400440388628,
          0.23081704597730288,
          0.2324169805357184,
          0.23246230954722463,
          0.23265099424564034,
          0.23141031372592513,
          0.2332225317421551,
          0.2378372286439912,
          0.22357107995473496,
          0.24547143602776167,
          0.12762818659019753,
          0.1294713784788186,
          0.13106362896012824,
          0.14093903010967673,
          0.15367570481758328,
          0.15527891288728346,
          0.15597858644042567,
          0.1577319265919383,
          0.1676533165967546,
          0.16796519113939282,
          0.16856694226187996,
          0.16362229578788,
          0.16469621067369788,
          0.1647149902120341,
          0.16478071690466412,
          0.16549305040374157,
          0.16551697562354173,
          0.16640351801238076,
          0.16475538684658514,
          0.16360194887299973,
          0.16077687509764732,
          0.15961943295169778,
          0.16088223681805225,
          0.16103301603350306,
          0.062381322961220634,
          0.05151157094374266,
          0.04846118288002665,
          0.40411139395943046,
          0.3882624694830902,
          0.3614454428710173,
          0.34939959658327135,
          0.34387659868824744,
          0.34274003687889415,
          0.31982986386604195,
          0.3665737303123153,
          0.3793336866287399,
          0.3485952394655942,
          0.33901559131274767,
          0.3345939876277274,
          0.3344956526493577,
          0.3222259232044881,
          0.3312509108509511,
          0.33110797850193396,
          0.3246771012622268,
          0.3233326393415329,
          0.33073445192603546,
          0.3334639208285042,
          0.33901313815546713,
          0.34432384455357956,
          0.3521842987338145,
          0.36093565502362934,
          0.3674458897536268,
          0.3767743051798922,
          0.3788271371737102,
          0.38191499415478686,
          0.38657774225888086,
          0.38686452840519886,
          0.38721521299165745,
          0.3963904775880421,
          0.3974785350370419,
          0.4022308869182368,
          0.4056569407195512,
          0.41316170980088013,
          0.42110719972252125,
          0.4173956904960643,
          0.4361453818700493,
          0.45169780133422777,
          0.47333336484643507,
          0.47693353238534125,
          0.48614776565727896,
          0.5119303246211417,
          0.5265961909485253,
          0.5319046063711667,
          0.5407328454945146,
          0.5502789310613676,
          0.5675638452875039,
          0.5787095027001734,
          0.5975329104658039,
          0.6270891313718201,
          0.6276438766384638,
          0.6437464343034669,
          0.654349939641186,
          0.6611430182776377,
          0.6705350737469062,
          0.6856570314369828,
          0.7068367315762175,
          0.708938277337118,
          0.7158799328767793,
          0.7166909799394388,
          0.7197438806427476,
          0.7285176559173963,
          0.7354291940046327,
          0.7488063118816737,
          0.7655345943888966,
          0.729630549494683,
          0.762858960035018,
          0.7878008271468667,
          0.7873793308778796,
          0.7834740895306297,
          0.7814052443305697,
          0.7837438222410493,
          0.7818495439428294,
          0.7651758570203941,
          0.7597080389005534,
          0.7515993470757449,
          0.7509267538169946,
          0.7494518296853953,
          0.7480600020668922,
          0.7331658745229399,
          0.7302070877980453,
          0.7326140918960926,
          0.7336966956219777,
          0.8442235404005909,
          0.9018682209609119,
          0.9036162621638475,
          0.9143640746577306,
          0.9152366686123985,
          0.9250068972522818,
          0.5907596042347226,
          0.5535738464609311,
          0.566001180772077,
          0.642020332560817,
          0.5611109584023208,
          0.6533974059905889,
          0.6182003258823421,
          0.6525713939630573,
          0.6564938919596239,
          0.7743771335713597,
          0.8052711159082151,
          0.8273296784690439,
          0.828756197152883,
          0.8929690136804501,
          0.4896663958333408,
          0.4915477818125559,
          0.4952456984368682,
          0.4636424141807438,
          0.47504828327296394,
          0.5110988799502785,
          0.5419252386034594,
          0.5690436693637473,
          0.6089365624306167,
          0.6155554319395077,
          0.6367413672724037,
          0.6904573723457418,
          0.6978846227701152,
          0.7017745446739146,
          0.7029706659689496,
          -0.1730048418605352,
          -0.15341360723951347,
          -0.13602414195100987,
          -0.1206564702334263,
          -0.10006773306934508,
          -0.09684505295169779,
          -0.4535700300620601,
          -0.43466335197037675,
          -0.4260039934515064,
          -0.42180577909638234,
          -0.40794607651279835,
          -0.39358058504610643,
          -0.47332901364596547,
          -0.4714555234714306,
          -0.4669393330090258
         ]
        },
        {
         "line": {
          "width": 0
         },
         "marker": {
          "color": "#444"
         },
         "mode": "lines",
         "name": "Upper Bound",
         "showlegend": false,
         "type": "scatter",
         "x": [
          -1.9999999999999998,
          -1.9922985743484347,
          -1.987805080104512,
          -1.9790815959435524,
          -1.978007158107121,
          -1.9760328625836405,
          -1.9736147608538208,
          -1.9648840204095472,
          -1.9602686991620744,
          -1.929609016136602,
          -1.8964805443969703,
          -1.8617113264346798,
          -1.8379041143874026,
          -1.8358143047929947,
          -1.8061026722819864,
          -1.8048421918742066,
          -1.7995953674299947,
          -1.7768471528776129,
          -1.7215749898171284,
          -1.6984348547008397,
          -1.6628269823982826,
          -1.548224494336501,
          -1.4965170862677222,
          -1.4853594349724577,
          -1.475720842401142,
          -1.4159281942961977,
          -1.346095376070491,
          -1.337305284443211,
          -1.333469104500295,
          -1.3238558665950806,
          -1.269458730714507,
          -1.267748780610201,
          -1.2644494911396391,
          -1.2541102185782558,
          -1.2326131999124934,
          -1.2322372817727305,
          -1.23092160214396,
          -1.2166625144563414,
          -1.2161835929855433,
          -1.1984372906178793,
          -1.1905681340982608,
          -1.1706828703822998,
          -1.1219786155143354,
          -1.097824842292453,
          -1.014792238617606,
          -1.0048781172148298,
          -0.9513328412297837,
          -0.9371114063048578,
          -0.9341019618420752,
          -0.8844463652289509,
          -0.8628407901268635,
          -0.8262832758711316,
          -0.8098621340437078,
          -0.8023330713626566,
          -0.8007836872661649,
          -0.7695520750283793,
          -0.6537149081821738,
          -0.6505575615004684,
          -0.6062782511776712,
          -0.5465489152451033,
          -0.5349868759873495,
          -0.5347297401241398,
          -0.5026456585036609,
          -0.49814351225081444,
          -0.4967727756147251,
          -0.4799146992101535,
          -0.39158402676460224,
          -0.3730394316512131,
          -0.3662009856499131,
          -0.3522979061879712,
          -0.338992395031787,
          -0.31929871344830474,
          -0.29737295442173584,
          -0.28106212977133826,
          -0.2576905994664789,
          -0.2525474081567074,
          -0.244811052118457,
          -0.23312894388902272,
          -0.2324104262412332,
          -0.2315318166312028,
          -0.20854399235767018,
          -0.20581795942702708,
          -0.1939113567581563,
          -0.18532767811772466,
          -0.16652513449157103,
          -0.14661840328321163,
          -0.13349438386087087,
          -0.09627462793899966,
          -0.0654017327587395,
          -0.022453271523063645,
          -0.01530662817821149,
          0.002984420274167121,
          0.05458306197215279,
          0.08334516765533895,
          0.09375581793592813,
          0.1127336907034695,
          0.13002646689891417,
          0.16088615652391347,
          0.18078509984070879,
          0.2143915449599918,
          0.26715986025011906,
          0.2681502768946924,
          0.2968990415810251,
          0.31583005155758936,
          0.3279581012300672,
          0.3447262444172723,
          0.3717242910799805,
          0.40953755205983766,
          0.41328955505306375,
          0.4256828670842969,
          0.4271308731488621,
          0.4325813814318358,
          0.44824567564081486,
          0.46058521735985725,
          0.4844681073968995,
          0.5148387174316689,
          0.5193214955367993,
          0.5256736385005145,
          0.5625489664528609,
          0.5637229064551632,
          0.574599678976067,
          0.5803617706424027,
          0.6425992139834094,
          0.6475361954687213,
          0.6909921563511956,
          0.7052427112184918,
          0.7263760692086061,
          0.7281290220185053,
          0.7319730575737817,
          0.7356005220227777,
          0.7744184887352086,
          0.7821298557996577,
          0.8010081112759737,
          0.8153374931500585,
          0.8426891778105761,
          0.8687408940670442,
          0.8758575370991757,
          0.912415999446055,
          0.9159809576001492,
          0.9557879865412287,
          0.9594500563170882,
          0.9852863527208116,
          0.9943063564512253,
          1.0494825523714,
          1.0565193525847998,
          1.1427894843640654,
          1.165271637452297,
          1.1870057466255908,
          1.1894860885075835,
          1.264028061915992,
          1.2835634799987314,
          1.297511932394134,
          1.2984139733996534,
          1.3397244040165979,
          1.3654140171757305,
          1.3669482995346671,
          1.3699639743107008,
          1.3887819582783902,
          1.3983383784355845,
          1.4285434111236208,
          1.454371310148614,
          1.4770925176474674,
          1.5127015344314803,
          1.5182874165860771,
          1.5361669257598867,
          1.5814996330677324,
          1.587767734523351,
          1.5910505678404334,
          1.5920600140287422,
          1.615916222072077,
          1.65097541371166,
          1.6855409884676673,
          1.7054855756011085,
          1.7461246222444258,
          1.7524857043532402,
          1.7609762668988838,
          1.820541786225419,
          1.847823108978674,
          1.8610495899656803,
          1.9047146049460557,
          1.9408855011762243,
          1.9757808084889787,
          1.9828820111795742,
          2.0000000000000004
         ],
         "y": [
          0.38571328490466705,
          0.38700147941876323,
          0.3877552732246855,
          0.3892232978405532,
          0.3894045357707996,
          0.3897378088869026,
          0.3901464340866503,
          0.3916258206466553,
          0.3924104291727496,
          0.39721971642047416,
          0.39828165193468273,
          0.41309735597414965,
          0.41260448442601105,
          0.4125639602078929,
          0.4048678988132485,
          0.4047889439977185,
          0.404462102037177,
          0.3900552442484393,
          0.37674408180104635,
          0.3794734139970806,
          0.34225306842070546,
          0.3568486754276269,
          0.22150777643598557,
          0.22296182535488385,
          0.22423378924615026,
          0.232456678611135,
          0.24398596356299945,
          0.24549365734736328,
          0.24615565287723445,
          0.24782529434172434,
          0.25756321594049203,
          0.2578773393703334,
          0.2584848112710845,
          0.25350875581425214,
          0.25455173366730216,
          0.2545706675385461,
          0.2546371226114404,
          0.255376128820175,
          0.25540154653868485,
          0.25637070028141995,
          0.254928619596668,
          0.2539111993568121,
          0.2517071594420498,
          0.2510306438001477,
          0.25431500225714676,
          0.2547829204428606,
          0.16173500219694598,
          0.150432723134997,
          0.1473709128022672,
          0.4981653129279118,
          0.48177010974228757,
          0.45427284485005176,
          0.4420228328998703,
          0.43642743467913364,
          0.4352776330181031,
          0.4122217212944333,
          0.4601644424133331,
          0.4726502674661348,
          0.4418763157210478,
          0.432791430793872,
          0.4284162931550459,
          0.4283192358842713,
          0.4162921231629326,
          0.4295409700659138,
          0.42939766593627,
          0.4239932327824051,
          0.4329452804743827,
          0.43990009355161425,
          0.44247059348375667,
          0.4477064408091534,
          0.45272966869543196,
          0.46018712989326244,
          0.4685217511948504,
          0.4747440211869161,
          0.483692938029505,
          0.485667530399893,
          0.4886413017085365,
          0.493140005257244,
          0.49341702574683927,
          0.49375581992422535,
          0.5026400330985249,
          0.503696145430302,
          0.5083153827967488,
          0.5116519621552933,
          0.51897981139667,
          0.5267666526923793,
          0.5232086368898304,
          0.541479096052155,
          0.5567153137504914,
          0.5780349441459244,
          0.5815966209596999,
          0.5907307113491016,
          0.6159717572319416,
          0.6305920227664971,
          0.6358999750622664,
          0.6446468120846055,
          0.6541359625066149,
          0.6714219490832047,
          0.6826115438594245,
          0.7015860023462057,
          0.7315731608001741,
          0.7321382437086391,
          0.7485767077400752,
          0.759439029510015,
          0.7664134994161498,
          0.7760762527504391,
          0.7916821822148881,
          0.8136381482447894,
          0.8158229009350787,
          0.8230472444529727,
          0.8238921030431088,
          0.8270737379791464,
          0.8362302861611205,
          0.8434566265086967,
          0.857475858522157,
          0.8743888649182204,
          0.8253736692553751,
          0.8569525612064348,
          0.8798443934377759,
          0.8794102203393207,
          0.8753997984057226,
          0.8732842259957388,
          0.8744788795099653,
          0.8725476476114764,
          0.8557482357286624,
          0.8503173517413805,
          0.842334413693018,
          0.8416760511570381,
          0.8402343668547791,
          0.8388764655583263,
          0.8245001019989197,
          0.8216776132987312,
          0.8267901721317714,
          0.8292556684057948,
          0.9413019643569601,
          0.9957967389039333,
          0.9975554730298382,
          1.0084603162062344,
          1.0093582114695716,
          1.0211736502029274,
          0.6892826729568315,
          0.6484399441727486,
          0.6607168724784327,
          0.7363282610919355,
          0.6556141465313148,
          0.746959897684264,
          0.7102096373489832,
          0.7443612807826882,
          0.7482686134633363,
          0.8666419579248067,
          0.8979646417179974,
          0.9204041000046144,
          0.921857375985745,
          0.9876131459295685,
          0.584976529735855,
          0.586860305778488,
          0.590564802616977,
          0.5575491009208011,
          0.5689576972952151,
          0.6051791193025067,
          0.6363460902067397,
          0.663910885143911,
          0.7205896440792813,
          0.7274341919308316,
          0.7493911766486305,
          0.8053856545547796,
          0.8131633698959185,
          0.81724018946227,
          0.8184942404067188,
          0.021466762342542273,
          0.04373180840683863,
          0.06436024213360741,
          0.08675182718596625,
          0.11093841007539842,
          0.11473961793164128,
          -0.22925759736567242,
          -0.20478455654431546,
          -0.1934793593725455,
          -0.18797748790421248,
          -0.16972043163166275,
          -0.15115164498578085,
          -0.2239523138300178,
          -0.221328702456361,
          -0.21499192577086534
         ]
        },
        {
         "fill": "tonexty",
         "fillcolor": "rgba(68, 68, 68, 0.3)",
         "line": {
          "width": 0
         },
         "marker": {
          "color": "#444"
         },
         "mode": "lines",
         "name": "Lower Bound",
         "showlegend": false,
         "type": "scatter",
         "x": [
          -1.9999999999999998,
          -1.9922985743484347,
          -1.987805080104512,
          -1.9790815959435524,
          -1.978007158107121,
          -1.9760328625836405,
          -1.9736147608538208,
          -1.9648840204095472,
          -1.9602686991620744,
          -1.929609016136602,
          -1.8964805443969703,
          -1.8617113264346798,
          -1.8379041143874026,
          -1.8358143047929947,
          -1.8061026722819864,
          -1.8048421918742066,
          -1.7995953674299947,
          -1.7768471528776129,
          -1.7215749898171284,
          -1.6984348547008397,
          -1.6628269823982826,
          -1.548224494336501,
          -1.4965170862677222,
          -1.4853594349724577,
          -1.475720842401142,
          -1.4159281942961977,
          -1.346095376070491,
          -1.337305284443211,
          -1.333469104500295,
          -1.3238558665950806,
          -1.269458730714507,
          -1.267748780610201,
          -1.2644494911396391,
          -1.2541102185782558,
          -1.2326131999124934,
          -1.2322372817727305,
          -1.23092160214396,
          -1.2166625144563414,
          -1.2161835929855433,
          -1.1984372906178793,
          -1.1905681340982608,
          -1.1706828703822998,
          -1.1219786155143354,
          -1.097824842292453,
          -1.014792238617606,
          -1.0048781172148298,
          -0.9513328412297837,
          -0.9371114063048578,
          -0.9341019618420752,
          -0.8844463652289509,
          -0.8628407901268635,
          -0.8262832758711316,
          -0.8098621340437078,
          -0.8023330713626566,
          -0.8007836872661649,
          -0.7695520750283793,
          -0.6537149081821738,
          -0.6505575615004684,
          -0.6062782511776712,
          -0.5465489152451033,
          -0.5349868759873495,
          -0.5347297401241398,
          -0.5026456585036609,
          -0.49814351225081444,
          -0.4967727756147251,
          -0.4799146992101535,
          -0.39158402676460224,
          -0.3730394316512131,
          -0.3662009856499131,
          -0.3522979061879712,
          -0.338992395031787,
          -0.31929871344830474,
          -0.29737295442173584,
          -0.28106212977133826,
          -0.2576905994664789,
          -0.2525474081567074,
          -0.244811052118457,
          -0.23312894388902272,
          -0.2324104262412332,
          -0.2315318166312028,
          -0.20854399235767018,
          -0.20581795942702708,
          -0.1939113567581563,
          -0.18532767811772466,
          -0.16652513449157103,
          -0.14661840328321163,
          -0.13349438386087087,
          -0.09627462793899966,
          -0.0654017327587395,
          -0.022453271523063645,
          -0.01530662817821149,
          0.002984420274167121,
          0.05458306197215279,
          0.08334516765533895,
          0.09375581793592813,
          0.1127336907034695,
          0.13002646689891417,
          0.16088615652391347,
          0.18078509984070879,
          0.2143915449599918,
          0.26715986025011906,
          0.2681502768946924,
          0.2968990415810251,
          0.31583005155758936,
          0.3279581012300672,
          0.3447262444172723,
          0.3717242910799805,
          0.40953755205983766,
          0.41328955505306375,
          0.4256828670842969,
          0.4271308731488621,
          0.4325813814318358,
          0.44824567564081486,
          0.46058521735985725,
          0.4844681073968995,
          0.5148387174316689,
          0.5193214955367993,
          0.5256736385005145,
          0.5625489664528609,
          0.5637229064551632,
          0.574599678976067,
          0.5803617706424027,
          0.6425992139834094,
          0.6475361954687213,
          0.6909921563511956,
          0.7052427112184918,
          0.7263760692086061,
          0.7281290220185053,
          0.7319730575737817,
          0.7356005220227777,
          0.7744184887352086,
          0.7821298557996577,
          0.8010081112759737,
          0.8153374931500585,
          0.8426891778105761,
          0.8687408940670442,
          0.8758575370991757,
          0.912415999446055,
          0.9159809576001492,
          0.9557879865412287,
          0.9594500563170882,
          0.9852863527208116,
          0.9943063564512253,
          1.0494825523714,
          1.0565193525847998,
          1.1427894843640654,
          1.165271637452297,
          1.1870057466255908,
          1.1894860885075835,
          1.264028061915992,
          1.2835634799987314,
          1.297511932394134,
          1.2984139733996534,
          1.3397244040165979,
          1.3654140171757305,
          1.3669482995346671,
          1.3699639743107008,
          1.3887819582783902,
          1.3983383784355845,
          1.4285434111236208,
          1.454371310148614,
          1.4770925176474674,
          1.5127015344314803,
          1.5182874165860771,
          1.5361669257598867,
          1.5814996330677324,
          1.587767734523351,
          1.5910505678404334,
          1.5920600140287422,
          1.615916222072077,
          1.65097541371166,
          1.6855409884676673,
          1.7054855756011085,
          1.7461246222444258,
          1.7524857043532402,
          1.7609762668988838,
          1.820541786225419,
          1.847823108978674,
          1.8610495899656803,
          1.9047146049460557,
          1.9408855011762243,
          1.9757808084889787,
          1.9828820111795742,
          2.0000000000000004
         ],
         "y": [
          -0.0677236744943662,
          -0.06453136712959234,
          -0.06267095542169712,
          -0.059063869409763464,
          -0.05862002557428794,
          -0.057804701638024925,
          -0.05680653414328693,
          -0.053206588546582834,
          -0.05130611557524281,
          -0.03869556106244368,
          -0.02984700827307557,
          0.04414990280419456,
          0.048675603651714555,
          0.0490701317467129,
          0.059966062258188374,
          0.06013567509673082,
          0.06083988645410371,
          0.072765383203411,
          0.08970098168326388,
          0.09620104329090179,
          0.10488909148876445,
          0.13409419662789646,
          0.03374859674440951,
          0.03598093160275333,
          0.03789346867410623,
          0.049421381608218476,
          0.06336544607216708,
          0.06506416842720365,
          0.06580152000361687,
          0.06763855884215224,
          0.07774341725301717,
          0.07805304290845223,
          0.0786490732526754,
          0.07373583576150791,
          0.0748406876800936,
          0.07485931288552207,
          0.07492431119788782,
          0.0756099719873081,
          0.0756324047083986,
          0.07643633574334155,
          0.07458215409650228,
          0.07329269838918734,
          0.06984659075324486,
          0.06820822210324787,
          0.06744947137895776,
          0.06728311162414553,
          -0.03697235627450472,
          -0.047409581247511684,
          -0.0504485470422139,
          0.31005747499094916,
          0.2947548292238928,
          0.2686180408919829,
          0.2567763602666724,
          0.25132576269736123,
          0.2502024407396852,
          0.2274380064376506,
          0.27298301821129756,
          0.286017105791345,
          0.25531416321014055,
          0.24523975183162333,
          0.2407716821004089,
          0.24067206941444413,
          0.2281597232460436,
          0.2329608516359884,
          0.23281829106759794,
          0.22536096974204856,
          0.2137199982086831,
          0.22156881030045666,
          0.2244572481732517,
          0.23031983550178087,
          0.23591802041172716,
          0.2441814675743666,
          0.2533495588524083,
          0.2601477583203375,
          0.26985567233027935,
          0.27198674394752737,
          0.27518868660103724,
          0.28001547926051773,
          0.28031203106355845,
          0.28067460605908956,
          0.29014092207755926,
          0.29126092464378184,
          0.2961463910397248,
          0.29966191928380914,
          0.30734360820509027,
          0.31544774675266324,
          0.31158274410229814,
          0.3308116676879436,
          0.34668028891796404,
          0.3686317855469457,
          0.3722704438109827,
          0.3815648199654563,
          0.40788889201034184,
          0.42260035913055344,
          0.42790923768006695,
          0.4368188789044237,
          0.44642189961612033,
          0.4637057414918031,
          0.4748074615409223,
          0.49347981858540213,
          0.5226051019434661,
          0.5231495095682884,
          0.5389161608668586,
          0.5492608497723571,
          0.5558725371391255,
          0.5649938947433734,
          0.5796318806590774,
          0.6000353149076456,
          0.6020536537391573,
          0.6087126213005859,
          0.6094898568357687,
          0.6124140233063489,
          0.620805025673672,
          0.6274017615005687,
          0.6401367652411903,
          0.6566803238595728,
          0.6338874297339908,
          0.6687653588636011,
          0.6957572608559576,
          0.6953484414164385,
          0.6915483806555368,
          0.6895262626654005,
          0.6930087649721334,
          0.6911514402741823,
          0.6746034783121259,
          0.6690987260597263,
          0.6608642804584719,
          0.660177456476951,
          0.6586692925160114,
          0.657243538575458,
          0.6418316470469602,
          0.6387365622973594,
          0.6384380116604138,
          0.6381377228381606,
          0.7471451164442217,
          0.8079397030178905,
          0.8096770512978568,
          0.8202678331092268,
          0.8211151257552253,
          0.8288401443016362,
          0.49223653551261365,
          0.45870774874911363,
          0.4712854890657212,
          0.5477124040296986,
          0.4666077702733269,
          0.5598349142969139,
          0.5261910144157009,
          0.5607815071434264,
          0.5647191704559116,
          0.6821123092179128,
          0.7125775900984328,
          0.7342552569334735,
          0.7356550183200209,
          0.7983248814313317,
          0.3943562619308266,
          0.3962352578466237,
          0.39992659425675947,
          0.36973572744068656,
          0.38113886925071283,
          0.41701864059805027,
          0.44750438700017914,
          0.4741764535835836,
          0.4972834807819521,
          0.5036766719481838,
          0.5240915578961769,
          0.575529090136704,
          0.5826058756443119,
          0.5863088998855593,
          0.5874470915311805,
          -0.3674764460636126,
          -0.3505590228858656,
          -0.33640852603562715,
          -0.32806476765281883,
          -0.31107387621408855,
          -0.30842972383503686,
          -0.6778824627584478,
          -0.664542147396438,
          -0.6585286275304674,
          -0.6556340702885521,
          -0.646171721393934,
          -0.636009525106432,
          -0.7227057134619131,
          -0.7215823444865002,
          -0.7188867402471862
         ]
        }
       ],
       "layout": {
        "autosize": false,
        "height": 1000,
        "hovermode": "x",
        "template": {
         "data": {
          "bar": [
           {
            "error_x": {
             "color": "#2a3f5f"
            },
            "error_y": {
             "color": "#2a3f5f"
            },
            "marker": {
             "line": {
              "color": "#E5ECF6",
              "width": 0.5
             },
             "pattern": {
              "fillmode": "overlay",
              "size": 10,
              "solidity": 0.2
             }
            },
            "type": "bar"
           }
          ],
          "barpolar": [
           {
            "marker": {
             "line": {
              "color": "#E5ECF6",
              "width": 0.5
             },
             "pattern": {
              "fillmode": "overlay",
              "size": 10,
              "solidity": 0.2
             }
            },
            "type": "barpolar"
           }
          ],
          "carpet": [
           {
            "aaxis": {
             "endlinecolor": "#2a3f5f",
             "gridcolor": "white",
             "linecolor": "white",
             "minorgridcolor": "white",
             "startlinecolor": "#2a3f5f"
            },
            "baxis": {
             "endlinecolor": "#2a3f5f",
             "gridcolor": "white",
             "linecolor": "white",
             "minorgridcolor": "white",
             "startlinecolor": "#2a3f5f"
            },
            "type": "carpet"
           }
          ],
          "choropleth": [
           {
            "colorbar": {
             "outlinewidth": 0,
             "ticks": ""
            },
            "type": "choropleth"
           }
          ],
          "contour": [
           {
            "colorbar": {
             "outlinewidth": 0,
             "ticks": ""
            },
            "colorscale": [
             [
              0,
              "#0d0887"
             ],
             [
              0.1111111111111111,
              "#46039f"
             ],
             [
              0.2222222222222222,
              "#7201a8"
             ],
             [
              0.3333333333333333,
              "#9c179e"
             ],
             [
              0.4444444444444444,
              "#bd3786"
             ],
             [
              0.5555555555555556,
              "#d8576b"
             ],
             [
              0.6666666666666666,
              "#ed7953"
             ],
             [
              0.7777777777777778,
              "#fb9f3a"
             ],
             [
              0.8888888888888888,
              "#fdca26"
             ],
             [
              1,
              "#f0f921"
             ]
            ],
            "type": "contour"
           }
          ],
          "contourcarpet": [
           {
            "colorbar": {
             "outlinewidth": 0,
             "ticks": ""
            },
            "type": "contourcarpet"
           }
          ],
          "heatmap": [
           {
            "colorbar": {
             "outlinewidth": 0,
             "ticks": ""
            },
            "colorscale": [
             [
              0,
              "#0d0887"
             ],
             [
              0.1111111111111111,
              "#46039f"
             ],
             [
              0.2222222222222222,
              "#7201a8"
             ],
             [
              0.3333333333333333,
              "#9c179e"
             ],
             [
              0.4444444444444444,
              "#bd3786"
             ],
             [
              0.5555555555555556,
              "#d8576b"
             ],
             [
              0.6666666666666666,
              "#ed7953"
             ],
             [
              0.7777777777777778,
              "#fb9f3a"
             ],
             [
              0.8888888888888888,
              "#fdca26"
             ],
             [
              1,
              "#f0f921"
             ]
            ],
            "type": "heatmap"
           }
          ],
          "heatmapgl": [
           {
            "colorbar": {
             "outlinewidth": 0,
             "ticks": ""
            },
            "colorscale": [
             [
              0,
              "#0d0887"
             ],
             [
              0.1111111111111111,
              "#46039f"
             ],
             [
              0.2222222222222222,
              "#7201a8"
             ],
             [
              0.3333333333333333,
              "#9c179e"
             ],
             [
              0.4444444444444444,
              "#bd3786"
             ],
             [
              0.5555555555555556,
              "#d8576b"
             ],
             [
              0.6666666666666666,
              "#ed7953"
             ],
             [
              0.7777777777777778,
              "#fb9f3a"
             ],
             [
              0.8888888888888888,
              "#fdca26"
             ],
             [
              1,
              "#f0f921"
             ]
            ],
            "type": "heatmapgl"
           }
          ],
          "histogram": [
           {
            "marker": {
             "pattern": {
              "fillmode": "overlay",
              "size": 10,
              "solidity": 0.2
             }
            },
            "type": "histogram"
           }
          ],
          "histogram2d": [
           {
            "colorbar": {
             "outlinewidth": 0,
             "ticks": ""
            },
            "colorscale": [
             [
              0,
              "#0d0887"
             ],
             [
              0.1111111111111111,
              "#46039f"
             ],
             [
              0.2222222222222222,
              "#7201a8"
             ],
             [
              0.3333333333333333,
              "#9c179e"
             ],
             [
              0.4444444444444444,
              "#bd3786"
             ],
             [
              0.5555555555555556,
              "#d8576b"
             ],
             [
              0.6666666666666666,
              "#ed7953"
             ],
             [
              0.7777777777777778,
              "#fb9f3a"
             ],
             [
              0.8888888888888888,
              "#fdca26"
             ],
             [
              1,
              "#f0f921"
             ]
            ],
            "type": "histogram2d"
           }
          ],
          "histogram2dcontour": [
           {
            "colorbar": {
             "outlinewidth": 0,
             "ticks": ""
            },
            "colorscale": [
             [
              0,
              "#0d0887"
             ],
             [
              0.1111111111111111,
              "#46039f"
             ],
             [
              0.2222222222222222,
              "#7201a8"
             ],
             [
              0.3333333333333333,
              "#9c179e"
             ],
             [
              0.4444444444444444,
              "#bd3786"
             ],
             [
              0.5555555555555556,
              "#d8576b"
             ],
             [
              0.6666666666666666,
              "#ed7953"
             ],
             [
              0.7777777777777778,
              "#fb9f3a"
             ],
             [
              0.8888888888888888,
              "#fdca26"
             ],
             [
              1,
              "#f0f921"
             ]
            ],
            "type": "histogram2dcontour"
           }
          ],
          "mesh3d": [
           {
            "colorbar": {
             "outlinewidth": 0,
             "ticks": ""
            },
            "type": "mesh3d"
           }
          ],
          "parcoords": [
           {
            "line": {
             "colorbar": {
              "outlinewidth": 0,
              "ticks": ""
             }
            },
            "type": "parcoords"
           }
          ],
          "pie": [
           {
            "automargin": true,
            "type": "pie"
           }
          ],
          "scatter": [
           {
            "fillpattern": {
             "fillmode": "overlay",
             "size": 10,
             "solidity": 0.2
            },
            "type": "scatter"
           }
          ],
          "scatter3d": [
           {
            "line": {
             "colorbar": {
              "outlinewidth": 0,
              "ticks": ""
             }
            },
            "marker": {
             "colorbar": {
              "outlinewidth": 0,
              "ticks": ""
             }
            },
            "type": "scatter3d"
           }
          ],
          "scattercarpet": [
           {
            "marker": {
             "colorbar": {
              "outlinewidth": 0,
              "ticks": ""
             }
            },
            "type": "scattercarpet"
           }
          ],
          "scattergeo": [
           {
            "marker": {
             "colorbar": {
              "outlinewidth": 0,
              "ticks": ""
             }
            },
            "type": "scattergeo"
           }
          ],
          "scattergl": [
           {
            "marker": {
             "colorbar": {
              "outlinewidth": 0,
              "ticks": ""
             }
            },
            "type": "scattergl"
           }
          ],
          "scattermapbox": [
           {
            "marker": {
             "colorbar": {
              "outlinewidth": 0,
              "ticks": ""
             }
            },
            "type": "scattermapbox"
           }
          ],
          "scatterpolar": [
           {
            "marker": {
             "colorbar": {
              "outlinewidth": 0,
              "ticks": ""
             }
            },
            "type": "scatterpolar"
           }
          ],
          "scatterpolargl": [
           {
            "marker": {
             "colorbar": {
              "outlinewidth": 0,
              "ticks": ""
             }
            },
            "type": "scatterpolargl"
           }
          ],
          "scatterternary": [
           {
            "marker": {
             "colorbar": {
              "outlinewidth": 0,
              "ticks": ""
             }
            },
            "type": "scatterternary"
           }
          ],
          "surface": [
           {
            "colorbar": {
             "outlinewidth": 0,
             "ticks": ""
            },
            "colorscale": [
             [
              0,
              "#0d0887"
             ],
             [
              0.1111111111111111,
              "#46039f"
             ],
             [
              0.2222222222222222,
              "#7201a8"
             ],
             [
              0.3333333333333333,
              "#9c179e"
             ],
             [
              0.4444444444444444,
              "#bd3786"
             ],
             [
              0.5555555555555556,
              "#d8576b"
             ],
             [
              0.6666666666666666,
              "#ed7953"
             ],
             [
              0.7777777777777778,
              "#fb9f3a"
             ],
             [
              0.8888888888888888,
              "#fdca26"
             ],
             [
              1,
              "#f0f921"
             ]
            ],
            "type": "surface"
           }
          ],
          "table": [
           {
            "cells": {
             "fill": {
              "color": "#EBF0F8"
             },
             "line": {
              "color": "white"
             }
            },
            "header": {
             "fill": {
              "color": "#C8D4E3"
             },
             "line": {
              "color": "white"
             }
            },
            "type": "table"
           }
          ]
         },
         "layout": {
          "annotationdefaults": {
           "arrowcolor": "#2a3f5f",
           "arrowhead": 0,
           "arrowwidth": 1
          },
          "autotypenumbers": "strict",
          "coloraxis": {
           "colorbar": {
            "outlinewidth": 0,
            "ticks": ""
           }
          },
          "colorscale": {
           "diverging": [
            [
             0,
             "#8e0152"
            ],
            [
             0.1,
             "#c51b7d"
            ],
            [
             0.2,
             "#de77ae"
            ],
            [
             0.3,
             "#f1b6da"
            ],
            [
             0.4,
             "#fde0ef"
            ],
            [
             0.5,
             "#f7f7f7"
            ],
            [
             0.6,
             "#e6f5d0"
            ],
            [
             0.7,
             "#b8e186"
            ],
            [
             0.8,
             "#7fbc41"
            ],
            [
             0.9,
             "#4d9221"
            ],
            [
             1,
             "#276419"
            ]
           ],
           "sequential": [
            [
             0,
             "#0d0887"
            ],
            [
             0.1111111111111111,
             "#46039f"
            ],
            [
             0.2222222222222222,
             "#7201a8"
            ],
            [
             0.3333333333333333,
             "#9c179e"
            ],
            [
             0.4444444444444444,
             "#bd3786"
            ],
            [
             0.5555555555555556,
             "#d8576b"
            ],
            [
             0.6666666666666666,
             "#ed7953"
            ],
            [
             0.7777777777777778,
             "#fb9f3a"
            ],
            [
             0.8888888888888888,
             "#fdca26"
            ],
            [
             1,
             "#f0f921"
            ]
           ],
           "sequentialminus": [
            [
             0,
             "#0d0887"
            ],
            [
             0.1111111111111111,
             "#46039f"
            ],
            [
             0.2222222222222222,
             "#7201a8"
            ],
            [
             0.3333333333333333,
             "#9c179e"
            ],
            [
             0.4444444444444444,
             "#bd3786"
            ],
            [
             0.5555555555555556,
             "#d8576b"
            ],
            [
             0.6666666666666666,
             "#ed7953"
            ],
            [
             0.7777777777777778,
             "#fb9f3a"
            ],
            [
             0.8888888888888888,
             "#fdca26"
            ],
            [
             1,
             "#f0f921"
            ]
           ]
          },
          "colorway": [
           "#636efa",
           "#EF553B",
           "#00cc96",
           "#ab63fa",
           "#FFA15A",
           "#19d3f3",
           "#FF6692",
           "#B6E880",
           "#FF97FF",
           "#FECB52"
          ],
          "font": {
           "color": "#2a3f5f"
          },
          "geo": {
           "bgcolor": "white",
           "lakecolor": "white",
           "landcolor": "#E5ECF6",
           "showlakes": true,
           "showland": true,
           "subunitcolor": "white"
          },
          "hoverlabel": {
           "align": "left"
          },
          "hovermode": "closest",
          "mapbox": {
           "style": "light"
          },
          "paper_bgcolor": "white",
          "plot_bgcolor": "#E5ECF6",
          "polar": {
           "angularaxis": {
            "gridcolor": "white",
            "linecolor": "white",
            "ticks": ""
           },
           "bgcolor": "#E5ECF6",
           "radialaxis": {
            "gridcolor": "white",
            "linecolor": "white",
            "ticks": ""
           }
          },
          "scene": {
           "xaxis": {
            "backgroundcolor": "#E5ECF6",
            "gridcolor": "white",
            "gridwidth": 2,
            "linecolor": "white",
            "showbackground": true,
            "ticks": "",
            "zerolinecolor": "white"
           },
           "yaxis": {
            "backgroundcolor": "#E5ECF6",
            "gridcolor": "white",
            "gridwidth": 2,
            "linecolor": "white",
            "showbackground": true,
            "ticks": "",
            "zerolinecolor": "white"
           },
           "zaxis": {
            "backgroundcolor": "#E5ECF6",
            "gridcolor": "white",
            "gridwidth": 2,
            "linecolor": "white",
            "showbackground": true,
            "ticks": "",
            "zerolinecolor": "white"
           }
          },
          "shapedefaults": {
           "line": {
            "color": "#2a3f5f"
           }
          },
          "ternary": {
           "aaxis": {
            "gridcolor": "white",
            "linecolor": "white",
            "ticks": ""
           },
           "baxis": {
            "gridcolor": "white",
            "linecolor": "white",
            "ticks": ""
           },
           "bgcolor": "#E5ECF6",
           "caxis": {
            "gridcolor": "white",
            "linecolor": "white",
            "ticks": ""
           }
          },
          "title": {
           "x": 0.05
          },
          "xaxis": {
           "automargin": true,
           "gridcolor": "white",
           "linecolor": "white",
           "ticks": "",
           "title": {
            "standoff": 15
           },
           "zerolinecolor": "white",
           "zerolinewidth": 2
          },
          "yaxis": {
           "automargin": true,
           "gridcolor": "white",
           "linecolor": "white",
           "ticks": "",
           "title": {
            "standoff": 15
           },
           "zerolinecolor": "white",
           "zerolinewidth": 2
          }
         }
        },
        "title": {
         "text": "Refined Laplace"
        },
        "width": 1000,
        "xaxis": {
         "title": {
          "text": "x"
         }
        },
        "yaxis": {
         "title": {
          "text": "y"
         }
        }
       }
      }
     },
     "metadata": {},
     "output_type": "display_data"
    }
   ],
   "source": [
    "fig = bayesian_regression(refined_model, sigma, train_dataloader, test_dataloader, title=\"Refined Laplace\")\n",
    "fig.show()"
   ]
  },
  {
   "cell_type": "markdown",
   "metadata": {},
   "source": [
    "### Plot Full Laplace"
   ]
  },
  {
   "cell_type": "code",
   "execution_count": 14,
   "metadata": {},
   "outputs": [],
   "source": [
    "def bayesian_regression(model, train_dataloader, test_dataloader, title):\n",
    "    X_train = train_dataloader.dataset.X.numpy().squeeze()\n",
    "    y_train = train_dataloader.dataset.y.numpy().squeeze()\n",
    "    X_test = test_dataloader.dataset.X.numpy().squeeze()\n",
    "    y_test = test_dataloader.dataset.y.numpy().squeeze()\n",
    "    X_test = np.concatenate([X_train, X_test]).reshape(-1, 1)\n",
    "    X = torch.from_numpy(X_test).to(device=device, dtype=torch.float64)\n",
    "    f_mu, f_var = model(x=X)\n",
    "    f_mu = f_mu.detach().squeeze().cpu().numpy()\n",
    "    pred_std = torch.sqrt(f_var.squeeze() + model.sigma_noise**2).detach().cpu().numpy()\n",
    "    return plot_bayesian_regression(X_train=X_train, y_train=y_train, X_test=X.squeeze().detach().cpu().numpy(), y_test=f_mu, y_std=pred_std, title=title)\n"
   ]
  },
  {
   "cell_type": "code",
   "execution_count": 15,
   "metadata": {},
   "outputs": [
    {
     "data": {
      "application/vnd.plotly.v1+json": {
       "config": {
        "plotlyServerURL": "https://plot.ly"
       },
       "data": [
        {
         "mode": "markers",
         "name": "Training data",
         "type": "scatter",
         "x": [
          -1.337305284443211,
          -0.6505575615004684,
          -1.1706828703822998,
          -1.0048781172148298,
          1.0565193525847998,
          -0.9341019618420752,
          -0.5349868759873495,
          0.9594500563170882,
          -1.2322372817727305,
          -0.8098621340437078,
          0.5148387174316689,
          0.5803617706424027,
          1.1427894843640654,
          0.5637229064551632,
          0.9557879865412287,
          -0.6062782511776712,
          -1.2161835929855433,
          0.7052427112184918,
          1.3887819582783902,
          -0.6537149081821738,
          -0.9513328412297837,
          -1.475720842401142,
          -0.8007836872661649,
          -1.23092160214396,
          -1.333469104500295,
          0.8426891778105761,
          -1.014792238617606,
          -0.8628407901268635,
          0.9943063564512253,
          0.8153374931500585,
          -1.3238558665950806,
          0.7821298557996577,
          0.7319730575737817,
          -0.9371114063048578,
          0.9159809576001492,
          -1.097824842292453,
          -1.346095376070491,
          -0.5465489152451033,
          0.7744184887352086,
          -1.2166625144563414,
          0.912415999446055,
          -1.267748780610201,
          1.2984139733996534,
          0.8010081112759737,
          1.3669482995346671,
          -0.8262832758711316,
          0.5256736385005145,
          -1.4159281942961977,
          1.3397244040165979,
          -0.5026456585036609,
          1.3699639743107008,
          0.8687408940670442,
          1.454371310148614,
          1.297511932394134,
          0.6425992139834094,
          1.1894860885075835,
          -1.2326131999124934,
          0.7281290220185053,
          -0.5347297401241398,
          0.9852863527208116,
          -1.269458730714507,
          -1.1905681340982608,
          -0.8023330713626566,
          -1.2644494911396391,
          1.0494825523714,
          -1.4853594349724577,
          1.165271637452297,
          -1.1984372906178793,
          -1.2541102185782558,
          0.7263760692086061,
          1.4285434111236208,
          0.8758575370991757,
          1.1870057466255908,
          1.3654140171757305,
          0.6909921563511956,
          -1.4965170862677222,
          1.4770925176474674,
          -0.8844463652289509,
          1.264028061915992,
          -0.7695520750283793,
          0.6475361954687213,
          0.5193214955367993,
          1.3983383784355845,
          0.7356005220227777,
          -1.1219786155143354,
          0.574599678976067,
          0.5625489664528609,
          1.2835634799987314
         ],
         "y": [
          0.22704033068578572,
          0.48213400083255037,
          0.20785458160346182,
          0.00026943756731534485,
          0.706442008093481,
          0.07158809090658802,
          0.42623770676391837,
          1,
          0.21982861064577247,
          0.26543594880733284,
          0.7739387807255895,
          0.5189987429384414,
          0.888130675102298,
          0.8404413522659699,
          0.8604278427369398,
          0.40377064344750196,
          0.2154583391868351,
          0.66607830149852,
          0.3717250393155298,
          0.4258012267292421,
          0.06920295072963467,
          0.1654301953151749,
          0.2928651932079143,
          0.10034478595950258,
          0.16821843291816418,
          0.8726242107185324,
          0.0457404979723941,
          0.24996343767509033,
          0.9072010749029378,
          0.8217604485888413,
          0.15680228083018777,
          0.9677590595146406,
          0.8710789362651906,
          0.052672691243608516,
          0.8457074389241511,
          0.2362547719275705,
          0.30863176191225844,
          0.498244205386257,
          0.9808506955842595,
          0.16497494583598948,
          0.9027645588648137,
          0.10031113567816974,
          0.6611235452430386,
          0.8751842558805043,
          0.4639940107205561,
          0.24651566632381033,
          0.44618619653693903,
          0.14744626720723614,
          0.4535021177322158,
          0.6354437941468748,
          0.5384571357774733,
          0.9465656181662574,
          0.33371166368167493,
          0.5566899200699926,
          0.8137168724157819,
          0.7540921389413057,
          0.28237639463355674,
          0.7138127080640428,
          0.45861115993931656,
          0.974475055611208,
          0.17538097177776796,
          0.027531960119475007,
          0.04906352208317366,
          0.11910208224646457,
          0.7356842937664854,
          0.3354713910249758,
          0.8111442642860152,
          0.05341190909341209,
          0.07351904052929303,
          0.7949028442253177,
          0.4360894443303159,
          0.8891126191378798,
          0.5998621632706944,
          0.3708144609377887,
          0.7823249985351538,
          0.22995937493308188,
          0.5121378829690278,
          0.23864038273782928,
          0.663373154205591,
          0.19605574580906932,
          0.6512735607857035,
          0.7045515152862875,
          0.6069200188700424,
          0.8006099907685278,
          0.14560741463947258,
          0.6928888160583849,
          0.6295780240013573,
          0.6254645633122984
         ]
        },
        {
         "line": {
          "color": "rgb(31, 119, 180)"
         },
         "mode": "lines",
         "name": "MAP",
         "type": "scatter",
         "x": [
          -1.9999999999999998,
          -1.9922985743484347,
          -1.987805080104512,
          -1.9790815959435524,
          -1.978007158107121,
          -1.9760328625836405,
          -1.9736147608538208,
          -1.9648840204095472,
          -1.9602686991620744,
          -1.929609016136602,
          -1.8964805443969703,
          -1.8617113264346798,
          -1.8379041143874026,
          -1.8358143047929947,
          -1.8061026722819864,
          -1.8048421918742066,
          -1.7995953674299947,
          -1.7768471528776129,
          -1.7215749898171284,
          -1.6984348547008397,
          -1.6628269823982826,
          -1.548224494336501,
          -1.4965170862677222,
          -1.4853594349724577,
          -1.475720842401142,
          -1.4159281942961977,
          -1.346095376070491,
          -1.337305284443211,
          -1.333469104500295,
          -1.3238558665950806,
          -1.269458730714507,
          -1.267748780610201,
          -1.2644494911396391,
          -1.2541102185782558,
          -1.2326131999124934,
          -1.2322372817727305,
          -1.23092160214396,
          -1.2166625144563414,
          -1.2161835929855433,
          -1.1984372906178793,
          -1.1905681340982608,
          -1.1706828703822998,
          -1.1219786155143354,
          -1.097824842292453,
          -1.014792238617606,
          -1.0048781172148298,
          -0.9513328412297837,
          -0.9371114063048578,
          -0.9341019618420752,
          -0.8844463652289509,
          -0.8628407901268635,
          -0.8262832758711316,
          -0.8098621340437078,
          -0.8023330713626566,
          -0.8007836872661649,
          -0.7695520750283793,
          -0.6537149081821738,
          -0.6505575615004684,
          -0.6062782511776712,
          -0.5465489152451033,
          -0.5349868759873495,
          -0.5347297401241398,
          -0.5026456585036609,
          -0.49814351225081444,
          -0.4967727756147251,
          -0.4799146992101535,
          -0.39158402676460224,
          -0.3730394316512131,
          -0.3662009856499131,
          -0.3522979061879712,
          -0.338992395031787,
          -0.31929871344830474,
          -0.29737295442173584,
          -0.28106212977133826,
          -0.2576905994664789,
          -0.2525474081567074,
          -0.244811052118457,
          -0.23312894388902272,
          -0.2324104262412332,
          -0.2315318166312028,
          -0.20854399235767018,
          -0.20581795942702708,
          -0.1939113567581563,
          -0.18532767811772466,
          -0.16652513449157103,
          -0.14661840328321163,
          -0.13349438386087087,
          -0.09627462793899966,
          -0.0654017327587395,
          -0.022453271523063645,
          -0.01530662817821149,
          0.002984420274167121,
          0.05458306197215279,
          0.08334516765533895,
          0.09375581793592813,
          0.1127336907034695,
          0.13002646689891417,
          0.16088615652391347,
          0.18078509984070879,
          0.2143915449599918,
          0.26715986025011906,
          0.2681502768946924,
          0.2968990415810251,
          0.31583005155758936,
          0.3279581012300672,
          0.3447262444172723,
          0.3717242910799805,
          0.40953755205983766,
          0.41328955505306375,
          0.4256828670842969,
          0.4271308731488621,
          0.4325813814318358,
          0.44824567564081486,
          0.46058521735985725,
          0.4844681073968995,
          0.5148387174316689,
          0.5193214955367993,
          0.5256736385005145,
          0.5625489664528609,
          0.5637229064551632,
          0.574599678976067,
          0.5803617706424027,
          0.6425992139834094,
          0.6475361954687213,
          0.6909921563511956,
          0.7052427112184918,
          0.7263760692086061,
          0.7281290220185053,
          0.7319730575737817,
          0.7356005220227777,
          0.7744184887352086,
          0.7821298557996577,
          0.8010081112759737,
          0.8153374931500585,
          0.8426891778105761,
          0.8687408940670442,
          0.8758575370991757,
          0.912415999446055,
          0.9159809576001492,
          0.9557879865412287,
          0.9594500563170882,
          0.9852863527208116,
          0.9943063564512253,
          1.0494825523714,
          1.0565193525847998,
          1.1427894843640654,
          1.165271637452297,
          1.1870057466255908,
          1.1894860885075835,
          1.264028061915992,
          1.2835634799987314,
          1.297511932394134,
          1.2984139733996534,
          1.3397244040165979,
          1.3654140171757305,
          1.3669482995346671,
          1.3699639743107008,
          1.3887819582783902,
          1.3983383784355845,
          1.4285434111236208,
          1.454371310148614,
          1.4770925176474674,
          1.5127015344314803,
          1.5182874165860771,
          1.5361669257598867,
          1.5814996330677324,
          1.587767734523351,
          1.5910505678404334,
          1.5920600140287422,
          1.615916222072077,
          1.65097541371166,
          1.6855409884676673,
          1.7054855756011085,
          1.7461246222444258,
          1.7524857043532402,
          1.7609762668988838,
          1.820541786225419,
          1.847823108978674,
          1.8610495899656803,
          1.9047146049460557,
          1.9408855011762243,
          1.9757808084889787,
          1.9828820111795742,
          2.0000000000000004
         ],
         "y": [
          0.3828515504971871,
          0.3804651191411784,
          0.3790727255705719,
          0.3763695901931463,
          0.3760366554536647,
          0.3754248829122647,
          0.37467558868400863,
          0.37197020481093934,
          0.3705400608556076,
          0.3613495132703406,
          0.35258283071074653,
          0.34161728725947704,
          0.33431036890411403,
          0.3336689637679615,
          0.32461050001373215,
          0.3242554893960382,
          0.3227777366476612,
          0.3158939608383281,
          0.2964685626714928,
          0.28803284642463206,
          0.2751888801788961,
          0.2331405992962063,
          0.21490943326799322,
          0.21110841140856443,
          0.20782487976842007,
          0.18745110117540148,
          0.16342192787035056,
          0.16039729503373054,
          0.1590772819650936,
          0.15576940802392625,
          0.13705158682490254,
          0.1364632003263575,
          0.13532792896704582,
          0.13209523566369666,
          0.1253833514589022,
          0.1252659808102648,
          0.12485519411206186,
          0.12040316534875567,
          0.12025363459264633,
          0.11471281386736422,
          0.11225743558987188,
          0.10665751835208648,
          0.09294184425872797,
          0.08592601096988549,
          0.06006598965454604,
          0.0569782942258609,
          0.05809939311504714,
          0.06285059749900067,
          0.06393891454315574,
          0.10972533721054793,
          0.1314061769338698,
          0.1680910419983966,
          0.18456938808972165,
          0.19212467881831435,
          0.19367946030907202,
          0.22501987018147324,
          0.3452911078682709,
          0.34855778955205735,
          0.39046260304503266,
          0.44558690799301137,
          0.45349727149168995,
          0.45367319531457195,
          0.4756240590403684,
          0.47831005253611325,
          0.47893035298849174,
          0.4863924047788363,
          0.508558990002783,
          0.5117707248014517,
          0.5129550739261913,
          0.515362945537491,
          0.5176673244108555,
          0.521078069270413,
          0.5248753871855404,
          0.5277002557148534,
          0.5317479664747428,
          0.5326387147712033,
          0.533978572759529,
          0.5360017947976957,
          0.5361262347285086,
          0.5362784009549333,
          0.5402596577423452,
          0.5407317788521417,
          0.542793881038343,
          0.5442804866623265,
          0.5475368955134426,
          0.5509845383958407,
          0.5530914928621226,
          0.5567417969353767,
          0.5597696366467981,
          0.5639817798784109,
          0.564682682414327,
          0.5664765654481104,
          0.5714080822785755,
          0.5740615722531198,
          0.5750220219660968,
          0.5768170856867436,
          0.5783190495001687,
          0.5807064183977246,
          0.58224584147508,
          0.5848457050125994,
          0.5889279701368094,
          0.5890045908002576,
          0.5912286542140293,
          0.5926931959824843,
          0.5936314467856498,
          0.5949286647421929,
          0.5970172890180865,
          0.5999426004607962,
          0.6002328631095271,
          0.6011916351529473,
          0.6013036558726637,
          0.6017253183750663,
          0.6029371403101251,
          0.6038917525718852,
          0.6057393819405227,
          0.6105971395054904,
          0.6118808458351531,
          0.6137694169007777,
          0.6398015951350524,
          0.6406369412148509,
          0.6483765780518074,
          0.6524767370680029,
          0.6977311561827144,
          0.7013638605637807,
          0.7333394026943051,
          0.7438251728461819,
          0.7593754118709247,
          0.7606652606117532,
          0.7634937591273285,
          0.7661629014028737,
          0.7947257384643183,
          0.8003998770047154,
          0.8140886014628321,
          0.8244021753137188,
          0.8416912526449185,
          0.8535764401618756,
          0.8553422309724009,
          0.8644488793466477,
          0.8653389767029953,
          0.8752143965810923,
          0.8749943834884196,
          0.8514505800448037,
          0.8432164639726132,
          0.7928476154435692,
          0.7864144021273157,
          0.706529308851569,
          0.6804228069920147,
          0.6551644091242655,
          0.6522818680638572,
          0.5656525607761999,
          0.5429493821682188,
          0.5267391221831741,
          0.525690810958234,
          0.47768473122833865,
          0.4492527469162473,
          0.44783983298651275,
          0.4450627112437062,
          0.4280866633628847,
          0.4194735252236027,
          0.39224992948752224,
          0.36897141530643274,
          0.3484929416039565,
          0.31618407906302604,
          0.31110917062704824,
          0.2948652060345198,
          0.25367934991097585,
          0.24798462881334132,
          0.24500209569973816,
          0.24408498953191493,
          0.22647918249043478,
          0.20324614073592728,
          0.18167557757491204,
          0.16952605402308707,
          0.1451082593298324,
          0.14128623076889654,
          0.1367304563458974,
          0.10780128211316317,
          0.09455156737632245,
          0.08812786491749751,
          0.06692108555043684,
          0.04948755729564043,
          0.032857163092404384,
          0.029754981822857213,
          0.02227693808790346
         ]
        },
        {
         "line": {
          "width": 0
         },
         "marker": {
          "color": "#444"
         },
         "mode": "lines",
         "name": "Upper Bound",
         "showlegend": false,
         "type": "scatter",
         "x": [
          -1.9999999999999998,
          -1.9922985743484347,
          -1.987805080104512,
          -1.9790815959435524,
          -1.978007158107121,
          -1.9760328625836405,
          -1.9736147608538208,
          -1.9648840204095472,
          -1.9602686991620744,
          -1.929609016136602,
          -1.8964805443969703,
          -1.8617113264346798,
          -1.8379041143874026,
          -1.8358143047929947,
          -1.8061026722819864,
          -1.8048421918742066,
          -1.7995953674299947,
          -1.7768471528776129,
          -1.7215749898171284,
          -1.6984348547008397,
          -1.6628269823982826,
          -1.548224494336501,
          -1.4965170862677222,
          -1.4853594349724577,
          -1.475720842401142,
          -1.4159281942961977,
          -1.346095376070491,
          -1.337305284443211,
          -1.333469104500295,
          -1.3238558665950806,
          -1.269458730714507,
          -1.267748780610201,
          -1.2644494911396391,
          -1.2541102185782558,
          -1.2326131999124934,
          -1.2322372817727305,
          -1.23092160214396,
          -1.2166625144563414,
          -1.2161835929855433,
          -1.1984372906178793,
          -1.1905681340982608,
          -1.1706828703822998,
          -1.1219786155143354,
          -1.097824842292453,
          -1.014792238617606,
          -1.0048781172148298,
          -0.9513328412297837,
          -0.9371114063048578,
          -0.9341019618420752,
          -0.8844463652289509,
          -0.8628407901268635,
          -0.8262832758711316,
          -0.8098621340437078,
          -0.8023330713626566,
          -0.8007836872661649,
          -0.7695520750283793,
          -0.6537149081821738,
          -0.6505575615004684,
          -0.6062782511776712,
          -0.5465489152451033,
          -0.5349868759873495,
          -0.5347297401241398,
          -0.5026456585036609,
          -0.49814351225081444,
          -0.4967727756147251,
          -0.4799146992101535,
          -0.39158402676460224,
          -0.3730394316512131,
          -0.3662009856499131,
          -0.3522979061879712,
          -0.338992395031787,
          -0.31929871344830474,
          -0.29737295442173584,
          -0.28106212977133826,
          -0.2576905994664789,
          -0.2525474081567074,
          -0.244811052118457,
          -0.23312894388902272,
          -0.2324104262412332,
          -0.2315318166312028,
          -0.20854399235767018,
          -0.20581795942702708,
          -0.1939113567581563,
          -0.18532767811772466,
          -0.16652513449157103,
          -0.14661840328321163,
          -0.13349438386087087,
          -0.09627462793899966,
          -0.0654017327587395,
          -0.022453271523063645,
          -0.01530662817821149,
          0.002984420274167121,
          0.05458306197215279,
          0.08334516765533895,
          0.09375581793592813,
          0.1127336907034695,
          0.13002646689891417,
          0.16088615652391347,
          0.18078509984070879,
          0.2143915449599918,
          0.26715986025011906,
          0.2681502768946924,
          0.2968990415810251,
          0.31583005155758936,
          0.3279581012300672,
          0.3447262444172723,
          0.3717242910799805,
          0.40953755205983766,
          0.41328955505306375,
          0.4256828670842969,
          0.4271308731488621,
          0.4325813814318358,
          0.44824567564081486,
          0.46058521735985725,
          0.4844681073968995,
          0.5148387174316689,
          0.5193214955367993,
          0.5256736385005145,
          0.5625489664528609,
          0.5637229064551632,
          0.574599678976067,
          0.5803617706424027,
          0.6425992139834094,
          0.6475361954687213,
          0.6909921563511956,
          0.7052427112184918,
          0.7263760692086061,
          0.7281290220185053,
          0.7319730575737817,
          0.7356005220227777,
          0.7744184887352086,
          0.7821298557996577,
          0.8010081112759737,
          0.8153374931500585,
          0.8426891778105761,
          0.8687408940670442,
          0.8758575370991757,
          0.912415999446055,
          0.9159809576001492,
          0.9557879865412287,
          0.9594500563170882,
          0.9852863527208116,
          0.9943063564512253,
          1.0494825523714,
          1.0565193525847998,
          1.1427894843640654,
          1.165271637452297,
          1.1870057466255908,
          1.1894860885075835,
          1.264028061915992,
          1.2835634799987314,
          1.297511932394134,
          1.2984139733996534,
          1.3397244040165979,
          1.3654140171757305,
          1.3669482995346671,
          1.3699639743107008,
          1.3887819582783902,
          1.3983383784355845,
          1.4285434111236208,
          1.454371310148614,
          1.4770925176474674,
          1.5127015344314803,
          1.5182874165860771,
          1.5361669257598867,
          1.5814996330677324,
          1.587767734523351,
          1.5910505678404334,
          1.5920600140287422,
          1.615916222072077,
          1.65097541371166,
          1.6855409884676673,
          1.7054855756011085,
          1.7461246222444258,
          1.7524857043532402,
          1.7609762668988838,
          1.820541786225419,
          1.847823108978674,
          1.8610495899656803,
          1.9047146049460557,
          1.9408855011762243,
          1.9757808084889787,
          1.9828820111795742,
          2.0000000000000004
         ],
         "y": [
          0.6095700306019514,
          0.6062315428223128,
          0.6042858403017197,
          0.6005131742282077,
          0.6000489365363518,
          0.5991961385853136,
          0.5981520732101039,
          0.594386409820645,
          0.5923983336437292,
          0.5793071524333362,
          0.5666471612438291,
          0.5260910143425046,
          0.5162748097961805,
          0.5154158785040739,
          0.4970614188240349,
          0.49658212437968896,
          0.4945888449739545,
          0.4745388919399792,
          0.4399901133705467,
          0.42966903242640564,
          0.3938708694190122,
          0.34451783952099,
          0.3087890240924513,
          0.30459885926737335,
          0.30099504104056407,
          0.27896875068078786,
          0.2537321876331168,
          0.2506120405122375,
          0.24925434942075508,
          0.2458627767935115,
          0.22696148719052014,
          0.2263753495791527,
          0.22524579899803998,
          0.2219816967122154,
          0.21523887547500506,
          0.21512165915927364,
          0.21471160084132668,
          0.21028624478737426,
          0.2101382065299576,
          0.20467999715763296,
          0.20243066935885073,
          0.19696676985326023,
          0.18387212961354346,
          0.1773372228234325,
          0.1534987560769909,
          0.1507281996152423,
          0.15745307327552077,
          0.1617717506190467,
          0.16284864539429525,
          0.20377925715588535,
          0.22491381817563016,
          0.26091844496719424,
          0.2771926253982655,
          0.2846755158019214,
          0.2862170574411439,
          0.31741172860429356,
          0.4388818209509795,
          0.44187437137402696,
          0.48374368028543574,
          0.5393627484538885,
          0.5473195779982761,
          0.5474967795287398,
          0.5696902599755415,
          0.5766001126858311,
          0.5772200413575865,
          0.5857085372241124,
          0.6181716319738313,
          0.6209363672686611,
          0.6219617474243018,
          0.6240562490364652,
          0.6260731494002375,
          0.6290809012805529,
          0.6324614842107487,
          0.6349983880044218,
          0.6386666001836739,
          0.6394791088573337,
          0.6407048811741455,
          0.642564058658251,
          0.6426787329324202,
          0.6428190087498685,
          0.6465092141175577,
          0.6469493901103915,
          0.6488783777829301,
          0.6502755089648748,
          0.653354997977488,
          0.6566439922352579,
          0.6589044401241865,
          0.6620755119897307,
          0.6647871499379363,
          0.6686833600554147,
          0.6693457718665227,
          0.6710595120184428,
          0.6754495157724577,
          0.6780574049545611,
          0.6790173915406699,
          0.680731053161,
          0.6821760818300662,
          0.6845645230780665,
          0.6861478835185981,
          0.6888987977759845,
          0.6934120004445049,
          0.6934989587496875,
          0.6960589285270747,
          0.6977822867255917,
          0.698901928796934,
          0.7004698446162594,
          0.7030424406625517,
          0.7067440179896296,
          0.7071174875670796,
          0.708358947586465,
          0.7085047798333877,
          0.709055176567491,
          0.7106497714068334,
          0.7119191859264475,
          0.7144089294264788,
          0.7194514108788523,
          0.7076239665554667,
          0.7078630190486387,
          0.7318451624241535,
          0.7326678316746215,
          0.740302287926372,
          0.7443557197331521,
          0.7884662144642174,
          0.7920619652454274,
          0.8239117824169792,
          0.8344344867010013,
          0.8501104795007847,
          0.8514145589642249,
          0.8542762973087699,
          0.8569793659059872,
          0.8860599669462422,
          0.8918704035098466,
          0.9082646826740999,
          0.9199611490590065,
          0.9387696775477097,
          0.9475049590830572,
          0.9492814428164404,
          0.9585451218715683,
          0.9594605205363228,
          0.9713811504871319,
          0.973517453143073,
          0.946316678725114,
          0.9379321566489998,
          0.8871555449489127,
          0.8809175912285218,
          0.8000918015272309,
          0.7724321194572195,
          0.746954296944847,
          0.7440565905686857,
          0.657917386125445,
          0.6356429089691937,
          0.6198135447058809,
          0.6187919907779487,
          0.5723288644482213,
          0.5445628817827424,
          0.5431523579164016,
          0.5403818163877051,
          0.5219933510813296,
          0.5133829402242132,
          0.48633016981633326,
          0.4633922678827729,
          0.4433601583526016,
          0.4278371615345711,
          0.4229879314395928,
          0.40751501622634634,
          0.36860763291944393,
          0.36326337673614445,
          0.36046774128380327,
          0.3596085647649949,
          0.4209507871659573,
          0.40039155684831684,
          0.38205996211803384,
          0.37693435188545676,
          0.35611440290999996,
          0.3528709020864691,
          0.36104288945187957,
          0.3376800779389009,
          0.327076201850412,
          0.32195615650259307,
          0.3051467308172452,
          0.29191649773495193,
          0.28223386327677924,
          0.279881803205249,
          0.27422434569073184
         ]
        },
        {
         "fill": "tonexty",
         "fillcolor": "rgba(68, 68, 68, 0.3)",
         "line": {
          "width": 0
         },
         "marker": {
          "color": "#444"
         },
         "mode": "lines",
         "name": "Lower Bound",
         "showlegend": false,
         "type": "scatter",
         "x": [
          -1.9999999999999998,
          -1.9922985743484347,
          -1.987805080104512,
          -1.9790815959435524,
          -1.978007158107121,
          -1.9760328625836405,
          -1.9736147608538208,
          -1.9648840204095472,
          -1.9602686991620744,
          -1.929609016136602,
          -1.8964805443969703,
          -1.8617113264346798,
          -1.8379041143874026,
          -1.8358143047929947,
          -1.8061026722819864,
          -1.8048421918742066,
          -1.7995953674299947,
          -1.7768471528776129,
          -1.7215749898171284,
          -1.6984348547008397,
          -1.6628269823982826,
          -1.548224494336501,
          -1.4965170862677222,
          -1.4853594349724577,
          -1.475720842401142,
          -1.4159281942961977,
          -1.346095376070491,
          -1.337305284443211,
          -1.333469104500295,
          -1.3238558665950806,
          -1.269458730714507,
          -1.267748780610201,
          -1.2644494911396391,
          -1.2541102185782558,
          -1.2326131999124934,
          -1.2322372817727305,
          -1.23092160214396,
          -1.2166625144563414,
          -1.2161835929855433,
          -1.1984372906178793,
          -1.1905681340982608,
          -1.1706828703822998,
          -1.1219786155143354,
          -1.097824842292453,
          -1.014792238617606,
          -1.0048781172148298,
          -0.9513328412297837,
          -0.9371114063048578,
          -0.9341019618420752,
          -0.8844463652289509,
          -0.8628407901268635,
          -0.8262832758711316,
          -0.8098621340437078,
          -0.8023330713626566,
          -0.8007836872661649,
          -0.7695520750283793,
          -0.6537149081821738,
          -0.6505575615004684,
          -0.6062782511776712,
          -0.5465489152451033,
          -0.5349868759873495,
          -0.5347297401241398,
          -0.5026456585036609,
          -0.49814351225081444,
          -0.4967727756147251,
          -0.4799146992101535,
          -0.39158402676460224,
          -0.3730394316512131,
          -0.3662009856499131,
          -0.3522979061879712,
          -0.338992395031787,
          -0.31929871344830474,
          -0.29737295442173584,
          -0.28106212977133826,
          -0.2576905994664789,
          -0.2525474081567074,
          -0.244811052118457,
          -0.23312894388902272,
          -0.2324104262412332,
          -0.2315318166312028,
          -0.20854399235767018,
          -0.20581795942702708,
          -0.1939113567581563,
          -0.18532767811772466,
          -0.16652513449157103,
          -0.14661840328321163,
          -0.13349438386087087,
          -0.09627462793899966,
          -0.0654017327587395,
          -0.022453271523063645,
          -0.01530662817821149,
          0.002984420274167121,
          0.05458306197215279,
          0.08334516765533895,
          0.09375581793592813,
          0.1127336907034695,
          0.13002646689891417,
          0.16088615652391347,
          0.18078509984070879,
          0.2143915449599918,
          0.26715986025011906,
          0.2681502768946924,
          0.2968990415810251,
          0.31583005155758936,
          0.3279581012300672,
          0.3447262444172723,
          0.3717242910799805,
          0.40953755205983766,
          0.41328955505306375,
          0.4256828670842969,
          0.4271308731488621,
          0.4325813814318358,
          0.44824567564081486,
          0.46058521735985725,
          0.4844681073968995,
          0.5148387174316689,
          0.5193214955367993,
          0.5256736385005145,
          0.5625489664528609,
          0.5637229064551632,
          0.574599678976067,
          0.5803617706424027,
          0.6425992139834094,
          0.6475361954687213,
          0.6909921563511956,
          0.7052427112184918,
          0.7263760692086061,
          0.7281290220185053,
          0.7319730575737817,
          0.7356005220227777,
          0.7744184887352086,
          0.7821298557996577,
          0.8010081112759737,
          0.8153374931500585,
          0.8426891778105761,
          0.8687408940670442,
          0.8758575370991757,
          0.912415999446055,
          0.9159809576001492,
          0.9557879865412287,
          0.9594500563170882,
          0.9852863527208116,
          0.9943063564512253,
          1.0494825523714,
          1.0565193525847998,
          1.1427894843640654,
          1.165271637452297,
          1.1870057466255908,
          1.1894860885075835,
          1.264028061915992,
          1.2835634799987314,
          1.297511932394134,
          1.2984139733996534,
          1.3397244040165979,
          1.3654140171757305,
          1.3669482995346671,
          1.3699639743107008,
          1.3887819582783902,
          1.3983383784355845,
          1.4285434111236208,
          1.454371310148614,
          1.4770925176474674,
          1.5127015344314803,
          1.5182874165860771,
          1.5361669257598867,
          1.5814996330677324,
          1.587767734523351,
          1.5910505678404334,
          1.5920600140287422,
          1.615916222072077,
          1.65097541371166,
          1.6855409884676673,
          1.7054855756011085,
          1.7461246222444258,
          1.7524857043532402,
          1.7609762668988838,
          1.820541786225419,
          1.847823108978674,
          1.8610495899656803,
          1.9047146049460557,
          1.9408855011762243,
          1.9757808084889787,
          1.9828820111795742,
          2.0000000000000004
         ],
         "y": [
          0.1561330703924228,
          0.154698695460044,
          0.15385961083942415,
          0.1522260061580849,
          0.1520243743709776,
          0.15165362723921583,
          0.15119910415791338,
          0.1495539998012337,
          0.14868178806748597,
          0.14339187410734497,
          0.13851850017766396,
          0.15714356017644945,
          0.15234592801204766,
          0.15192204903184908,
          0.1521595812034294,
          0.15192885441238743,
          0.15096662832136784,
          0.157249029736677,
          0.15294701197243885,
          0.1463966604228585,
          0.15650689093877995,
          0.1217633590714226,
          0.12102984244353514,
          0.1176179635497555,
          0.11465471849627606,
          0.09593345167001507,
          0.07311166810758435,
          0.07018254955522359,
          0.06890021450943214,
          0.06567603925434098,
          0.04714168645928493,
          0.046551051073562305,
          0.04541005893605164,
          0.0422087746151779,
          0.03552782744279934,
          0.035410302461255955,
          0.034998787382797034,
          0.03052008591013708,
          0.030369062655335066,
          0.02474563057709546,
          0.022084201820893032,
          0.016348266850912715,
          0.0020115589039124693,
          -0.005485200883661542,
          -0.033366776767898815,
          -0.0367716111635205,
          -0.041254287045426496,
          -0.03607055562104537,
          -0.034970816307983765,
          0.0156714172652105,
          0.03789853569210945,
          0.07526363902959898,
          0.0919461507811778,
          0.09957384183470729,
          0.10114186317700016,
          0.13262801175865288,
          0.2517003947855623,
          0.25524120773008774,
          0.2971815258046296,
          0.3518110675321342,
          0.3596749649851038,
          0.35984961110040414,
          0.3815578581051954,
          0.38001999238639533,
          0.38064066461939694,
          0.3870762723335601,
          0.3989463480317348,
          0.4026050823342423,
          0.4039484004280809,
          0.4066696420385167,
          0.4092614994214735,
          0.41307523726027306,
          0.4172892901603321,
          0.420402123425285,
          0.4248293327658116,
          0.42579832068507284,
          0.4272522643449125,
          0.4294395309371405,
          0.42957373652459707,
          0.42973779315999805,
          0.43401010136713264,
          0.43451416759389194,
          0.4367093842937559,
          0.4382854643597782,
          0.4417187930493973,
          0.44532508455642356,
          0.44727854560005864,
          0.4514080818810228,
          0.4547521233556599,
          0.45928019970140715,
          0.46001959296213124,
          0.46189361887777797,
          0.46736664878469336,
          0.4700657395516785,
          0.47102665239152364,
          0.4729031182124872,
          0.47446201717027114,
          0.4768483137173828,
          0.47834379943156186,
          0.4807926122492142,
          0.48444393982911393,
          0.4845102228508277,
          0.4863983799009838,
          0.48760410523937675,
          0.4883609647743656,
          0.4893874848681264,
          0.49099213737362124,
          0.4931411829319628,
          0.4933482386519745,
          0.49402432271942953,
          0.4941025319119397,
          0.4943954601826416,
          0.49522450921341693,
          0.49586431921732294,
          0.49706983445456654,
          0.5017428681321285,
          0.5161377251148396,
          0.5196758147529167,
          0.5477580278459513,
          0.5486060507550804,
          0.5564508681772428,
          0.5605977544028538,
          0.6069960979012115,
          0.6106657558821341,
          0.642767022971631,
          0.6532158589913625,
          0.6686403442410648,
          0.6699159622592815,
          0.6727112209458872,
          0.6753464368997601,
          0.7033915099823943,
          0.7089293504995842,
          0.7199125202515644,
          0.7288432015684312,
          0.7446128277421273,
          0.759647921240694,
          0.7614030191283614,
          0.7703526368217272,
          0.7712174328696678,
          0.7790476426750528,
          0.7764713138337662,
          0.7565844813644933,
          0.7485007712962266,
          0.6985396859382257,
          0.6919112130261097,
          0.612966816175907,
          0.58841349452681,
          0.563374521303684,
          0.5605071455590288,
          0.47338773542695467,
          0.45025585536724383,
          0.4336646996604673,
          0.43258963113851934,
          0.38304059800845597,
          0.35394261204975225,
          0.3525273080566239,
          0.34974360609970734,
          0.33417997564443974,
          0.3255641102229923,
          0.2981696891587112,
          0.2745505627300926,
          0.2536257248553114,
          0.20453099659148097,
          0.19923040981450368,
          0.1822153958426933,
          0.13875106690250777,
          0.1327058808905382,
          0.12953645011567305,
          0.12856141429883497,
          0.03200757781491226,
          0.006100724623537723,
          -0.018708806968209757,
          -0.03788224383928265,
          -0.06589788425033513,
          -0.07029844054867598,
          -0.0875819767600848,
          -0.12207751371257458,
          -0.13797306709776708,
          -0.14570042666759808,
          -0.17130455971637154,
          -0.19294138314367104,
          -0.21651953709197044,
          -0.22037183955953463,
          -0.2296704695149249
         ]
        }
       ],
       "layout": {
        "autosize": false,
        "height": 1000,
        "hovermode": "x",
        "template": {
         "data": {
          "bar": [
           {
            "error_x": {
             "color": "#2a3f5f"
            },
            "error_y": {
             "color": "#2a3f5f"
            },
            "marker": {
             "line": {
              "color": "#E5ECF6",
              "width": 0.5
             },
             "pattern": {
              "fillmode": "overlay",
              "size": 10,
              "solidity": 0.2
             }
            },
            "type": "bar"
           }
          ],
          "barpolar": [
           {
            "marker": {
             "line": {
              "color": "#E5ECF6",
              "width": 0.5
             },
             "pattern": {
              "fillmode": "overlay",
              "size": 10,
              "solidity": 0.2
             }
            },
            "type": "barpolar"
           }
          ],
          "carpet": [
           {
            "aaxis": {
             "endlinecolor": "#2a3f5f",
             "gridcolor": "white",
             "linecolor": "white",
             "minorgridcolor": "white",
             "startlinecolor": "#2a3f5f"
            },
            "baxis": {
             "endlinecolor": "#2a3f5f",
             "gridcolor": "white",
             "linecolor": "white",
             "minorgridcolor": "white",
             "startlinecolor": "#2a3f5f"
            },
            "type": "carpet"
           }
          ],
          "choropleth": [
           {
            "colorbar": {
             "outlinewidth": 0,
             "ticks": ""
            },
            "type": "choropleth"
           }
          ],
          "contour": [
           {
            "colorbar": {
             "outlinewidth": 0,
             "ticks": ""
            },
            "colorscale": [
             [
              0,
              "#0d0887"
             ],
             [
              0.1111111111111111,
              "#46039f"
             ],
             [
              0.2222222222222222,
              "#7201a8"
             ],
             [
              0.3333333333333333,
              "#9c179e"
             ],
             [
              0.4444444444444444,
              "#bd3786"
             ],
             [
              0.5555555555555556,
              "#d8576b"
             ],
             [
              0.6666666666666666,
              "#ed7953"
             ],
             [
              0.7777777777777778,
              "#fb9f3a"
             ],
             [
              0.8888888888888888,
              "#fdca26"
             ],
             [
              1,
              "#f0f921"
             ]
            ],
            "type": "contour"
           }
          ],
          "contourcarpet": [
           {
            "colorbar": {
             "outlinewidth": 0,
             "ticks": ""
            },
            "type": "contourcarpet"
           }
          ],
          "heatmap": [
           {
            "colorbar": {
             "outlinewidth": 0,
             "ticks": ""
            },
            "colorscale": [
             [
              0,
              "#0d0887"
             ],
             [
              0.1111111111111111,
              "#46039f"
             ],
             [
              0.2222222222222222,
              "#7201a8"
             ],
             [
              0.3333333333333333,
              "#9c179e"
             ],
             [
              0.4444444444444444,
              "#bd3786"
             ],
             [
              0.5555555555555556,
              "#d8576b"
             ],
             [
              0.6666666666666666,
              "#ed7953"
             ],
             [
              0.7777777777777778,
              "#fb9f3a"
             ],
             [
              0.8888888888888888,
              "#fdca26"
             ],
             [
              1,
              "#f0f921"
             ]
            ],
            "type": "heatmap"
           }
          ],
          "heatmapgl": [
           {
            "colorbar": {
             "outlinewidth": 0,
             "ticks": ""
            },
            "colorscale": [
             [
              0,
              "#0d0887"
             ],
             [
              0.1111111111111111,
              "#46039f"
             ],
             [
              0.2222222222222222,
              "#7201a8"
             ],
             [
              0.3333333333333333,
              "#9c179e"
             ],
             [
              0.4444444444444444,
              "#bd3786"
             ],
             [
              0.5555555555555556,
              "#d8576b"
             ],
             [
              0.6666666666666666,
              "#ed7953"
             ],
             [
              0.7777777777777778,
              "#fb9f3a"
             ],
             [
              0.8888888888888888,
              "#fdca26"
             ],
             [
              1,
              "#f0f921"
             ]
            ],
            "type": "heatmapgl"
           }
          ],
          "histogram": [
           {
            "marker": {
             "pattern": {
              "fillmode": "overlay",
              "size": 10,
              "solidity": 0.2
             }
            },
            "type": "histogram"
           }
          ],
          "histogram2d": [
           {
            "colorbar": {
             "outlinewidth": 0,
             "ticks": ""
            },
            "colorscale": [
             [
              0,
              "#0d0887"
             ],
             [
              0.1111111111111111,
              "#46039f"
             ],
             [
              0.2222222222222222,
              "#7201a8"
             ],
             [
              0.3333333333333333,
              "#9c179e"
             ],
             [
              0.4444444444444444,
              "#bd3786"
             ],
             [
              0.5555555555555556,
              "#d8576b"
             ],
             [
              0.6666666666666666,
              "#ed7953"
             ],
             [
              0.7777777777777778,
              "#fb9f3a"
             ],
             [
              0.8888888888888888,
              "#fdca26"
             ],
             [
              1,
              "#f0f921"
             ]
            ],
            "type": "histogram2d"
           }
          ],
          "histogram2dcontour": [
           {
            "colorbar": {
             "outlinewidth": 0,
             "ticks": ""
            },
            "colorscale": [
             [
              0,
              "#0d0887"
             ],
             [
              0.1111111111111111,
              "#46039f"
             ],
             [
              0.2222222222222222,
              "#7201a8"
             ],
             [
              0.3333333333333333,
              "#9c179e"
             ],
             [
              0.4444444444444444,
              "#bd3786"
             ],
             [
              0.5555555555555556,
              "#d8576b"
             ],
             [
              0.6666666666666666,
              "#ed7953"
             ],
             [
              0.7777777777777778,
              "#fb9f3a"
             ],
             [
              0.8888888888888888,
              "#fdca26"
             ],
             [
              1,
              "#f0f921"
             ]
            ],
            "type": "histogram2dcontour"
           }
          ],
          "mesh3d": [
           {
            "colorbar": {
             "outlinewidth": 0,
             "ticks": ""
            },
            "type": "mesh3d"
           }
          ],
          "parcoords": [
           {
            "line": {
             "colorbar": {
              "outlinewidth": 0,
              "ticks": ""
             }
            },
            "type": "parcoords"
           }
          ],
          "pie": [
           {
            "automargin": true,
            "type": "pie"
           }
          ],
          "scatter": [
           {
            "fillpattern": {
             "fillmode": "overlay",
             "size": 10,
             "solidity": 0.2
            },
            "type": "scatter"
           }
          ],
          "scatter3d": [
           {
            "line": {
             "colorbar": {
              "outlinewidth": 0,
              "ticks": ""
             }
            },
            "marker": {
             "colorbar": {
              "outlinewidth": 0,
              "ticks": ""
             }
            },
            "type": "scatter3d"
           }
          ],
          "scattercarpet": [
           {
            "marker": {
             "colorbar": {
              "outlinewidth": 0,
              "ticks": ""
             }
            },
            "type": "scattercarpet"
           }
          ],
          "scattergeo": [
           {
            "marker": {
             "colorbar": {
              "outlinewidth": 0,
              "ticks": ""
             }
            },
            "type": "scattergeo"
           }
          ],
          "scattergl": [
           {
            "marker": {
             "colorbar": {
              "outlinewidth": 0,
              "ticks": ""
             }
            },
            "type": "scattergl"
           }
          ],
          "scattermapbox": [
           {
            "marker": {
             "colorbar": {
              "outlinewidth": 0,
              "ticks": ""
             }
            },
            "type": "scattermapbox"
           }
          ],
          "scatterpolar": [
           {
            "marker": {
             "colorbar": {
              "outlinewidth": 0,
              "ticks": ""
             }
            },
            "type": "scatterpolar"
           }
          ],
          "scatterpolargl": [
           {
            "marker": {
             "colorbar": {
              "outlinewidth": 0,
              "ticks": ""
             }
            },
            "type": "scatterpolargl"
           }
          ],
          "scatterternary": [
           {
            "marker": {
             "colorbar": {
              "outlinewidth": 0,
              "ticks": ""
             }
            },
            "type": "scatterternary"
           }
          ],
          "surface": [
           {
            "colorbar": {
             "outlinewidth": 0,
             "ticks": ""
            },
            "colorscale": [
             [
              0,
              "#0d0887"
             ],
             [
              0.1111111111111111,
              "#46039f"
             ],
             [
              0.2222222222222222,
              "#7201a8"
             ],
             [
              0.3333333333333333,
              "#9c179e"
             ],
             [
              0.4444444444444444,
              "#bd3786"
             ],
             [
              0.5555555555555556,
              "#d8576b"
             ],
             [
              0.6666666666666666,
              "#ed7953"
             ],
             [
              0.7777777777777778,
              "#fb9f3a"
             ],
             [
              0.8888888888888888,
              "#fdca26"
             ],
             [
              1,
              "#f0f921"
             ]
            ],
            "type": "surface"
           }
          ],
          "table": [
           {
            "cells": {
             "fill": {
              "color": "#EBF0F8"
             },
             "line": {
              "color": "white"
             }
            },
            "header": {
             "fill": {
              "color": "#C8D4E3"
             },
             "line": {
              "color": "white"
             }
            },
            "type": "table"
           }
          ]
         },
         "layout": {
          "annotationdefaults": {
           "arrowcolor": "#2a3f5f",
           "arrowhead": 0,
           "arrowwidth": 1
          },
          "autotypenumbers": "strict",
          "coloraxis": {
           "colorbar": {
            "outlinewidth": 0,
            "ticks": ""
           }
          },
          "colorscale": {
           "diverging": [
            [
             0,
             "#8e0152"
            ],
            [
             0.1,
             "#c51b7d"
            ],
            [
             0.2,
             "#de77ae"
            ],
            [
             0.3,
             "#f1b6da"
            ],
            [
             0.4,
             "#fde0ef"
            ],
            [
             0.5,
             "#f7f7f7"
            ],
            [
             0.6,
             "#e6f5d0"
            ],
            [
             0.7,
             "#b8e186"
            ],
            [
             0.8,
             "#7fbc41"
            ],
            [
             0.9,
             "#4d9221"
            ],
            [
             1,
             "#276419"
            ]
           ],
           "sequential": [
            [
             0,
             "#0d0887"
            ],
            [
             0.1111111111111111,
             "#46039f"
            ],
            [
             0.2222222222222222,
             "#7201a8"
            ],
            [
             0.3333333333333333,
             "#9c179e"
            ],
            [
             0.4444444444444444,
             "#bd3786"
            ],
            [
             0.5555555555555556,
             "#d8576b"
            ],
            [
             0.6666666666666666,
             "#ed7953"
            ],
            [
             0.7777777777777778,
             "#fb9f3a"
            ],
            [
             0.8888888888888888,
             "#fdca26"
            ],
            [
             1,
             "#f0f921"
            ]
           ],
           "sequentialminus": [
            [
             0,
             "#0d0887"
            ],
            [
             0.1111111111111111,
             "#46039f"
            ],
            [
             0.2222222222222222,
             "#7201a8"
            ],
            [
             0.3333333333333333,
             "#9c179e"
            ],
            [
             0.4444444444444444,
             "#bd3786"
            ],
            [
             0.5555555555555556,
             "#d8576b"
            ],
            [
             0.6666666666666666,
             "#ed7953"
            ],
            [
             0.7777777777777778,
             "#fb9f3a"
            ],
            [
             0.8888888888888888,
             "#fdca26"
            ],
            [
             1,
             "#f0f921"
            ]
           ]
          },
          "colorway": [
           "#636efa",
           "#EF553B",
           "#00cc96",
           "#ab63fa",
           "#FFA15A",
           "#19d3f3",
           "#FF6692",
           "#B6E880",
           "#FF97FF",
           "#FECB52"
          ],
          "font": {
           "color": "#2a3f5f"
          },
          "geo": {
           "bgcolor": "white",
           "lakecolor": "white",
           "landcolor": "#E5ECF6",
           "showlakes": true,
           "showland": true,
           "subunitcolor": "white"
          },
          "hoverlabel": {
           "align": "left"
          },
          "hovermode": "closest",
          "mapbox": {
           "style": "light"
          },
          "paper_bgcolor": "white",
          "plot_bgcolor": "#E5ECF6",
          "polar": {
           "angularaxis": {
            "gridcolor": "white",
            "linecolor": "white",
            "ticks": ""
           },
           "bgcolor": "#E5ECF6",
           "radialaxis": {
            "gridcolor": "white",
            "linecolor": "white",
            "ticks": ""
           }
          },
          "scene": {
           "xaxis": {
            "backgroundcolor": "#E5ECF6",
            "gridcolor": "white",
            "gridwidth": 2,
            "linecolor": "white",
            "showbackground": true,
            "ticks": "",
            "zerolinecolor": "white"
           },
           "yaxis": {
            "backgroundcolor": "#E5ECF6",
            "gridcolor": "white",
            "gridwidth": 2,
            "linecolor": "white",
            "showbackground": true,
            "ticks": "",
            "zerolinecolor": "white"
           },
           "zaxis": {
            "backgroundcolor": "#E5ECF6",
            "gridcolor": "white",
            "gridwidth": 2,
            "linecolor": "white",
            "showbackground": true,
            "ticks": "",
            "zerolinecolor": "white"
           }
          },
          "shapedefaults": {
           "line": {
            "color": "#2a3f5f"
           }
          },
          "ternary": {
           "aaxis": {
            "gridcolor": "white",
            "linecolor": "white",
            "ticks": ""
           },
           "baxis": {
            "gridcolor": "white",
            "linecolor": "white",
            "ticks": ""
           },
           "bgcolor": "#E5ECF6",
           "caxis": {
            "gridcolor": "white",
            "linecolor": "white",
            "ticks": ""
           }
          },
          "title": {
           "x": 0.05
          },
          "xaxis": {
           "automargin": true,
           "gridcolor": "white",
           "linecolor": "white",
           "ticks": "",
           "title": {
            "standoff": 15
           },
           "zerolinecolor": "white",
           "zerolinewidth": 2
          },
          "yaxis": {
           "automargin": true,
           "gridcolor": "white",
           "linecolor": "white",
           "ticks": "",
           "title": {
            "standoff": 15
           },
           "zerolinecolor": "white",
           "zerolinewidth": 2
          }
         }
        },
        "title": {
         "text": "Laplace"
        },
        "width": 1000,
        "xaxis": {
         "title": {
          "text": "x"
         }
        },
        "yaxis": {
         "title": {
          "text": "y"
         }
        }
       }
      }
     },
     "metadata": {},
     "output_type": "display_data"
    }
   ],
   "source": [
    "fig = bayesian_regression(la, train_dataloader, test_dataloader, title=\"Laplace\")\n",
    "fig.show()"
   ]
  }
 ],
 "metadata": {
  "kernelspec": {
   "display_name": "subnetwork_inference",
   "language": "python",
   "name": "python3"
  },
  "language_info": {
   "codemirror_mode": {
    "name": "ipython",
    "version": 3
   },
   "file_extension": ".py",
   "mimetype": "text/x-python",
   "name": "python",
   "nbconvert_exporter": "python",
   "pygments_lexer": "ipython3",
   "version": "3.8.16"
  },
  "orig_nbformat": 4
 },
 "nbformat": 4,
 "nbformat_minor": 2
}
