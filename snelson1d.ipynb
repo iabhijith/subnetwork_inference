{
 "cells": [
  {
   "attachments": {},
   "cell_type": "markdown",
   "metadata": {},
   "source": [
    "# Subnetwork Inference on Snelson 1D dataset"
   ]
  },
  {
   "cell_type": "code",
   "execution_count": 1,
   "metadata": {},
   "outputs": [],
   "source": [
    "%load_ext autoreload\n",
    "%autoreload 2"
   ]
  },
  {
   "attachments": {},
   "cell_type": "markdown",
   "metadata": {},
   "source": [
    "## Imports and configuration"
   ]
  },
  {
   "cell_type": "code",
   "execution_count": 2,
   "metadata": {},
   "outputs": [],
   "source": [
    "import numpy as np\n",
    "import torch\n",
    "import copy\n",
    "import plotly.graph_objects as go\n",
    "\n",
    "from plotly.subplots import make_subplots\n",
    "\n",
    "from torch.utils.data import ConcatDataset, DataLoader\n",
    "\n",
    "from data.snelson1d import Snelson1D\n",
    "from main import set_seed, get_device\n",
    "from util.plots import plot_data, plot_regression, plot_bayesian_regression\n",
    "from models.nets import create_mlp\n",
    "from trainer import ModelTrainer\n",
    "\n",
    "from laplace import Laplace\n",
    "from laplace.utils import LargestVarianceDiagLaplaceSubnetMask\n",
    "from strategies.pruning import OBDSubnetMask\n",
    "from strategies.kfe import KronckerFactoredEigenSubnetMask\n",
    "\n"
   ]
  },
  {
   "attachments": {},
   "cell_type": "markdown",
   "metadata": {},
   "source": [
    "### Read configuration for Snelson experiments "
   ]
  },
  {
   "cell_type": "code",
   "execution_count": 3,
   "metadata": {},
   "outputs": [],
   "source": [
    "from hydra import initialize, compose\n",
    "from omegaconf import OmegaConf\n",
    "try:\n",
    "    initialize(version_base=None, config_path=\"configuration\")\n",
    "except Exception as e:\n",
    "    print(e)\n",
    "config = compose(config_name=\"snelson.yaml\")\n",
    "set_seed(config.seed)\n"
   ]
  },
  {
   "attachments": {},
   "cell_type": "markdown",
   "metadata": {},
   "source": [
    "## Import data and visualize"
   ]
  },
  {
   "cell_type": "code",
   "execution_count": 4,
   "metadata": {},
   "outputs": [],
   "source": [
    "snelson1d = Snelson1D(config.data.path)\n",
    "train_dataloader, val_dataloader, test_dataloader = snelson1d.get_dataloaders(batch_size=config.trainer.batch_size, val_size=config.data.val_size, random_state=config.data.seed)"
   ]
  },
  {
   "cell_type": "code",
   "execution_count": 5,
   "metadata": {},
   "outputs": [
    {
     "data": {
      "application/vnd.plotly.v1+json": {
       "config": {
        "plotlyServerURL": "https://plot.ly"
       },
       "data": [
        {
         "line": {
          "color": "red"
         },
         "mode": "markers",
         "name": "Train",
         "type": "scatter",
         "x": [
          -1.337305284443211,
          -0.6505575615004684,
          -1.1706828703822998,
          -1.0048781172148298,
          1.0565193525847998,
          -0.9341019618420752,
          -0.5349868759873495,
          0.9594500563170882,
          -1.2322372817727305,
          -0.8098621340437078,
          0.5148387174316689,
          0.5803617706424027,
          1.1427894843640654,
          0.5637229064551632,
          0.9557879865412287,
          -0.6062782511776712,
          -1.2161835929855433,
          0.7052427112184918,
          1.3887819582783902,
          -0.6537149081821738,
          -0.9513328412297837,
          -1.475720842401142,
          -0.8007836872661649,
          -1.23092160214396,
          -1.333469104500295,
          0.8426891778105761,
          -1.014792238617606,
          -0.8628407901268635,
          0.9943063564512253,
          0.8153374931500585,
          -1.3238558665950806,
          0.7821298557996577,
          0.7319730575737817,
          -0.9371114063048578,
          0.9159809576001492,
          -1.097824842292453,
          -1.346095376070491,
          -0.5465489152451033,
          0.7744184887352086,
          -1.2166625144563414,
          0.912415999446055,
          -1.267748780610201,
          1.2984139733996534,
          0.8010081112759737,
          1.3669482995346671,
          -0.8262832758711316,
          0.5256736385005145,
          -1.4159281942961977,
          1.3397244040165979,
          -0.5026456585036609,
          1.3699639743107008,
          0.8687408940670442,
          1.454371310148614,
          1.297511932394134,
          0.6425992139834094,
          1.1894860885075835,
          -1.2326131999124934,
          0.7281290220185053,
          -0.5347297401241398,
          0.9852863527208116,
          -1.269458730714507,
          -1.1905681340982608,
          -0.8023330713626566,
          -1.2644494911396391,
          1.0494825523714,
          -1.4853594349724577,
          1.165271637452297,
          -1.1984372906178793,
          -1.2541102185782558,
          0.7263760692086061,
          1.4285434111236208,
          0.8758575370991757,
          1.1870057466255908,
          1.3654140171757305,
          0.6909921563511956,
          -1.4965170862677222,
          1.4770925176474674,
          -0.8844463652289509,
          1.264028061915992,
          -0.7695520750283793,
          0.6475361954687213,
          0.5193214955367993,
          1.3983383784355845,
          0.7356005220227777,
          -1.1219786155143354,
          0.574599678976067,
          0.5625489664528609,
          1.2835634799987314,
          0.9143722500861768,
          -0.6831412871553857,
          -0.6047248038334065,
          0.795665549942159,
          -1.4270346215812086,
          -0.7833463271708117,
          -1.1008958449589905,
          -1.1763855031895634,
          1.2303244374541475,
          1.1777674787689918,
          -0.739685036834228,
          -1.0676826545033,
          -0.9303859185916361,
          -1.0959717981457548,
          0.7364796056783818,
          1.0803037765841523
         ],
         "y": [
          0.22704033068578572,
          0.48213400083255037,
          0.20785458160346182,
          0.00026943756731534485,
          0.706442008093481,
          0.07158809090658802,
          0.42623770676391837,
          1,
          0.21982861064577247,
          0.26543594880733284,
          0.7739387807255895,
          0.5189987429384414,
          0.888130675102298,
          0.8404413522659699,
          0.8604278427369398,
          0.40377064344750196,
          0.2154583391868351,
          0.66607830149852,
          0.3717250393155298,
          0.4258012267292421,
          0.06920295072963467,
          0.1654301953151749,
          0.2928651932079143,
          0.10034478595950258,
          0.16821843291816418,
          0.8726242107185324,
          0.0457404979723941,
          0.24996343767509033,
          0.9072010749029378,
          0.8217604485888413,
          0.15680228083018777,
          0.9677590595146406,
          0.8710789362651906,
          0.052672691243608516,
          0.8457074389241511,
          0.2362547719275705,
          0.30863176191225844,
          0.498244205386257,
          0.9808506955842595,
          0.16497494583598948,
          0.9027645588648137,
          0.10031113567816974,
          0.6611235452430386,
          0.8751842558805043,
          0.4639940107205561,
          0.24651566632381033,
          0.44618619653693903,
          0.14744626720723614,
          0.4535021177322158,
          0.6354437941468748,
          0.5384571357774733,
          0.9465656181662574,
          0.33371166368167493,
          0.5566899200699926,
          0.8137168724157819,
          0.7540921389413057,
          0.28237639463355674,
          0.7138127080640428,
          0.45861115993931656,
          0.974475055611208,
          0.17538097177776796,
          0.027531960119475007,
          0.04906352208317366,
          0.11910208224646457,
          0.7356842937664854,
          0.3354713910249758,
          0.8111442642860152,
          0.05341190909341209,
          0.07351904052929303,
          0.7949028442253177,
          0.4360894443303159,
          0.8891126191378798,
          0.5998621632706944,
          0.3708144609377887,
          0.7823249985351538,
          0.22995937493308188,
          0.5121378829690278,
          0.23864038273782928,
          0.663373154205591,
          0.19605574580906932,
          0.6512735607857035,
          0.7045515152862875,
          0.6069200188700424,
          0.8006099907685278,
          0.14560741463947258,
          0.6928888160583849,
          0.6295780240013573,
          0.6254645633122984,
          0.9129799194887604,
          0.3100584573628581,
          0.3772598134691958,
          0.7812284023434715,
          0.3065262955770118,
          0.24621743188112372,
          0.11924580189208711,
          0.05229844952210727,
          0.5292818453437776,
          0.6923809203610793,
          0.1991253927140788,
          0.16037409347201015,
          0,
          0.052596330989814866,
          0.7725818360723016,
          0.7819048906565876
         ]
        },
        {
         "line": {
          "color": "blue"
         },
         "mode": "markers",
         "name": "Test",
         "type": "scatter",
         "x": [
          -1.9999999999999998,
          -1.9922985743484347,
          -1.987805080104512,
          -1.9790815959435524,
          -1.978007158107121,
          -1.9760328625836405,
          -1.9736147608538208,
          -1.9648840204095472,
          -1.9602686991620744,
          -1.929609016136602,
          -1.8964805443969703,
          -1.8617113264346798,
          -1.8379041143874026,
          -1.8358143047929947,
          -1.8061026722819864,
          -1.8048421918742066,
          -1.7995953674299947,
          -1.7768471528776129,
          -1.7215749898171284,
          -1.6984348547008397,
          -1.6628269823982826,
          -1.548224494336501,
          -0.49814351225081444,
          -0.4967727756147251,
          -0.4799146992101535,
          -0.39158402676460224,
          -0.3730394316512131,
          -0.3662009856499131,
          -0.3522979061879712,
          -0.338992395031787,
          -0.31929871344830474,
          -0.29737295442173584,
          -0.28106212977133826,
          -0.2576905994664789,
          -0.2525474081567074,
          -0.244811052118457,
          -0.23312894388902272,
          -0.2324104262412332,
          -0.2315318166312028,
          -0.20854399235767018,
          -0.20581795942702708,
          -0.1939113567581563,
          -0.18532767811772466,
          -0.16652513449157103,
          -0.14661840328321163,
          -0.13349438386087087,
          -0.09627462793899966,
          -0.0654017327587395,
          -0.022453271523063645,
          -0.01530662817821149,
          0.002984420274167121,
          0.05458306197215279,
          0.08334516765533895,
          0.09375581793592813,
          0.1127336907034695,
          0.13002646689891417,
          0.16088615652391347,
          0.18078509984070879,
          0.2143915449599918,
          0.26715986025011906,
          0.2681502768946924,
          0.2968990415810251,
          0.31583005155758936,
          0.3279581012300672,
          0.3447262444172723,
          0.3717242910799805,
          0.40953755205983766,
          0.41328955505306375,
          0.4256828670842969,
          0.4271308731488621,
          0.4325813814318358,
          0.44824567564081486,
          0.46058521735985725,
          0.4844681073968995,
          1.5127015344314803,
          1.5182874165860771,
          1.5361669257598867,
          1.5814996330677324,
          1.587767734523351,
          1.5910505678404334,
          1.5920600140287422,
          1.615916222072077,
          1.65097541371166,
          1.6855409884676673,
          1.7054855756011085,
          1.7461246222444258,
          1.7524857043532402,
          1.7609762668988838,
          1.820541786225419,
          1.847823108978674,
          1.8610495899656803,
          1.9047146049460557,
          1.9408855011762243,
          1.9757808084889787,
          1.9828820111795742,
          2.0000000000000004
         ],
         "y": [
          0.7412802061279751,
          0.6188864477727632,
          0.5868840292470362,
          0.5510820418567143,
          0.566045686610459,
          0.4992839608404852,
          0.5815011461097569,
          0.518568439965898,
          0.6119743905475183,
          0.6034301520169109,
          0.4850212920390259,
          0.5020357420110585,
          0.695692549262953,
          0.5783413435121905,
          0.5347965764015519,
          0.4756751646569448,
          0.34300468303670495,
          0.3970443551888381,
          0.4982521708549501,
          0.5206604608959022,
          0.5290620537072609,
          0.2817260382347204,
          0.7600168827932463,
          0.4903912327604079,
          0.5588963107761143,
          0.742823903959744,
          0.7317862381173915,
          0.8579069895634711,
          0.7410779632308317,
          0.8110541262422072,
          0.5642042190863925,
          0.7015654822708904,
          0.8149350243658628,
          0.786085938112191,
          0.669429587139286,
          0.7718411004300882,
          0.7611277391740809,
          0.8329565619578158,
          0.8406436186947785,
          0.8231099719431956,
          0.7843534457299793,
          0.6466219935650308,
          0.8156928587043513,
          0.6923752551126661,
          0.9029835386588787,
          0.8656617910232816,
          0.7869681431845356,
          0.6831722737918666,
          0.7521897538187775,
          0.697470043013531,
          0.7570712624714885,
          0.8162846624370852,
          0.7895578294203704,
          0.5543885967432646,
          0.5996663356937947,
          0.7281136599434346,
          0.7884131698023787,
          0.6523447127760236,
          0.5776835452242133,
          0.5977398070827018,
          0.5787904012219524,
          0.4797738336353623,
          0.5956064704314037,
          0.4803238892524532,
          0.6304223252967991,
          0.6043469698156977,
          0.5650103139288869,
          0.49634372927007364,
          0.6670999346290339,
          0.5761229251836588,
          0.6356921104856394,
          0.47456043437571555,
          0.6559518561542247,
          0.6023593347645293,
          0.2741066615085257,
          0.4853392430757487,
          0.2877422320208077,
          0.3151131473061068,
          0.5719213904719816,
          0.31619348605854725,
          0.3156008704833616,
          0.3508566761569873,
          0.42580158264567924,
          0.4167817482756584,
          0.3511249106679158,
          0.49346911280680295,
          0.4234247815026051,
          0.5207674387876675,
          0.4996357004070743,
          0.5890924995640759,
          0.6369228685547064,
          0.46314880625038685,
          0.6518319219040506,
          0.639057539745571,
          0.5028786815584457,
          0.5137262174283515
         ]
        }
       ],
       "layout": {
        "autosize": false,
        "height": 1000,
        "hovermode": "x",
        "template": {
         "data": {
          "bar": [
           {
            "error_x": {
             "color": "#2a3f5f"
            },
            "error_y": {
             "color": "#2a3f5f"
            },
            "marker": {
             "line": {
              "color": "#E5ECF6",
              "width": 0.5
             },
             "pattern": {
              "fillmode": "overlay",
              "size": 10,
              "solidity": 0.2
             }
            },
            "type": "bar"
           }
          ],
          "barpolar": [
           {
            "marker": {
             "line": {
              "color": "#E5ECF6",
              "width": 0.5
             },
             "pattern": {
              "fillmode": "overlay",
              "size": 10,
              "solidity": 0.2
             }
            },
            "type": "barpolar"
           }
          ],
          "carpet": [
           {
            "aaxis": {
             "endlinecolor": "#2a3f5f",
             "gridcolor": "white",
             "linecolor": "white",
             "minorgridcolor": "white",
             "startlinecolor": "#2a3f5f"
            },
            "baxis": {
             "endlinecolor": "#2a3f5f",
             "gridcolor": "white",
             "linecolor": "white",
             "minorgridcolor": "white",
             "startlinecolor": "#2a3f5f"
            },
            "type": "carpet"
           }
          ],
          "choropleth": [
           {
            "colorbar": {
             "outlinewidth": 0,
             "ticks": ""
            },
            "type": "choropleth"
           }
          ],
          "contour": [
           {
            "colorbar": {
             "outlinewidth": 0,
             "ticks": ""
            },
            "colorscale": [
             [
              0,
              "#0d0887"
             ],
             [
              0.1111111111111111,
              "#46039f"
             ],
             [
              0.2222222222222222,
              "#7201a8"
             ],
             [
              0.3333333333333333,
              "#9c179e"
             ],
             [
              0.4444444444444444,
              "#bd3786"
             ],
             [
              0.5555555555555556,
              "#d8576b"
             ],
             [
              0.6666666666666666,
              "#ed7953"
             ],
             [
              0.7777777777777778,
              "#fb9f3a"
             ],
             [
              0.8888888888888888,
              "#fdca26"
             ],
             [
              1,
              "#f0f921"
             ]
            ],
            "type": "contour"
           }
          ],
          "contourcarpet": [
           {
            "colorbar": {
             "outlinewidth": 0,
             "ticks": ""
            },
            "type": "contourcarpet"
           }
          ],
          "heatmap": [
           {
            "colorbar": {
             "outlinewidth": 0,
             "ticks": ""
            },
            "colorscale": [
             [
              0,
              "#0d0887"
             ],
             [
              0.1111111111111111,
              "#46039f"
             ],
             [
              0.2222222222222222,
              "#7201a8"
             ],
             [
              0.3333333333333333,
              "#9c179e"
             ],
             [
              0.4444444444444444,
              "#bd3786"
             ],
             [
              0.5555555555555556,
              "#d8576b"
             ],
             [
              0.6666666666666666,
              "#ed7953"
             ],
             [
              0.7777777777777778,
              "#fb9f3a"
             ],
             [
              0.8888888888888888,
              "#fdca26"
             ],
             [
              1,
              "#f0f921"
             ]
            ],
            "type": "heatmap"
           }
          ],
          "heatmapgl": [
           {
            "colorbar": {
             "outlinewidth": 0,
             "ticks": ""
            },
            "colorscale": [
             [
              0,
              "#0d0887"
             ],
             [
              0.1111111111111111,
              "#46039f"
             ],
             [
              0.2222222222222222,
              "#7201a8"
             ],
             [
              0.3333333333333333,
              "#9c179e"
             ],
             [
              0.4444444444444444,
              "#bd3786"
             ],
             [
              0.5555555555555556,
              "#d8576b"
             ],
             [
              0.6666666666666666,
              "#ed7953"
             ],
             [
              0.7777777777777778,
              "#fb9f3a"
             ],
             [
              0.8888888888888888,
              "#fdca26"
             ],
             [
              1,
              "#f0f921"
             ]
            ],
            "type": "heatmapgl"
           }
          ],
          "histogram": [
           {
            "marker": {
             "pattern": {
              "fillmode": "overlay",
              "size": 10,
              "solidity": 0.2
             }
            },
            "type": "histogram"
           }
          ],
          "histogram2d": [
           {
            "colorbar": {
             "outlinewidth": 0,
             "ticks": ""
            },
            "colorscale": [
             [
              0,
              "#0d0887"
             ],
             [
              0.1111111111111111,
              "#46039f"
             ],
             [
              0.2222222222222222,
              "#7201a8"
             ],
             [
              0.3333333333333333,
              "#9c179e"
             ],
             [
              0.4444444444444444,
              "#bd3786"
             ],
             [
              0.5555555555555556,
              "#d8576b"
             ],
             [
              0.6666666666666666,
              "#ed7953"
             ],
             [
              0.7777777777777778,
              "#fb9f3a"
             ],
             [
              0.8888888888888888,
              "#fdca26"
             ],
             [
              1,
              "#f0f921"
             ]
            ],
            "type": "histogram2d"
           }
          ],
          "histogram2dcontour": [
           {
            "colorbar": {
             "outlinewidth": 0,
             "ticks": ""
            },
            "colorscale": [
             [
              0,
              "#0d0887"
             ],
             [
              0.1111111111111111,
              "#46039f"
             ],
             [
              0.2222222222222222,
              "#7201a8"
             ],
             [
              0.3333333333333333,
              "#9c179e"
             ],
             [
              0.4444444444444444,
              "#bd3786"
             ],
             [
              0.5555555555555556,
              "#d8576b"
             ],
             [
              0.6666666666666666,
              "#ed7953"
             ],
             [
              0.7777777777777778,
              "#fb9f3a"
             ],
             [
              0.8888888888888888,
              "#fdca26"
             ],
             [
              1,
              "#f0f921"
             ]
            ],
            "type": "histogram2dcontour"
           }
          ],
          "mesh3d": [
           {
            "colorbar": {
             "outlinewidth": 0,
             "ticks": ""
            },
            "type": "mesh3d"
           }
          ],
          "parcoords": [
           {
            "line": {
             "colorbar": {
              "outlinewidth": 0,
              "ticks": ""
             }
            },
            "type": "parcoords"
           }
          ],
          "pie": [
           {
            "automargin": true,
            "type": "pie"
           }
          ],
          "scatter": [
           {
            "fillpattern": {
             "fillmode": "overlay",
             "size": 10,
             "solidity": 0.2
            },
            "type": "scatter"
           }
          ],
          "scatter3d": [
           {
            "line": {
             "colorbar": {
              "outlinewidth": 0,
              "ticks": ""
             }
            },
            "marker": {
             "colorbar": {
              "outlinewidth": 0,
              "ticks": ""
             }
            },
            "type": "scatter3d"
           }
          ],
          "scattercarpet": [
           {
            "marker": {
             "colorbar": {
              "outlinewidth": 0,
              "ticks": ""
             }
            },
            "type": "scattercarpet"
           }
          ],
          "scattergeo": [
           {
            "marker": {
             "colorbar": {
              "outlinewidth": 0,
              "ticks": ""
             }
            },
            "type": "scattergeo"
           }
          ],
          "scattergl": [
           {
            "marker": {
             "colorbar": {
              "outlinewidth": 0,
              "ticks": ""
             }
            },
            "type": "scattergl"
           }
          ],
          "scattermapbox": [
           {
            "marker": {
             "colorbar": {
              "outlinewidth": 0,
              "ticks": ""
             }
            },
            "type": "scattermapbox"
           }
          ],
          "scatterpolar": [
           {
            "marker": {
             "colorbar": {
              "outlinewidth": 0,
              "ticks": ""
             }
            },
            "type": "scatterpolar"
           }
          ],
          "scatterpolargl": [
           {
            "marker": {
             "colorbar": {
              "outlinewidth": 0,
              "ticks": ""
             }
            },
            "type": "scatterpolargl"
           }
          ],
          "scatterternary": [
           {
            "marker": {
             "colorbar": {
              "outlinewidth": 0,
              "ticks": ""
             }
            },
            "type": "scatterternary"
           }
          ],
          "surface": [
           {
            "colorbar": {
             "outlinewidth": 0,
             "ticks": ""
            },
            "colorscale": [
             [
              0,
              "#0d0887"
             ],
             [
              0.1111111111111111,
              "#46039f"
             ],
             [
              0.2222222222222222,
              "#7201a8"
             ],
             [
              0.3333333333333333,
              "#9c179e"
             ],
             [
              0.4444444444444444,
              "#bd3786"
             ],
             [
              0.5555555555555556,
              "#d8576b"
             ],
             [
              0.6666666666666666,
              "#ed7953"
             ],
             [
              0.7777777777777778,
              "#fb9f3a"
             ],
             [
              0.8888888888888888,
              "#fdca26"
             ],
             [
              1,
              "#f0f921"
             ]
            ],
            "type": "surface"
           }
          ],
          "table": [
           {
            "cells": {
             "fill": {
              "color": "#EBF0F8"
             },
             "line": {
              "color": "white"
             }
            },
            "header": {
             "fill": {
              "color": "#C8D4E3"
             },
             "line": {
              "color": "white"
             }
            },
            "type": "table"
           }
          ]
         },
         "layout": {
          "annotationdefaults": {
           "arrowcolor": "#2a3f5f",
           "arrowhead": 0,
           "arrowwidth": 1
          },
          "autotypenumbers": "strict",
          "coloraxis": {
           "colorbar": {
            "outlinewidth": 0,
            "ticks": ""
           }
          },
          "colorscale": {
           "diverging": [
            [
             0,
             "#8e0152"
            ],
            [
             0.1,
             "#c51b7d"
            ],
            [
             0.2,
             "#de77ae"
            ],
            [
             0.3,
             "#f1b6da"
            ],
            [
             0.4,
             "#fde0ef"
            ],
            [
             0.5,
             "#f7f7f7"
            ],
            [
             0.6,
             "#e6f5d0"
            ],
            [
             0.7,
             "#b8e186"
            ],
            [
             0.8,
             "#7fbc41"
            ],
            [
             0.9,
             "#4d9221"
            ],
            [
             1,
             "#276419"
            ]
           ],
           "sequential": [
            [
             0,
             "#0d0887"
            ],
            [
             0.1111111111111111,
             "#46039f"
            ],
            [
             0.2222222222222222,
             "#7201a8"
            ],
            [
             0.3333333333333333,
             "#9c179e"
            ],
            [
             0.4444444444444444,
             "#bd3786"
            ],
            [
             0.5555555555555556,
             "#d8576b"
            ],
            [
             0.6666666666666666,
             "#ed7953"
            ],
            [
             0.7777777777777778,
             "#fb9f3a"
            ],
            [
             0.8888888888888888,
             "#fdca26"
            ],
            [
             1,
             "#f0f921"
            ]
           ],
           "sequentialminus": [
            [
             0,
             "#0d0887"
            ],
            [
             0.1111111111111111,
             "#46039f"
            ],
            [
             0.2222222222222222,
             "#7201a8"
            ],
            [
             0.3333333333333333,
             "#9c179e"
            ],
            [
             0.4444444444444444,
             "#bd3786"
            ],
            [
             0.5555555555555556,
             "#d8576b"
            ],
            [
             0.6666666666666666,
             "#ed7953"
            ],
            [
             0.7777777777777778,
             "#fb9f3a"
            ],
            [
             0.8888888888888888,
             "#fdca26"
            ],
            [
             1,
             "#f0f921"
            ]
           ]
          },
          "colorway": [
           "#636efa",
           "#EF553B",
           "#00cc96",
           "#ab63fa",
           "#FFA15A",
           "#19d3f3",
           "#FF6692",
           "#B6E880",
           "#FF97FF",
           "#FECB52"
          ],
          "font": {
           "color": "#2a3f5f"
          },
          "geo": {
           "bgcolor": "white",
           "lakecolor": "white",
           "landcolor": "#E5ECF6",
           "showlakes": true,
           "showland": true,
           "subunitcolor": "white"
          },
          "hoverlabel": {
           "align": "left"
          },
          "hovermode": "closest",
          "mapbox": {
           "style": "light"
          },
          "paper_bgcolor": "white",
          "plot_bgcolor": "#E5ECF6",
          "polar": {
           "angularaxis": {
            "gridcolor": "white",
            "linecolor": "white",
            "ticks": ""
           },
           "bgcolor": "#E5ECF6",
           "radialaxis": {
            "gridcolor": "white",
            "linecolor": "white",
            "ticks": ""
           }
          },
          "scene": {
           "xaxis": {
            "backgroundcolor": "#E5ECF6",
            "gridcolor": "white",
            "gridwidth": 2,
            "linecolor": "white",
            "showbackground": true,
            "ticks": "",
            "zerolinecolor": "white"
           },
           "yaxis": {
            "backgroundcolor": "#E5ECF6",
            "gridcolor": "white",
            "gridwidth": 2,
            "linecolor": "white",
            "showbackground": true,
            "ticks": "",
            "zerolinecolor": "white"
           },
           "zaxis": {
            "backgroundcolor": "#E5ECF6",
            "gridcolor": "white",
            "gridwidth": 2,
            "linecolor": "white",
            "showbackground": true,
            "ticks": "",
            "zerolinecolor": "white"
           }
          },
          "shapedefaults": {
           "line": {
            "color": "#2a3f5f"
           }
          },
          "ternary": {
           "aaxis": {
            "gridcolor": "white",
            "linecolor": "white",
            "ticks": ""
           },
           "baxis": {
            "gridcolor": "white",
            "linecolor": "white",
            "ticks": ""
           },
           "bgcolor": "#E5ECF6",
           "caxis": {
            "gridcolor": "white",
            "linecolor": "white",
            "ticks": ""
           }
          },
          "title": {
           "x": 0.05
          },
          "xaxis": {
           "automargin": true,
           "gridcolor": "white",
           "linecolor": "white",
           "ticks": "",
           "title": {
            "standoff": 15
           },
           "zerolinecolor": "white",
           "zerolinewidth": 2
          },
          "yaxis": {
           "automargin": true,
           "gridcolor": "white",
           "linecolor": "white",
           "ticks": "",
           "title": {
            "standoff": 15
           },
           "zerolinecolor": "white",
           "zerolinewidth": 2
          }
         }
        },
        "title": {
         "text": "Snelson1D data"
        },
        "width": 1000,
        "xaxis": {
         "title": {
          "text": "X"
         }
        },
        "yaxis": {
         "title": {
          "text": "y"
         }
        }
       }
      }
     },
     "metadata": {},
     "output_type": "display_data"
    }
   ],
   "source": [
    "train_X = np.concatenate([train_dataloader.dataset.X.numpy(), val_dataloader.dataset.X.numpy()], axis=0).squeeze()\n",
    "train_y = np.concatenate([train_dataloader.dataset.y.numpy(), val_dataloader.dataset.y.numpy()], axis=0).squeeze()\n",
    "test_X = test_dataloader.dataset.X.numpy().squeeze()\n",
    "test_y = test_dataloader.dataset.y.numpy().squeeze()\n",
    "\n",
    "plot_data(train_X, train_y, test_X, test_y, title=\"Snelson1D data\")\n"
   ]
  },
  {
   "attachments": {},
   "cell_type": "markdown",
   "metadata": {},
   "source": [
    "## Subnetwork inference and comparison"
   ]
  },
  {
   "attachments": {},
   "cell_type": "markdown",
   "metadata": {},
   "source": [
    "### Train a MAP model"
   ]
  },
  {
   "cell_type": "code",
   "execution_count": 6,
   "metadata": {},
   "outputs": [
    {
     "name": "stdout",
     "output_type": "stream",
     "text": [
      "Using device: cpu\n",
      "Using model: Sequential(\n",
      "  (0): Linear(in_features=1, out_features=50, bias=True)\n",
      "  (1): ReLU()\n",
      "  (2): Linear(in_features=50, out_features=50, bias=True)\n",
      "  (3): ReLU()\n",
      "  (4): Linear(in_features=50, out_features=1, bias=True)\n",
      ")\n"
     ]
    }
   ],
   "source": [
    "input_size = 1\n",
    "output_size = 1\n",
    "device = get_device()\n",
    "print(f\"Using device: {device}\")\n",
    "model = create_mlp(\n",
    "            input_size=input_size,\n",
    "            hidden_sizes=config.model.hidden_sizes,\n",
    "            output_size=output_size,\n",
    "        )\n",
    "model = model.to(device=device, dtype=torch.float64)\n",
    "print(f\"Using model: {model}\")\n",
    "trainer = ModelTrainer(config.trainer, device=device)"
   ]
  },
  {
   "cell_type": "code",
   "execution_count": 7,
   "metadata": {},
   "outputs": [
    {
     "name": "stdout",
     "output_type": "stream",
     "text": [
      "Using sigma=0.08778076618909836\n"
     ]
    }
   ],
   "source": [
    "map_model, sigma = trainer.train(\n",
    "            model=model,\n",
    "            train_dataloader=train_dataloader,\n",
    "            val_dataloader=val_dataloader,\n",
    "        )\n",
    "print(f\"Using sigma={sigma}\")"
   ]
  },
  {
   "cell_type": "code",
   "execution_count": 8,
   "metadata": {},
   "outputs": [
    {
     "name": "stdout",
     "output_type": "stream",
     "text": [
      "MAP NLL: 2.1785243352013874\n"
     ]
    }
   ],
   "source": [
    "map_nll, map_err = trainer.evaluate(\n",
    "            model=map_model, sigma=sigma, dataloader=test_dataloader\n",
    "        )\n",
    "print(f\"MAP NLL: {map_nll}\")"
   ]
  },
  {
   "cell_type": "code",
   "execution_count": 9,
   "metadata": {},
   "outputs": [],
   "source": [
    "prior_precisions = [0.1, 1.0, 2.0, 5.0]"
   ]
  },
  {
   "cell_type": "code",
   "execution_count": 10,
   "metadata": {},
   "outputs": [],
   "source": [
    "def bayesian_regression(model, train_dataloader, test_dataloader, title):\n",
    "    X_train = train_dataloader.dataset.X.numpy().squeeze()\n",
    "    y_train = train_dataloader.dataset.y.numpy().squeeze()\n",
    "    X_test = test_dataloader.dataset.X.numpy().squeeze()\n",
    "    y_test = test_dataloader.dataset.y.numpy().squeeze()\n",
    "    X_test = np.concatenate([X_train, X_test]).reshape(-1, 1)\n",
    "    X = torch.from_numpy(X_test).to(device=device, dtype=torch.float64)\n",
    "    f_mu, f_var = model(x=X)\n",
    "    f_mu = f_mu.detach().squeeze().cpu().numpy()\n",
    "    pred_std = torch.sqrt(f_var.squeeze() + model.sigma_noise**2).detach().cpu().numpy()\n",
    "    return plot_bayesian_regression(X_train=X_train, y_train=y_train, X_test=X.squeeze().detach().cpu().numpy(), y_test=f_mu, y_std=pred_std, title=title)\n"
   ]
  },
  {
   "attachments": {},
   "cell_type": "markdown",
   "metadata": {},
   "source": [
    "### Last layer diagonal approximation"
   ]
  },
  {
   "cell_type": "code",
   "execution_count": 11,
   "metadata": {},
   "outputs": [
    {
     "name": "stdout",
     "output_type": "stream",
     "text": [
      "Last layer diag covariance approximation NLL: 0.8896953326786995\n"
     ]
    }
   ],
   "source": [
    "model_copy = copy.deepcopy(map_model)\n",
    "\n",
    "last_layer_diag_la, prior_precision = trainer.train_la_posthoc(\n",
    "            model=model_copy,\n",
    "            dataloader=train_dataloader,\n",
    "            subset_of_weights=\"last_layer\",\n",
    "            hessian_structure=\"diag\",\n",
    "            sigma_noise=sigma,\n",
    "            prior_mean=config.trainer.la.prior_mean,\n",
    "            prior_precisions=prior_precisions,\n",
    "            val_dataloader=val_dataloader,\n",
    "        )\n",
    "last_layer_diag_la_nll = trainer.evaluate_la(last_layer_diag_la, test_dataloader)\n",
    "print(f\"Last layer diag covariance approximation NLL: {last_layer_diag_la_nll}\")"
   ]
  },
  {
   "cell_type": "code",
   "execution_count": 12,
   "metadata": {},
   "outputs": [
    {
     "data": {
      "application/vnd.plotly.v1+json": {
       "config": {
        "plotlyServerURL": "https://plot.ly"
       },
       "data": [
        {
         "mode": "markers",
         "name": "Training data",
         "type": "scatter",
         "x": [
          -1.337305284443211,
          -0.6505575615004684,
          -1.1706828703822998,
          -1.0048781172148298,
          1.0565193525847998,
          -0.9341019618420752,
          -0.5349868759873495,
          0.9594500563170882,
          -1.2322372817727305,
          -0.8098621340437078,
          0.5148387174316689,
          0.5803617706424027,
          1.1427894843640654,
          0.5637229064551632,
          0.9557879865412287,
          -0.6062782511776712,
          -1.2161835929855433,
          0.7052427112184918,
          1.3887819582783902,
          -0.6537149081821738,
          -0.9513328412297837,
          -1.475720842401142,
          -0.8007836872661649,
          -1.23092160214396,
          -1.333469104500295,
          0.8426891778105761,
          -1.014792238617606,
          -0.8628407901268635,
          0.9943063564512253,
          0.8153374931500585,
          -1.3238558665950806,
          0.7821298557996577,
          0.7319730575737817,
          -0.9371114063048578,
          0.9159809576001492,
          -1.097824842292453,
          -1.346095376070491,
          -0.5465489152451033,
          0.7744184887352086,
          -1.2166625144563414,
          0.912415999446055,
          -1.267748780610201,
          1.2984139733996534,
          0.8010081112759737,
          1.3669482995346671,
          -0.8262832758711316,
          0.5256736385005145,
          -1.4159281942961977,
          1.3397244040165979,
          -0.5026456585036609,
          1.3699639743107008,
          0.8687408940670442,
          1.454371310148614,
          1.297511932394134,
          0.6425992139834094,
          1.1894860885075835,
          -1.2326131999124934,
          0.7281290220185053,
          -0.5347297401241398,
          0.9852863527208116,
          -1.269458730714507,
          -1.1905681340982608,
          -0.8023330713626566,
          -1.2644494911396391,
          1.0494825523714,
          -1.4853594349724577,
          1.165271637452297,
          -1.1984372906178793,
          -1.2541102185782558,
          0.7263760692086061,
          1.4285434111236208,
          0.8758575370991757,
          1.1870057466255908,
          1.3654140171757305,
          0.6909921563511956,
          -1.4965170862677222,
          1.4770925176474674,
          -0.8844463652289509,
          1.264028061915992,
          -0.7695520750283793,
          0.6475361954687213,
          0.5193214955367993,
          1.3983383784355845,
          0.7356005220227777,
          -1.1219786155143354,
          0.574599678976067,
          0.5625489664528609,
          1.2835634799987314
         ],
         "y": [
          0.22704033068578572,
          0.48213400083255037,
          0.20785458160346182,
          0.00026943756731534485,
          0.706442008093481,
          0.07158809090658802,
          0.42623770676391837,
          1,
          0.21982861064577247,
          0.26543594880733284,
          0.7739387807255895,
          0.5189987429384414,
          0.888130675102298,
          0.8404413522659699,
          0.8604278427369398,
          0.40377064344750196,
          0.2154583391868351,
          0.66607830149852,
          0.3717250393155298,
          0.4258012267292421,
          0.06920295072963467,
          0.1654301953151749,
          0.2928651932079143,
          0.10034478595950258,
          0.16821843291816418,
          0.8726242107185324,
          0.0457404979723941,
          0.24996343767509033,
          0.9072010749029378,
          0.8217604485888413,
          0.15680228083018777,
          0.9677590595146406,
          0.8710789362651906,
          0.052672691243608516,
          0.8457074389241511,
          0.2362547719275705,
          0.30863176191225844,
          0.498244205386257,
          0.9808506955842595,
          0.16497494583598948,
          0.9027645588648137,
          0.10031113567816974,
          0.6611235452430386,
          0.8751842558805043,
          0.4639940107205561,
          0.24651566632381033,
          0.44618619653693903,
          0.14744626720723614,
          0.4535021177322158,
          0.6354437941468748,
          0.5384571357774733,
          0.9465656181662574,
          0.33371166368167493,
          0.5566899200699926,
          0.8137168724157819,
          0.7540921389413057,
          0.28237639463355674,
          0.7138127080640428,
          0.45861115993931656,
          0.974475055611208,
          0.17538097177776796,
          0.027531960119475007,
          0.04906352208317366,
          0.11910208224646457,
          0.7356842937664854,
          0.3354713910249758,
          0.8111442642860152,
          0.05341190909341209,
          0.07351904052929303,
          0.7949028442253177,
          0.4360894443303159,
          0.8891126191378798,
          0.5998621632706944,
          0.3708144609377887,
          0.7823249985351538,
          0.22995937493308188,
          0.5121378829690278,
          0.23864038273782928,
          0.663373154205591,
          0.19605574580906932,
          0.6512735607857035,
          0.7045515152862875,
          0.6069200188700424,
          0.8006099907685278,
          0.14560741463947258,
          0.6928888160583849,
          0.6295780240013573,
          0.6254645633122984
         ]
        },
        {
         "line": {
          "color": "rgb(31, 119, 180)"
         },
         "mode": "lines",
         "name": "MAP",
         "type": "scatter",
         "x": [
          -1.9999999999999998,
          -1.9922985743484347,
          -1.987805080104512,
          -1.9790815959435524,
          -1.978007158107121,
          -1.9760328625836405,
          -1.9736147608538208,
          -1.9648840204095472,
          -1.9602686991620744,
          -1.929609016136602,
          -1.8964805443969703,
          -1.8617113264346798,
          -1.8379041143874026,
          -1.8358143047929947,
          -1.8061026722819864,
          -1.8048421918742066,
          -1.7995953674299947,
          -1.7768471528776129,
          -1.7215749898171284,
          -1.6984348547008397,
          -1.6628269823982826,
          -1.548224494336501,
          -1.4965170862677222,
          -1.4853594349724577,
          -1.475720842401142,
          -1.4159281942961977,
          -1.346095376070491,
          -1.337305284443211,
          -1.333469104500295,
          -1.3238558665950806,
          -1.269458730714507,
          -1.267748780610201,
          -1.2644494911396391,
          -1.2541102185782558,
          -1.2326131999124934,
          -1.2322372817727305,
          -1.23092160214396,
          -1.2166625144563414,
          -1.2161835929855433,
          -1.1984372906178793,
          -1.1905681340982608,
          -1.1706828703822998,
          -1.1219786155143354,
          -1.097824842292453,
          -1.014792238617606,
          -1.0048781172148298,
          -0.9513328412297837,
          -0.9371114063048578,
          -0.9341019618420752,
          -0.8844463652289509,
          -0.8628407901268635,
          -0.8262832758711316,
          -0.8098621340437078,
          -0.8023330713626566,
          -0.8007836872661649,
          -0.7695520750283793,
          -0.6537149081821738,
          -0.6505575615004684,
          -0.6062782511776712,
          -0.5465489152451033,
          -0.5349868759873495,
          -0.5347297401241398,
          -0.5026456585036609,
          -0.49814351225081444,
          -0.4967727756147251,
          -0.4799146992101535,
          -0.39158402676460224,
          -0.3730394316512131,
          -0.3662009856499131,
          -0.3522979061879712,
          -0.338992395031787,
          -0.31929871344830474,
          -0.29737295442173584,
          -0.28106212977133826,
          -0.2576905994664789,
          -0.2525474081567074,
          -0.244811052118457,
          -0.23312894388902272,
          -0.2324104262412332,
          -0.2315318166312028,
          -0.20854399235767018,
          -0.20581795942702708,
          -0.1939113567581563,
          -0.18532767811772466,
          -0.16652513449157103,
          -0.14661840328321163,
          -0.13349438386087087,
          -0.09627462793899966,
          -0.0654017327587395,
          -0.022453271523063645,
          -0.01530662817821149,
          0.002984420274167121,
          0.05458306197215279,
          0.08334516765533895,
          0.09375581793592813,
          0.1127336907034695,
          0.13002646689891417,
          0.16088615652391347,
          0.18078509984070879,
          0.2143915449599918,
          0.26715986025011906,
          0.2681502768946924,
          0.2968990415810251,
          0.31583005155758936,
          0.3279581012300672,
          0.3447262444172723,
          0.3717242910799805,
          0.40953755205983766,
          0.41328955505306375,
          0.4256828670842969,
          0.4271308731488621,
          0.4325813814318358,
          0.44824567564081486,
          0.46058521735985725,
          0.4844681073968995,
          0.5148387174316689,
          0.5193214955367993,
          0.5256736385005145,
          0.5625489664528609,
          0.5637229064551632,
          0.574599678976067,
          0.5803617706424027,
          0.6425992139834094,
          0.6475361954687213,
          0.6909921563511956,
          0.7052427112184918,
          0.7263760692086061,
          0.7281290220185053,
          0.7319730575737817,
          0.7356005220227777,
          0.7744184887352086,
          0.7821298557996577,
          0.8010081112759737,
          0.8153374931500585,
          0.8426891778105761,
          0.8687408940670442,
          0.8758575370991757,
          0.912415999446055,
          0.9159809576001492,
          0.9557879865412287,
          0.9594500563170882,
          0.9852863527208116,
          0.9943063564512253,
          1.0494825523714,
          1.0565193525847998,
          1.1427894843640654,
          1.165271637452297,
          1.1870057466255908,
          1.1894860885075835,
          1.264028061915992,
          1.2835634799987314,
          1.297511932394134,
          1.2984139733996534,
          1.3397244040165979,
          1.3654140171757305,
          1.3669482995346671,
          1.3699639743107008,
          1.3887819582783902,
          1.3983383784355845,
          1.4285434111236208,
          1.454371310148614,
          1.4770925176474674,
          1.5127015344314803,
          1.5182874165860771,
          1.5361669257598867,
          1.5814996330677324,
          1.587767734523351,
          1.5910505678404334,
          1.5920600140287422,
          1.615916222072077,
          1.65097541371166,
          1.6855409884676673,
          1.7054855756011085,
          1.7461246222444258,
          1.7524857043532402,
          1.7609762668988838,
          1.820541786225419,
          1.847823108978674,
          1.8610495899656803,
          1.9047146049460557,
          1.9408855011762243,
          1.9757808084889787,
          1.9828820111795742,
          2.0000000000000004
         ],
         "y": [
          0.3828515504971871,
          0.3804651191411784,
          0.3790727255705719,
          0.3763695901931463,
          0.3760366554536647,
          0.3754248829122647,
          0.37467558868400863,
          0.37197020481093934,
          0.3705400608556076,
          0.3613495132703406,
          0.35258283071074653,
          0.34161728725947704,
          0.33431036890411403,
          0.3336689637679615,
          0.32461050001373215,
          0.3242554893960382,
          0.3227777366476612,
          0.3158939608383281,
          0.2964685626714928,
          0.28803284642463206,
          0.2751888801788961,
          0.2331405992962063,
          0.21490943326799322,
          0.21110841140856443,
          0.20782487976842007,
          0.18745110117540148,
          0.16342192787035056,
          0.16039729503373054,
          0.1590772819650936,
          0.15576940802392625,
          0.13705158682490254,
          0.1364632003263575,
          0.13532792896704582,
          0.13209523566369666,
          0.1253833514589022,
          0.1252659808102648,
          0.12485519411206186,
          0.12040316534875567,
          0.12025363459264633,
          0.11471281386736422,
          0.11225743558987188,
          0.10665751835208648,
          0.09294184425872797,
          0.08592601096988549,
          0.06006598965454604,
          0.0569782942258609,
          0.05809939311504714,
          0.06285059749900067,
          0.06393891454315574,
          0.10972533721054793,
          0.1314061769338698,
          0.1680910419983966,
          0.18456938808972165,
          0.19212467881831435,
          0.19367946030907202,
          0.22501987018147324,
          0.3452911078682709,
          0.34855778955205735,
          0.39046260304503266,
          0.44558690799301137,
          0.45349727149168995,
          0.45367319531457195,
          0.4756240590403684,
          0.47831005253611325,
          0.47893035298849174,
          0.4863924047788363,
          0.508558990002783,
          0.5117707248014517,
          0.5129550739261913,
          0.515362945537491,
          0.5176673244108555,
          0.521078069270413,
          0.5248753871855404,
          0.5277002557148534,
          0.5317479664747428,
          0.5326387147712033,
          0.533978572759529,
          0.5360017947976957,
          0.5361262347285086,
          0.5362784009549333,
          0.5402596577423452,
          0.5407317788521417,
          0.542793881038343,
          0.5442804866623265,
          0.5475368955134426,
          0.5509845383958407,
          0.5530914928621226,
          0.5567417969353767,
          0.5597696366467981,
          0.5639817798784109,
          0.564682682414327,
          0.5664765654481104,
          0.5714080822785755,
          0.5740615722531198,
          0.5750220219660968,
          0.5768170856867436,
          0.5783190495001687,
          0.5807064183977246,
          0.58224584147508,
          0.5848457050125994,
          0.5889279701368094,
          0.5890045908002576,
          0.5912286542140293,
          0.5926931959824843,
          0.5936314467856498,
          0.5949286647421929,
          0.5970172890180865,
          0.5999426004607962,
          0.6002328631095271,
          0.6011916351529473,
          0.6013036558726637,
          0.6017253183750663,
          0.6029371403101251,
          0.6038917525718852,
          0.6057393819405227,
          0.6105971395054904,
          0.6118808458351531,
          0.6137694169007777,
          0.6398015951350524,
          0.6406369412148509,
          0.6483765780518074,
          0.6524767370680029,
          0.6977311561827144,
          0.7013638605637807,
          0.7333394026943051,
          0.7438251728461819,
          0.7593754118709247,
          0.7606652606117532,
          0.7634937591273285,
          0.7661629014028737,
          0.7947257384643183,
          0.8003998770047154,
          0.8140886014628321,
          0.8244021753137188,
          0.8416912526449185,
          0.8535764401618756,
          0.8553422309724009,
          0.8644488793466477,
          0.8653389767029953,
          0.8752143965810923,
          0.8749943834884196,
          0.8514505800448037,
          0.8432164639726132,
          0.7928476154435692,
          0.7864144021273157,
          0.706529308851569,
          0.6804228069920147,
          0.6551644091242655,
          0.6522818680638572,
          0.5656525607761999,
          0.5429493821682188,
          0.5267391221831741,
          0.525690810958234,
          0.47768473122833865,
          0.4492527469162473,
          0.44783983298651275,
          0.4450627112437062,
          0.4280866633628847,
          0.4194735252236027,
          0.39224992948752224,
          0.36897141530643274,
          0.3484929416039565,
          0.31618407906302604,
          0.31110917062704824,
          0.2948652060345198,
          0.25367934991097585,
          0.24798462881334132,
          0.24500209569973816,
          0.24408498953191493,
          0.22647918249043478,
          0.20324614073592728,
          0.18167557757491204,
          0.16952605402308707,
          0.1451082593298324,
          0.14128623076889654,
          0.1367304563458974,
          0.10780128211316317,
          0.09455156737632245,
          0.08812786491749751,
          0.06692108555043684,
          0.04948755729564043,
          0.032857163092404384,
          0.029754981822857213,
          0.02227693808790346
         ]
        },
        {
         "line": {
          "width": 0
         },
         "marker": {
          "color": "#444"
         },
         "mode": "lines",
         "name": "Upper Bound",
         "showlegend": false,
         "type": "scatter",
         "x": [
          -1.9999999999999998,
          -1.9922985743484347,
          -1.987805080104512,
          -1.9790815959435524,
          -1.978007158107121,
          -1.9760328625836405,
          -1.9736147608538208,
          -1.9648840204095472,
          -1.9602686991620744,
          -1.929609016136602,
          -1.8964805443969703,
          -1.8617113264346798,
          -1.8379041143874026,
          -1.8358143047929947,
          -1.8061026722819864,
          -1.8048421918742066,
          -1.7995953674299947,
          -1.7768471528776129,
          -1.7215749898171284,
          -1.6984348547008397,
          -1.6628269823982826,
          -1.548224494336501,
          -1.4965170862677222,
          -1.4853594349724577,
          -1.475720842401142,
          -1.4159281942961977,
          -1.346095376070491,
          -1.337305284443211,
          -1.333469104500295,
          -1.3238558665950806,
          -1.269458730714507,
          -1.267748780610201,
          -1.2644494911396391,
          -1.2541102185782558,
          -1.2326131999124934,
          -1.2322372817727305,
          -1.23092160214396,
          -1.2166625144563414,
          -1.2161835929855433,
          -1.1984372906178793,
          -1.1905681340982608,
          -1.1706828703822998,
          -1.1219786155143354,
          -1.097824842292453,
          -1.014792238617606,
          -1.0048781172148298,
          -0.9513328412297837,
          -0.9371114063048578,
          -0.9341019618420752,
          -0.8844463652289509,
          -0.8628407901268635,
          -0.8262832758711316,
          -0.8098621340437078,
          -0.8023330713626566,
          -0.8007836872661649,
          -0.7695520750283793,
          -0.6537149081821738,
          -0.6505575615004684,
          -0.6062782511776712,
          -0.5465489152451033,
          -0.5349868759873495,
          -0.5347297401241398,
          -0.5026456585036609,
          -0.49814351225081444,
          -0.4967727756147251,
          -0.4799146992101535,
          -0.39158402676460224,
          -0.3730394316512131,
          -0.3662009856499131,
          -0.3522979061879712,
          -0.338992395031787,
          -0.31929871344830474,
          -0.29737295442173584,
          -0.28106212977133826,
          -0.2576905994664789,
          -0.2525474081567074,
          -0.244811052118457,
          -0.23312894388902272,
          -0.2324104262412332,
          -0.2315318166312028,
          -0.20854399235767018,
          -0.20581795942702708,
          -0.1939113567581563,
          -0.18532767811772466,
          -0.16652513449157103,
          -0.14661840328321163,
          -0.13349438386087087,
          -0.09627462793899966,
          -0.0654017327587395,
          -0.022453271523063645,
          -0.01530662817821149,
          0.002984420274167121,
          0.05458306197215279,
          0.08334516765533895,
          0.09375581793592813,
          0.1127336907034695,
          0.13002646689891417,
          0.16088615652391347,
          0.18078509984070879,
          0.2143915449599918,
          0.26715986025011906,
          0.2681502768946924,
          0.2968990415810251,
          0.31583005155758936,
          0.3279581012300672,
          0.3447262444172723,
          0.3717242910799805,
          0.40953755205983766,
          0.41328955505306375,
          0.4256828670842969,
          0.4271308731488621,
          0.4325813814318358,
          0.44824567564081486,
          0.46058521735985725,
          0.4844681073968995,
          0.5148387174316689,
          0.5193214955367993,
          0.5256736385005145,
          0.5625489664528609,
          0.5637229064551632,
          0.574599678976067,
          0.5803617706424027,
          0.6425992139834094,
          0.6475361954687213,
          0.6909921563511956,
          0.7052427112184918,
          0.7263760692086061,
          0.7281290220185053,
          0.7319730575737817,
          0.7356005220227777,
          0.7744184887352086,
          0.7821298557996577,
          0.8010081112759737,
          0.8153374931500585,
          0.8426891778105761,
          0.8687408940670442,
          0.8758575370991757,
          0.912415999446055,
          0.9159809576001492,
          0.9557879865412287,
          0.9594500563170882,
          0.9852863527208116,
          0.9943063564512253,
          1.0494825523714,
          1.0565193525847998,
          1.1427894843640654,
          1.165271637452297,
          1.1870057466255908,
          1.1894860885075835,
          1.264028061915992,
          1.2835634799987314,
          1.297511932394134,
          1.2984139733996534,
          1.3397244040165979,
          1.3654140171757305,
          1.3669482995346671,
          1.3699639743107008,
          1.3887819582783902,
          1.3983383784355845,
          1.4285434111236208,
          1.454371310148614,
          1.4770925176474674,
          1.5127015344314803,
          1.5182874165860771,
          1.5361669257598867,
          1.5814996330677324,
          1.587767734523351,
          1.5910505678404334,
          1.5920600140287422,
          1.615916222072077,
          1.65097541371166,
          1.6855409884676673,
          1.7054855756011085,
          1.7461246222444258,
          1.7524857043532402,
          1.7609762668988838,
          1.820541786225419,
          1.847823108978674,
          1.8610495899656803,
          1.9047146049460557,
          1.9408855011762243,
          1.9757808084889787,
          1.9828820111795742,
          2.0000000000000004
         ],
         "y": [
          0.5607601942145516,
          0.5566932032612143,
          0.5543305243368588,
          0.5497658634120226,
          0.5492057094967702,
          0.5481776118808542,
          0.5469205261617387,
          0.5424014660695138,
          0.5400252956861631,
          0.5247837297399067,
          0.5099666649826482,
          0.4930365241773292,
          0.48205138193794206,
          0.4811043675063694,
          0.4680191173269026,
          0.46750649540607414,
          0.4653833054408051,
          0.4558937781376089,
          0.4311551501533979,
          0.4207950900883194,
          0.4053446150917491,
          0.3559446768985045,
          0.3346726129281874,
          0.3302385313798136,
          0.32641491570384307,
          0.30283730407248693,
          0.27543260069547004,
          0.2720103139572059,
          0.2705187309588267,
          0.2667862309215898,
          0.24581270532324384,
          0.24515756603517863,
          0.24389422883024847,
          0.24023311930217178,
          0.2326167954920321,
          0.23248409984118665,
          0.23201981108550998,
          0.22700139586720358,
          0.22683327214542787,
          0.22062344645830081,
          0.21788392296129247,
          0.21158328244387636,
          0.19635512024393176,
          0.18868801992372866,
          0.16109372852972087,
          0.1578628014871201,
          0.15823894428502971,
          0.16276583364870795,
          0.16380723098194344,
          0.20886333950096486,
          0.23025568458630072,
          0.2664936630934009,
          0.28278831179271213,
          0.29026293413484827,
          0.2918013933193433,
          0.3228331228718331,
          0.44234550012850293,
          0.44560058358534277,
          0.4874036608099092,
          0.5425358497990382,
          0.5504724094969753,
          0.5506489596617544,
          0.5726928940629595,
          0.5753887339046053,
          0.5760093339129954,
          0.5834780086803674,
          0.605538952731885,
          0.6087176712570398,
          0.609890625290003,
          0.6122766263255569,
          0.6145617031869716,
          0.61794680431839,
          0.621719682894385,
          0.6245291821431898,
          0.628559053763896,
          0.6294465380854481,
          0.6307819361362997,
          0.632799447539223,
          0.6329235764568927,
          0.6330753687090704,
          0.637049318078197,
          0.6375208891575719,
          0.6395813757474161,
          0.6410676109594277,
          0.6443255339250177,
          0.6477782596879587,
          0.6498839387732835,
          0.6534466112492872,
          0.6564109017188913,
          0.6605484549268195,
          0.661238508051964,
          0.6630066560138965,
          0.6678812244357506,
          0.6705126351840885,
          0.6714667786270395,
          0.673252736814299,
          0.6747455733009268,
          0.6771186535166348,
          0.67865486473817,
          0.6812599899800057,
          0.6853775961697173,
          0.685455196322842,
          0.6877127642436766,
          0.6892047210964449,
          0.6901627669753089,
          0.6914902218576167,
          0.6936345175129063,
          0.696652268519597,
          0.6969526224809488,
          0.69794590477613,
          0.6980620754730353,
          0.6984995801225318,
          0.6997588738885618,
          0.7007529097567886,
          0.7026819101592936,
          0.7075993093453119,
          0.7088922091966442,
          0.7107943347004102,
          0.737106602672743,
          0.7379515256458234,
          0.7457817071159892,
          0.7499311572281051,
          0.7957839626920374,
          0.799470101858492,
          0.8319546167604868,
          0.8426222889247793,
          0.8584557840661864,
          0.8597698486816387,
          0.862651834996229,
          0.8653719359652835,
          0.8945093387639342,
          0.9003039397271249,
          0.9142961276788194,
          0.9248477378187304,
          0.9426084419341676,
          0.9548971563168683,
          0.9567373020191808,
          0.9662592804168683,
          0.9671959821489139,
          0.9776734989333774,
          0.977478308916403,
          0.9534338262180033,
          0.9450374354357746,
          0.8938247631132694,
          0.8873025273808646,
          0.8066756562469587,
          0.7803953211313271,
          0.7550196122398183,
          0.7521268795751828,
          0.6654976356194229,
          0.6428924950054951,
          0.6267770534932631,
          0.6257355844385417,
          0.5781347329529338,
          0.5500407998134555,
          0.5486497849017371,
          0.5459161706449908,
          0.5292242621081299,
          0.5207635198743731,
          0.4940571416194221,
          0.47126324073175013,
          0.4512429058445851,
          0.4197168248526776,
          0.4147756504065117,
          0.39898636139309984,
          0.35913193122080134,
          0.3536410807396784,
          0.350767208095218,
          0.3498837739605462,
          0.3331104663450649,
          0.3112391283539223,
          0.2911249204986679,
          0.2798833232245368,
          0.2576089519623276,
          0.25415791354705,
          0.2501118373551919,
          0.2252005320578566,
          0.21403518474753475,
          0.20867384206236145,
          0.1912013372690637,
          0.17702706790158645,
          0.1636382267760089,
          0.1612142274397663,
          0.15539536451333577
         ]
        },
        {
         "fill": "tonexty",
         "fillcolor": "rgba(68, 68, 68, 0.3)",
         "line": {
          "width": 0
         },
         "marker": {
          "color": "#444"
         },
         "mode": "lines",
         "name": "Lower Bound",
         "showlegend": false,
         "type": "scatter",
         "x": [
          -1.9999999999999998,
          -1.9922985743484347,
          -1.987805080104512,
          -1.9790815959435524,
          -1.978007158107121,
          -1.9760328625836405,
          -1.9736147608538208,
          -1.9648840204095472,
          -1.9602686991620744,
          -1.929609016136602,
          -1.8964805443969703,
          -1.8617113264346798,
          -1.8379041143874026,
          -1.8358143047929947,
          -1.8061026722819864,
          -1.8048421918742066,
          -1.7995953674299947,
          -1.7768471528776129,
          -1.7215749898171284,
          -1.6984348547008397,
          -1.6628269823982826,
          -1.548224494336501,
          -1.4965170862677222,
          -1.4853594349724577,
          -1.475720842401142,
          -1.4159281942961977,
          -1.346095376070491,
          -1.337305284443211,
          -1.333469104500295,
          -1.3238558665950806,
          -1.269458730714507,
          -1.267748780610201,
          -1.2644494911396391,
          -1.2541102185782558,
          -1.2326131999124934,
          -1.2322372817727305,
          -1.23092160214396,
          -1.2166625144563414,
          -1.2161835929855433,
          -1.1984372906178793,
          -1.1905681340982608,
          -1.1706828703822998,
          -1.1219786155143354,
          -1.097824842292453,
          -1.014792238617606,
          -1.0048781172148298,
          -0.9513328412297837,
          -0.9371114063048578,
          -0.9341019618420752,
          -0.8844463652289509,
          -0.8628407901268635,
          -0.8262832758711316,
          -0.8098621340437078,
          -0.8023330713626566,
          -0.8007836872661649,
          -0.7695520750283793,
          -0.6537149081821738,
          -0.6505575615004684,
          -0.6062782511776712,
          -0.5465489152451033,
          -0.5349868759873495,
          -0.5347297401241398,
          -0.5026456585036609,
          -0.49814351225081444,
          -0.4967727756147251,
          -0.4799146992101535,
          -0.39158402676460224,
          -0.3730394316512131,
          -0.3662009856499131,
          -0.3522979061879712,
          -0.338992395031787,
          -0.31929871344830474,
          -0.29737295442173584,
          -0.28106212977133826,
          -0.2576905994664789,
          -0.2525474081567074,
          -0.244811052118457,
          -0.23312894388902272,
          -0.2324104262412332,
          -0.2315318166312028,
          -0.20854399235767018,
          -0.20581795942702708,
          -0.1939113567581563,
          -0.18532767811772466,
          -0.16652513449157103,
          -0.14661840328321163,
          -0.13349438386087087,
          -0.09627462793899966,
          -0.0654017327587395,
          -0.022453271523063645,
          -0.01530662817821149,
          0.002984420274167121,
          0.05458306197215279,
          0.08334516765533895,
          0.09375581793592813,
          0.1127336907034695,
          0.13002646689891417,
          0.16088615652391347,
          0.18078509984070879,
          0.2143915449599918,
          0.26715986025011906,
          0.2681502768946924,
          0.2968990415810251,
          0.31583005155758936,
          0.3279581012300672,
          0.3447262444172723,
          0.3717242910799805,
          0.40953755205983766,
          0.41328955505306375,
          0.4256828670842969,
          0.4271308731488621,
          0.4325813814318358,
          0.44824567564081486,
          0.46058521735985725,
          0.4844681073968995,
          0.5148387174316689,
          0.5193214955367993,
          0.5256736385005145,
          0.5625489664528609,
          0.5637229064551632,
          0.574599678976067,
          0.5803617706424027,
          0.6425992139834094,
          0.6475361954687213,
          0.6909921563511956,
          0.7052427112184918,
          0.7263760692086061,
          0.7281290220185053,
          0.7319730575737817,
          0.7356005220227777,
          0.7744184887352086,
          0.7821298557996577,
          0.8010081112759737,
          0.8153374931500585,
          0.8426891778105761,
          0.8687408940670442,
          0.8758575370991757,
          0.912415999446055,
          0.9159809576001492,
          0.9557879865412287,
          0.9594500563170882,
          0.9852863527208116,
          0.9943063564512253,
          1.0494825523714,
          1.0565193525847998,
          1.1427894843640654,
          1.165271637452297,
          1.1870057466255908,
          1.1894860885075835,
          1.264028061915992,
          1.2835634799987314,
          1.297511932394134,
          1.2984139733996534,
          1.3397244040165979,
          1.3654140171757305,
          1.3669482995346671,
          1.3699639743107008,
          1.3887819582783902,
          1.3983383784355845,
          1.4285434111236208,
          1.454371310148614,
          1.4770925176474674,
          1.5127015344314803,
          1.5182874165860771,
          1.5361669257598867,
          1.5814996330677324,
          1.587767734523351,
          1.5910505678404334,
          1.5920600140287422,
          1.615916222072077,
          1.65097541371166,
          1.6855409884676673,
          1.7054855756011085,
          1.7461246222444258,
          1.7524857043532402,
          1.7609762668988838,
          1.820541786225419,
          1.847823108978674,
          1.8610495899656803,
          1.9047146049460557,
          1.9408855011762243,
          1.9757808084889787,
          1.9828820111795742,
          2.0000000000000004
         ],
         "y": [
          0.20494290677982266,
          0.20423703502114252,
          0.20381492680428506,
          0.20297331697426996,
          0.20286760141055932,
          0.20267215394367524,
          0.20243065120627854,
          0.20153894355236496,
          0.20105482602505212,
          0.19791529680077452,
          0.19519899643884484,
          0.1901980503416249,
          0.18656935587028603,
          0.1862335600295536,
          0.18120188270056173,
          0.18100448338600225,
          0.1801721678545173,
          0.17589414353904728,
          0.1617819751895877,
          0.15527060276094476,
          0.14503314526604308,
          0.11033652169390809,
          0.09514625360779905,
          0.09197829143731524,
          0.08923484383299708,
          0.07206489827831604,
          0.0514112550452311,
          0.04878427611025521,
          0.04763583297136047,
          0.04475258512626268,
          0.02829046832656125,
          0.02776883461753636,
          0.026761629103843165,
          0.02395735202522155,
          0.0181499074257723,
          0.01804786177934295,
          0.017690577138613744,
          0.013804934830307744,
          0.013673997039864813,
          0.008802181276427623,
          0.0066309482184512825,
          0.0017317542602965919,
          -0.010471431726475827,
          -0.016835997983957685,
          -0.04096174922062877,
          -0.043906213035398295,
          -0.042040158054935425,
          -0.0370646386507066,
          -0.03592940189563196,
          0.010587334920130989,
          0.03255666928143888,
          0.06968842090339235,
          0.08635046438673115,
          0.09398642350178044,
          0.09555752729880077,
          0.1272066174911134,
          0.24823671560803884,
          0.25151499551877193,
          0.2935215452801561,
          0.3486379661869845,
          0.3565221334864046,
          0.3566974309673895,
          0.3785552240177773,
          0.3812313711676212,
          0.3818513720639881,
          0.3893068008773052,
          0.4115790272736811,
          0.4148237783458636,
          0.4160195225623796,
          0.41844926474942495,
          0.42077294563473944,
          0.42420933422243606,
          0.4280310914766958,
          0.43087132928651695,
          0.43493687918558954,
          0.4358308914569584,
          0.43717520938275817,
          0.43920414205616837,
          0.43932889300012457,
          0.4394814332007962,
          0.4434699974064934,
          0.44394266854671155,
          0.44600638632926987,
          0.4474933623652254,
          0.4507482571018676,
          0.45419081710372283,
          0.45629904695096163,
          0.46003698262146625,
          0.463128371574705,
          0.46741510483000237,
          0.4681268567766899,
          0.4699464748823243,
          0.4749349401214005,
          0.4776105093221511,
          0.47857726530515404,
          0.48038143455918825,
          0.4818925256994106,
          0.48429418327881446,
          0.4858368182119899,
          0.4884314200451931,
          0.4924783441039015,
          0.49255398527767313,
          0.494744544184382,
          0.49618167086852355,
          0.4971001265959908,
          0.49836710762676906,
          0.5004000605232667,
          0.5032329324019953,
          0.5035131037381053,
          0.5044373655297645,
          0.504545236272292,
          0.5049510566276008,
          0.5061154067316884,
          0.5070305953869818,
          0.5087968537217518,
          0.513594969665669,
          0.514869482473662,
          0.5167444991011452,
          0.5424965875973619,
          0.5433223567838784,
          0.5509714489876255,
          0.5550223169079007,
          0.5996783496733914,
          0.6032576192690695,
          0.6347241886281234,
          0.6450280567675845,
          0.660295039675663,
          0.6615606725418677,
          0.6643356832584281,
          0.6669538668404639,
          0.6949421381647023,
          0.7004958142823059,
          0.7138810752468449,
          0.7239566128087073,
          0.7407740633556694,
          0.7522557240068829,
          0.753947159925621,
          0.7626384782764272,
          0.7634819712570767,
          0.7727552942288073,
          0.7725104580604363,
          0.749467333871604,
          0.7413954925094518,
          0.691870467773869,
          0.6855262768737669,
          0.6063829614561792,
          0.5804502928527023,
          0.5553092060087128,
          0.5524368565525317,
          0.46580748593297683,
          0.44300626933094245,
          0.4267011908730851,
          0.4256460374779263,
          0.3772347295037434,
          0.34846469401903896,
          0.34702988107128846,
          0.3442092518424217,
          0.32694906461763956,
          0.31818353057283233,
          0.2904427173556224,
          0.26667958988111534,
          0.2457429773633279,
          0.2126513332733745,
          0.20744269084758477,
          0.19074405067593977,
          0.14822676860115033,
          0.14232817688700422,
          0.13923698330425832,
          0.13828620510328365,
          0.11984789863580465,
          0.09525315311793228,
          0.07222623465115618,
          0.05916878482163737,
          0.03260756669733719,
          0.02841454799074314,
          0.023349075336602895,
          -0.009597967831530246,
          -0.02493204999488985,
          -0.032418112227366444,
          -0.05735916616819001,
          -0.07805195331030558,
          -0.09792390059120012,
          -0.10170426379405187,
          -0.11084148833752885
         ]
        }
       ],
       "layout": {
        "autosize": false,
        "height": 1000,
        "hovermode": "x",
        "template": {
         "data": {
          "bar": [
           {
            "error_x": {
             "color": "#2a3f5f"
            },
            "error_y": {
             "color": "#2a3f5f"
            },
            "marker": {
             "line": {
              "color": "#E5ECF6",
              "width": 0.5
             },
             "pattern": {
              "fillmode": "overlay",
              "size": 10,
              "solidity": 0.2
             }
            },
            "type": "bar"
           }
          ],
          "barpolar": [
           {
            "marker": {
             "line": {
              "color": "#E5ECF6",
              "width": 0.5
             },
             "pattern": {
              "fillmode": "overlay",
              "size": 10,
              "solidity": 0.2
             }
            },
            "type": "barpolar"
           }
          ],
          "carpet": [
           {
            "aaxis": {
             "endlinecolor": "#2a3f5f",
             "gridcolor": "white",
             "linecolor": "white",
             "minorgridcolor": "white",
             "startlinecolor": "#2a3f5f"
            },
            "baxis": {
             "endlinecolor": "#2a3f5f",
             "gridcolor": "white",
             "linecolor": "white",
             "minorgridcolor": "white",
             "startlinecolor": "#2a3f5f"
            },
            "type": "carpet"
           }
          ],
          "choropleth": [
           {
            "colorbar": {
             "outlinewidth": 0,
             "ticks": ""
            },
            "type": "choropleth"
           }
          ],
          "contour": [
           {
            "colorbar": {
             "outlinewidth": 0,
             "ticks": ""
            },
            "colorscale": [
             [
              0,
              "#0d0887"
             ],
             [
              0.1111111111111111,
              "#46039f"
             ],
             [
              0.2222222222222222,
              "#7201a8"
             ],
             [
              0.3333333333333333,
              "#9c179e"
             ],
             [
              0.4444444444444444,
              "#bd3786"
             ],
             [
              0.5555555555555556,
              "#d8576b"
             ],
             [
              0.6666666666666666,
              "#ed7953"
             ],
             [
              0.7777777777777778,
              "#fb9f3a"
             ],
             [
              0.8888888888888888,
              "#fdca26"
             ],
             [
              1,
              "#f0f921"
             ]
            ],
            "type": "contour"
           }
          ],
          "contourcarpet": [
           {
            "colorbar": {
             "outlinewidth": 0,
             "ticks": ""
            },
            "type": "contourcarpet"
           }
          ],
          "heatmap": [
           {
            "colorbar": {
             "outlinewidth": 0,
             "ticks": ""
            },
            "colorscale": [
             [
              0,
              "#0d0887"
             ],
             [
              0.1111111111111111,
              "#46039f"
             ],
             [
              0.2222222222222222,
              "#7201a8"
             ],
             [
              0.3333333333333333,
              "#9c179e"
             ],
             [
              0.4444444444444444,
              "#bd3786"
             ],
             [
              0.5555555555555556,
              "#d8576b"
             ],
             [
              0.6666666666666666,
              "#ed7953"
             ],
             [
              0.7777777777777778,
              "#fb9f3a"
             ],
             [
              0.8888888888888888,
              "#fdca26"
             ],
             [
              1,
              "#f0f921"
             ]
            ],
            "type": "heatmap"
           }
          ],
          "heatmapgl": [
           {
            "colorbar": {
             "outlinewidth": 0,
             "ticks": ""
            },
            "colorscale": [
             [
              0,
              "#0d0887"
             ],
             [
              0.1111111111111111,
              "#46039f"
             ],
             [
              0.2222222222222222,
              "#7201a8"
             ],
             [
              0.3333333333333333,
              "#9c179e"
             ],
             [
              0.4444444444444444,
              "#bd3786"
             ],
             [
              0.5555555555555556,
              "#d8576b"
             ],
             [
              0.6666666666666666,
              "#ed7953"
             ],
             [
              0.7777777777777778,
              "#fb9f3a"
             ],
             [
              0.8888888888888888,
              "#fdca26"
             ],
             [
              1,
              "#f0f921"
             ]
            ],
            "type": "heatmapgl"
           }
          ],
          "histogram": [
           {
            "marker": {
             "pattern": {
              "fillmode": "overlay",
              "size": 10,
              "solidity": 0.2
             }
            },
            "type": "histogram"
           }
          ],
          "histogram2d": [
           {
            "colorbar": {
             "outlinewidth": 0,
             "ticks": ""
            },
            "colorscale": [
             [
              0,
              "#0d0887"
             ],
             [
              0.1111111111111111,
              "#46039f"
             ],
             [
              0.2222222222222222,
              "#7201a8"
             ],
             [
              0.3333333333333333,
              "#9c179e"
             ],
             [
              0.4444444444444444,
              "#bd3786"
             ],
             [
              0.5555555555555556,
              "#d8576b"
             ],
             [
              0.6666666666666666,
              "#ed7953"
             ],
             [
              0.7777777777777778,
              "#fb9f3a"
             ],
             [
              0.8888888888888888,
              "#fdca26"
             ],
             [
              1,
              "#f0f921"
             ]
            ],
            "type": "histogram2d"
           }
          ],
          "histogram2dcontour": [
           {
            "colorbar": {
             "outlinewidth": 0,
             "ticks": ""
            },
            "colorscale": [
             [
              0,
              "#0d0887"
             ],
             [
              0.1111111111111111,
              "#46039f"
             ],
             [
              0.2222222222222222,
              "#7201a8"
             ],
             [
              0.3333333333333333,
              "#9c179e"
             ],
             [
              0.4444444444444444,
              "#bd3786"
             ],
             [
              0.5555555555555556,
              "#d8576b"
             ],
             [
              0.6666666666666666,
              "#ed7953"
             ],
             [
              0.7777777777777778,
              "#fb9f3a"
             ],
             [
              0.8888888888888888,
              "#fdca26"
             ],
             [
              1,
              "#f0f921"
             ]
            ],
            "type": "histogram2dcontour"
           }
          ],
          "mesh3d": [
           {
            "colorbar": {
             "outlinewidth": 0,
             "ticks": ""
            },
            "type": "mesh3d"
           }
          ],
          "parcoords": [
           {
            "line": {
             "colorbar": {
              "outlinewidth": 0,
              "ticks": ""
             }
            },
            "type": "parcoords"
           }
          ],
          "pie": [
           {
            "automargin": true,
            "type": "pie"
           }
          ],
          "scatter": [
           {
            "fillpattern": {
             "fillmode": "overlay",
             "size": 10,
             "solidity": 0.2
            },
            "type": "scatter"
           }
          ],
          "scatter3d": [
           {
            "line": {
             "colorbar": {
              "outlinewidth": 0,
              "ticks": ""
             }
            },
            "marker": {
             "colorbar": {
              "outlinewidth": 0,
              "ticks": ""
             }
            },
            "type": "scatter3d"
           }
          ],
          "scattercarpet": [
           {
            "marker": {
             "colorbar": {
              "outlinewidth": 0,
              "ticks": ""
             }
            },
            "type": "scattercarpet"
           }
          ],
          "scattergeo": [
           {
            "marker": {
             "colorbar": {
              "outlinewidth": 0,
              "ticks": ""
             }
            },
            "type": "scattergeo"
           }
          ],
          "scattergl": [
           {
            "marker": {
             "colorbar": {
              "outlinewidth": 0,
              "ticks": ""
             }
            },
            "type": "scattergl"
           }
          ],
          "scattermapbox": [
           {
            "marker": {
             "colorbar": {
              "outlinewidth": 0,
              "ticks": ""
             }
            },
            "type": "scattermapbox"
           }
          ],
          "scatterpolar": [
           {
            "marker": {
             "colorbar": {
              "outlinewidth": 0,
              "ticks": ""
             }
            },
            "type": "scatterpolar"
           }
          ],
          "scatterpolargl": [
           {
            "marker": {
             "colorbar": {
              "outlinewidth": 0,
              "ticks": ""
             }
            },
            "type": "scatterpolargl"
           }
          ],
          "scatterternary": [
           {
            "marker": {
             "colorbar": {
              "outlinewidth": 0,
              "ticks": ""
             }
            },
            "type": "scatterternary"
           }
          ],
          "surface": [
           {
            "colorbar": {
             "outlinewidth": 0,
             "ticks": ""
            },
            "colorscale": [
             [
              0,
              "#0d0887"
             ],
             [
              0.1111111111111111,
              "#46039f"
             ],
             [
              0.2222222222222222,
              "#7201a8"
             ],
             [
              0.3333333333333333,
              "#9c179e"
             ],
             [
              0.4444444444444444,
              "#bd3786"
             ],
             [
              0.5555555555555556,
              "#d8576b"
             ],
             [
              0.6666666666666666,
              "#ed7953"
             ],
             [
              0.7777777777777778,
              "#fb9f3a"
             ],
             [
              0.8888888888888888,
              "#fdca26"
             ],
             [
              1,
              "#f0f921"
             ]
            ],
            "type": "surface"
           }
          ],
          "table": [
           {
            "cells": {
             "fill": {
              "color": "#EBF0F8"
             },
             "line": {
              "color": "white"
             }
            },
            "header": {
             "fill": {
              "color": "#C8D4E3"
             },
             "line": {
              "color": "white"
             }
            },
            "type": "table"
           }
          ]
         },
         "layout": {
          "annotationdefaults": {
           "arrowcolor": "#2a3f5f",
           "arrowhead": 0,
           "arrowwidth": 1
          },
          "autotypenumbers": "strict",
          "coloraxis": {
           "colorbar": {
            "outlinewidth": 0,
            "ticks": ""
           }
          },
          "colorscale": {
           "diverging": [
            [
             0,
             "#8e0152"
            ],
            [
             0.1,
             "#c51b7d"
            ],
            [
             0.2,
             "#de77ae"
            ],
            [
             0.3,
             "#f1b6da"
            ],
            [
             0.4,
             "#fde0ef"
            ],
            [
             0.5,
             "#f7f7f7"
            ],
            [
             0.6,
             "#e6f5d0"
            ],
            [
             0.7,
             "#b8e186"
            ],
            [
             0.8,
             "#7fbc41"
            ],
            [
             0.9,
             "#4d9221"
            ],
            [
             1,
             "#276419"
            ]
           ],
           "sequential": [
            [
             0,
             "#0d0887"
            ],
            [
             0.1111111111111111,
             "#46039f"
            ],
            [
             0.2222222222222222,
             "#7201a8"
            ],
            [
             0.3333333333333333,
             "#9c179e"
            ],
            [
             0.4444444444444444,
             "#bd3786"
            ],
            [
             0.5555555555555556,
             "#d8576b"
            ],
            [
             0.6666666666666666,
             "#ed7953"
            ],
            [
             0.7777777777777778,
             "#fb9f3a"
            ],
            [
             0.8888888888888888,
             "#fdca26"
            ],
            [
             1,
             "#f0f921"
            ]
           ],
           "sequentialminus": [
            [
             0,
             "#0d0887"
            ],
            [
             0.1111111111111111,
             "#46039f"
            ],
            [
             0.2222222222222222,
             "#7201a8"
            ],
            [
             0.3333333333333333,
             "#9c179e"
            ],
            [
             0.4444444444444444,
             "#bd3786"
            ],
            [
             0.5555555555555556,
             "#d8576b"
            ],
            [
             0.6666666666666666,
             "#ed7953"
            ],
            [
             0.7777777777777778,
             "#fb9f3a"
            ],
            [
             0.8888888888888888,
             "#fdca26"
            ],
            [
             1,
             "#f0f921"
            ]
           ]
          },
          "colorway": [
           "#636efa",
           "#EF553B",
           "#00cc96",
           "#ab63fa",
           "#FFA15A",
           "#19d3f3",
           "#FF6692",
           "#B6E880",
           "#FF97FF",
           "#FECB52"
          ],
          "font": {
           "color": "#2a3f5f"
          },
          "geo": {
           "bgcolor": "white",
           "lakecolor": "white",
           "landcolor": "#E5ECF6",
           "showlakes": true,
           "showland": true,
           "subunitcolor": "white"
          },
          "hoverlabel": {
           "align": "left"
          },
          "hovermode": "closest",
          "mapbox": {
           "style": "light"
          },
          "paper_bgcolor": "white",
          "plot_bgcolor": "#E5ECF6",
          "polar": {
           "angularaxis": {
            "gridcolor": "white",
            "linecolor": "white",
            "ticks": ""
           },
           "bgcolor": "#E5ECF6",
           "radialaxis": {
            "gridcolor": "white",
            "linecolor": "white",
            "ticks": ""
           }
          },
          "scene": {
           "xaxis": {
            "backgroundcolor": "#E5ECF6",
            "gridcolor": "white",
            "gridwidth": 2,
            "linecolor": "white",
            "showbackground": true,
            "ticks": "",
            "zerolinecolor": "white"
           },
           "yaxis": {
            "backgroundcolor": "#E5ECF6",
            "gridcolor": "white",
            "gridwidth": 2,
            "linecolor": "white",
            "showbackground": true,
            "ticks": "",
            "zerolinecolor": "white"
           },
           "zaxis": {
            "backgroundcolor": "#E5ECF6",
            "gridcolor": "white",
            "gridwidth": 2,
            "linecolor": "white",
            "showbackground": true,
            "ticks": "",
            "zerolinecolor": "white"
           }
          },
          "shapedefaults": {
           "line": {
            "color": "#2a3f5f"
           }
          },
          "ternary": {
           "aaxis": {
            "gridcolor": "white",
            "linecolor": "white",
            "ticks": ""
           },
           "baxis": {
            "gridcolor": "white",
            "linecolor": "white",
            "ticks": ""
           },
           "bgcolor": "#E5ECF6",
           "caxis": {
            "gridcolor": "white",
            "linecolor": "white",
            "ticks": ""
           }
          },
          "title": {
           "x": 0.05
          },
          "xaxis": {
           "automargin": true,
           "gridcolor": "white",
           "linecolor": "white",
           "ticks": "",
           "title": {
            "standoff": 15
           },
           "zerolinecolor": "white",
           "zerolinewidth": 2
          },
          "yaxis": {
           "automargin": true,
           "gridcolor": "white",
           "linecolor": "white",
           "ticks": "",
           "title": {
            "standoff": 15
           },
           "zerolinecolor": "white",
           "zerolinewidth": 2
          }
         }
        },
        "title": {
         "text": "Last layer diag covariance approximation"
        },
        "width": 1000,
        "xaxis": {
         "title": {
          "text": "x"
         }
        },
        "yaxis": {
         "title": {
          "text": "y"
         }
        }
       }
      }
     },
     "metadata": {},
     "output_type": "display_data"
    }
   ],
   "source": [
    "fig = bayesian_regression(last_layer_diag_la, train_dataloader, test_dataloader, title=\"Last layer diag covariance approximation\")\n",
    "fig.show()"
   ]
  },
  {
   "attachments": {},
   "cell_type": "markdown",
   "metadata": {},
   "source": [
    "### Last layer full covariance approximation"
   ]
  },
  {
   "cell_type": "code",
   "execution_count": 13,
   "metadata": {},
   "outputs": [
    {
     "name": "stdout",
     "output_type": "stream",
     "text": [
      "Last layer full covariance approximation NLL:: 0.5192822066399496\n"
     ]
    }
   ],
   "source": [
    "model_copy = copy.deepcopy(map_model)\n",
    "\n",
    "last_layer_full_la, prior_precision = trainer.train_la_posthoc(\n",
    "            model=model_copy,\n",
    "            dataloader=train_dataloader,\n",
    "            subset_of_weights=\"last_layer\",\n",
    "            hessian_structure=\"full\",\n",
    "            sigma_noise=sigma,\n",
    "            prior_mean=config.trainer.la.prior_mean,\n",
    "            prior_precisions=prior_precisions,\n",
    "            val_dataloader=val_dataloader,\n",
    "        )\n",
    "last_layer_full_la_nll = trainer.evaluate_la(last_layer_full_la, test_dataloader)\n",
    "print(f\"Last layer full covariance approximation NLL:: {last_layer_full_la_nll}\")"
   ]
  },
  {
   "cell_type": "code",
   "execution_count": 14,
   "metadata": {},
   "outputs": [
    {
     "data": {
      "application/vnd.plotly.v1+json": {
       "config": {
        "plotlyServerURL": "https://plot.ly"
       },
       "data": [
        {
         "mode": "markers",
         "name": "Training data",
         "type": "scatter",
         "x": [
          -1.337305284443211,
          -0.6505575615004684,
          -1.1706828703822998,
          -1.0048781172148298,
          1.0565193525847998,
          -0.9341019618420752,
          -0.5349868759873495,
          0.9594500563170882,
          -1.2322372817727305,
          -0.8098621340437078,
          0.5148387174316689,
          0.5803617706424027,
          1.1427894843640654,
          0.5637229064551632,
          0.9557879865412287,
          -0.6062782511776712,
          -1.2161835929855433,
          0.7052427112184918,
          1.3887819582783902,
          -0.6537149081821738,
          -0.9513328412297837,
          -1.475720842401142,
          -0.8007836872661649,
          -1.23092160214396,
          -1.333469104500295,
          0.8426891778105761,
          -1.014792238617606,
          -0.8628407901268635,
          0.9943063564512253,
          0.8153374931500585,
          -1.3238558665950806,
          0.7821298557996577,
          0.7319730575737817,
          -0.9371114063048578,
          0.9159809576001492,
          -1.097824842292453,
          -1.346095376070491,
          -0.5465489152451033,
          0.7744184887352086,
          -1.2166625144563414,
          0.912415999446055,
          -1.267748780610201,
          1.2984139733996534,
          0.8010081112759737,
          1.3669482995346671,
          -0.8262832758711316,
          0.5256736385005145,
          -1.4159281942961977,
          1.3397244040165979,
          -0.5026456585036609,
          1.3699639743107008,
          0.8687408940670442,
          1.454371310148614,
          1.297511932394134,
          0.6425992139834094,
          1.1894860885075835,
          -1.2326131999124934,
          0.7281290220185053,
          -0.5347297401241398,
          0.9852863527208116,
          -1.269458730714507,
          -1.1905681340982608,
          -0.8023330713626566,
          -1.2644494911396391,
          1.0494825523714,
          -1.4853594349724577,
          1.165271637452297,
          -1.1984372906178793,
          -1.2541102185782558,
          0.7263760692086061,
          1.4285434111236208,
          0.8758575370991757,
          1.1870057466255908,
          1.3654140171757305,
          0.6909921563511956,
          -1.4965170862677222,
          1.4770925176474674,
          -0.8844463652289509,
          1.264028061915992,
          -0.7695520750283793,
          0.6475361954687213,
          0.5193214955367993,
          1.3983383784355845,
          0.7356005220227777,
          -1.1219786155143354,
          0.574599678976067,
          0.5625489664528609,
          1.2835634799987314
         ],
         "y": [
          0.22704033068578572,
          0.48213400083255037,
          0.20785458160346182,
          0.00026943756731534485,
          0.706442008093481,
          0.07158809090658802,
          0.42623770676391837,
          1,
          0.21982861064577247,
          0.26543594880733284,
          0.7739387807255895,
          0.5189987429384414,
          0.888130675102298,
          0.8404413522659699,
          0.8604278427369398,
          0.40377064344750196,
          0.2154583391868351,
          0.66607830149852,
          0.3717250393155298,
          0.4258012267292421,
          0.06920295072963467,
          0.1654301953151749,
          0.2928651932079143,
          0.10034478595950258,
          0.16821843291816418,
          0.8726242107185324,
          0.0457404979723941,
          0.24996343767509033,
          0.9072010749029378,
          0.8217604485888413,
          0.15680228083018777,
          0.9677590595146406,
          0.8710789362651906,
          0.052672691243608516,
          0.8457074389241511,
          0.2362547719275705,
          0.30863176191225844,
          0.498244205386257,
          0.9808506955842595,
          0.16497494583598948,
          0.9027645588648137,
          0.10031113567816974,
          0.6611235452430386,
          0.8751842558805043,
          0.4639940107205561,
          0.24651566632381033,
          0.44618619653693903,
          0.14744626720723614,
          0.4535021177322158,
          0.6354437941468748,
          0.5384571357774733,
          0.9465656181662574,
          0.33371166368167493,
          0.5566899200699926,
          0.8137168724157819,
          0.7540921389413057,
          0.28237639463355674,
          0.7138127080640428,
          0.45861115993931656,
          0.974475055611208,
          0.17538097177776796,
          0.027531960119475007,
          0.04906352208317366,
          0.11910208224646457,
          0.7356842937664854,
          0.3354713910249758,
          0.8111442642860152,
          0.05341190909341209,
          0.07351904052929303,
          0.7949028442253177,
          0.4360894443303159,
          0.8891126191378798,
          0.5998621632706944,
          0.3708144609377887,
          0.7823249985351538,
          0.22995937493308188,
          0.5121378829690278,
          0.23864038273782928,
          0.663373154205591,
          0.19605574580906932,
          0.6512735607857035,
          0.7045515152862875,
          0.6069200188700424,
          0.8006099907685278,
          0.14560741463947258,
          0.6928888160583849,
          0.6295780240013573,
          0.6254645633122984
         ]
        },
        {
         "line": {
          "color": "rgb(31, 119, 180)"
         },
         "mode": "lines",
         "name": "MAP",
         "type": "scatter",
         "x": [
          -1.9999999999999998,
          -1.9922985743484347,
          -1.987805080104512,
          -1.9790815959435524,
          -1.978007158107121,
          -1.9760328625836405,
          -1.9736147608538208,
          -1.9648840204095472,
          -1.9602686991620744,
          -1.929609016136602,
          -1.8964805443969703,
          -1.8617113264346798,
          -1.8379041143874026,
          -1.8358143047929947,
          -1.8061026722819864,
          -1.8048421918742066,
          -1.7995953674299947,
          -1.7768471528776129,
          -1.7215749898171284,
          -1.6984348547008397,
          -1.6628269823982826,
          -1.548224494336501,
          -1.4965170862677222,
          -1.4853594349724577,
          -1.475720842401142,
          -1.4159281942961977,
          -1.346095376070491,
          -1.337305284443211,
          -1.333469104500295,
          -1.3238558665950806,
          -1.269458730714507,
          -1.267748780610201,
          -1.2644494911396391,
          -1.2541102185782558,
          -1.2326131999124934,
          -1.2322372817727305,
          -1.23092160214396,
          -1.2166625144563414,
          -1.2161835929855433,
          -1.1984372906178793,
          -1.1905681340982608,
          -1.1706828703822998,
          -1.1219786155143354,
          -1.097824842292453,
          -1.014792238617606,
          -1.0048781172148298,
          -0.9513328412297837,
          -0.9371114063048578,
          -0.9341019618420752,
          -0.8844463652289509,
          -0.8628407901268635,
          -0.8262832758711316,
          -0.8098621340437078,
          -0.8023330713626566,
          -0.8007836872661649,
          -0.7695520750283793,
          -0.6537149081821738,
          -0.6505575615004684,
          -0.6062782511776712,
          -0.5465489152451033,
          -0.5349868759873495,
          -0.5347297401241398,
          -0.5026456585036609,
          -0.49814351225081444,
          -0.4967727756147251,
          -0.4799146992101535,
          -0.39158402676460224,
          -0.3730394316512131,
          -0.3662009856499131,
          -0.3522979061879712,
          -0.338992395031787,
          -0.31929871344830474,
          -0.29737295442173584,
          -0.28106212977133826,
          -0.2576905994664789,
          -0.2525474081567074,
          -0.244811052118457,
          -0.23312894388902272,
          -0.2324104262412332,
          -0.2315318166312028,
          -0.20854399235767018,
          -0.20581795942702708,
          -0.1939113567581563,
          -0.18532767811772466,
          -0.16652513449157103,
          -0.14661840328321163,
          -0.13349438386087087,
          -0.09627462793899966,
          -0.0654017327587395,
          -0.022453271523063645,
          -0.01530662817821149,
          0.002984420274167121,
          0.05458306197215279,
          0.08334516765533895,
          0.09375581793592813,
          0.1127336907034695,
          0.13002646689891417,
          0.16088615652391347,
          0.18078509984070879,
          0.2143915449599918,
          0.26715986025011906,
          0.2681502768946924,
          0.2968990415810251,
          0.31583005155758936,
          0.3279581012300672,
          0.3447262444172723,
          0.3717242910799805,
          0.40953755205983766,
          0.41328955505306375,
          0.4256828670842969,
          0.4271308731488621,
          0.4325813814318358,
          0.44824567564081486,
          0.46058521735985725,
          0.4844681073968995,
          0.5148387174316689,
          0.5193214955367993,
          0.5256736385005145,
          0.5625489664528609,
          0.5637229064551632,
          0.574599678976067,
          0.5803617706424027,
          0.6425992139834094,
          0.6475361954687213,
          0.6909921563511956,
          0.7052427112184918,
          0.7263760692086061,
          0.7281290220185053,
          0.7319730575737817,
          0.7356005220227777,
          0.7744184887352086,
          0.7821298557996577,
          0.8010081112759737,
          0.8153374931500585,
          0.8426891778105761,
          0.8687408940670442,
          0.8758575370991757,
          0.912415999446055,
          0.9159809576001492,
          0.9557879865412287,
          0.9594500563170882,
          0.9852863527208116,
          0.9943063564512253,
          1.0494825523714,
          1.0565193525847998,
          1.1427894843640654,
          1.165271637452297,
          1.1870057466255908,
          1.1894860885075835,
          1.264028061915992,
          1.2835634799987314,
          1.297511932394134,
          1.2984139733996534,
          1.3397244040165979,
          1.3654140171757305,
          1.3669482995346671,
          1.3699639743107008,
          1.3887819582783902,
          1.3983383784355845,
          1.4285434111236208,
          1.454371310148614,
          1.4770925176474674,
          1.5127015344314803,
          1.5182874165860771,
          1.5361669257598867,
          1.5814996330677324,
          1.587767734523351,
          1.5910505678404334,
          1.5920600140287422,
          1.615916222072077,
          1.65097541371166,
          1.6855409884676673,
          1.7054855756011085,
          1.7461246222444258,
          1.7524857043532402,
          1.7609762668988838,
          1.820541786225419,
          1.847823108978674,
          1.8610495899656803,
          1.9047146049460557,
          1.9408855011762243,
          1.9757808084889787,
          1.9828820111795742,
          2.0000000000000004
         ],
         "y": [
          0.3828515504971871,
          0.3804651191411784,
          0.3790727255705719,
          0.3763695901931463,
          0.3760366554536647,
          0.3754248829122647,
          0.37467558868400863,
          0.37197020481093934,
          0.3705400608556076,
          0.3613495132703406,
          0.35258283071074653,
          0.34161728725947704,
          0.33431036890411403,
          0.3336689637679615,
          0.32461050001373215,
          0.3242554893960382,
          0.3227777366476612,
          0.3158939608383281,
          0.2964685626714928,
          0.28803284642463206,
          0.2751888801788961,
          0.2331405992962063,
          0.21490943326799322,
          0.21110841140856443,
          0.20782487976842007,
          0.18745110117540148,
          0.16342192787035056,
          0.16039729503373054,
          0.1590772819650936,
          0.15576940802392625,
          0.13705158682490254,
          0.1364632003263575,
          0.13532792896704582,
          0.13209523566369666,
          0.1253833514589022,
          0.1252659808102648,
          0.12485519411206186,
          0.12040316534875567,
          0.12025363459264633,
          0.11471281386736422,
          0.11225743558987188,
          0.10665751835208648,
          0.09294184425872797,
          0.08592601096988549,
          0.06006598965454604,
          0.0569782942258609,
          0.05809939311504714,
          0.06285059749900067,
          0.06393891454315574,
          0.10972533721054793,
          0.1314061769338698,
          0.1680910419983966,
          0.18456938808972165,
          0.19212467881831435,
          0.19367946030907202,
          0.22501987018147324,
          0.3452911078682709,
          0.34855778955205735,
          0.39046260304503266,
          0.44558690799301137,
          0.45349727149168995,
          0.45367319531457195,
          0.4756240590403684,
          0.47831005253611325,
          0.47893035298849174,
          0.4863924047788363,
          0.508558990002783,
          0.5117707248014517,
          0.5129550739261913,
          0.515362945537491,
          0.5176673244108555,
          0.521078069270413,
          0.5248753871855404,
          0.5277002557148534,
          0.5317479664747428,
          0.5326387147712033,
          0.533978572759529,
          0.5360017947976957,
          0.5361262347285086,
          0.5362784009549333,
          0.5402596577423452,
          0.5407317788521417,
          0.542793881038343,
          0.5442804866623265,
          0.5475368955134426,
          0.5509845383958407,
          0.5530914928621226,
          0.5567417969353767,
          0.5597696366467981,
          0.5639817798784109,
          0.564682682414327,
          0.5664765654481104,
          0.5714080822785755,
          0.5740615722531198,
          0.5750220219660968,
          0.5768170856867436,
          0.5783190495001687,
          0.5807064183977246,
          0.58224584147508,
          0.5848457050125994,
          0.5889279701368094,
          0.5890045908002576,
          0.5912286542140293,
          0.5926931959824843,
          0.5936314467856498,
          0.5949286647421929,
          0.5970172890180865,
          0.5999426004607962,
          0.6002328631095271,
          0.6011916351529473,
          0.6013036558726637,
          0.6017253183750663,
          0.6029371403101251,
          0.6038917525718852,
          0.6057393819405227,
          0.6105971395054904,
          0.6118808458351531,
          0.6137694169007777,
          0.6398015951350524,
          0.6406369412148509,
          0.6483765780518074,
          0.6524767370680029,
          0.6977311561827144,
          0.7013638605637807,
          0.7333394026943051,
          0.7438251728461819,
          0.7593754118709247,
          0.7606652606117532,
          0.7634937591273285,
          0.7661629014028737,
          0.7947257384643183,
          0.8003998770047154,
          0.8140886014628321,
          0.8244021753137188,
          0.8416912526449185,
          0.8535764401618756,
          0.8553422309724009,
          0.8644488793466477,
          0.8653389767029953,
          0.8752143965810923,
          0.8749943834884196,
          0.8514505800448037,
          0.8432164639726132,
          0.7928476154435692,
          0.7864144021273157,
          0.706529308851569,
          0.6804228069920147,
          0.6551644091242655,
          0.6522818680638572,
          0.5656525607761999,
          0.5429493821682188,
          0.5267391221831741,
          0.525690810958234,
          0.47768473122833865,
          0.4492527469162473,
          0.44783983298651275,
          0.4450627112437062,
          0.4280866633628847,
          0.4194735252236027,
          0.39224992948752224,
          0.36897141530643274,
          0.3484929416039565,
          0.31618407906302604,
          0.31110917062704824,
          0.2948652060345198,
          0.25367934991097585,
          0.24798462881334132,
          0.24500209569973816,
          0.24408498953191493,
          0.22647918249043478,
          0.20324614073592728,
          0.18167557757491204,
          0.16952605402308707,
          0.1451082593298324,
          0.14128623076889654,
          0.1367304563458974,
          0.10780128211316317,
          0.09455156737632245,
          0.08812786491749751,
          0.06692108555043684,
          0.04948755729564043,
          0.032857163092404384,
          0.029754981822857213,
          0.02227693808790346
         ]
        },
        {
         "line": {
          "width": 0
         },
         "marker": {
          "color": "#444"
         },
         "mode": "lines",
         "name": "Upper Bound",
         "showlegend": false,
         "type": "scatter",
         "x": [
          -1.9999999999999998,
          -1.9922985743484347,
          -1.987805080104512,
          -1.9790815959435524,
          -1.978007158107121,
          -1.9760328625836405,
          -1.9736147608538208,
          -1.9648840204095472,
          -1.9602686991620744,
          -1.929609016136602,
          -1.8964805443969703,
          -1.8617113264346798,
          -1.8379041143874026,
          -1.8358143047929947,
          -1.8061026722819864,
          -1.8048421918742066,
          -1.7995953674299947,
          -1.7768471528776129,
          -1.7215749898171284,
          -1.6984348547008397,
          -1.6628269823982826,
          -1.548224494336501,
          -1.4965170862677222,
          -1.4853594349724577,
          -1.475720842401142,
          -1.4159281942961977,
          -1.346095376070491,
          -1.337305284443211,
          -1.333469104500295,
          -1.3238558665950806,
          -1.269458730714507,
          -1.267748780610201,
          -1.2644494911396391,
          -1.2541102185782558,
          -1.2326131999124934,
          -1.2322372817727305,
          -1.23092160214396,
          -1.2166625144563414,
          -1.2161835929855433,
          -1.1984372906178793,
          -1.1905681340982608,
          -1.1706828703822998,
          -1.1219786155143354,
          -1.097824842292453,
          -1.014792238617606,
          -1.0048781172148298,
          -0.9513328412297837,
          -0.9371114063048578,
          -0.9341019618420752,
          -0.8844463652289509,
          -0.8628407901268635,
          -0.8262832758711316,
          -0.8098621340437078,
          -0.8023330713626566,
          -0.8007836872661649,
          -0.7695520750283793,
          -0.6537149081821738,
          -0.6505575615004684,
          -0.6062782511776712,
          -0.5465489152451033,
          -0.5349868759873495,
          -0.5347297401241398,
          -0.5026456585036609,
          -0.49814351225081444,
          -0.4967727756147251,
          -0.4799146992101535,
          -0.39158402676460224,
          -0.3730394316512131,
          -0.3662009856499131,
          -0.3522979061879712,
          -0.338992395031787,
          -0.31929871344830474,
          -0.29737295442173584,
          -0.28106212977133826,
          -0.2576905994664789,
          -0.2525474081567074,
          -0.244811052118457,
          -0.23312894388902272,
          -0.2324104262412332,
          -0.2315318166312028,
          -0.20854399235767018,
          -0.20581795942702708,
          -0.1939113567581563,
          -0.18532767811772466,
          -0.16652513449157103,
          -0.14661840328321163,
          -0.13349438386087087,
          -0.09627462793899966,
          -0.0654017327587395,
          -0.022453271523063645,
          -0.01530662817821149,
          0.002984420274167121,
          0.05458306197215279,
          0.08334516765533895,
          0.09375581793592813,
          0.1127336907034695,
          0.13002646689891417,
          0.16088615652391347,
          0.18078509984070879,
          0.2143915449599918,
          0.26715986025011906,
          0.2681502768946924,
          0.2968990415810251,
          0.31583005155758936,
          0.3279581012300672,
          0.3447262444172723,
          0.3717242910799805,
          0.40953755205983766,
          0.41328955505306375,
          0.4256828670842969,
          0.4271308731488621,
          0.4325813814318358,
          0.44824567564081486,
          0.46058521735985725,
          0.4844681073968995,
          0.5148387174316689,
          0.5193214955367993,
          0.5256736385005145,
          0.5625489664528609,
          0.5637229064551632,
          0.574599678976067,
          0.5803617706424027,
          0.6425992139834094,
          0.6475361954687213,
          0.6909921563511956,
          0.7052427112184918,
          0.7263760692086061,
          0.7281290220185053,
          0.7319730575737817,
          0.7356005220227777,
          0.7744184887352086,
          0.7821298557996577,
          0.8010081112759737,
          0.8153374931500585,
          0.8426891778105761,
          0.8687408940670442,
          0.8758575370991757,
          0.912415999446055,
          0.9159809576001492,
          0.9557879865412287,
          0.9594500563170882,
          0.9852863527208116,
          0.9943063564512253,
          1.0494825523714,
          1.0565193525847998,
          1.1427894843640654,
          1.165271637452297,
          1.1870057466255908,
          1.1894860885075835,
          1.264028061915992,
          1.2835634799987314,
          1.297511932394134,
          1.2984139733996534,
          1.3397244040165979,
          1.3654140171757305,
          1.3669482995346671,
          1.3699639743107008,
          1.3887819582783902,
          1.3983383784355845,
          1.4285434111236208,
          1.454371310148614,
          1.4770925176474674,
          1.5127015344314803,
          1.5182874165860771,
          1.5361669257598867,
          1.5814996330677324,
          1.587767734523351,
          1.5910505678404334,
          1.5920600140287422,
          1.615916222072077,
          1.65097541371166,
          1.6855409884676673,
          1.7054855756011085,
          1.7461246222444258,
          1.7524857043532402,
          1.7609762668988838,
          1.820541786225419,
          1.847823108978674,
          1.8610495899656803,
          1.9047146049460557,
          1.9408855011762243,
          1.9757808084889787,
          1.9828820111795742,
          2.0000000000000004
         ],
         "y": [
          0.5504727751467855,
          0.5458912198288939,
          0.5432298415201582,
          0.5380888602031954,
          0.5374580708735566,
          0.536300389427512,
          0.5348849699143616,
          0.5297979212355624,
          0.5271239949503692,
          0.5100238933511164,
          0.4935514286989624,
          0.4750597567365241,
          0.4630402155090505,
          0.4620049684778786,
          0.4477223885324775,
          0.44716159740051914,
          0.4448402884773083,
          0.4345388541580246,
          0.4081535750364851,
          0.3972414721065876,
          0.38112965205864013,
          0.33096673678712935,
          0.3099889541432913,
          0.3056623731089581,
          0.30194812563051326,
          0.2794007361641745,
          0.25378891881773885,
          0.2506419837201778,
          0.24927407239829313,
          0.24586083303533185,
          0.22694414392471124,
          0.22636048728184716,
          0.22523623386007213,
          0.22196980930810034,
          0.21508383108606766,
          0.21496427701739995,
          0.2145460819990897,
          0.21003707876636002,
          0.2098863759670317,
          0.2043361336269099,
          0.20189755129497455,
          0.19630172596437528,
          0.18285990350902487,
          0.17604812781052998,
          0.1513652434547334,
          0.14853134345503474,
          0.14982166299931338,
          0.15456673520719905,
          0.1556538744760757,
          0.20054335697901005,
          0.22191563040399198,
          0.25828942355180595,
          0.27471501103566165,
          0.282264195284725,
          0.2838191313389492,
          0.3152653127043339,
          0.4364992237632045,
          0.4398205298576936,
          0.4825075817045138,
          0.5392538370505089,
          0.5474196560318519,
          0.5476018825352106,
          0.5705487252772556,
          0.5733817360275052,
          0.5740353625671941,
          0.581884667417657,
          0.6043710307019797,
          0.6075361979928166,
          0.6087093748594139,
          0.611104507005839,
          0.6134092197528126,
          0.6168429426436206,
          0.620697390333196,
          0.6235862861331288,
          0.6277576726071724,
          0.6286806746851036,
          0.630072463362728,
          0.6321818628559486,
          0.632311907560397,
          0.6324709752358193,
          0.6366514824640476,
          0.6371496130420224,
          0.6393312146122818,
          0.6409099078176561,
          0.6443853438005719,
          0.6480906297167608,
          0.6503321830985382,
          0.6537317907029299,
          0.6566230009408021,
          0.6607531668564024,
          0.6614526577453136,
          0.6632588284565802,
          0.6682495818654604,
          0.6709441059936462,
          0.6719338878843697,
          0.6735995258205352,
          0.6747254838485316,
          0.6763496827649657,
          0.6774407141962625,
          0.6793626946074398,
          0.6825862234796976,
          0.6826491670399004,
          0.6845159147818777,
          0.6857873292799452,
          0.6866195701431612,
          0.68779311111249,
          0.6897386658041413,
          0.69258035948889,
          0.692869770762841,
          0.6938352882012193,
          0.6939490542795618,
          0.6943790820160313,
          0.6956307311931346,
          0.6966331941958642,
          0.6986145934734791,
          0.7034373853339683,
          0.7046646077932774,
          0.7064790757655222,
          0.7314061118367019,
          0.7322122500365361,
          0.7397002556452105,
          0.7436810589939448,
          0.7878376739516274,
          0.7914000651678514,
          0.8229458669835013,
          0.8333651740205879,
          0.8488848976473223,
          0.8501758690826196,
          0.8530087891430002,
          0.8556845720579043,
          0.8844682556621761,
          0.8902187776080817,
          0.904096532226935,
          0.9145865517826552,
          0.9319520344093514,
          0.9438241159722988,
          0.9456003454909969,
          0.9549218624792251,
          0.9558519607859993,
          0.966449198037038,
          0.9662831176944591,
          0.9423338904984563,
          0.9339840354324299,
          0.8832110115012481,
          0.8767626794245547,
          0.7971250968410941,
          0.7707138329230434,
          0.7452425352085242,
          0.7423409561882517,
          0.6556451508073177,
          0.6330864302373486,
          0.6170202215813789,
          0.6159823951362382,
          0.5686054874746392,
          0.5405174446416776,
          0.5390922097476076,
          0.5362970646249637,
          0.5193640555238513,
          0.5108964440164433,
          0.4846775676963962,
          0.46289766990339287,
          0.44420238187801997,
          0.41553979067896685,
          0.4111380665756649,
          0.3972159618770606,
          0.36295947629353975,
          0.3583293599177087,
          0.35591388986308264,
          0.3551724413456867,
          0.3413048913334201,
          0.32434028004220206,
          0.3100212380159722,
          0.3025172087306026,
          0.2885749778188007,
          0.28650161246976164,
          0.28406943545160934,
          0.27012483145124433,
          0.2644919436578529,
          0.2619047980851056,
          0.25394275058741045,
          0.2479179491228945,
          0.24251723924793753,
          0.24159152587837615,
          0.239423050538546
         ]
        },
        {
         "fill": "tonexty",
         "fillcolor": "rgba(68, 68, 68, 0.3)",
         "line": {
          "width": 0
         },
         "marker": {
          "color": "#444"
         },
         "mode": "lines",
         "name": "Lower Bound",
         "showlegend": false,
         "type": "scatter",
         "x": [
          -1.9999999999999998,
          -1.9922985743484347,
          -1.987805080104512,
          -1.9790815959435524,
          -1.978007158107121,
          -1.9760328625836405,
          -1.9736147608538208,
          -1.9648840204095472,
          -1.9602686991620744,
          -1.929609016136602,
          -1.8964805443969703,
          -1.8617113264346798,
          -1.8379041143874026,
          -1.8358143047929947,
          -1.8061026722819864,
          -1.8048421918742066,
          -1.7995953674299947,
          -1.7768471528776129,
          -1.7215749898171284,
          -1.6984348547008397,
          -1.6628269823982826,
          -1.548224494336501,
          -1.4965170862677222,
          -1.4853594349724577,
          -1.475720842401142,
          -1.4159281942961977,
          -1.346095376070491,
          -1.337305284443211,
          -1.333469104500295,
          -1.3238558665950806,
          -1.269458730714507,
          -1.267748780610201,
          -1.2644494911396391,
          -1.2541102185782558,
          -1.2326131999124934,
          -1.2322372817727305,
          -1.23092160214396,
          -1.2166625144563414,
          -1.2161835929855433,
          -1.1984372906178793,
          -1.1905681340982608,
          -1.1706828703822998,
          -1.1219786155143354,
          -1.097824842292453,
          -1.014792238617606,
          -1.0048781172148298,
          -0.9513328412297837,
          -0.9371114063048578,
          -0.9341019618420752,
          -0.8844463652289509,
          -0.8628407901268635,
          -0.8262832758711316,
          -0.8098621340437078,
          -0.8023330713626566,
          -0.8007836872661649,
          -0.7695520750283793,
          -0.6537149081821738,
          -0.6505575615004684,
          -0.6062782511776712,
          -0.5465489152451033,
          -0.5349868759873495,
          -0.5347297401241398,
          -0.5026456585036609,
          -0.49814351225081444,
          -0.4967727756147251,
          -0.4799146992101535,
          -0.39158402676460224,
          -0.3730394316512131,
          -0.3662009856499131,
          -0.3522979061879712,
          -0.338992395031787,
          -0.31929871344830474,
          -0.29737295442173584,
          -0.28106212977133826,
          -0.2576905994664789,
          -0.2525474081567074,
          -0.244811052118457,
          -0.23312894388902272,
          -0.2324104262412332,
          -0.2315318166312028,
          -0.20854399235767018,
          -0.20581795942702708,
          -0.1939113567581563,
          -0.18532767811772466,
          -0.16652513449157103,
          -0.14661840328321163,
          -0.13349438386087087,
          -0.09627462793899966,
          -0.0654017327587395,
          -0.022453271523063645,
          -0.01530662817821149,
          0.002984420274167121,
          0.05458306197215279,
          0.08334516765533895,
          0.09375581793592813,
          0.1127336907034695,
          0.13002646689891417,
          0.16088615652391347,
          0.18078509984070879,
          0.2143915449599918,
          0.26715986025011906,
          0.2681502768946924,
          0.2968990415810251,
          0.31583005155758936,
          0.3279581012300672,
          0.3447262444172723,
          0.3717242910799805,
          0.40953755205983766,
          0.41328955505306375,
          0.4256828670842969,
          0.4271308731488621,
          0.4325813814318358,
          0.44824567564081486,
          0.46058521735985725,
          0.4844681073968995,
          0.5148387174316689,
          0.5193214955367993,
          0.5256736385005145,
          0.5625489664528609,
          0.5637229064551632,
          0.574599678976067,
          0.5803617706424027,
          0.6425992139834094,
          0.6475361954687213,
          0.6909921563511956,
          0.7052427112184918,
          0.7263760692086061,
          0.7281290220185053,
          0.7319730575737817,
          0.7356005220227777,
          0.7744184887352086,
          0.7821298557996577,
          0.8010081112759737,
          0.8153374931500585,
          0.8426891778105761,
          0.8687408940670442,
          0.8758575370991757,
          0.912415999446055,
          0.9159809576001492,
          0.9557879865412287,
          0.9594500563170882,
          0.9852863527208116,
          0.9943063564512253,
          1.0494825523714,
          1.0565193525847998,
          1.1427894843640654,
          1.165271637452297,
          1.1870057466255908,
          1.1894860885075835,
          1.264028061915992,
          1.2835634799987314,
          1.297511932394134,
          1.2984139733996534,
          1.3397244040165979,
          1.3654140171757305,
          1.3669482995346671,
          1.3699639743107008,
          1.3887819582783902,
          1.3983383784355845,
          1.4285434111236208,
          1.454371310148614,
          1.4770925176474674,
          1.5127015344314803,
          1.5182874165860771,
          1.5361669257598867,
          1.5814996330677324,
          1.587767734523351,
          1.5910505678404334,
          1.5920600140287422,
          1.615916222072077,
          1.65097541371166,
          1.6855409884676673,
          1.7054855756011085,
          1.7461246222444258,
          1.7524857043532402,
          1.7609762668988838,
          1.820541786225419,
          1.847823108978674,
          1.8610495899656803,
          1.9047146049460557,
          1.9408855011762243,
          1.9757808084889787,
          1.9828820111795742,
          2.0000000000000004
         ],
         "y": [
          0.21523032584758875,
          0.21503901845346293,
          0.21491560962098566,
          0.21465032018309727,
          0.21461524003377283,
          0.21454937639701743,
          0.21446620745365566,
          0.21414248838631633,
          0.2139561267608459,
          0.21267513318956474,
          0.2116142327225307,
          0.20817481778242997,
          0.20558052229917756,
          0.20533295905804444,
          0.20149861149498682,
          0.20134938139155728,
          0.2007151848180141,
          0.19724906751863158,
          0.1847835503065005,
          0.1788242207426765,
          0.16924810829915202,
          0.13531446180528328,
          0.11982991239269514,
          0.11655444970817075,
          0.11370163390632687,
          0.0955014661866285,
          0.07305493692296228,
          0.07015260634728328,
          0.06888049153189409,
          0.06567798301252066,
          0.04715902972509385,
          0.04656591337086785,
          0.04541962407401952,
          0.04222066201929296,
          0.035682871831736754,
          0.035567684603129646,
          0.03516430622503404,
          0.030769251931151306,
          0.03062089321826099,
          0.025089494107818563,
          0.022617319884769213,
          0.017013310739797685,
          0.0030237850084310625,
          -0.004196105870759012,
          -0.0312332641456413,
          -0.034574755003312946,
          -0.03362287676921909,
          -0.028865540209197724,
          -0.02777604538976422,
          0.01890731744208582,
          0.04089672346374763,
          0.07789266044498726,
          0.09442376514378167,
          0.10198516235190366,
          0.10353978927919481,
          0.13477442765861258,
          0.2540829919733373,
          0.2572950492464211,
          0.2984176243855515,
          0.35191997893551386,
          0.35957488695152795,
          0.3597445080939333,
          0.3806993928034812,
          0.3832383690447213,
          0.3838253434097894,
          0.39090014214001556,
          0.41274694930358635,
          0.41600525161008683,
          0.4172007729929688,
          0.41962138406914296,
          0.4219254290688984,
          0.4253131958972054,
          0.42905338403788473,
          0.43181422529657787,
          0.4357382603423131,
          0.436596754857303,
          0.4378846821563299,
          0.4398217267394429,
          0.43994056189662023,
          0.4400858266740472,
          0.4438678330206428,
          0.4443139446622611,
          0.44625654746440424,
          0.44765106550699696,
          0.4506884472263134,
          0.45387844707492064,
          0.45585080262570693,
          0.45975180316782366,
          0.4629162723527942,
          0.46721039290041944,
          0.4679127070833403,
          0.4696943024396406,
          0.4745665826916907,
          0.47717903851259347,
          0.4781101560478238,
          0.48003464555295206,
          0.4819126151518057,
          0.48506315403048367,
          0.4870509687538975,
          0.49032871541775885,
          0.4952697167939213,
          0.49536001456061474,
          0.49794139364618084,
          0.4995990626850233,
          0.5006433234281384,
          0.5020642183718957,
          0.5042959122320316,
          0.5073048414327024,
          0.5075959554562132,
          0.5085479821046752,
          0.5086582574657655,
          0.5090715547341013,
          0.5102435494271157,
          0.5111503109479062,
          0.5128641704075663,
          0.5177568936770126,
          0.5190970838770288,
          0.5210597580360332,
          0.5481970784334029,
          0.5490616323931657,
          0.5570529004584043,
          0.561272415142061,
          0.6076246384138014,
          0.6113276559597101,
          0.6437329384051089,
          0.6542851716717759,
          0.6698659260945271,
          0.6711546521408869,
          0.6739787291116569,
          0.6766412307478431,
          0.7049832212664604,
          0.7105809764013491,
          0.7240806706987293,
          0.7342177988447824,
          0.7514304708804856,
          0.7633287643514525,
          0.7650841164538049,
          0.7739758962140704,
          0.7748259926199913,
          0.7839795951251467,
          0.7837056492823802,
          0.7605672695911511,
          0.7524488925127965,
          0.7024842193858902,
          0.6960661248300768,
          0.6159335208620438,
          0.5901317810609861,
          0.5650862830400069,
          0.5622227799394628,
          0.47565997074508204,
          0.45281233409908894,
          0.4364580227849692,
          0.43539922678022974,
          0.3867639749820381,
          0.3579880491908169,
          0.3565874562254179,
          0.3538283578624487,
          0.33680927120191806,
          0.3280506064307621,
          0.2998222912786483,
          0.2750451607094726,
          0.252783501329893,
          0.21682836744708522,
          0.21108027467843157,
          0.19251445019197905,
          0.14439922352841195,
          0.13763989770897395,
          0.13409030153639367,
          0.13299753771814316,
          0.11165347364744946,
          0.08215200142965251,
          0.05332991713385188,
          0.03653489931557152,
          0.0016415408408640697,
          -0.00392915093196855,
          -0.010608522759814554,
          -0.054522267224917986,
          -0.07538880890520797,
          -0.08564906825011055,
          -0.12010057948653678,
          -0.1489428345316136,
          -0.17680291306312876,
          -0.18208156223266173,
          -0.1948691743627391
         ]
        }
       ],
       "layout": {
        "autosize": false,
        "height": 1000,
        "hovermode": "x",
        "template": {
         "data": {
          "bar": [
           {
            "error_x": {
             "color": "#2a3f5f"
            },
            "error_y": {
             "color": "#2a3f5f"
            },
            "marker": {
             "line": {
              "color": "#E5ECF6",
              "width": 0.5
             },
             "pattern": {
              "fillmode": "overlay",
              "size": 10,
              "solidity": 0.2
             }
            },
            "type": "bar"
           }
          ],
          "barpolar": [
           {
            "marker": {
             "line": {
              "color": "#E5ECF6",
              "width": 0.5
             },
             "pattern": {
              "fillmode": "overlay",
              "size": 10,
              "solidity": 0.2
             }
            },
            "type": "barpolar"
           }
          ],
          "carpet": [
           {
            "aaxis": {
             "endlinecolor": "#2a3f5f",
             "gridcolor": "white",
             "linecolor": "white",
             "minorgridcolor": "white",
             "startlinecolor": "#2a3f5f"
            },
            "baxis": {
             "endlinecolor": "#2a3f5f",
             "gridcolor": "white",
             "linecolor": "white",
             "minorgridcolor": "white",
             "startlinecolor": "#2a3f5f"
            },
            "type": "carpet"
           }
          ],
          "choropleth": [
           {
            "colorbar": {
             "outlinewidth": 0,
             "ticks": ""
            },
            "type": "choropleth"
           }
          ],
          "contour": [
           {
            "colorbar": {
             "outlinewidth": 0,
             "ticks": ""
            },
            "colorscale": [
             [
              0,
              "#0d0887"
             ],
             [
              0.1111111111111111,
              "#46039f"
             ],
             [
              0.2222222222222222,
              "#7201a8"
             ],
             [
              0.3333333333333333,
              "#9c179e"
             ],
             [
              0.4444444444444444,
              "#bd3786"
             ],
             [
              0.5555555555555556,
              "#d8576b"
             ],
             [
              0.6666666666666666,
              "#ed7953"
             ],
             [
              0.7777777777777778,
              "#fb9f3a"
             ],
             [
              0.8888888888888888,
              "#fdca26"
             ],
             [
              1,
              "#f0f921"
             ]
            ],
            "type": "contour"
           }
          ],
          "contourcarpet": [
           {
            "colorbar": {
             "outlinewidth": 0,
             "ticks": ""
            },
            "type": "contourcarpet"
           }
          ],
          "heatmap": [
           {
            "colorbar": {
             "outlinewidth": 0,
             "ticks": ""
            },
            "colorscale": [
             [
              0,
              "#0d0887"
             ],
             [
              0.1111111111111111,
              "#46039f"
             ],
             [
              0.2222222222222222,
              "#7201a8"
             ],
             [
              0.3333333333333333,
              "#9c179e"
             ],
             [
              0.4444444444444444,
              "#bd3786"
             ],
             [
              0.5555555555555556,
              "#d8576b"
             ],
             [
              0.6666666666666666,
              "#ed7953"
             ],
             [
              0.7777777777777778,
              "#fb9f3a"
             ],
             [
              0.8888888888888888,
              "#fdca26"
             ],
             [
              1,
              "#f0f921"
             ]
            ],
            "type": "heatmap"
           }
          ],
          "heatmapgl": [
           {
            "colorbar": {
             "outlinewidth": 0,
             "ticks": ""
            },
            "colorscale": [
             [
              0,
              "#0d0887"
             ],
             [
              0.1111111111111111,
              "#46039f"
             ],
             [
              0.2222222222222222,
              "#7201a8"
             ],
             [
              0.3333333333333333,
              "#9c179e"
             ],
             [
              0.4444444444444444,
              "#bd3786"
             ],
             [
              0.5555555555555556,
              "#d8576b"
             ],
             [
              0.6666666666666666,
              "#ed7953"
             ],
             [
              0.7777777777777778,
              "#fb9f3a"
             ],
             [
              0.8888888888888888,
              "#fdca26"
             ],
             [
              1,
              "#f0f921"
             ]
            ],
            "type": "heatmapgl"
           }
          ],
          "histogram": [
           {
            "marker": {
             "pattern": {
              "fillmode": "overlay",
              "size": 10,
              "solidity": 0.2
             }
            },
            "type": "histogram"
           }
          ],
          "histogram2d": [
           {
            "colorbar": {
             "outlinewidth": 0,
             "ticks": ""
            },
            "colorscale": [
             [
              0,
              "#0d0887"
             ],
             [
              0.1111111111111111,
              "#46039f"
             ],
             [
              0.2222222222222222,
              "#7201a8"
             ],
             [
              0.3333333333333333,
              "#9c179e"
             ],
             [
              0.4444444444444444,
              "#bd3786"
             ],
             [
              0.5555555555555556,
              "#d8576b"
             ],
             [
              0.6666666666666666,
              "#ed7953"
             ],
             [
              0.7777777777777778,
              "#fb9f3a"
             ],
             [
              0.8888888888888888,
              "#fdca26"
             ],
             [
              1,
              "#f0f921"
             ]
            ],
            "type": "histogram2d"
           }
          ],
          "histogram2dcontour": [
           {
            "colorbar": {
             "outlinewidth": 0,
             "ticks": ""
            },
            "colorscale": [
             [
              0,
              "#0d0887"
             ],
             [
              0.1111111111111111,
              "#46039f"
             ],
             [
              0.2222222222222222,
              "#7201a8"
             ],
             [
              0.3333333333333333,
              "#9c179e"
             ],
             [
              0.4444444444444444,
              "#bd3786"
             ],
             [
              0.5555555555555556,
              "#d8576b"
             ],
             [
              0.6666666666666666,
              "#ed7953"
             ],
             [
              0.7777777777777778,
              "#fb9f3a"
             ],
             [
              0.8888888888888888,
              "#fdca26"
             ],
             [
              1,
              "#f0f921"
             ]
            ],
            "type": "histogram2dcontour"
           }
          ],
          "mesh3d": [
           {
            "colorbar": {
             "outlinewidth": 0,
             "ticks": ""
            },
            "type": "mesh3d"
           }
          ],
          "parcoords": [
           {
            "line": {
             "colorbar": {
              "outlinewidth": 0,
              "ticks": ""
             }
            },
            "type": "parcoords"
           }
          ],
          "pie": [
           {
            "automargin": true,
            "type": "pie"
           }
          ],
          "scatter": [
           {
            "fillpattern": {
             "fillmode": "overlay",
             "size": 10,
             "solidity": 0.2
            },
            "type": "scatter"
           }
          ],
          "scatter3d": [
           {
            "line": {
             "colorbar": {
              "outlinewidth": 0,
              "ticks": ""
             }
            },
            "marker": {
             "colorbar": {
              "outlinewidth": 0,
              "ticks": ""
             }
            },
            "type": "scatter3d"
           }
          ],
          "scattercarpet": [
           {
            "marker": {
             "colorbar": {
              "outlinewidth": 0,
              "ticks": ""
             }
            },
            "type": "scattercarpet"
           }
          ],
          "scattergeo": [
           {
            "marker": {
             "colorbar": {
              "outlinewidth": 0,
              "ticks": ""
             }
            },
            "type": "scattergeo"
           }
          ],
          "scattergl": [
           {
            "marker": {
             "colorbar": {
              "outlinewidth": 0,
              "ticks": ""
             }
            },
            "type": "scattergl"
           }
          ],
          "scattermapbox": [
           {
            "marker": {
             "colorbar": {
              "outlinewidth": 0,
              "ticks": ""
             }
            },
            "type": "scattermapbox"
           }
          ],
          "scatterpolar": [
           {
            "marker": {
             "colorbar": {
              "outlinewidth": 0,
              "ticks": ""
             }
            },
            "type": "scatterpolar"
           }
          ],
          "scatterpolargl": [
           {
            "marker": {
             "colorbar": {
              "outlinewidth": 0,
              "ticks": ""
             }
            },
            "type": "scatterpolargl"
           }
          ],
          "scatterternary": [
           {
            "marker": {
             "colorbar": {
              "outlinewidth": 0,
              "ticks": ""
             }
            },
            "type": "scatterternary"
           }
          ],
          "surface": [
           {
            "colorbar": {
             "outlinewidth": 0,
             "ticks": ""
            },
            "colorscale": [
             [
              0,
              "#0d0887"
             ],
             [
              0.1111111111111111,
              "#46039f"
             ],
             [
              0.2222222222222222,
              "#7201a8"
             ],
             [
              0.3333333333333333,
              "#9c179e"
             ],
             [
              0.4444444444444444,
              "#bd3786"
             ],
             [
              0.5555555555555556,
              "#d8576b"
             ],
             [
              0.6666666666666666,
              "#ed7953"
             ],
             [
              0.7777777777777778,
              "#fb9f3a"
             ],
             [
              0.8888888888888888,
              "#fdca26"
             ],
             [
              1,
              "#f0f921"
             ]
            ],
            "type": "surface"
           }
          ],
          "table": [
           {
            "cells": {
             "fill": {
              "color": "#EBF0F8"
             },
             "line": {
              "color": "white"
             }
            },
            "header": {
             "fill": {
              "color": "#C8D4E3"
             },
             "line": {
              "color": "white"
             }
            },
            "type": "table"
           }
          ]
         },
         "layout": {
          "annotationdefaults": {
           "arrowcolor": "#2a3f5f",
           "arrowhead": 0,
           "arrowwidth": 1
          },
          "autotypenumbers": "strict",
          "coloraxis": {
           "colorbar": {
            "outlinewidth": 0,
            "ticks": ""
           }
          },
          "colorscale": {
           "diverging": [
            [
             0,
             "#8e0152"
            ],
            [
             0.1,
             "#c51b7d"
            ],
            [
             0.2,
             "#de77ae"
            ],
            [
             0.3,
             "#f1b6da"
            ],
            [
             0.4,
             "#fde0ef"
            ],
            [
             0.5,
             "#f7f7f7"
            ],
            [
             0.6,
             "#e6f5d0"
            ],
            [
             0.7,
             "#b8e186"
            ],
            [
             0.8,
             "#7fbc41"
            ],
            [
             0.9,
             "#4d9221"
            ],
            [
             1,
             "#276419"
            ]
           ],
           "sequential": [
            [
             0,
             "#0d0887"
            ],
            [
             0.1111111111111111,
             "#46039f"
            ],
            [
             0.2222222222222222,
             "#7201a8"
            ],
            [
             0.3333333333333333,
             "#9c179e"
            ],
            [
             0.4444444444444444,
             "#bd3786"
            ],
            [
             0.5555555555555556,
             "#d8576b"
            ],
            [
             0.6666666666666666,
             "#ed7953"
            ],
            [
             0.7777777777777778,
             "#fb9f3a"
            ],
            [
             0.8888888888888888,
             "#fdca26"
            ],
            [
             1,
             "#f0f921"
            ]
           ],
           "sequentialminus": [
            [
             0,
             "#0d0887"
            ],
            [
             0.1111111111111111,
             "#46039f"
            ],
            [
             0.2222222222222222,
             "#7201a8"
            ],
            [
             0.3333333333333333,
             "#9c179e"
            ],
            [
             0.4444444444444444,
             "#bd3786"
            ],
            [
             0.5555555555555556,
             "#d8576b"
            ],
            [
             0.6666666666666666,
             "#ed7953"
            ],
            [
             0.7777777777777778,
             "#fb9f3a"
            ],
            [
             0.8888888888888888,
             "#fdca26"
            ],
            [
             1,
             "#f0f921"
            ]
           ]
          },
          "colorway": [
           "#636efa",
           "#EF553B",
           "#00cc96",
           "#ab63fa",
           "#FFA15A",
           "#19d3f3",
           "#FF6692",
           "#B6E880",
           "#FF97FF",
           "#FECB52"
          ],
          "font": {
           "color": "#2a3f5f"
          },
          "geo": {
           "bgcolor": "white",
           "lakecolor": "white",
           "landcolor": "#E5ECF6",
           "showlakes": true,
           "showland": true,
           "subunitcolor": "white"
          },
          "hoverlabel": {
           "align": "left"
          },
          "hovermode": "closest",
          "mapbox": {
           "style": "light"
          },
          "paper_bgcolor": "white",
          "plot_bgcolor": "#E5ECF6",
          "polar": {
           "angularaxis": {
            "gridcolor": "white",
            "linecolor": "white",
            "ticks": ""
           },
           "bgcolor": "#E5ECF6",
           "radialaxis": {
            "gridcolor": "white",
            "linecolor": "white",
            "ticks": ""
           }
          },
          "scene": {
           "xaxis": {
            "backgroundcolor": "#E5ECF6",
            "gridcolor": "white",
            "gridwidth": 2,
            "linecolor": "white",
            "showbackground": true,
            "ticks": "",
            "zerolinecolor": "white"
           },
           "yaxis": {
            "backgroundcolor": "#E5ECF6",
            "gridcolor": "white",
            "gridwidth": 2,
            "linecolor": "white",
            "showbackground": true,
            "ticks": "",
            "zerolinecolor": "white"
           },
           "zaxis": {
            "backgroundcolor": "#E5ECF6",
            "gridcolor": "white",
            "gridwidth": 2,
            "linecolor": "white",
            "showbackground": true,
            "ticks": "",
            "zerolinecolor": "white"
           }
          },
          "shapedefaults": {
           "line": {
            "color": "#2a3f5f"
           }
          },
          "ternary": {
           "aaxis": {
            "gridcolor": "white",
            "linecolor": "white",
            "ticks": ""
           },
           "baxis": {
            "gridcolor": "white",
            "linecolor": "white",
            "ticks": ""
           },
           "bgcolor": "#E5ECF6",
           "caxis": {
            "gridcolor": "white",
            "linecolor": "white",
            "ticks": ""
           }
          },
          "title": {
           "x": 0.05
          },
          "xaxis": {
           "automargin": true,
           "gridcolor": "white",
           "linecolor": "white",
           "ticks": "",
           "title": {
            "standoff": 15
           },
           "zerolinecolor": "white",
           "zerolinewidth": 2
          },
          "yaxis": {
           "automargin": true,
           "gridcolor": "white",
           "linecolor": "white",
           "ticks": "",
           "title": {
            "standoff": 15
           },
           "zerolinecolor": "white",
           "zerolinewidth": 2
          }
         }
        },
        "title": {
         "text": "Last layer diag covariance approximation"
        },
        "width": 1000,
        "xaxis": {
         "title": {
          "text": "x"
         }
        },
        "yaxis": {
         "title": {
          "text": "y"
         }
        }
       }
      }
     },
     "metadata": {},
     "output_type": "display_data"
    }
   ],
   "source": [
    "fig = bayesian_regression(last_layer_full_la, train_dataloader, test_dataloader, title=\"Last layer diag covariance approximation\")\n",
    "fig.show()"
   ]
  },
  {
   "attachments": {},
   "cell_type": "markdown",
   "metadata": {},
   "source": [
    "### All layers full approximation"
   ]
  },
  {
   "cell_type": "code",
   "execution_count": 15,
   "metadata": {},
   "outputs": [
    {
     "name": "stdout",
     "output_type": "stream",
     "text": [
      "All layers full covariance approximation NLL:: 0.038498227599171445\n"
     ]
    }
   ],
   "source": [
    "model_copy = copy.deepcopy(map_model)\n",
    "\n",
    "all_full_la, prior_precision = trainer.train_la_posthoc(\n",
    "            model=model_copy,\n",
    "            dataloader=train_dataloader,\n",
    "            subset_of_weights=\"all\",\n",
    "            hessian_structure=\"full\",\n",
    "            sigma_noise=sigma,\n",
    "            prior_mean=config.trainer.la.prior_mean,\n",
    "            prior_precisions=prior_precisions,\n",
    "            val_dataloader=val_dataloader,\n",
    "        )\n",
    "all_full_la_nll = trainer.evaluate_la(all_full_la, test_dataloader)\n",
    "print(f\"All layers full covariance approximation NLL:: {all_full_la_nll}\")"
   ]
  },
  {
   "attachments": {},
   "cell_type": "markdown",
   "metadata": {},
   "source": [
    "### All layers diag approximation."
   ]
  },
  {
   "cell_type": "code",
   "execution_count": 16,
   "metadata": {},
   "outputs": [
    {
     "name": "stdout",
     "output_type": "stream",
     "text": [
      "All layers diag covariance approximation NLL:: 0.17705288379140538\n"
     ]
    }
   ],
   "source": [
    "model_copy = copy.deepcopy(map_model)\n",
    "\n",
    "all_diag_la, prior_precision = trainer.train_la_posthoc(\n",
    "            model=model_copy,\n",
    "            dataloader=train_dataloader,\n",
    "            subset_of_weights=\"all\",\n",
    "            hessian_structure=\"diag\",\n",
    "            sigma_noise=sigma,\n",
    "            prior_mean=config.trainer.la.prior_mean,\n",
    "            prior_precisions=prior_precisions,\n",
    "            val_dataloader=val_dataloader,\n",
    "        )\n",
    "all_diag_la_nll = trainer.evaluate_la(all_diag_la, test_dataloader)\n",
    "print(f\"All layers diag covariance approximation NLL:: {all_diag_la_nll}\")"
   ]
  },
  {
   "cell_type": "code",
   "execution_count": 17,
   "metadata": {},
   "outputs": [],
   "source": [
    "subnet_sizes = [30, 90, 300, 600, 1200, 1800]\n"
   ]
  },
  {
   "attachments": {},
   "cell_type": "markdown",
   "metadata": {},
   "source": [
    "### Subnetwork Inference using LargestVarianceDiagLaplaceSubnetMask"
   ]
  },
  {
   "cell_type": "code",
   "execution_count": 18,
   "metadata": {},
   "outputs": [
    {
     "name": "stdout",
     "output_type": "stream",
     "text": [
      "LA NLL: 1.3187190531038138\n",
      "LA NLL: 0.8784570077040961\n",
      "LA NLL: 0.5605159126039748\n",
      "LA NLL: 0.5333250890330301\n",
      "LA NLL: 0.5410132977950712\n",
      "LA NLL: 0.47584607316075167\n"
     ]
    }
   ],
   "source": [
    "largest_variance_subnet_results = []\n",
    "for n_params_subnet in subnet_sizes:\n",
    "    model_for_selection = copy.deepcopy(map_model)\n",
    "    laplace_model_for_selection = Laplace(\n",
    "        model=model_for_selection,\n",
    "        likelihood=\"regression\",\n",
    "        subset_of_weights=\"all\",\n",
    "        hessian_structure=\"diag\",\n",
    "        sigma_noise=sigma,\n",
    "        prior_mean=config.trainer.la.prior_mean,\n",
    "    )\n",
    "\n",
    "    subnetwork_mask = LargestVarianceDiagLaplaceSubnetMask(\n",
    "        model_for_selection,\n",
    "        n_params_subnet=n_params_subnet,\n",
    "        diag_laplace_model=laplace_model_for_selection,\n",
    "    )\n",
    "    subnetwork_indices = subnetwork_mask.select(train_loader=train_dataloader)\n",
    "    subnetwork_indices = torch.tensor(\n",
    "        subnetwork_indices.cpu().numpy(), dtype=torch.long\n",
    "    )\n",
    "\n",
    "    model_copy = copy.deepcopy(map_model)\n",
    "    la, prior_precision = trainer.train_la_posthoc(\n",
    "        model=model_copy,\n",
    "        dataloader=train_dataloader,\n",
    "        subset_of_weights=\"subnetwork\",\n",
    "        hessian_structure=\"full\",\n",
    "        sigma_noise=sigma,\n",
    "        prior_mean=config.trainer.la.prior_mean,\n",
    "        prior_precisions=prior_precisions,\n",
    "        subnetwork_indices=subnetwork_indices,\n",
    "        val_dataloader=val_dataloader,\n",
    "    )\n",
    "\n",
    "    nll = trainer.evaluate_la(la, test_dataloader)\n",
    "    largest_variance_subnet_results.append(nll)\n",
    "    print(f\"LA NLL: {nll}\")\n",
    "\n",
    "    fig = bayesian_regression(la, train_dataloader, test_dataloader, title=f\"LVD with subnetwork size {n_params_subnet}\")\n",
    "    fig.write_image(f\"figures/LVD_{n_params_subnet}.png\")"
   ]
  },
  {
   "attachments": {},
   "cell_type": "markdown",
   "metadata": {},
   "source": [
    "### Subnetwork Inference using OBDSubnetMask (Pruning using optimal brain damage)"
   ]
  },
  {
   "cell_type": "code",
   "execution_count": 19,
   "metadata": {},
   "outputs": [
    {
     "name": "stdout",
     "output_type": "stream",
     "text": [
      "LA NLL: 0.887423153731364\n",
      "LA NLL: -0.10934171526389458\n",
      "LA NLL: -0.1311254595824427\n",
      "LA NLL: -0.11773724600288567\n",
      "LA NLL: -0.10200218936993706\n",
      "LA NLL: -0.024923823348913864\n"
     ]
    }
   ],
   "source": [
    "obd_subnet_results = []\n",
    "for n_params_subnet in subnet_sizes:\n",
    "    model_for_selection = copy.deepcopy(map_model)\n",
    "    laplace_model_for_selection = Laplace(\n",
    "        model=model_for_selection,\n",
    "        likelihood=\"regression\",\n",
    "        subset_of_weights=\"all\",\n",
    "        hessian_structure=\"diag\",\n",
    "        sigma_noise=sigma,\n",
    "        prior_mean=config.trainer.la.prior_mean,\n",
    "    )\n",
    "\n",
    "    subnetwork_mask = OBDSubnetMask(\n",
    "        model_for_selection,\n",
    "        n_params_subnet=n_params_subnet,\n",
    "        diag_laplace_model=laplace_model_for_selection,\n",
    "    )\n",
    "    subnetwork_indices = subnetwork_mask.select(train_loader=train_dataloader)\n",
    "    subnetwork_indices = torch.tensor(\n",
    "        subnetwork_indices.cpu().numpy(), dtype=torch.long\n",
    "    )\n",
    "\n",
    "    model_copy = copy.deepcopy(map_model)\n",
    "    la, prior_precision = trainer.train_la_posthoc(\n",
    "        model=model_copy,\n",
    "        dataloader=train_dataloader,\n",
    "        subset_of_weights=\"subnetwork\",\n",
    "        hessian_structure=\"full\",\n",
    "        sigma_noise=sigma,\n",
    "        prior_mean=config.trainer.la.prior_mean,\n",
    "        prior_precisions=prior_precisions,\n",
    "        subnetwork_indices=subnetwork_indices,\n",
    "        val_dataloader=val_dataloader,\n",
    "    )\n",
    "\n",
    "    nll = trainer.evaluate_la(la, test_dataloader)\n",
    "    obd_subnet_results.append(nll)\n",
    "    print(f\"LA NLL: {nll}\")\n",
    "    fig = bayesian_regression(la, train_dataloader, test_dataloader, title=f\"OBD with subnetwork size {n_params_subnet}\")\n",
    "    fig.write_image(f\"figures/OBD_{n_params_subnet}.png\")"
   ]
  },
  {
   "attachments": {},
   "cell_type": "markdown",
   "metadata": {},
   "source": [
    "### Subnetwork Inference using KroneckerFactoredEigenSubnetMask"
   ]
  },
  {
   "cell_type": "code",
   "execution_count": 20,
   "metadata": {},
   "outputs": [
    {
     "name": "stdout",
     "output_type": "stream",
     "text": [
      "LA NLL: 0.6282977502766957\n",
      "LA NLL: 0.151787379523569\n",
      "LA NLL: 0.050763550564994674\n",
      "LA NLL: 0.09392451283720997\n",
      "LA NLL: -0.07065211042267279\n",
      "LA NLL: -0.022591145445839563\n"
     ]
    }
   ],
   "source": [
    "kfe_subnet_results = []\n",
    "for n_params_subnet in subnet_sizes:\n",
    "    model_for_selection = copy.deepcopy(map_model)\n",
    "    laplace_model_for_selection = Laplace(\n",
    "        model=model_for_selection,\n",
    "        likelihood=\"regression\",\n",
    "        subset_of_weights=\"all\",\n",
    "        hessian_structure=\"kron\",\n",
    "        sigma_noise=sigma,\n",
    "        prior_mean=config.trainer.la.prior_mean,\n",
    "    )\n",
    "\n",
    "    subnetwork_mask = KronckerFactoredEigenSubnetMask(\n",
    "        model_for_selection,\n",
    "        n_params_subnet=n_params_subnet,\n",
    "        kron_laplace_model=laplace_model_for_selection,\n",
    "    )\n",
    "    subnetwork_indices = subnetwork_mask.select(train_loader=train_dataloader)\n",
    "    subnetwork_indices = torch.tensor(\n",
    "        subnetwork_indices.cpu().numpy(), dtype=torch.long\n",
    "    )\n",
    "\n",
    "    model_copy = copy.deepcopy(map_model)\n",
    "    la, prior_precision = trainer.train_la_posthoc(\n",
    "        model=model_copy,\n",
    "        dataloader=train_dataloader,\n",
    "        subset_of_weights=\"subnetwork\",\n",
    "        hessian_structure=\"full\",\n",
    "        sigma_noise=sigma,\n",
    "        prior_mean=config.trainer.la.prior_mean,\n",
    "        subnetwork_indices=subnetwork_indices,\n",
    "        prior_precisions=prior_precisions,\n",
    "        val_dataloader=val_dataloader,\n",
    "    )\n",
    "\n",
    "    nll = trainer.evaluate_la(la, test_dataloader)\n",
    "    kfe_subnet_results.append(nll)\n",
    "    print(f\"LA NLL: {nll}\")\n",
    "    fig = bayesian_regression(la, train_dataloader, test_dataloader, title=f\"KFE with subnetwork size {n_params_subnet}\")\n",
    "    fig.write_image(f\"figures/KFE_{n_params_subnet}.png\")"
   ]
  },
  {
   "attachments": {},
   "cell_type": "markdown",
   "metadata": {},
   "source": [
    "### Compare the results"
   ]
  },
  {
   "cell_type": "code",
   "execution_count": 21,
   "metadata": {},
   "outputs": [
    {
     "data": {
      "application/vnd.plotly.v1+json": {
       "config": {
        "plotlyServerURL": "https://plot.ly"
       },
       "data": [
        {
         "name": "KFE",
         "type": "bar",
         "x": [
          "30",
          "90",
          "300",
          "600",
          "1200",
          "1800"
         ],
         "y": [
          0.6282977502766957,
          0.151787379523569,
          0.050763550564994674,
          0.09392451283720997,
          -0.07065211042267279,
          -0.022591145445839563
         ]
        },
        {
         "name": "LVD",
         "type": "bar",
         "x": [
          "30",
          "90",
          "300",
          "600",
          "1200",
          "1800"
         ],
         "y": [
          1.3187190531038138,
          0.8784570077040961,
          0.5605159126039748,
          0.5333250890330301,
          0.5410132977950712,
          0.47584607316075167
         ]
        },
        {
         "name": "OBD",
         "type": "bar",
         "x": [
          "30",
          "90",
          "300",
          "600",
          "1200",
          "1800"
         ],
         "y": [
          0.887423153731364,
          -0.10934171526389458,
          -0.1311254595824427,
          -0.11773724600288567,
          -0.10200218936993706,
          -0.024923823348913864
         ]
        },
        {
         "name": "Full Covariance",
         "type": "bar",
         "x": [
          "All",
          "LL"
         ],
         "y": [
          0.038498227599171445,
          0.5192822066399496
         ]
        },
        {
         "name": "Diag",
         "type": "bar",
         "x": [
          "All",
          "LL"
         ],
         "y": [
          0.17705288379140538,
          0.8896953326786995
         ]
        }
       ],
       "layout": {
        "autosize": true,
        "barmode": "group",
        "height": 500,
        "hovermode": "x",
        "template": {
         "data": {
          "bar": [
           {
            "error_x": {
             "color": "#2a3f5f"
            },
            "error_y": {
             "color": "#2a3f5f"
            },
            "marker": {
             "line": {
              "color": "#E5ECF6",
              "width": 0.5
             },
             "pattern": {
              "fillmode": "overlay",
              "size": 10,
              "solidity": 0.2
             }
            },
            "type": "bar"
           }
          ],
          "barpolar": [
           {
            "marker": {
             "line": {
              "color": "#E5ECF6",
              "width": 0.5
             },
             "pattern": {
              "fillmode": "overlay",
              "size": 10,
              "solidity": 0.2
             }
            },
            "type": "barpolar"
           }
          ],
          "carpet": [
           {
            "aaxis": {
             "endlinecolor": "#2a3f5f",
             "gridcolor": "white",
             "linecolor": "white",
             "minorgridcolor": "white",
             "startlinecolor": "#2a3f5f"
            },
            "baxis": {
             "endlinecolor": "#2a3f5f",
             "gridcolor": "white",
             "linecolor": "white",
             "minorgridcolor": "white",
             "startlinecolor": "#2a3f5f"
            },
            "type": "carpet"
           }
          ],
          "choropleth": [
           {
            "colorbar": {
             "outlinewidth": 0,
             "ticks": ""
            },
            "type": "choropleth"
           }
          ],
          "contour": [
           {
            "colorbar": {
             "outlinewidth": 0,
             "ticks": ""
            },
            "colorscale": [
             [
              0,
              "#0d0887"
             ],
             [
              0.1111111111111111,
              "#46039f"
             ],
             [
              0.2222222222222222,
              "#7201a8"
             ],
             [
              0.3333333333333333,
              "#9c179e"
             ],
             [
              0.4444444444444444,
              "#bd3786"
             ],
             [
              0.5555555555555556,
              "#d8576b"
             ],
             [
              0.6666666666666666,
              "#ed7953"
             ],
             [
              0.7777777777777778,
              "#fb9f3a"
             ],
             [
              0.8888888888888888,
              "#fdca26"
             ],
             [
              1,
              "#f0f921"
             ]
            ],
            "type": "contour"
           }
          ],
          "contourcarpet": [
           {
            "colorbar": {
             "outlinewidth": 0,
             "ticks": ""
            },
            "type": "contourcarpet"
           }
          ],
          "heatmap": [
           {
            "colorbar": {
             "outlinewidth": 0,
             "ticks": ""
            },
            "colorscale": [
             [
              0,
              "#0d0887"
             ],
             [
              0.1111111111111111,
              "#46039f"
             ],
             [
              0.2222222222222222,
              "#7201a8"
             ],
             [
              0.3333333333333333,
              "#9c179e"
             ],
             [
              0.4444444444444444,
              "#bd3786"
             ],
             [
              0.5555555555555556,
              "#d8576b"
             ],
             [
              0.6666666666666666,
              "#ed7953"
             ],
             [
              0.7777777777777778,
              "#fb9f3a"
             ],
             [
              0.8888888888888888,
              "#fdca26"
             ],
             [
              1,
              "#f0f921"
             ]
            ],
            "type": "heatmap"
           }
          ],
          "heatmapgl": [
           {
            "colorbar": {
             "outlinewidth": 0,
             "ticks": ""
            },
            "colorscale": [
             [
              0,
              "#0d0887"
             ],
             [
              0.1111111111111111,
              "#46039f"
             ],
             [
              0.2222222222222222,
              "#7201a8"
             ],
             [
              0.3333333333333333,
              "#9c179e"
             ],
             [
              0.4444444444444444,
              "#bd3786"
             ],
             [
              0.5555555555555556,
              "#d8576b"
             ],
             [
              0.6666666666666666,
              "#ed7953"
             ],
             [
              0.7777777777777778,
              "#fb9f3a"
             ],
             [
              0.8888888888888888,
              "#fdca26"
             ],
             [
              1,
              "#f0f921"
             ]
            ],
            "type": "heatmapgl"
           }
          ],
          "histogram": [
           {
            "marker": {
             "pattern": {
              "fillmode": "overlay",
              "size": 10,
              "solidity": 0.2
             }
            },
            "type": "histogram"
           }
          ],
          "histogram2d": [
           {
            "colorbar": {
             "outlinewidth": 0,
             "ticks": ""
            },
            "colorscale": [
             [
              0,
              "#0d0887"
             ],
             [
              0.1111111111111111,
              "#46039f"
             ],
             [
              0.2222222222222222,
              "#7201a8"
             ],
             [
              0.3333333333333333,
              "#9c179e"
             ],
             [
              0.4444444444444444,
              "#bd3786"
             ],
             [
              0.5555555555555556,
              "#d8576b"
             ],
             [
              0.6666666666666666,
              "#ed7953"
             ],
             [
              0.7777777777777778,
              "#fb9f3a"
             ],
             [
              0.8888888888888888,
              "#fdca26"
             ],
             [
              1,
              "#f0f921"
             ]
            ],
            "type": "histogram2d"
           }
          ],
          "histogram2dcontour": [
           {
            "colorbar": {
             "outlinewidth": 0,
             "ticks": ""
            },
            "colorscale": [
             [
              0,
              "#0d0887"
             ],
             [
              0.1111111111111111,
              "#46039f"
             ],
             [
              0.2222222222222222,
              "#7201a8"
             ],
             [
              0.3333333333333333,
              "#9c179e"
             ],
             [
              0.4444444444444444,
              "#bd3786"
             ],
             [
              0.5555555555555556,
              "#d8576b"
             ],
             [
              0.6666666666666666,
              "#ed7953"
             ],
             [
              0.7777777777777778,
              "#fb9f3a"
             ],
             [
              0.8888888888888888,
              "#fdca26"
             ],
             [
              1,
              "#f0f921"
             ]
            ],
            "type": "histogram2dcontour"
           }
          ],
          "mesh3d": [
           {
            "colorbar": {
             "outlinewidth": 0,
             "ticks": ""
            },
            "type": "mesh3d"
           }
          ],
          "parcoords": [
           {
            "line": {
             "colorbar": {
              "outlinewidth": 0,
              "ticks": ""
             }
            },
            "type": "parcoords"
           }
          ],
          "pie": [
           {
            "automargin": true,
            "type": "pie"
           }
          ],
          "scatter": [
           {
            "fillpattern": {
             "fillmode": "overlay",
             "size": 10,
             "solidity": 0.2
            },
            "type": "scatter"
           }
          ],
          "scatter3d": [
           {
            "line": {
             "colorbar": {
              "outlinewidth": 0,
              "ticks": ""
             }
            },
            "marker": {
             "colorbar": {
              "outlinewidth": 0,
              "ticks": ""
             }
            },
            "type": "scatter3d"
           }
          ],
          "scattercarpet": [
           {
            "marker": {
             "colorbar": {
              "outlinewidth": 0,
              "ticks": ""
             }
            },
            "type": "scattercarpet"
           }
          ],
          "scattergeo": [
           {
            "marker": {
             "colorbar": {
              "outlinewidth": 0,
              "ticks": ""
             }
            },
            "type": "scattergeo"
           }
          ],
          "scattergl": [
           {
            "marker": {
             "colorbar": {
              "outlinewidth": 0,
              "ticks": ""
             }
            },
            "type": "scattergl"
           }
          ],
          "scattermapbox": [
           {
            "marker": {
             "colorbar": {
              "outlinewidth": 0,
              "ticks": ""
             }
            },
            "type": "scattermapbox"
           }
          ],
          "scatterpolar": [
           {
            "marker": {
             "colorbar": {
              "outlinewidth": 0,
              "ticks": ""
             }
            },
            "type": "scatterpolar"
           }
          ],
          "scatterpolargl": [
           {
            "marker": {
             "colorbar": {
              "outlinewidth": 0,
              "ticks": ""
             }
            },
            "type": "scatterpolargl"
           }
          ],
          "scatterternary": [
           {
            "marker": {
             "colorbar": {
              "outlinewidth": 0,
              "ticks": ""
             }
            },
            "type": "scatterternary"
           }
          ],
          "surface": [
           {
            "colorbar": {
             "outlinewidth": 0,
             "ticks": ""
            },
            "colorscale": [
             [
              0,
              "#0d0887"
             ],
             [
              0.1111111111111111,
              "#46039f"
             ],
             [
              0.2222222222222222,
              "#7201a8"
             ],
             [
              0.3333333333333333,
              "#9c179e"
             ],
             [
              0.4444444444444444,
              "#bd3786"
             ],
             [
              0.5555555555555556,
              "#d8576b"
             ],
             [
              0.6666666666666666,
              "#ed7953"
             ],
             [
              0.7777777777777778,
              "#fb9f3a"
             ],
             [
              0.8888888888888888,
              "#fdca26"
             ],
             [
              1,
              "#f0f921"
             ]
            ],
            "type": "surface"
           }
          ],
          "table": [
           {
            "cells": {
             "fill": {
              "color": "#EBF0F8"
             },
             "line": {
              "color": "white"
             }
            },
            "header": {
             "fill": {
              "color": "#C8D4E3"
             },
             "line": {
              "color": "white"
             }
            },
            "type": "table"
           }
          ]
         },
         "layout": {
          "annotationdefaults": {
           "arrowcolor": "#2a3f5f",
           "arrowhead": 0,
           "arrowwidth": 1
          },
          "autotypenumbers": "strict",
          "coloraxis": {
           "colorbar": {
            "outlinewidth": 0,
            "ticks": ""
           }
          },
          "colorscale": {
           "diverging": [
            [
             0,
             "#8e0152"
            ],
            [
             0.1,
             "#c51b7d"
            ],
            [
             0.2,
             "#de77ae"
            ],
            [
             0.3,
             "#f1b6da"
            ],
            [
             0.4,
             "#fde0ef"
            ],
            [
             0.5,
             "#f7f7f7"
            ],
            [
             0.6,
             "#e6f5d0"
            ],
            [
             0.7,
             "#b8e186"
            ],
            [
             0.8,
             "#7fbc41"
            ],
            [
             0.9,
             "#4d9221"
            ],
            [
             1,
             "#276419"
            ]
           ],
           "sequential": [
            [
             0,
             "#0d0887"
            ],
            [
             0.1111111111111111,
             "#46039f"
            ],
            [
             0.2222222222222222,
             "#7201a8"
            ],
            [
             0.3333333333333333,
             "#9c179e"
            ],
            [
             0.4444444444444444,
             "#bd3786"
            ],
            [
             0.5555555555555556,
             "#d8576b"
            ],
            [
             0.6666666666666666,
             "#ed7953"
            ],
            [
             0.7777777777777778,
             "#fb9f3a"
            ],
            [
             0.8888888888888888,
             "#fdca26"
            ],
            [
             1,
             "#f0f921"
            ]
           ],
           "sequentialminus": [
            [
             0,
             "#0d0887"
            ],
            [
             0.1111111111111111,
             "#46039f"
            ],
            [
             0.2222222222222222,
             "#7201a8"
            ],
            [
             0.3333333333333333,
             "#9c179e"
            ],
            [
             0.4444444444444444,
             "#bd3786"
            ],
            [
             0.5555555555555556,
             "#d8576b"
            ],
            [
             0.6666666666666666,
             "#ed7953"
            ],
            [
             0.7777777777777778,
             "#fb9f3a"
            ],
            [
             0.8888888888888888,
             "#fdca26"
            ],
            [
             1,
             "#f0f921"
            ]
           ]
          },
          "colorway": [
           "#636efa",
           "#EF553B",
           "#00cc96",
           "#ab63fa",
           "#FFA15A",
           "#19d3f3",
           "#FF6692",
           "#B6E880",
           "#FF97FF",
           "#FECB52"
          ],
          "font": {
           "color": "#2a3f5f"
          },
          "geo": {
           "bgcolor": "white",
           "lakecolor": "white",
           "landcolor": "#E5ECF6",
           "showlakes": true,
           "showland": true,
           "subunitcolor": "white"
          },
          "hoverlabel": {
           "align": "left"
          },
          "hovermode": "closest",
          "mapbox": {
           "style": "light"
          },
          "paper_bgcolor": "white",
          "plot_bgcolor": "#E5ECF6",
          "polar": {
           "angularaxis": {
            "gridcolor": "white",
            "linecolor": "white",
            "ticks": ""
           },
           "bgcolor": "#E5ECF6",
           "radialaxis": {
            "gridcolor": "white",
            "linecolor": "white",
            "ticks": ""
           }
          },
          "scene": {
           "xaxis": {
            "backgroundcolor": "#E5ECF6",
            "gridcolor": "white",
            "gridwidth": 2,
            "linecolor": "white",
            "showbackground": true,
            "ticks": "",
            "zerolinecolor": "white"
           },
           "yaxis": {
            "backgroundcolor": "#E5ECF6",
            "gridcolor": "white",
            "gridwidth": 2,
            "linecolor": "white",
            "showbackground": true,
            "ticks": "",
            "zerolinecolor": "white"
           },
           "zaxis": {
            "backgroundcolor": "#E5ECF6",
            "gridcolor": "white",
            "gridwidth": 2,
            "linecolor": "white",
            "showbackground": true,
            "ticks": "",
            "zerolinecolor": "white"
           }
          },
          "shapedefaults": {
           "line": {
            "color": "#2a3f5f"
           }
          },
          "ternary": {
           "aaxis": {
            "gridcolor": "white",
            "linecolor": "white",
            "ticks": ""
           },
           "baxis": {
            "gridcolor": "white",
            "linecolor": "white",
            "ticks": ""
           },
           "bgcolor": "#E5ECF6",
           "caxis": {
            "gridcolor": "white",
            "linecolor": "white",
            "ticks": ""
           }
          },
          "title": {
           "x": 0.05
          },
          "xaxis": {
           "automargin": true,
           "gridcolor": "white",
           "linecolor": "white",
           "ticks": "",
           "title": {
            "standoff": 15
           },
           "zerolinecolor": "white",
           "zerolinewidth": 2
          },
          "yaxis": {
           "automargin": true,
           "gridcolor": "white",
           "linecolor": "white",
           "ticks": "",
           "title": {
            "standoff": 15
           },
           "zerolinecolor": "white",
           "zerolinewidth": 2
          }
         }
        },
        "title": {
         "text": "Comparison of selection strategies (Snelson 1D)"
        },
        "width": 1000,
        "xaxis": {
         "title": {
          "text": "subnetwork size"
         }
        },
        "yaxis": {
         "title": {
          "text": "NLL"
         }
        }
       }
      }
     },
     "metadata": {},
     "output_type": "display_data"
    }
   ],
   "source": [
    "\n",
    "fig = go.Figure(data=[\n",
    "    go.Bar(name='KFE', x=[str(s) for s in subnet_sizes], y=kfe_subnet_results),\n",
    "    go.Bar(name='LVD', x=[str(s) for s in subnet_sizes], y=largest_variance_subnet_results), \n",
    "    go.Bar(name='OBD', x=[str(s) for s in subnet_sizes], y=obd_subnet_results),\n",
    "    go.Bar(name='Full Covariance', x=['All', 'LL'], y=[all_full_la_nll, last_layer_full_la_nll]),\n",
    "    go.Bar(name='Diag', x=['All', 'LL'], y=[all_diag_la_nll, last_layer_diag_la_nll]),\n",
    "    \n",
    "    \n",
    "])\n",
    "fig.update_layout(barmode='group')\n",
    "fig.update_layout(yaxis_title=\"NLL\", xaxis_title=\"subnetwork size\", title=\"Comparison of selection strategies (Snelson 1D)\", hovermode=\"x\")\n",
    "\n",
    "fig.update_layout(autosize=True, width=1000, height=500)\n",
    "fig.show()\n"
   ]
  },
  {
   "attachments": {},
   "cell_type": "markdown",
   "metadata": {},
   "source": [
    "## Conclusion"
   ]
  },
  {
   "attachments": {},
   "cell_type": "markdown",
   "metadata": {},
   "source": [
    "- OBDSubnetMask is the best method for this dataset. It consistently outperforms the other methods.\n",
    "    - At the start of the project, we didn't expect the pruning methods to work better than the appoach proposed by the authors as the pruning methods are not designed to retain the weights with the largest variance. One of the core ideas of the paper is that by doing a subnetwork inference over the weigts with maximum variance, uncertainty is captured better. However, on the Snelson 1D dataset, the pruning methods work better than the approach proposed by the authors.\n",
    "    - One reason for this could be that the dataset is low dimensional and the network used to model the data is too expressive and there are too many parameters with low saliency and Optimal Brain Damage is able to easily prune them out.\n",
    "    - This led to us doing some experiments on finding the overlap between the subnetworks selected by different strategies. \n",
    "- KroneckerFactoredEigenSubnetMask didn't outperform OBDSubnetMask but it consistently outperformed LargestVarianceDiagLaplaceSubnetMask\n",
    "    - The results are inline with the hypothesis that KroneckerFactoredEigenSubnetMask is a better approximation than LargestVarianceDiagLaplaceSubnetMask.\n",
    "    - Taking into consideration the covariances between weigts within each layer seems to be important for subnetwork inference.\n",
    "    - It is also quite efficient and computationally feasible for larger networks.\n",
    "    - It also enables to do a more structured subnetwork inference by considering more complex covariances for example covariance in the same channel in a convolutional layer etc.\n",
    "\n",
    "- Overall the LargestVarianceDiagLaplaceSubnetMask is the worst performing method on Snelson 1D and the same results repeated in other experiments as well."
   ]
  }
 ],
 "metadata": {
  "kernelspec": {
   "display_name": "laplace_regression",
   "language": "python",
   "name": "python3"
  },
  "language_info": {
   "codemirror_mode": {
    "name": "ipython",
    "version": 3
   },
   "file_extension": ".py",
   "mimetype": "text/x-python",
   "name": "python",
   "nbconvert_exporter": "python",
   "pygments_lexer": "ipython3",
   "version": "3.8.16"
  }
 },
 "nbformat": 4,
 "nbformat_minor": 2
}
