{
 "cells": [
  {
   "attachments": {},
   "cell_type": "markdown",
   "metadata": {},
   "source": [
    "# Subnetwork Inference on Snelson 1D dataset"
   ]
  },
  {
   "cell_type": "code",
   "execution_count": 1,
   "metadata": {},
   "outputs": [],
   "source": [
    "%load_ext autoreload\n",
    "%autoreload 2"
   ]
  },
  {
   "attachments": {},
   "cell_type": "markdown",
   "metadata": {},
   "source": [
    "## Imports and configuration"
   ]
  },
  {
   "cell_type": "code",
   "execution_count": 2,
   "metadata": {},
   "outputs": [
    {
     "ename": "IndentationError",
     "evalue": "unexpected indent (main.py, line 154)",
     "output_type": "error",
     "traceback": [
      "Traceback \u001b[0;36m(most recent call last)\u001b[0m:\n",
      "\u001b[0m  File \u001b[1;32m~/opt/miniconda3/envs/subnetwork_inference/lib/python3.8/site-packages/IPython/core/interactiveshell.py:3508\u001b[0m in \u001b[1;35mrun_code\u001b[0m\n    exec(code_obj, self.user_global_ns, self.user_ns)\u001b[0m\n",
      "\u001b[0;36m  Cell \u001b[0;32mIn[2], line 9\u001b[0;36m\n\u001b[0;31m    from main import set_seed, get_device\u001b[0;36m\n",
      "\u001b[0;36m  File \u001b[0;32m~/Documents/msc_ai/dl2/subnetwork_inference/main.py:154\u001b[0;36m\u001b[0m\n\u001b[0;31m    model_copy = copy.deepcopy(map_model)\u001b[0m\n\u001b[0m    ^\u001b[0m\n\u001b[0;31mIndentationError\u001b[0m\u001b[0;31m:\u001b[0m unexpected indent\n"
     ]
    }
   ],
   "source": [
    "import numpy as np\n",
    "import torch\n",
    "import copy\n",
    "import plotly.graph_objects as go\n",
    "\n",
    "from torch.utils.data import ConcatDataset, DataLoader\n",
    "\n",
    "from data.snelson1d import Snelson1D\n",
    "from main import set_seed, get_device\n",
    "from util.plots import plot_data, plot_regression, plot_bayesian_regression\n",
    "from models.nets import create_mlp\n",
    "from trainer import ModelTrainer\n",
    "\n",
    "from laplace import Laplace\n",
    "from laplace.utils import LargestVarianceDiagLaplaceSubnetMask\n",
    "from strategies.pruning import OBDSubnetMask\n",
    "from strategies.kfe import KronckerFactoredEigenSubnetMask\n",
    "\n"
   ]
  },
  {
   "attachments": {},
   "cell_type": "markdown",
   "metadata": {},
   "source": [
    "### Read configuration for Snelson experiments "
   ]
  },
  {
   "cell_type": "code",
   "execution_count": null,
   "metadata": {},
   "outputs": [],
   "source": [
    "from hydra import initialize, compose\n",
    "from omegaconf import OmegaConf\n",
    "try:\n",
    "    initialize(version_base=None, config_path=\"configuration\")\n",
    "except Exception as e:\n",
    "    print(e)\n",
    "config = compose(config_name=\"snelson.yaml\")\n",
    "set_seed(config.seed)\n"
   ]
  },
  {
   "attachments": {},
   "cell_type": "markdown",
   "metadata": {},
   "source": [
    "## Import data and visualize"
   ]
  },
  {
   "cell_type": "code",
   "execution_count": null,
   "metadata": {},
   "outputs": [],
   "source": [
    "snelson1d = Snelson1D(config.data.path)\n",
    "train_dataloader, val_dataloader, test_dataloader = snelson1d.get_dataloaders(batch_size=config.trainer.batch_size, val_size=config.data.val_size, random_state=config.data.seed)"
   ]
  },
  {
   "cell_type": "code",
   "execution_count": null,
   "metadata": {},
   "outputs": [
    {
     "data": {
      "application/vnd.plotly.v1+json": {
       "config": {
        "plotlyServerURL": "https://plot.ly"
       },
       "data": [
        {
         "line": {
          "color": "red"
         },
         "mode": "markers",
         "name": "Train",
         "type": "scatter",
         "x": [
          -1.337305284443211,
          -0.6505575615004684,
          -1.1706828703822998,
          -1.0048781172148298,
          1.0565193525847998,
          -0.9341019618420752,
          -0.5349868759873495,
          0.9594500563170882,
          -1.2322372817727305,
          -0.8098621340437078,
          0.5148387174316689,
          0.5803617706424027,
          1.1427894843640654,
          0.5637229064551632,
          0.9557879865412287,
          -0.6062782511776712,
          -1.2161835929855433,
          0.7052427112184918,
          1.3887819582783902,
          -0.6537149081821738,
          -0.9513328412297837,
          -1.475720842401142,
          -0.8007836872661649,
          -1.23092160214396,
          -1.333469104500295,
          0.8426891778105761,
          -1.014792238617606,
          -0.8628407901268635,
          0.9943063564512253,
          0.8153374931500585,
          -1.3238558665950806,
          0.7821298557996577,
          0.7319730575737817,
          -0.9371114063048578,
          0.9159809576001492,
          -1.097824842292453,
          -1.346095376070491,
          -0.5465489152451033,
          0.7744184887352086,
          -1.2166625144563414,
          0.912415999446055,
          -1.267748780610201,
          1.2984139733996534,
          0.8010081112759737,
          1.3669482995346671,
          -0.8262832758711316,
          0.5256736385005145,
          -1.4159281942961977,
          1.3397244040165979,
          -0.5026456585036609,
          1.3699639743107008,
          0.8687408940670442,
          1.454371310148614,
          1.297511932394134,
          0.6425992139834094,
          1.1894860885075835,
          -1.2326131999124934,
          0.7281290220185053,
          -0.5347297401241398,
          0.9852863527208116,
          -1.269458730714507,
          -1.1905681340982608,
          -0.8023330713626566,
          -1.2644494911396391,
          1.0494825523714,
          -1.4853594349724577,
          1.165271637452297,
          -1.1984372906178793,
          -1.2541102185782558,
          0.7263760692086061,
          1.4285434111236208,
          0.8758575370991757,
          1.1870057466255908,
          1.3654140171757305,
          0.6909921563511956,
          -1.4965170862677222,
          1.4770925176474674,
          -0.8844463652289509,
          1.264028061915992,
          -0.7695520750283793,
          0.6475361954687213,
          0.5193214955367993,
          1.3983383784355845,
          0.7356005220227777,
          -1.1219786155143354,
          0.574599678976067,
          0.5625489664528609,
          1.2835634799987314,
          0.9143722500861768,
          -0.6831412871553857,
          -0.6047248038334065,
          0.795665549942159,
          -1.4270346215812086,
          -0.7833463271708117,
          -1.1008958449589905,
          -1.1763855031895634,
          1.2303244374541475,
          1.1777674787689918,
          -0.739685036834228,
          -1.0676826545033,
          -0.9303859185916361,
          -1.0959717981457548,
          0.7364796056783818,
          1.0803037765841523
         ],
         "y": [
          0.22704033068578572,
          0.48213400083255037,
          0.20785458160346182,
          0.00026943756731534485,
          0.706442008093481,
          0.07158809090658802,
          0.42623770676391837,
          1,
          0.21982861064577247,
          0.26543594880733284,
          0.7739387807255895,
          0.5189987429384414,
          0.888130675102298,
          0.8404413522659699,
          0.8604278427369398,
          0.40377064344750196,
          0.2154583391868351,
          0.66607830149852,
          0.3717250393155298,
          0.4258012267292421,
          0.06920295072963467,
          0.1654301953151749,
          0.2928651932079143,
          0.10034478595950258,
          0.16821843291816418,
          0.8726242107185324,
          0.0457404979723941,
          0.24996343767509033,
          0.9072010749029378,
          0.8217604485888413,
          0.15680228083018777,
          0.9677590595146406,
          0.8710789362651906,
          0.052672691243608516,
          0.8457074389241511,
          0.2362547719275705,
          0.30863176191225844,
          0.498244205386257,
          0.9808506955842595,
          0.16497494583598948,
          0.9027645588648137,
          0.10031113567816974,
          0.6611235452430386,
          0.8751842558805043,
          0.4639940107205561,
          0.24651566632381033,
          0.44618619653693903,
          0.14744626720723614,
          0.4535021177322158,
          0.6354437941468748,
          0.5384571357774733,
          0.9465656181662574,
          0.33371166368167493,
          0.5566899200699926,
          0.8137168724157819,
          0.7540921389413057,
          0.28237639463355674,
          0.7138127080640428,
          0.45861115993931656,
          0.974475055611208,
          0.17538097177776796,
          0.027531960119475007,
          0.04906352208317366,
          0.11910208224646457,
          0.7356842937664854,
          0.3354713910249758,
          0.8111442642860152,
          0.05341190909341209,
          0.07351904052929303,
          0.7949028442253177,
          0.4360894443303159,
          0.8891126191378798,
          0.5998621632706944,
          0.3708144609377887,
          0.7823249985351538,
          0.22995937493308188,
          0.5121378829690278,
          0.23864038273782928,
          0.663373154205591,
          0.19605574580906932,
          0.6512735607857035,
          0.7045515152862875,
          0.6069200188700424,
          0.8006099907685278,
          0.14560741463947258,
          0.6928888160583849,
          0.6295780240013573,
          0.6254645633122984,
          0.9129799194887604,
          0.3100584573628581,
          0.3772598134691958,
          0.7812284023434715,
          0.3065262955770118,
          0.24621743188112372,
          0.11924580189208711,
          0.05229844952210727,
          0.5292818453437776,
          0.6923809203610793,
          0.1991253927140788,
          0.16037409347201015,
          0,
          0.052596330989814866,
          0.7725818360723016,
          0.7819048906565876
         ]
        },
        {
         "line": {
          "color": "blue"
         },
         "mode": "markers",
         "name": "Test",
         "type": "scatter",
         "x": [
          -1.9999999999999998,
          -1.9922985743484347,
          -1.987805080104512,
          -1.9790815959435524,
          -1.978007158107121,
          -1.9760328625836405,
          -1.9736147608538208,
          -1.9648840204095472,
          -1.9602686991620744,
          -1.929609016136602,
          -1.8964805443969703,
          -1.8617113264346798,
          -1.8379041143874026,
          -1.8358143047929947,
          -1.8061026722819864,
          -1.8048421918742066,
          -1.7995953674299947,
          -1.7768471528776129,
          -1.7215749898171284,
          -1.6984348547008397,
          -1.6628269823982826,
          -1.548224494336501,
          -0.49814351225081444,
          -0.4967727756147251,
          -0.4799146992101535,
          -0.39158402676460224,
          -0.3730394316512131,
          -0.3662009856499131,
          -0.3522979061879712,
          -0.338992395031787,
          -0.31929871344830474,
          -0.29737295442173584,
          -0.28106212977133826,
          -0.2576905994664789,
          -0.2525474081567074,
          -0.244811052118457,
          -0.23312894388902272,
          -0.2324104262412332,
          -0.2315318166312028,
          -0.20854399235767018,
          -0.20581795942702708,
          -0.1939113567581563,
          -0.18532767811772466,
          -0.16652513449157103,
          -0.14661840328321163,
          -0.13349438386087087,
          -0.09627462793899966,
          -0.0654017327587395,
          -0.022453271523063645,
          -0.01530662817821149,
          0.002984420274167121,
          0.05458306197215279,
          0.08334516765533895,
          0.09375581793592813,
          0.1127336907034695,
          0.13002646689891417,
          0.16088615652391347,
          0.18078509984070879,
          0.2143915449599918,
          0.26715986025011906,
          0.2681502768946924,
          0.2968990415810251,
          0.31583005155758936,
          0.3279581012300672,
          0.3447262444172723,
          0.3717242910799805,
          0.40953755205983766,
          0.41328955505306375,
          0.4256828670842969,
          0.4271308731488621,
          0.4325813814318358,
          0.44824567564081486,
          0.46058521735985725,
          0.4844681073968995,
          1.5127015344314803,
          1.5182874165860771,
          1.5361669257598867,
          1.5814996330677324,
          1.587767734523351,
          1.5910505678404334,
          1.5920600140287422,
          1.615916222072077,
          1.65097541371166,
          1.6855409884676673,
          1.7054855756011085,
          1.7461246222444258,
          1.7524857043532402,
          1.7609762668988838,
          1.820541786225419,
          1.847823108978674,
          1.8610495899656803,
          1.9047146049460557,
          1.9408855011762243,
          1.9757808084889787,
          1.9828820111795742,
          2.0000000000000004
         ],
         "y": [
          0.7412802061279751,
          0.6188864477727632,
          0.5868840292470362,
          0.5510820418567143,
          0.566045686610459,
          0.4992839608404852,
          0.5815011461097569,
          0.518568439965898,
          0.6119743905475183,
          0.6034301520169109,
          0.4850212920390259,
          0.5020357420110585,
          0.695692549262953,
          0.5783413435121905,
          0.5347965764015519,
          0.4756751646569448,
          0.34300468303670495,
          0.3970443551888381,
          0.4982521708549501,
          0.5206604608959022,
          0.5290620537072609,
          0.2817260382347204,
          0.7600168827932463,
          0.4903912327604079,
          0.5588963107761143,
          0.742823903959744,
          0.7317862381173915,
          0.8579069895634711,
          0.7410779632308317,
          0.8110541262422072,
          0.5642042190863925,
          0.7015654822708904,
          0.8149350243658628,
          0.786085938112191,
          0.669429587139286,
          0.7718411004300882,
          0.7611277391740809,
          0.8329565619578158,
          0.8406436186947785,
          0.8231099719431956,
          0.7843534457299793,
          0.6466219935650308,
          0.8156928587043513,
          0.6923752551126661,
          0.9029835386588787,
          0.8656617910232816,
          0.7869681431845356,
          0.6831722737918666,
          0.7521897538187775,
          0.697470043013531,
          0.7570712624714885,
          0.8162846624370852,
          0.7895578294203704,
          0.5543885967432646,
          0.5996663356937947,
          0.7281136599434346,
          0.7884131698023787,
          0.6523447127760236,
          0.5776835452242133,
          0.5977398070827018,
          0.5787904012219524,
          0.4797738336353623,
          0.5956064704314037,
          0.4803238892524532,
          0.6304223252967991,
          0.6043469698156977,
          0.5650103139288869,
          0.49634372927007364,
          0.6670999346290339,
          0.5761229251836588,
          0.6356921104856394,
          0.47456043437571555,
          0.6559518561542247,
          0.6023593347645293,
          0.2741066615085257,
          0.4853392430757487,
          0.2877422320208077,
          0.3151131473061068,
          0.5719213904719816,
          0.31619348605854725,
          0.3156008704833616,
          0.3508566761569873,
          0.42580158264567924,
          0.4167817482756584,
          0.3511249106679158,
          0.49346911280680295,
          0.4234247815026051,
          0.5207674387876675,
          0.4996357004070743,
          0.5890924995640759,
          0.6369228685547064,
          0.46314880625038685,
          0.6518319219040506,
          0.639057539745571,
          0.5028786815584457,
          0.5137262174283515
         ]
        }
       ],
       "layout": {
        "autosize": false,
        "height": 1000,
        "hovermode": "x",
        "template": {
         "data": {
          "bar": [
           {
            "error_x": {
             "color": "#2a3f5f"
            },
            "error_y": {
             "color": "#2a3f5f"
            },
            "marker": {
             "line": {
              "color": "#E5ECF6",
              "width": 0.5
             },
             "pattern": {
              "fillmode": "overlay",
              "size": 10,
              "solidity": 0.2
             }
            },
            "type": "bar"
           }
          ],
          "barpolar": [
           {
            "marker": {
             "line": {
              "color": "#E5ECF6",
              "width": 0.5
             },
             "pattern": {
              "fillmode": "overlay",
              "size": 10,
              "solidity": 0.2
             }
            },
            "type": "barpolar"
           }
          ],
          "carpet": [
           {
            "aaxis": {
             "endlinecolor": "#2a3f5f",
             "gridcolor": "white",
             "linecolor": "white",
             "minorgridcolor": "white",
             "startlinecolor": "#2a3f5f"
            },
            "baxis": {
             "endlinecolor": "#2a3f5f",
             "gridcolor": "white",
             "linecolor": "white",
             "minorgridcolor": "white",
             "startlinecolor": "#2a3f5f"
            },
            "type": "carpet"
           }
          ],
          "choropleth": [
           {
            "colorbar": {
             "outlinewidth": 0,
             "ticks": ""
            },
            "type": "choropleth"
           }
          ],
          "contour": [
           {
            "colorbar": {
             "outlinewidth": 0,
             "ticks": ""
            },
            "colorscale": [
             [
              0,
              "#0d0887"
             ],
             [
              0.1111111111111111,
              "#46039f"
             ],
             [
              0.2222222222222222,
              "#7201a8"
             ],
             [
              0.3333333333333333,
              "#9c179e"
             ],
             [
              0.4444444444444444,
              "#bd3786"
             ],
             [
              0.5555555555555556,
              "#d8576b"
             ],
             [
              0.6666666666666666,
              "#ed7953"
             ],
             [
              0.7777777777777778,
              "#fb9f3a"
             ],
             [
              0.8888888888888888,
              "#fdca26"
             ],
             [
              1,
              "#f0f921"
             ]
            ],
            "type": "contour"
           }
          ],
          "contourcarpet": [
           {
            "colorbar": {
             "outlinewidth": 0,
             "ticks": ""
            },
            "type": "contourcarpet"
           }
          ],
          "heatmap": [
           {
            "colorbar": {
             "outlinewidth": 0,
             "ticks": ""
            },
            "colorscale": [
             [
              0,
              "#0d0887"
             ],
             [
              0.1111111111111111,
              "#46039f"
             ],
             [
              0.2222222222222222,
              "#7201a8"
             ],
             [
              0.3333333333333333,
              "#9c179e"
             ],
             [
              0.4444444444444444,
              "#bd3786"
             ],
             [
              0.5555555555555556,
              "#d8576b"
             ],
             [
              0.6666666666666666,
              "#ed7953"
             ],
             [
              0.7777777777777778,
              "#fb9f3a"
             ],
             [
              0.8888888888888888,
              "#fdca26"
             ],
             [
              1,
              "#f0f921"
             ]
            ],
            "type": "heatmap"
           }
          ],
          "heatmapgl": [
           {
            "colorbar": {
             "outlinewidth": 0,
             "ticks": ""
            },
            "colorscale": [
             [
              0,
              "#0d0887"
             ],
             [
              0.1111111111111111,
              "#46039f"
             ],
             [
              0.2222222222222222,
              "#7201a8"
             ],
             [
              0.3333333333333333,
              "#9c179e"
             ],
             [
              0.4444444444444444,
              "#bd3786"
             ],
             [
              0.5555555555555556,
              "#d8576b"
             ],
             [
              0.6666666666666666,
              "#ed7953"
             ],
             [
              0.7777777777777778,
              "#fb9f3a"
             ],
             [
              0.8888888888888888,
              "#fdca26"
             ],
             [
              1,
              "#f0f921"
             ]
            ],
            "type": "heatmapgl"
           }
          ],
          "histogram": [
           {
            "marker": {
             "pattern": {
              "fillmode": "overlay",
              "size": 10,
              "solidity": 0.2
             }
            },
            "type": "histogram"
           }
          ],
          "histogram2d": [
           {
            "colorbar": {
             "outlinewidth": 0,
             "ticks": ""
            },
            "colorscale": [
             [
              0,
              "#0d0887"
             ],
             [
              0.1111111111111111,
              "#46039f"
             ],
             [
              0.2222222222222222,
              "#7201a8"
             ],
             [
              0.3333333333333333,
              "#9c179e"
             ],
             [
              0.4444444444444444,
              "#bd3786"
             ],
             [
              0.5555555555555556,
              "#d8576b"
             ],
             [
              0.6666666666666666,
              "#ed7953"
             ],
             [
              0.7777777777777778,
              "#fb9f3a"
             ],
             [
              0.8888888888888888,
              "#fdca26"
             ],
             [
              1,
              "#f0f921"
             ]
            ],
            "type": "histogram2d"
           }
          ],
          "histogram2dcontour": [
           {
            "colorbar": {
             "outlinewidth": 0,
             "ticks": ""
            },
            "colorscale": [
             [
              0,
              "#0d0887"
             ],
             [
              0.1111111111111111,
              "#46039f"
             ],
             [
              0.2222222222222222,
              "#7201a8"
             ],
             [
              0.3333333333333333,
              "#9c179e"
             ],
             [
              0.4444444444444444,
              "#bd3786"
             ],
             [
              0.5555555555555556,
              "#d8576b"
             ],
             [
              0.6666666666666666,
              "#ed7953"
             ],
             [
              0.7777777777777778,
              "#fb9f3a"
             ],
             [
              0.8888888888888888,
              "#fdca26"
             ],
             [
              1,
              "#f0f921"
             ]
            ],
            "type": "histogram2dcontour"
           }
          ],
          "mesh3d": [
           {
            "colorbar": {
             "outlinewidth": 0,
             "ticks": ""
            },
            "type": "mesh3d"
           }
          ],
          "parcoords": [
           {
            "line": {
             "colorbar": {
              "outlinewidth": 0,
              "ticks": ""
             }
            },
            "type": "parcoords"
           }
          ],
          "pie": [
           {
            "automargin": true,
            "type": "pie"
           }
          ],
          "scatter": [
           {
            "fillpattern": {
             "fillmode": "overlay",
             "size": 10,
             "solidity": 0.2
            },
            "type": "scatter"
           }
          ],
          "scatter3d": [
           {
            "line": {
             "colorbar": {
              "outlinewidth": 0,
              "ticks": ""
             }
            },
            "marker": {
             "colorbar": {
              "outlinewidth": 0,
              "ticks": ""
             }
            },
            "type": "scatter3d"
           }
          ],
          "scattercarpet": [
           {
            "marker": {
             "colorbar": {
              "outlinewidth": 0,
              "ticks": ""
             }
            },
            "type": "scattercarpet"
           }
          ],
          "scattergeo": [
           {
            "marker": {
             "colorbar": {
              "outlinewidth": 0,
              "ticks": ""
             }
            },
            "type": "scattergeo"
           }
          ],
          "scattergl": [
           {
            "marker": {
             "colorbar": {
              "outlinewidth": 0,
              "ticks": ""
             }
            },
            "type": "scattergl"
           }
          ],
          "scattermapbox": [
           {
            "marker": {
             "colorbar": {
              "outlinewidth": 0,
              "ticks": ""
             }
            },
            "type": "scattermapbox"
           }
          ],
          "scatterpolar": [
           {
            "marker": {
             "colorbar": {
              "outlinewidth": 0,
              "ticks": ""
             }
            },
            "type": "scatterpolar"
           }
          ],
          "scatterpolargl": [
           {
            "marker": {
             "colorbar": {
              "outlinewidth": 0,
              "ticks": ""
             }
            },
            "type": "scatterpolargl"
           }
          ],
          "scatterternary": [
           {
            "marker": {
             "colorbar": {
              "outlinewidth": 0,
              "ticks": ""
             }
            },
            "type": "scatterternary"
           }
          ],
          "surface": [
           {
            "colorbar": {
             "outlinewidth": 0,
             "ticks": ""
            },
            "colorscale": [
             [
              0,
              "#0d0887"
             ],
             [
              0.1111111111111111,
              "#46039f"
             ],
             [
              0.2222222222222222,
              "#7201a8"
             ],
             [
              0.3333333333333333,
              "#9c179e"
             ],
             [
              0.4444444444444444,
              "#bd3786"
             ],
             [
              0.5555555555555556,
              "#d8576b"
             ],
             [
              0.6666666666666666,
              "#ed7953"
             ],
             [
              0.7777777777777778,
              "#fb9f3a"
             ],
             [
              0.8888888888888888,
              "#fdca26"
             ],
             [
              1,
              "#f0f921"
             ]
            ],
            "type": "surface"
           }
          ],
          "table": [
           {
            "cells": {
             "fill": {
              "color": "#EBF0F8"
             },
             "line": {
              "color": "white"
             }
            },
            "header": {
             "fill": {
              "color": "#C8D4E3"
             },
             "line": {
              "color": "white"
             }
            },
            "type": "table"
           }
          ]
         },
         "layout": {
          "annotationdefaults": {
           "arrowcolor": "#2a3f5f",
           "arrowhead": 0,
           "arrowwidth": 1
          },
          "autotypenumbers": "strict",
          "coloraxis": {
           "colorbar": {
            "outlinewidth": 0,
            "ticks": ""
           }
          },
          "colorscale": {
           "diverging": [
            [
             0,
             "#8e0152"
            ],
            [
             0.1,
             "#c51b7d"
            ],
            [
             0.2,
             "#de77ae"
            ],
            [
             0.3,
             "#f1b6da"
            ],
            [
             0.4,
             "#fde0ef"
            ],
            [
             0.5,
             "#f7f7f7"
            ],
            [
             0.6,
             "#e6f5d0"
            ],
            [
             0.7,
             "#b8e186"
            ],
            [
             0.8,
             "#7fbc41"
            ],
            [
             0.9,
             "#4d9221"
            ],
            [
             1,
             "#276419"
            ]
           ],
           "sequential": [
            [
             0,
             "#0d0887"
            ],
            [
             0.1111111111111111,
             "#46039f"
            ],
            [
             0.2222222222222222,
             "#7201a8"
            ],
            [
             0.3333333333333333,
             "#9c179e"
            ],
            [
             0.4444444444444444,
             "#bd3786"
            ],
            [
             0.5555555555555556,
             "#d8576b"
            ],
            [
             0.6666666666666666,
             "#ed7953"
            ],
            [
             0.7777777777777778,
             "#fb9f3a"
            ],
            [
             0.8888888888888888,
             "#fdca26"
            ],
            [
             1,
             "#f0f921"
            ]
           ],
           "sequentialminus": [
            [
             0,
             "#0d0887"
            ],
            [
             0.1111111111111111,
             "#46039f"
            ],
            [
             0.2222222222222222,
             "#7201a8"
            ],
            [
             0.3333333333333333,
             "#9c179e"
            ],
            [
             0.4444444444444444,
             "#bd3786"
            ],
            [
             0.5555555555555556,
             "#d8576b"
            ],
            [
             0.6666666666666666,
             "#ed7953"
            ],
            [
             0.7777777777777778,
             "#fb9f3a"
            ],
            [
             0.8888888888888888,
             "#fdca26"
            ],
            [
             1,
             "#f0f921"
            ]
           ]
          },
          "colorway": [
           "#636efa",
           "#EF553B",
           "#00cc96",
           "#ab63fa",
           "#FFA15A",
           "#19d3f3",
           "#FF6692",
           "#B6E880",
           "#FF97FF",
           "#FECB52"
          ],
          "font": {
           "color": "#2a3f5f"
          },
          "geo": {
           "bgcolor": "white",
           "lakecolor": "white",
           "landcolor": "#E5ECF6",
           "showlakes": true,
           "showland": true,
           "subunitcolor": "white"
          },
          "hoverlabel": {
           "align": "left"
          },
          "hovermode": "closest",
          "mapbox": {
           "style": "light"
          },
          "paper_bgcolor": "white",
          "plot_bgcolor": "#E5ECF6",
          "polar": {
           "angularaxis": {
            "gridcolor": "white",
            "linecolor": "white",
            "ticks": ""
           },
           "bgcolor": "#E5ECF6",
           "radialaxis": {
            "gridcolor": "white",
            "linecolor": "white",
            "ticks": ""
           }
          },
          "scene": {
           "xaxis": {
            "backgroundcolor": "#E5ECF6",
            "gridcolor": "white",
            "gridwidth": 2,
            "linecolor": "white",
            "showbackground": true,
            "ticks": "",
            "zerolinecolor": "white"
           },
           "yaxis": {
            "backgroundcolor": "#E5ECF6",
            "gridcolor": "white",
            "gridwidth": 2,
            "linecolor": "white",
            "showbackground": true,
            "ticks": "",
            "zerolinecolor": "white"
           },
           "zaxis": {
            "backgroundcolor": "#E5ECF6",
            "gridcolor": "white",
            "gridwidth": 2,
            "linecolor": "white",
            "showbackground": true,
            "ticks": "",
            "zerolinecolor": "white"
           }
          },
          "shapedefaults": {
           "line": {
            "color": "#2a3f5f"
           }
          },
          "ternary": {
           "aaxis": {
            "gridcolor": "white",
            "linecolor": "white",
            "ticks": ""
           },
           "baxis": {
            "gridcolor": "white",
            "linecolor": "white",
            "ticks": ""
           },
           "bgcolor": "#E5ECF6",
           "caxis": {
            "gridcolor": "white",
            "linecolor": "white",
            "ticks": ""
           }
          },
          "title": {
           "x": 0.05
          },
          "xaxis": {
           "automargin": true,
           "gridcolor": "white",
           "linecolor": "white",
           "ticks": "",
           "title": {
            "standoff": 15
           },
           "zerolinecolor": "white",
           "zerolinewidth": 2
          },
          "yaxis": {
           "automargin": true,
           "gridcolor": "white",
           "linecolor": "white",
           "ticks": "",
           "title": {
            "standoff": 15
           },
           "zerolinecolor": "white",
           "zerolinewidth": 2
          }
         }
        },
        "title": {
         "text": "Snelson1D data"
        },
        "width": 1000,
        "xaxis": {
         "title": {
          "text": "X"
         }
        },
        "yaxis": {
         "title": {
          "text": "y"
         }
        }
       }
      }
     },
     "metadata": {},
     "output_type": "display_data"
    }
   ],
   "source": [
    "train_X = np.concatenate([train_dataloader.dataset.X.numpy(), val_dataloader.dataset.X.numpy()], axis=0).squeeze()\n",
    "train_y = np.concatenate([train_dataloader.dataset.y.numpy(), val_dataloader.dataset.y.numpy()], axis=0).squeeze()\n",
    "test_X = test_dataloader.dataset.X.numpy().squeeze()\n",
    "test_y = test_dataloader.dataset.y.numpy().squeeze()\n",
    "\n",
    "plot_data(train_X, train_y, test_X, test_y, title=\"Snelson1D data\")\n"
   ]
  },
  {
   "attachments": {},
   "cell_type": "markdown",
   "metadata": {},
   "source": [
    "## Subnetwork inference and comparison"
   ]
  },
  {
   "attachments": {},
   "cell_type": "markdown",
   "metadata": {},
   "source": [
    "### Train a MAP model"
   ]
  },
  {
   "cell_type": "code",
   "execution_count": null,
   "metadata": {},
   "outputs": [
    {
     "name": "stdout",
     "output_type": "stream",
     "text": [
      "Using device: cpu\n",
      "Using model: Sequential(\n",
      "  (0): Linear(in_features=1, out_features=50, bias=True)\n",
      "  (1): ReLU()\n",
      "  (2): Linear(in_features=50, out_features=50, bias=True)\n",
      "  (3): ReLU()\n",
      "  (4): Linear(in_features=50, out_features=1, bias=True)\n",
      ")\n"
     ]
    }
   ],
   "source": [
    "input_size = 1\n",
    "output_size = 1\n",
    "device = get_device()\n",
    "print(f\"Using device: {device}\")\n",
    "model = create_mlp(\n",
    "            input_size=input_size,\n",
    "            hidden_sizes=config.model.hidden_sizes,\n",
    "            output_size=output_size,\n",
    "        )\n",
    "model = model.to(device=device, dtype=torch.float64)\n",
    "print(f\"Using model: {model}\")\n",
    "trainer = ModelTrainer(config.trainer, device=device)"
   ]
  },
  {
   "cell_type": "code",
   "execution_count": null,
   "metadata": {},
   "outputs": [
    {
     "name": "stdout",
     "output_type": "stream",
     "text": [
      "Using sigma=0.09092176705598831\n"
     ]
    }
   ],
   "source": [
    "map_model, sigma = trainer.train(\n",
    "            model=model,\n",
    "            train_dataloader=train_dataloader,\n",
    "            val_dataloader=val_dataloader,\n",
    "        )\n",
    "print(f\"Using sigma={sigma}\")"
   ]
  },
  {
   "cell_type": "code",
   "execution_count": null,
   "metadata": {},
   "outputs": [
    {
     "name": "stdout",
     "output_type": "stream",
     "text": [
      "MAP NLL: 2.7441849465458312\n"
     ]
    }
   ],
   "source": [
    "map_nll, map_err = trainer.evaluate(\n",
    "            model=map_model, sigma=sigma, dataloader=test_dataloader\n",
    "        )\n",
    "print(f\"MAP NLL: {map_nll}\")"
   ]
  },
  {
   "cell_type": "code",
   "execution_count": null,
   "metadata": {},
   "outputs": [],
   "source": [
    "prior_precisions = [0.1, 1.0, 2.0, 5.0]"
   ]
  },
  {
   "cell_type": "code",
   "execution_count": null,
   "metadata": {},
   "outputs": [],
   "source": [
    "def bayesian_regression(model, train_dataloader, test_dataloader, title):\n",
    "    X_train = train_dataloader.dataset.X.numpy().squeeze()\n",
    "    y_train = train_dataloader.dataset.y.numpy().squeeze()\n",
    "    X_test = test_dataloader.dataset.X.numpy().squeeze()\n",
    "    y_test = test_dataloader.dataset.y.numpy().squeeze()\n",
    "    X_test = np.concatenate([X_train, X_test]).reshape(-1, 1)\n",
    "    X = torch.from_numpy(X_test).to(device=device, dtype=torch.float64)\n",
    "    f_mu, f_var = model(x=X)\n",
    "    f_mu = f_mu.detach().squeeze().cpu().numpy()\n",
    "    pred_std = torch.sqrt(f_var.squeeze() + model.sigma_noise**2).detach().cpu().numpy()\n",
    "    return plot_bayesian_regression(X_train=X_train, y_train=y_train, X_test=X.squeeze().detach().cpu().numpy(), y_test=f_mu, y_std=pred_std, title=title)\n"
   ]
  },
  {
   "attachments": {},
   "cell_type": "markdown",
   "metadata": {},
   "source": [
    "### Last layer diagonal approximation"
   ]
  },
  {
   "cell_type": "code",
   "execution_count": null,
   "metadata": {},
   "outputs": [
    {
     "name": "stdout",
     "output_type": "stream",
     "text": [
      "Last layer diag covariance approximation NLL: 0.8422183812002569\n"
     ]
    }
   ],
   "source": [
    "model_copy = copy.deepcopy(map_model)\n",
    "\n",
    "last_layer_diag_la, prior_precision = trainer.train_la_posthoc(\n",
    "            model=model_copy,\n",
    "            dataloader=train_dataloader,\n",
    "            subset_of_weights=\"last_layer\",\n",
    "            hessian_structure=\"diag\",\n",
    "            sigma_noise=sigma,\n",
    "            prior_mean=config.trainer.la.prior_mean,\n",
    "            prior_precisions=prior_precisions,\n",
    "            val_dataloader=val_dataloader,\n",
    "        )\n",
    "last_layer_diag_la_nll = trainer.evaluate_la(last_layer_diag_la, test_dataloader)\n",
    "print(f\"Last layer diag covariance approximation NLL: {last_layer_diag_la_nll}\")"
   ]
  },
  {
   "cell_type": "code",
   "execution_count": null,
   "metadata": {},
   "outputs": [
    {
     "data": {
      "application/vnd.plotly.v1+json": {
       "config": {
        "plotlyServerURL": "https://plot.ly"
       },
       "data": [
        {
         "mode": "markers",
         "name": "Training data",
         "type": "scatter",
         "x": [
          -1.337305284443211,
          -0.6505575615004684,
          -1.1706828703822998,
          -1.0048781172148298,
          1.0565193525847998,
          -0.9341019618420752,
          -0.5349868759873495,
          0.9594500563170882,
          -1.2322372817727305,
          -0.8098621340437078,
          0.5148387174316689,
          0.5803617706424027,
          1.1427894843640654,
          0.5637229064551632,
          0.9557879865412287,
          -0.6062782511776712,
          -1.2161835929855433,
          0.7052427112184918,
          1.3887819582783902,
          -0.6537149081821738,
          -0.9513328412297837,
          -1.475720842401142,
          -0.8007836872661649,
          -1.23092160214396,
          -1.333469104500295,
          0.8426891778105761,
          -1.014792238617606,
          -0.8628407901268635,
          0.9943063564512253,
          0.8153374931500585,
          -1.3238558665950806,
          0.7821298557996577,
          0.7319730575737817,
          -0.9371114063048578,
          0.9159809576001492,
          -1.097824842292453,
          -1.346095376070491,
          -0.5465489152451033,
          0.7744184887352086,
          -1.2166625144563414,
          0.912415999446055,
          -1.267748780610201,
          1.2984139733996534,
          0.8010081112759737,
          1.3669482995346671,
          -0.8262832758711316,
          0.5256736385005145,
          -1.4159281942961977,
          1.3397244040165979,
          -0.5026456585036609,
          1.3699639743107008,
          0.8687408940670442,
          1.454371310148614,
          1.297511932394134,
          0.6425992139834094,
          1.1894860885075835,
          -1.2326131999124934,
          0.7281290220185053,
          -0.5347297401241398,
          0.9852863527208116,
          -1.269458730714507,
          -1.1905681340982608,
          -0.8023330713626566,
          -1.2644494911396391,
          1.0494825523714,
          -1.4853594349724577,
          1.165271637452297,
          -1.1984372906178793,
          -1.2541102185782558,
          0.7263760692086061,
          1.4285434111236208,
          0.8758575370991757,
          1.1870057466255908,
          1.3654140171757305,
          0.6909921563511956,
          -1.4965170862677222,
          1.4770925176474674,
          -0.8844463652289509,
          1.264028061915992,
          -0.7695520750283793,
          0.6475361954687213,
          0.5193214955367993,
          1.3983383784355845,
          0.7356005220227777,
          -1.1219786155143354,
          0.574599678976067,
          0.5625489664528609,
          1.2835634799987314
         ],
         "y": [
          0.22704033068578572,
          0.48213400083255037,
          0.20785458160346182,
          0.00026943756731534485,
          0.706442008093481,
          0.07158809090658802,
          0.42623770676391837,
          1,
          0.21982861064577247,
          0.26543594880733284,
          0.7739387807255895,
          0.5189987429384414,
          0.888130675102298,
          0.8404413522659699,
          0.8604278427369398,
          0.40377064344750196,
          0.2154583391868351,
          0.66607830149852,
          0.3717250393155298,
          0.4258012267292421,
          0.06920295072963467,
          0.1654301953151749,
          0.2928651932079143,
          0.10034478595950258,
          0.16821843291816418,
          0.8726242107185324,
          0.0457404979723941,
          0.24996343767509033,
          0.9072010749029378,
          0.8217604485888413,
          0.15680228083018777,
          0.9677590595146406,
          0.8710789362651906,
          0.052672691243608516,
          0.8457074389241511,
          0.2362547719275705,
          0.30863176191225844,
          0.498244205386257,
          0.9808506955842595,
          0.16497494583598948,
          0.9027645588648137,
          0.10031113567816974,
          0.6611235452430386,
          0.8751842558805043,
          0.4639940107205561,
          0.24651566632381033,
          0.44618619653693903,
          0.14744626720723614,
          0.4535021177322158,
          0.6354437941468748,
          0.5384571357774733,
          0.9465656181662574,
          0.33371166368167493,
          0.5566899200699926,
          0.8137168724157819,
          0.7540921389413057,
          0.28237639463355674,
          0.7138127080640428,
          0.45861115993931656,
          0.974475055611208,
          0.17538097177776796,
          0.027531960119475007,
          0.04906352208317366,
          0.11910208224646457,
          0.7356842937664854,
          0.3354713910249758,
          0.8111442642860152,
          0.05341190909341209,
          0.07351904052929303,
          0.7949028442253177,
          0.4360894443303159,
          0.8891126191378798,
          0.5998621632706944,
          0.3708144609377887,
          0.7823249985351538,
          0.22995937493308188,
          0.5121378829690278,
          0.23864038273782928,
          0.663373154205591,
          0.19605574580906932,
          0.6512735607857035,
          0.7045515152862875,
          0.6069200188700424,
          0.8006099907685278,
          0.14560741463947258,
          0.6928888160583849,
          0.6295780240013573,
          0.6254645633122984
         ]
        },
        {
         "line": {
          "color": "rgb(31, 119, 180)"
         },
         "mode": "lines",
         "name": "MAP",
         "type": "scatter",
         "x": [
          -1.9999999999999998,
          -1.9922985743484347,
          -1.987805080104512,
          -1.9790815959435524,
          -1.978007158107121,
          -1.9760328625836405,
          -1.9736147608538208,
          -1.9648840204095472,
          -1.9602686991620744,
          -1.929609016136602,
          -1.8964805443969703,
          -1.8617113264346798,
          -1.8379041143874026,
          -1.8358143047929947,
          -1.8061026722819864,
          -1.8048421918742066,
          -1.7995953674299947,
          -1.7768471528776129,
          -1.7215749898171284,
          -1.6984348547008397,
          -1.6628269823982826,
          -1.548224494336501,
          -1.4965170862677222,
          -1.4853594349724577,
          -1.475720842401142,
          -1.4159281942961977,
          -1.346095376070491,
          -1.337305284443211,
          -1.333469104500295,
          -1.3238558665950806,
          -1.269458730714507,
          -1.267748780610201,
          -1.2644494911396391,
          -1.2541102185782558,
          -1.2326131999124934,
          -1.2322372817727305,
          -1.23092160214396,
          -1.2166625144563414,
          -1.2161835929855433,
          -1.1984372906178793,
          -1.1905681340982608,
          -1.1706828703822998,
          -1.1219786155143354,
          -1.097824842292453,
          -1.014792238617606,
          -1.0048781172148298,
          -0.9513328412297837,
          -0.9371114063048578,
          -0.9341019618420752,
          -0.8844463652289509,
          -0.8628407901268635,
          -0.8262832758711316,
          -0.8098621340437078,
          -0.8023330713626566,
          -0.8007836872661649,
          -0.7695520750283793,
          -0.6537149081821738,
          -0.6505575615004684,
          -0.6062782511776712,
          -0.5465489152451033,
          -0.5349868759873495,
          -0.5347297401241398,
          -0.5026456585036609,
          -0.49814351225081444,
          -0.4967727756147251,
          -0.4799146992101535,
          -0.39158402676460224,
          -0.3730394316512131,
          -0.3662009856499131,
          -0.3522979061879712,
          -0.338992395031787,
          -0.31929871344830474,
          -0.29737295442173584,
          -0.28106212977133826,
          -0.2576905994664789,
          -0.2525474081567074,
          -0.244811052118457,
          -0.23312894388902272,
          -0.2324104262412332,
          -0.2315318166312028,
          -0.20854399235767018,
          -0.20581795942702708,
          -0.1939113567581563,
          -0.18532767811772466,
          -0.16652513449157103,
          -0.14661840328321163,
          -0.13349438386087087,
          -0.09627462793899966,
          -0.0654017327587395,
          -0.022453271523063645,
          -0.01530662817821149,
          0.002984420274167121,
          0.05458306197215279,
          0.08334516765533895,
          0.09375581793592813,
          0.1127336907034695,
          0.13002646689891417,
          0.16088615652391347,
          0.18078509984070879,
          0.2143915449599918,
          0.26715986025011906,
          0.2681502768946924,
          0.2968990415810251,
          0.31583005155758936,
          0.3279581012300672,
          0.3447262444172723,
          0.3717242910799805,
          0.40953755205983766,
          0.41328955505306375,
          0.4256828670842969,
          0.4271308731488621,
          0.4325813814318358,
          0.44824567564081486,
          0.46058521735985725,
          0.4844681073968995,
          0.5148387174316689,
          0.5193214955367993,
          0.5256736385005145,
          0.5625489664528609,
          0.5637229064551632,
          0.574599678976067,
          0.5803617706424027,
          0.6425992139834094,
          0.6475361954687213,
          0.6909921563511956,
          0.7052427112184918,
          0.7263760692086061,
          0.7281290220185053,
          0.7319730575737817,
          0.7356005220227777,
          0.7744184887352086,
          0.7821298557996577,
          0.8010081112759737,
          0.8153374931500585,
          0.8426891778105761,
          0.8687408940670442,
          0.8758575370991757,
          0.912415999446055,
          0.9159809576001492,
          0.9557879865412287,
          0.9594500563170882,
          0.9852863527208116,
          0.9943063564512253,
          1.0494825523714,
          1.0565193525847998,
          1.1427894843640654,
          1.165271637452297,
          1.1870057466255908,
          1.1894860885075835,
          1.264028061915992,
          1.2835634799987314,
          1.297511932394134,
          1.2984139733996534,
          1.3397244040165979,
          1.3654140171757305,
          1.3669482995346671,
          1.3699639743107008,
          1.3887819582783902,
          1.3983383784355845,
          1.4285434111236208,
          1.454371310148614,
          1.4770925176474674,
          1.5127015344314803,
          1.5182874165860771,
          1.5361669257598867,
          1.5814996330677324,
          1.587767734523351,
          1.5910505678404334,
          1.5920600140287422,
          1.615916222072077,
          1.65097541371166,
          1.6855409884676673,
          1.7054855756011085,
          1.7461246222444258,
          1.7524857043532402,
          1.7609762668988838,
          1.820541786225419,
          1.847823108978674,
          1.8610495899656803,
          1.9047146049460557,
          1.9408855011762243,
          1.9757808084889787,
          1.9828820111795742,
          2.0000000000000004
         ],
         "y": [
          0.38496211060413216,
          0.38262841971724904,
          0.3812667982406886,
          0.37862340253587345,
          0.3782978257010323,
          0.3776995734189728,
          0.3769668386987084,
          0.37432124419032,
          0.3729227066178541,
          0.3636321900163301,
          0.35359357949239034,
          0.34305778900713646,
          0.3358437125087763,
          0.3352104570796598,
          0.3261107570749351,
          0.3257201748355985,
          0.32409435310272783,
          0.31704541483606513,
          0.300186502284714,
          0.29356747542098843,
          0.28261430632098583,
          0.2456439518891444,
          0.22764082526727097,
          0.22375603164535565,
          0.22040013335149367,
          0.19958194394508239,
          0.17546981484518842,
          0.17238293019457657,
          0.17103574913152358,
          0.1676597938183626,
          0.14855672971993356,
          0.1479562332798382,
          0.14679759620795657,
          0.14316667367363684,
          0.13561739890301705,
          0.13548538481434486,
          0.1350233473950112,
          0.1300158729816575,
          0.12984768641435646,
          0.12361557977580351,
          0.12088076165363959,
          0.11470480863233712,
          0.09957827099629596,
          0.09207660690793873,
          0.07348133415390784,
          0.07196286763965976,
          0.08788229890282973,
          0.09911578351635236,
          0.10169169122227822,
          0.14419396549247088,
          0.16268706881592265,
          0.19397815388009687,
          0.207874412468057,
          0.2143165981678555,
          0.21576203475411718,
          0.24491161768164837,
          0.3538225195944971,
          0.356762633379716,
          0.3975832885945514,
          0.45157341104490534,
          0.4601454712701313,
          0.46033611100559335,
          0.4814061272704653,
          0.48307036745240206,
          0.48347620838546546,
          0.48846746438428784,
          0.5075394680178251,
          0.5110924022071404,
          0.512402570935616,
          0.5150662433455591,
          0.5176154284425685,
          0.5213885145727113,
          0.5255892414365693,
          0.5287142105287488,
          0.53319193077926,
          0.5341773079274234,
          0.5356595060396468,
          0.5378976655399139,
          0.5380353253756154,
          0.5382036570163684,
          0.5426078635412354,
          0.543130140546544,
          0.5454113106363822,
          0.5470558461533461,
          0.5506582003534236,
          0.5544721043764144,
          0.5569865177147356,
          0.5641174010003626,
          0.5697825420277167,
          0.5747093424266294,
          0.5755291642379184,
          0.5776274080915738,
          0.5835465074303372,
          0.5868459307315796,
          0.5880401806413469,
          0.5902172130292725,
          0.5922009408324762,
          0.595740986896536,
          0.5980236791991346,
          0.6018788172519547,
          0.6079320948163066,
          0.6080457097161001,
          0.6113436026149315,
          0.6135152591730688,
          0.6149065192612129,
          0.6168300641838218,
          0.6199271247825192,
          0.6242648445498808,
          0.6246952527487291,
          0.6261169422086674,
          0.6262830491343006,
          0.6269083000888218,
          0.6287052178068746,
          0.6301207390459282,
          0.634334184789223,
          0.6402906019295774,
          0.6411697840174986,
          0.6424155941340468,
          0.6632379415234462,
          0.6639261979907813,
          0.6703030222037423,
          0.6736812160185501,
          0.7101697271910479,
          0.7130641761660514,
          0.7385414970367667,
          0.7468962992679666,
          0.7592863449983094,
          0.7603140645631766,
          0.7625677422012129,
          0.7646944487297863,
          0.7874526106343409,
          0.7919736238408875,
          0.8030415501387367,
          0.8114425669951446,
          0.8274782875798357,
          0.8427518638814601,
          0.8452119125056381,
          0.8569113542786826,
          0.8580522124458402,
          0.8664369118795958,
          0.8662384296667218,
          0.8458003430730413,
          0.8376293282971086,
          0.7876464762254023,
          0.7812720000901978,
          0.7031218637312506,
          0.6807941258975914,
          0.6566122141518567,
          0.6538525239335293,
          0.5709152658226715,
          0.5491796726025314,
          0.5336602767015632,
          0.5326566433889404,
          0.4867290037628358,
          0.45835467771014476,
          0.456708630052433,
          0.4534732774639089,
          0.43328449131743463,
          0.4230319306174828,
          0.3908196773041462,
          0.36558346728458546,
          0.3434599186767911,
          0.30878756186051537,
          0.3033486108113306,
          0.2859394044427761,
          0.24179912916477178,
          0.23569590391853593,
          0.23249942228500367,
          0.23151652858029503,
          0.20828783449477975,
          0.17415084021630978,
          0.1410635971920875,
          0.1223879506830749,
          0.08451079183779575,
          0.07857399887035249,
          0.07064976347323842,
          0.01843790091537778,
          -0.003041878685489663,
          -0.013488547906779558,
          -0.04809168604363262,
          -0.07688172894870815,
          -0.10465647327152283,
          -0.11030863983214478,
          -0.12393361692567972
         ]
        },
        {
         "line": {
          "width": 0
         },
         "marker": {
          "color": "#444"
         },
         "mode": "lines",
         "name": "Upper Bound",
         "showlegend": false,
         "type": "scatter",
         "x": [
          -1.9999999999999998,
          -1.9922985743484347,
          -1.987805080104512,
          -1.9790815959435524,
          -1.978007158107121,
          -1.9760328625836405,
          -1.9736147608538208,
          -1.9648840204095472,
          -1.9602686991620744,
          -1.929609016136602,
          -1.8964805443969703,
          -1.8617113264346798,
          -1.8379041143874026,
          -1.8358143047929947,
          -1.8061026722819864,
          -1.8048421918742066,
          -1.7995953674299947,
          -1.7768471528776129,
          -1.7215749898171284,
          -1.6984348547008397,
          -1.6628269823982826,
          -1.548224494336501,
          -1.4965170862677222,
          -1.4853594349724577,
          -1.475720842401142,
          -1.4159281942961977,
          -1.346095376070491,
          -1.337305284443211,
          -1.333469104500295,
          -1.3238558665950806,
          -1.269458730714507,
          -1.267748780610201,
          -1.2644494911396391,
          -1.2541102185782558,
          -1.2326131999124934,
          -1.2322372817727305,
          -1.23092160214396,
          -1.2166625144563414,
          -1.2161835929855433,
          -1.1984372906178793,
          -1.1905681340982608,
          -1.1706828703822998,
          -1.1219786155143354,
          -1.097824842292453,
          -1.014792238617606,
          -1.0048781172148298,
          -0.9513328412297837,
          -0.9371114063048578,
          -0.9341019618420752,
          -0.8844463652289509,
          -0.8628407901268635,
          -0.8262832758711316,
          -0.8098621340437078,
          -0.8023330713626566,
          -0.8007836872661649,
          -0.7695520750283793,
          -0.6537149081821738,
          -0.6505575615004684,
          -0.6062782511776712,
          -0.5465489152451033,
          -0.5349868759873495,
          -0.5347297401241398,
          -0.5026456585036609,
          -0.49814351225081444,
          -0.4967727756147251,
          -0.4799146992101535,
          -0.39158402676460224,
          -0.3730394316512131,
          -0.3662009856499131,
          -0.3522979061879712,
          -0.338992395031787,
          -0.31929871344830474,
          -0.29737295442173584,
          -0.28106212977133826,
          -0.2576905994664789,
          -0.2525474081567074,
          -0.244811052118457,
          -0.23312894388902272,
          -0.2324104262412332,
          -0.2315318166312028,
          -0.20854399235767018,
          -0.20581795942702708,
          -0.1939113567581563,
          -0.18532767811772466,
          -0.16652513449157103,
          -0.14661840328321163,
          -0.13349438386087087,
          -0.09627462793899966,
          -0.0654017327587395,
          -0.022453271523063645,
          -0.01530662817821149,
          0.002984420274167121,
          0.05458306197215279,
          0.08334516765533895,
          0.09375581793592813,
          0.1127336907034695,
          0.13002646689891417,
          0.16088615652391347,
          0.18078509984070879,
          0.2143915449599918,
          0.26715986025011906,
          0.2681502768946924,
          0.2968990415810251,
          0.31583005155758936,
          0.3279581012300672,
          0.3447262444172723,
          0.3717242910799805,
          0.40953755205983766,
          0.41328955505306375,
          0.4256828670842969,
          0.4271308731488621,
          0.4325813814318358,
          0.44824567564081486,
          0.46058521735985725,
          0.4844681073968995,
          0.5148387174316689,
          0.5193214955367993,
          0.5256736385005145,
          0.5625489664528609,
          0.5637229064551632,
          0.574599678976067,
          0.5803617706424027,
          0.6425992139834094,
          0.6475361954687213,
          0.6909921563511956,
          0.7052427112184918,
          0.7263760692086061,
          0.7281290220185053,
          0.7319730575737817,
          0.7356005220227777,
          0.7744184887352086,
          0.7821298557996577,
          0.8010081112759737,
          0.8153374931500585,
          0.8426891778105761,
          0.8687408940670442,
          0.8758575370991757,
          0.912415999446055,
          0.9159809576001492,
          0.9557879865412287,
          0.9594500563170882,
          0.9852863527208116,
          0.9943063564512253,
          1.0494825523714,
          1.0565193525847998,
          1.1427894843640654,
          1.165271637452297,
          1.1870057466255908,
          1.1894860885075835,
          1.264028061915992,
          1.2835634799987314,
          1.297511932394134,
          1.2984139733996534,
          1.3397244040165979,
          1.3654140171757305,
          1.3669482995346671,
          1.3699639743107008,
          1.3887819582783902,
          1.3983383784355845,
          1.4285434111236208,
          1.454371310148614,
          1.4770925176474674,
          1.5127015344314803,
          1.5182874165860771,
          1.5361669257598867,
          1.5814996330677324,
          1.587767734523351,
          1.5910505678404334,
          1.5920600140287422,
          1.615916222072077,
          1.65097541371166,
          1.6855409884676673,
          1.7054855756011085,
          1.7461246222444258,
          1.7524857043532402,
          1.7609762668988838,
          1.820541786225419,
          1.847823108978674,
          1.8610495899656803,
          1.9047146049460557,
          1.9408855011762243,
          1.9757808084889787,
          1.9828820111795742,
          2.0000000000000004
         ],
         "y": [
          0.5270354659065682,
          0.5242214766810028,
          0.5225809366767733,
          0.5193988579736841,
          0.5190071907013258,
          0.5182876439951384,
          0.5174066101344175,
          0.5142279789103571,
          0.5125491974604064,
          0.5014244813259542,
          0.48945925198804824,
          0.47696581387353576,
          0.468450816100891,
          0.46770493756552856,
          0.45703084147525586,
          0.45657445875489566,
          0.4546755601558822,
          0.4464581684477313,
          0.42676755985917914,
          0.4188772969360576,
          0.4061173125832354,
          0.3638534344702072,
          0.3436841026892366,
          0.3393525090377647,
          0.33561668754710045,
          0.3125703595848017,
          0.28612772126120467,
          0.2827640594236028,
          0.28129885174046776,
          0.27763455458539466,
          0.25710344227523535,
          0.25646375429981505,
          0.2552304933055585,
          0.25137422998877734,
          0.24339804659861222,
          0.24325907010791029,
          0.24277280160341047,
          0.23751639178651368,
          0.23734028001076823,
          0.23083457633593618,
          0.22798894722807314,
          0.22153903126882518,
          0.2059328698776478,
          0.19829502244468583,
          0.17952603997154115,
          0.17800584540299594,
          0.19311245348874279,
          0.2039088874756917,
          0.2063939213309821,
          0.2474821414387982,
          0.2654112551031126,
          0.2958208360827714,
          0.30935844817179026,
          0.31562205900897716,
          0.317019059526621,
          0.34524715013399554,
          0.4516918319847908,
          0.45458553302260013,
          0.49487964661227846,
          0.5485676444743219,
          0.5571296565067394,
          0.5573202007513756,
          0.578422128910907,
          0.5800968849853452,
          0.5805059635056018,
          0.5855382112488544,
          0.6046939100855495,
          0.6082601117657178,
          0.6095756988945779,
          0.6122512607665055,
          0.6148129205021409,
          0.6186064374312824,
          0.6228326709512795,
          0.6259784999085871,
          0.6304889110334373,
          0.6314819248666304,
          0.6329759106173238,
          0.635232553838661,
          0.6353713773905237,
          0.6355411362627184,
          0.6399843375142191,
          0.6405114498230217,
          0.6428142635341403,
          0.6444749313465603,
          0.6481141709934711,
          0.651969440374607,
          0.6545124251011429,
          0.6617299482124341,
          0.6674719236811384,
          0.6724409092408928,
          0.6732693552144202,
          0.6753917552786908,
          0.681395129951263,
          0.6847518517681204,
          0.6859686592536252,
          0.6881892956038136,
          0.690215545064769,
          0.6938380700738171,
          0.6961784223986608,
          0.7001388883477337,
          0.7063776279048603,
          0.7064949575957962,
          0.709904422587817,
          0.7121534932626428,
          0.7135959902023233,
          0.7155924824786254,
          0.7188121212868707,
          0.723332117107366,
          0.7237812834857924,
          0.7252657932289742,
          0.7254393259746059,
          0.7260926900701332,
          0.7279718193832225,
          0.7294535804100177,
          0.7338161834919074,
          0.7399771198234945,
          0.7408872388537436,
          0.7421772161201323,
          0.7632243826281472,
          0.7639201543166368,
          0.7703680282843272,
          0.7737848988400138,
          0.8107367042336048,
          0.8136714533267891,
          0.8395258090872696,
          0.8480129289553046,
          0.8606070329503034,
          0.8616520973525564,
          0.8639440343423526,
          0.8661071266313902,
          0.8892717165544572,
          0.8938771643369633,
          0.9051569300140475,
          0.9137235871420617,
          0.9300870083204581,
          0.945686668428764,
          0.9482380908457917,
          0.960420591715394,
          0.9616097716796287,
          0.970530622149126,
          0.9703814577881309,
          0.9501414609646456,
          0.9420479592550819,
          0.8926644310365126,
          0.8863817452107225,
          0.8096339614483501,
          0.7877663073253487,
          0.764095044722211,
          0.7613991751203518,
          0.6808965199547401,
          0.6599595157302066,
          0.6450496056616268,
          0.6440864994477975,
          0.6001562826495235,
          0.5731566037518934,
          0.5715948353799837,
          0.5685261117543936,
          0.5494059869475979,
          0.5397149013276359,
          0.5093558343833101,
          0.48573607091836246,
          0.465090752921964,
          0.4328411215318042,
          0.4277935539960269,
          0.41165709838072045,
          0.3708751456183105,
          0.36525050704146184,
          0.3623060146546879,
          0.36140078918504714,
          0.3400323285533886,
          0.3087121425002336,
          0.2784234754086603,
          0.2613471970286485,
          0.22694815828686604,
          0.22160285446762557,
          0.21448799912468558,
          0.1684662974486383,
          0.15001872411155348,
          0.14110779714374339,
          0.11185659486910435,
          0.08780829715958482,
          0.06485441814685661,
          0.060211066738018654,
          0.04905465436317835
         ]
        },
        {
         "fill": "tonexty",
         "fillcolor": "rgba(68, 68, 68, 0.3)",
         "line": {
          "width": 0
         },
         "marker": {
          "color": "#444"
         },
         "mode": "lines",
         "name": "Lower Bound",
         "showlegend": false,
         "type": "scatter",
         "x": [
          -1.9999999999999998,
          -1.9922985743484347,
          -1.987805080104512,
          -1.9790815959435524,
          -1.978007158107121,
          -1.9760328625836405,
          -1.9736147608538208,
          -1.9648840204095472,
          -1.9602686991620744,
          -1.929609016136602,
          -1.8964805443969703,
          -1.8617113264346798,
          -1.8379041143874026,
          -1.8358143047929947,
          -1.8061026722819864,
          -1.8048421918742066,
          -1.7995953674299947,
          -1.7768471528776129,
          -1.7215749898171284,
          -1.6984348547008397,
          -1.6628269823982826,
          -1.548224494336501,
          -1.4965170862677222,
          -1.4853594349724577,
          -1.475720842401142,
          -1.4159281942961977,
          -1.346095376070491,
          -1.337305284443211,
          -1.333469104500295,
          -1.3238558665950806,
          -1.269458730714507,
          -1.267748780610201,
          -1.2644494911396391,
          -1.2541102185782558,
          -1.2326131999124934,
          -1.2322372817727305,
          -1.23092160214396,
          -1.2166625144563414,
          -1.2161835929855433,
          -1.1984372906178793,
          -1.1905681340982608,
          -1.1706828703822998,
          -1.1219786155143354,
          -1.097824842292453,
          -1.014792238617606,
          -1.0048781172148298,
          -0.9513328412297837,
          -0.9371114063048578,
          -0.9341019618420752,
          -0.8844463652289509,
          -0.8628407901268635,
          -0.8262832758711316,
          -0.8098621340437078,
          -0.8023330713626566,
          -0.8007836872661649,
          -0.7695520750283793,
          -0.6537149081821738,
          -0.6505575615004684,
          -0.6062782511776712,
          -0.5465489152451033,
          -0.5349868759873495,
          -0.5347297401241398,
          -0.5026456585036609,
          -0.49814351225081444,
          -0.4967727756147251,
          -0.4799146992101535,
          -0.39158402676460224,
          -0.3730394316512131,
          -0.3662009856499131,
          -0.3522979061879712,
          -0.338992395031787,
          -0.31929871344830474,
          -0.29737295442173584,
          -0.28106212977133826,
          -0.2576905994664789,
          -0.2525474081567074,
          -0.244811052118457,
          -0.23312894388902272,
          -0.2324104262412332,
          -0.2315318166312028,
          -0.20854399235767018,
          -0.20581795942702708,
          -0.1939113567581563,
          -0.18532767811772466,
          -0.16652513449157103,
          -0.14661840328321163,
          -0.13349438386087087,
          -0.09627462793899966,
          -0.0654017327587395,
          -0.022453271523063645,
          -0.01530662817821149,
          0.002984420274167121,
          0.05458306197215279,
          0.08334516765533895,
          0.09375581793592813,
          0.1127336907034695,
          0.13002646689891417,
          0.16088615652391347,
          0.18078509984070879,
          0.2143915449599918,
          0.26715986025011906,
          0.2681502768946924,
          0.2968990415810251,
          0.31583005155758936,
          0.3279581012300672,
          0.3447262444172723,
          0.3717242910799805,
          0.40953755205983766,
          0.41328955505306375,
          0.4256828670842969,
          0.4271308731488621,
          0.4325813814318358,
          0.44824567564081486,
          0.46058521735985725,
          0.4844681073968995,
          0.5148387174316689,
          0.5193214955367993,
          0.5256736385005145,
          0.5625489664528609,
          0.5637229064551632,
          0.574599678976067,
          0.5803617706424027,
          0.6425992139834094,
          0.6475361954687213,
          0.6909921563511956,
          0.7052427112184918,
          0.7263760692086061,
          0.7281290220185053,
          0.7319730575737817,
          0.7356005220227777,
          0.7744184887352086,
          0.7821298557996577,
          0.8010081112759737,
          0.8153374931500585,
          0.8426891778105761,
          0.8687408940670442,
          0.8758575370991757,
          0.912415999446055,
          0.9159809576001492,
          0.9557879865412287,
          0.9594500563170882,
          0.9852863527208116,
          0.9943063564512253,
          1.0494825523714,
          1.0565193525847998,
          1.1427894843640654,
          1.165271637452297,
          1.1870057466255908,
          1.1894860885075835,
          1.264028061915992,
          1.2835634799987314,
          1.297511932394134,
          1.2984139733996534,
          1.3397244040165979,
          1.3654140171757305,
          1.3669482995346671,
          1.3699639743107008,
          1.3887819582783902,
          1.3983383784355845,
          1.4285434111236208,
          1.454371310148614,
          1.4770925176474674,
          1.5127015344314803,
          1.5182874165860771,
          1.5361669257598867,
          1.5814996330677324,
          1.587767734523351,
          1.5910505678404334,
          1.5920600140287422,
          1.615916222072077,
          1.65097541371166,
          1.6855409884676673,
          1.7054855756011085,
          1.7461246222444258,
          1.7524857043532402,
          1.7609762668988838,
          1.820541786225419,
          1.847823108978674,
          1.8610495899656803,
          1.9047146049460557,
          1.9408855011762243,
          1.9757808084889787,
          1.9828820111795742,
          2.0000000000000004
         ],
         "y": [
          0.24288875530169604,
          0.24103536275349524,
          0.23995265980460387,
          0.23784794709806273,
          0.23758846070073883,
          0.23711150284280721,
          0.2365270672629993,
          0.2344145094702829,
          0.23329621577530174,
          0.2258398987067061,
          0.21772790699673245,
          0.2091497641407372,
          0.2032366089166616,
          0.20271597659379104,
          0.19519067267461432,
          0.19486589091630138,
          0.19351314604957348,
          0.18763266122439898,
          0.17360544471024889,
          0.1682576539059193,
          0.15911130005873625,
          0.1274344693080816,
          0.11159754784530534,
          0.10815955425294657,
          0.1051835791558869,
          0.08659352830536306,
          0.06481190842917216,
          0.06200180096555037,
          0.06077264652257941,
          0.05768503305133056,
          0.04001001716463175,
          0.03944871225986134,
          0.038364699110354616,
          0.0349591173584963,
          0.027836751207421878,
          0.027711699520779426,
          0.02727389318661194,
          0.02251535417680134,
          0.02235509281794469,
          0.01639658321567082,
          0.01377257607920604,
          0.007870585995849055,
          -0.0067763278850558745,
          -0.014141808628808386,
          -0.03256337166372547,
          -0.03408011012367643,
          -0.01734785568308332,
          -0.005677320442986952,
          -0.003010538886425662,
          0.04090578954614353,
          0.05996288252873272,
          0.09213547167742238,
          0.10639037676432371,
          0.11301113732673385,
          0.11450500998161336,
          0.14457608522930124,
          0.25595320720420345,
          0.2589397337368318,
          0.3002869305768243,
          0.35457917761548874,
          0.36316128603352316,
          0.36335202125981114,
          0.3843901256300235,
          0.386043849919459,
          0.38644645326532917,
          0.3913967175197212,
          0.41038502595010073,
          0.41392469264856285,
          0.4152294429766542,
          0.41788122592461263,
          0.42041793638299607,
          0.42417059171414023,
          0.42834581192185905,
          0.4314499211489104,
          0.43589495052508265,
          0.43687269098821635,
          0.43834310146196986,
          0.4405627772411669,
          0.440699273360707,
          0.4408661777700184,
          0.4452313895682516,
          0.44574883127006626,
          0.448008357738624,
          0.4496367609601319,
          0.4532022297133761,
          0.45697476837822165,
          0.45946061032832825,
          0.466504853788291,
          0.4720931603742951,
          0.476977775612366,
          0.47778897326141667,
          0.47986306090445674,
          0.48569788490941146,
          0.4889400096950389,
          0.49011170202906856,
          0.4922451304547315,
          0.4941863366001834,
          0.4976439037192548,
          0.49986893599960835,
          0.5036187461561756,
          0.509486561727753,
          0.509596461836404,
          0.5127827826420459,
          0.5148770250834949,
          0.5162170483201024,
          0.5180676458890182,
          0.5210421282781678,
          0.5251975719923957,
          0.5256092220116657,
          0.5269680911883606,
          0.5271267722939952,
          0.5277239101075104,
          0.5294386162305267,
          0.5307878976818388,
          0.5348521860865386,
          0.5406040840356604,
          0.5414523291812535,
          0.5426539721479613,
          0.5632515004187452,
          0.5639322416649258,
          0.5702380161231574,
          0.5735775331970865,
          0.609602750148491,
          0.6124568990053137,
          0.6375571849862639,
          0.6457796695806287,
          0.6579656570463154,
          0.6589760317737968,
          0.6611914500600733,
          0.6632817708281824,
          0.6856335047142246,
          0.6900700833448118,
          0.7009261702634259,
          0.7091615468482275,
          0.7248695668392132,
          0.7398170593341561,
          0.7421857341654845,
          0.7534021168419712,
          0.7544946532120517,
          0.7623432016100656,
          0.7620954015453127,
          0.741459225181437,
          0.7332106973391352,
          0.682628521414292,
          0.6761622549696731,
          0.5966097660141512,
          0.573821944469834,
          0.5491293835815023,
          0.5463058727467068,
          0.46093401169060283,
          0.43839982947485623,
          0.4222709477414997,
          0.4212267873300832,
          0.3733017248761481,
          0.34355275166839616,
          0.3418224247248823,
          0.3384204431734243,
          0.31716299568727135,
          0.3063489599073297,
          0.27228352022498226,
          0.24543086365080843,
          0.22182908443161817,
          0.1847340021892265,
          0.17890366762663423,
          0.16022171050483175,
          0.11272311271123309,
          0.10614130079561002,
          0.10269282991531944,
          0.10163226797554292,
          0.07654334043617089,
          0.039589537932385954,
          0.0037037189755146915,
          -0.01657129566249868,
          -0.05792657461127454,
          -0.06445485672692058,
          -0.07318847217820873,
          -0.13159049561788275,
          -0.1561024814825328,
          -0.1680848929573025,
          -0.2080399669563696,
          -0.24157175505700113,
          -0.27416736468990227,
          -0.28082834640230825,
          -0.2969218882145378
         ]
        }
       ],
       "layout": {
        "autosize": false,
        "height": 1000,
        "hovermode": "x",
        "template": {
         "data": {
          "bar": [
           {
            "error_x": {
             "color": "#2a3f5f"
            },
            "error_y": {
             "color": "#2a3f5f"
            },
            "marker": {
             "line": {
              "color": "#E5ECF6",
              "width": 0.5
             },
             "pattern": {
              "fillmode": "overlay",
              "size": 10,
              "solidity": 0.2
             }
            },
            "type": "bar"
           }
          ],
          "barpolar": [
           {
            "marker": {
             "line": {
              "color": "#E5ECF6",
              "width": 0.5
             },
             "pattern": {
              "fillmode": "overlay",
              "size": 10,
              "solidity": 0.2
             }
            },
            "type": "barpolar"
           }
          ],
          "carpet": [
           {
            "aaxis": {
             "endlinecolor": "#2a3f5f",
             "gridcolor": "white",
             "linecolor": "white",
             "minorgridcolor": "white",
             "startlinecolor": "#2a3f5f"
            },
            "baxis": {
             "endlinecolor": "#2a3f5f",
             "gridcolor": "white",
             "linecolor": "white",
             "minorgridcolor": "white",
             "startlinecolor": "#2a3f5f"
            },
            "type": "carpet"
           }
          ],
          "choropleth": [
           {
            "colorbar": {
             "outlinewidth": 0,
             "ticks": ""
            },
            "type": "choropleth"
           }
          ],
          "contour": [
           {
            "colorbar": {
             "outlinewidth": 0,
             "ticks": ""
            },
            "colorscale": [
             [
              0,
              "#0d0887"
             ],
             [
              0.1111111111111111,
              "#46039f"
             ],
             [
              0.2222222222222222,
              "#7201a8"
             ],
             [
              0.3333333333333333,
              "#9c179e"
             ],
             [
              0.4444444444444444,
              "#bd3786"
             ],
             [
              0.5555555555555556,
              "#d8576b"
             ],
             [
              0.6666666666666666,
              "#ed7953"
             ],
             [
              0.7777777777777778,
              "#fb9f3a"
             ],
             [
              0.8888888888888888,
              "#fdca26"
             ],
             [
              1,
              "#f0f921"
             ]
            ],
            "type": "contour"
           }
          ],
          "contourcarpet": [
           {
            "colorbar": {
             "outlinewidth": 0,
             "ticks": ""
            },
            "type": "contourcarpet"
           }
          ],
          "heatmap": [
           {
            "colorbar": {
             "outlinewidth": 0,
             "ticks": ""
            },
            "colorscale": [
             [
              0,
              "#0d0887"
             ],
             [
              0.1111111111111111,
              "#46039f"
             ],
             [
              0.2222222222222222,
              "#7201a8"
             ],
             [
              0.3333333333333333,
              "#9c179e"
             ],
             [
              0.4444444444444444,
              "#bd3786"
             ],
             [
              0.5555555555555556,
              "#d8576b"
             ],
             [
              0.6666666666666666,
              "#ed7953"
             ],
             [
              0.7777777777777778,
              "#fb9f3a"
             ],
             [
              0.8888888888888888,
              "#fdca26"
             ],
             [
              1,
              "#f0f921"
             ]
            ],
            "type": "heatmap"
           }
          ],
          "heatmapgl": [
           {
            "colorbar": {
             "outlinewidth": 0,
             "ticks": ""
            },
            "colorscale": [
             [
              0,
              "#0d0887"
             ],
             [
              0.1111111111111111,
              "#46039f"
             ],
             [
              0.2222222222222222,
              "#7201a8"
             ],
             [
              0.3333333333333333,
              "#9c179e"
             ],
             [
              0.4444444444444444,
              "#bd3786"
             ],
             [
              0.5555555555555556,
              "#d8576b"
             ],
             [
              0.6666666666666666,
              "#ed7953"
             ],
             [
              0.7777777777777778,
              "#fb9f3a"
             ],
             [
              0.8888888888888888,
              "#fdca26"
             ],
             [
              1,
              "#f0f921"
             ]
            ],
            "type": "heatmapgl"
           }
          ],
          "histogram": [
           {
            "marker": {
             "pattern": {
              "fillmode": "overlay",
              "size": 10,
              "solidity": 0.2
             }
            },
            "type": "histogram"
           }
          ],
          "histogram2d": [
           {
            "colorbar": {
             "outlinewidth": 0,
             "ticks": ""
            },
            "colorscale": [
             [
              0,
              "#0d0887"
             ],
             [
              0.1111111111111111,
              "#46039f"
             ],
             [
              0.2222222222222222,
              "#7201a8"
             ],
             [
              0.3333333333333333,
              "#9c179e"
             ],
             [
              0.4444444444444444,
              "#bd3786"
             ],
             [
              0.5555555555555556,
              "#d8576b"
             ],
             [
              0.6666666666666666,
              "#ed7953"
             ],
             [
              0.7777777777777778,
              "#fb9f3a"
             ],
             [
              0.8888888888888888,
              "#fdca26"
             ],
             [
              1,
              "#f0f921"
             ]
            ],
            "type": "histogram2d"
           }
          ],
          "histogram2dcontour": [
           {
            "colorbar": {
             "outlinewidth": 0,
             "ticks": ""
            },
            "colorscale": [
             [
              0,
              "#0d0887"
             ],
             [
              0.1111111111111111,
              "#46039f"
             ],
             [
              0.2222222222222222,
              "#7201a8"
             ],
             [
              0.3333333333333333,
              "#9c179e"
             ],
             [
              0.4444444444444444,
              "#bd3786"
             ],
             [
              0.5555555555555556,
              "#d8576b"
             ],
             [
              0.6666666666666666,
              "#ed7953"
             ],
             [
              0.7777777777777778,
              "#fb9f3a"
             ],
             [
              0.8888888888888888,
              "#fdca26"
             ],
             [
              1,
              "#f0f921"
             ]
            ],
            "type": "histogram2dcontour"
           }
          ],
          "mesh3d": [
           {
            "colorbar": {
             "outlinewidth": 0,
             "ticks": ""
            },
            "type": "mesh3d"
           }
          ],
          "parcoords": [
           {
            "line": {
             "colorbar": {
              "outlinewidth": 0,
              "ticks": ""
             }
            },
            "type": "parcoords"
           }
          ],
          "pie": [
           {
            "automargin": true,
            "type": "pie"
           }
          ],
          "scatter": [
           {
            "fillpattern": {
             "fillmode": "overlay",
             "size": 10,
             "solidity": 0.2
            },
            "type": "scatter"
           }
          ],
          "scatter3d": [
           {
            "line": {
             "colorbar": {
              "outlinewidth": 0,
              "ticks": ""
             }
            },
            "marker": {
             "colorbar": {
              "outlinewidth": 0,
              "ticks": ""
             }
            },
            "type": "scatter3d"
           }
          ],
          "scattercarpet": [
           {
            "marker": {
             "colorbar": {
              "outlinewidth": 0,
              "ticks": ""
             }
            },
            "type": "scattercarpet"
           }
          ],
          "scattergeo": [
           {
            "marker": {
             "colorbar": {
              "outlinewidth": 0,
              "ticks": ""
             }
            },
            "type": "scattergeo"
           }
          ],
          "scattergl": [
           {
            "marker": {
             "colorbar": {
              "outlinewidth": 0,
              "ticks": ""
             }
            },
            "type": "scattergl"
           }
          ],
          "scattermapbox": [
           {
            "marker": {
             "colorbar": {
              "outlinewidth": 0,
              "ticks": ""
             }
            },
            "type": "scattermapbox"
           }
          ],
          "scatterpolar": [
           {
            "marker": {
             "colorbar": {
              "outlinewidth": 0,
              "ticks": ""
             }
            },
            "type": "scatterpolar"
           }
          ],
          "scatterpolargl": [
           {
            "marker": {
             "colorbar": {
              "outlinewidth": 0,
              "ticks": ""
             }
            },
            "type": "scatterpolargl"
           }
          ],
          "scatterternary": [
           {
            "marker": {
             "colorbar": {
              "outlinewidth": 0,
              "ticks": ""
             }
            },
            "type": "scatterternary"
           }
          ],
          "surface": [
           {
            "colorbar": {
             "outlinewidth": 0,
             "ticks": ""
            },
            "colorscale": [
             [
              0,
              "#0d0887"
             ],
             [
              0.1111111111111111,
              "#46039f"
             ],
             [
              0.2222222222222222,
              "#7201a8"
             ],
             [
              0.3333333333333333,
              "#9c179e"
             ],
             [
              0.4444444444444444,
              "#bd3786"
             ],
             [
              0.5555555555555556,
              "#d8576b"
             ],
             [
              0.6666666666666666,
              "#ed7953"
             ],
             [
              0.7777777777777778,
              "#fb9f3a"
             ],
             [
              0.8888888888888888,
              "#fdca26"
             ],
             [
              1,
              "#f0f921"
             ]
            ],
            "type": "surface"
           }
          ],
          "table": [
           {
            "cells": {
             "fill": {
              "color": "#EBF0F8"
             },
             "line": {
              "color": "white"
             }
            },
            "header": {
             "fill": {
              "color": "#C8D4E3"
             },
             "line": {
              "color": "white"
             }
            },
            "type": "table"
           }
          ]
         },
         "layout": {
          "annotationdefaults": {
           "arrowcolor": "#2a3f5f",
           "arrowhead": 0,
           "arrowwidth": 1
          },
          "autotypenumbers": "strict",
          "coloraxis": {
           "colorbar": {
            "outlinewidth": 0,
            "ticks": ""
           }
          },
          "colorscale": {
           "diverging": [
            [
             0,
             "#8e0152"
            ],
            [
             0.1,
             "#c51b7d"
            ],
            [
             0.2,
             "#de77ae"
            ],
            [
             0.3,
             "#f1b6da"
            ],
            [
             0.4,
             "#fde0ef"
            ],
            [
             0.5,
             "#f7f7f7"
            ],
            [
             0.6,
             "#e6f5d0"
            ],
            [
             0.7,
             "#b8e186"
            ],
            [
             0.8,
             "#7fbc41"
            ],
            [
             0.9,
             "#4d9221"
            ],
            [
             1,
             "#276419"
            ]
           ],
           "sequential": [
            [
             0,
             "#0d0887"
            ],
            [
             0.1111111111111111,
             "#46039f"
            ],
            [
             0.2222222222222222,
             "#7201a8"
            ],
            [
             0.3333333333333333,
             "#9c179e"
            ],
            [
             0.4444444444444444,
             "#bd3786"
            ],
            [
             0.5555555555555556,
             "#d8576b"
            ],
            [
             0.6666666666666666,
             "#ed7953"
            ],
            [
             0.7777777777777778,
             "#fb9f3a"
            ],
            [
             0.8888888888888888,
             "#fdca26"
            ],
            [
             1,
             "#f0f921"
            ]
           ],
           "sequentialminus": [
            [
             0,
             "#0d0887"
            ],
            [
             0.1111111111111111,
             "#46039f"
            ],
            [
             0.2222222222222222,
             "#7201a8"
            ],
            [
             0.3333333333333333,
             "#9c179e"
            ],
            [
             0.4444444444444444,
             "#bd3786"
            ],
            [
             0.5555555555555556,
             "#d8576b"
            ],
            [
             0.6666666666666666,
             "#ed7953"
            ],
            [
             0.7777777777777778,
             "#fb9f3a"
            ],
            [
             0.8888888888888888,
             "#fdca26"
            ],
            [
             1,
             "#f0f921"
            ]
           ]
          },
          "colorway": [
           "#636efa",
           "#EF553B",
           "#00cc96",
           "#ab63fa",
           "#FFA15A",
           "#19d3f3",
           "#FF6692",
           "#B6E880",
           "#FF97FF",
           "#FECB52"
          ],
          "font": {
           "color": "#2a3f5f"
          },
          "geo": {
           "bgcolor": "white",
           "lakecolor": "white",
           "landcolor": "#E5ECF6",
           "showlakes": true,
           "showland": true,
           "subunitcolor": "white"
          },
          "hoverlabel": {
           "align": "left"
          },
          "hovermode": "closest",
          "mapbox": {
           "style": "light"
          },
          "paper_bgcolor": "white",
          "plot_bgcolor": "#E5ECF6",
          "polar": {
           "angularaxis": {
            "gridcolor": "white",
            "linecolor": "white",
            "ticks": ""
           },
           "bgcolor": "#E5ECF6",
           "radialaxis": {
            "gridcolor": "white",
            "linecolor": "white",
            "ticks": ""
           }
          },
          "scene": {
           "xaxis": {
            "backgroundcolor": "#E5ECF6",
            "gridcolor": "white",
            "gridwidth": 2,
            "linecolor": "white",
            "showbackground": true,
            "ticks": "",
            "zerolinecolor": "white"
           },
           "yaxis": {
            "backgroundcolor": "#E5ECF6",
            "gridcolor": "white",
            "gridwidth": 2,
            "linecolor": "white",
            "showbackground": true,
            "ticks": "",
            "zerolinecolor": "white"
           },
           "zaxis": {
            "backgroundcolor": "#E5ECF6",
            "gridcolor": "white",
            "gridwidth": 2,
            "linecolor": "white",
            "showbackground": true,
            "ticks": "",
            "zerolinecolor": "white"
           }
          },
          "shapedefaults": {
           "line": {
            "color": "#2a3f5f"
           }
          },
          "ternary": {
           "aaxis": {
            "gridcolor": "white",
            "linecolor": "white",
            "ticks": ""
           },
           "baxis": {
            "gridcolor": "white",
            "linecolor": "white",
            "ticks": ""
           },
           "bgcolor": "#E5ECF6",
           "caxis": {
            "gridcolor": "white",
            "linecolor": "white",
            "ticks": ""
           }
          },
          "title": {
           "x": 0.05
          },
          "xaxis": {
           "automargin": true,
           "gridcolor": "white",
           "linecolor": "white",
           "ticks": "",
           "title": {
            "standoff": 15
           },
           "zerolinecolor": "white",
           "zerolinewidth": 2
          },
          "yaxis": {
           "automargin": true,
           "gridcolor": "white",
           "linecolor": "white",
           "ticks": "",
           "title": {
            "standoff": 15
           },
           "zerolinecolor": "white",
           "zerolinewidth": 2
          }
         }
        },
        "title": {
         "text": "Last layer diag covariance approximation"
        },
        "width": 1000,
        "xaxis": {
         "title": {
          "text": "x"
         }
        },
        "yaxis": {
         "title": {
          "text": "y"
         }
        }
       }
      }
     },
     "metadata": {},
     "output_type": "display_data"
    }
   ],
   "source": [
    "fig = bayesian_regression(last_layer_diag_la, train_dataloader, test_dataloader, title=\"Last layer diag covariance approximation\")\n",
    "fig.show()"
   ]
  },
  {
   "attachments": {},
   "cell_type": "markdown",
   "metadata": {},
   "source": [
    "### Last layer full covariance approximation"
   ]
  },
  {
   "cell_type": "code",
   "execution_count": null,
   "metadata": {},
   "outputs": [
    {
     "name": "stdout",
     "output_type": "stream",
     "text": [
      "Last layer full covariance approximation NLL:: 0.9788088966738945\n"
     ]
    }
   ],
   "source": [
    "model_copy = copy.deepcopy(map_model)\n",
    "\n",
    "last_layer_full_la, prior_precision = trainer.train_la_posthoc(\n",
    "            model=model_copy,\n",
    "            dataloader=train_dataloader,\n",
    "            subset_of_weights=\"last_layer\",\n",
    "            hessian_structure=\"full\",\n",
    "            sigma_noise=sigma,\n",
    "            prior_mean=config.trainer.la.prior_mean,\n",
    "            prior_precisions=prior_precisions,\n",
    "            val_dataloader=val_dataloader,\n",
    "        )\n",
    "last_layer_full_la_nll = trainer.evaluate_la(last_layer_full_la, test_dataloader)\n",
    "print(f\"Last layer full covariance approximation NLL:: {last_layer_full_la_nll}\")"
   ]
  },
  {
   "cell_type": "code",
   "execution_count": null,
   "metadata": {},
   "outputs": [
    {
     "data": {
      "application/vnd.plotly.v1+json": {
       "config": {
        "plotlyServerURL": "https://plot.ly"
       },
       "data": [
        {
         "mode": "markers",
         "name": "Training data",
         "type": "scatter",
         "x": [
          -1.337305284443211,
          -0.6505575615004684,
          -1.1706828703822998,
          -1.0048781172148298,
          1.0565193525847998,
          -0.9341019618420752,
          -0.5349868759873495,
          0.9594500563170882,
          -1.2322372817727305,
          -0.8098621340437078,
          0.5148387174316689,
          0.5803617706424027,
          1.1427894843640654,
          0.5637229064551632,
          0.9557879865412287,
          -0.6062782511776712,
          -1.2161835929855433,
          0.7052427112184918,
          1.3887819582783902,
          -0.6537149081821738,
          -0.9513328412297837,
          -1.475720842401142,
          -0.8007836872661649,
          -1.23092160214396,
          -1.333469104500295,
          0.8426891778105761,
          -1.014792238617606,
          -0.8628407901268635,
          0.9943063564512253,
          0.8153374931500585,
          -1.3238558665950806,
          0.7821298557996577,
          0.7319730575737817,
          -0.9371114063048578,
          0.9159809576001492,
          -1.097824842292453,
          -1.346095376070491,
          -0.5465489152451033,
          0.7744184887352086,
          -1.2166625144563414,
          0.912415999446055,
          -1.267748780610201,
          1.2984139733996534,
          0.8010081112759737,
          1.3669482995346671,
          -0.8262832758711316,
          0.5256736385005145,
          -1.4159281942961977,
          1.3397244040165979,
          -0.5026456585036609,
          1.3699639743107008,
          0.8687408940670442,
          1.454371310148614,
          1.297511932394134,
          0.6425992139834094,
          1.1894860885075835,
          -1.2326131999124934,
          0.7281290220185053,
          -0.5347297401241398,
          0.9852863527208116,
          -1.269458730714507,
          -1.1905681340982608,
          -0.8023330713626566,
          -1.2644494911396391,
          1.0494825523714,
          -1.4853594349724577,
          1.165271637452297,
          -1.1984372906178793,
          -1.2541102185782558,
          0.7263760692086061,
          1.4285434111236208,
          0.8758575370991757,
          1.1870057466255908,
          1.3654140171757305,
          0.6909921563511956,
          -1.4965170862677222,
          1.4770925176474674,
          -0.8844463652289509,
          1.264028061915992,
          -0.7695520750283793,
          0.6475361954687213,
          0.5193214955367993,
          1.3983383784355845,
          0.7356005220227777,
          -1.1219786155143354,
          0.574599678976067,
          0.5625489664528609,
          1.2835634799987314
         ],
         "y": [
          0.22704033068578572,
          0.48213400083255037,
          0.20785458160346182,
          0.00026943756731534485,
          0.706442008093481,
          0.07158809090658802,
          0.42623770676391837,
          1,
          0.21982861064577247,
          0.26543594880733284,
          0.7739387807255895,
          0.5189987429384414,
          0.888130675102298,
          0.8404413522659699,
          0.8604278427369398,
          0.40377064344750196,
          0.2154583391868351,
          0.66607830149852,
          0.3717250393155298,
          0.4258012267292421,
          0.06920295072963467,
          0.1654301953151749,
          0.2928651932079143,
          0.10034478595950258,
          0.16821843291816418,
          0.8726242107185324,
          0.0457404979723941,
          0.24996343767509033,
          0.9072010749029378,
          0.8217604485888413,
          0.15680228083018777,
          0.9677590595146406,
          0.8710789362651906,
          0.052672691243608516,
          0.8457074389241511,
          0.2362547719275705,
          0.30863176191225844,
          0.498244205386257,
          0.9808506955842595,
          0.16497494583598948,
          0.9027645588648137,
          0.10031113567816974,
          0.6611235452430386,
          0.8751842558805043,
          0.4639940107205561,
          0.24651566632381033,
          0.44618619653693903,
          0.14744626720723614,
          0.4535021177322158,
          0.6354437941468748,
          0.5384571357774733,
          0.9465656181662574,
          0.33371166368167493,
          0.5566899200699926,
          0.8137168724157819,
          0.7540921389413057,
          0.28237639463355674,
          0.7138127080640428,
          0.45861115993931656,
          0.974475055611208,
          0.17538097177776796,
          0.027531960119475007,
          0.04906352208317366,
          0.11910208224646457,
          0.7356842937664854,
          0.3354713910249758,
          0.8111442642860152,
          0.05341190909341209,
          0.07351904052929303,
          0.7949028442253177,
          0.4360894443303159,
          0.8891126191378798,
          0.5998621632706944,
          0.3708144609377887,
          0.7823249985351538,
          0.22995937493308188,
          0.5121378829690278,
          0.23864038273782928,
          0.663373154205591,
          0.19605574580906932,
          0.6512735607857035,
          0.7045515152862875,
          0.6069200188700424,
          0.8006099907685278,
          0.14560741463947258,
          0.6928888160583849,
          0.6295780240013573,
          0.6254645633122984
         ]
        },
        {
         "line": {
          "color": "rgb(31, 119, 180)"
         },
         "mode": "lines",
         "name": "MAP",
         "type": "scatter",
         "x": [
          -1.9999999999999998,
          -1.9922985743484347,
          -1.987805080104512,
          -1.9790815959435524,
          -1.978007158107121,
          -1.9760328625836405,
          -1.9736147608538208,
          -1.9648840204095472,
          -1.9602686991620744,
          -1.929609016136602,
          -1.8964805443969703,
          -1.8617113264346798,
          -1.8379041143874026,
          -1.8358143047929947,
          -1.8061026722819864,
          -1.8048421918742066,
          -1.7995953674299947,
          -1.7768471528776129,
          -1.7215749898171284,
          -1.6984348547008397,
          -1.6628269823982826,
          -1.548224494336501,
          -1.4965170862677222,
          -1.4853594349724577,
          -1.475720842401142,
          -1.4159281942961977,
          -1.346095376070491,
          -1.337305284443211,
          -1.333469104500295,
          -1.3238558665950806,
          -1.269458730714507,
          -1.267748780610201,
          -1.2644494911396391,
          -1.2541102185782558,
          -1.2326131999124934,
          -1.2322372817727305,
          -1.23092160214396,
          -1.2166625144563414,
          -1.2161835929855433,
          -1.1984372906178793,
          -1.1905681340982608,
          -1.1706828703822998,
          -1.1219786155143354,
          -1.097824842292453,
          -1.014792238617606,
          -1.0048781172148298,
          -0.9513328412297837,
          -0.9371114063048578,
          -0.9341019618420752,
          -0.8844463652289509,
          -0.8628407901268635,
          -0.8262832758711316,
          -0.8098621340437078,
          -0.8023330713626566,
          -0.8007836872661649,
          -0.7695520750283793,
          -0.6537149081821738,
          -0.6505575615004684,
          -0.6062782511776712,
          -0.5465489152451033,
          -0.5349868759873495,
          -0.5347297401241398,
          -0.5026456585036609,
          -0.49814351225081444,
          -0.4967727756147251,
          -0.4799146992101535,
          -0.39158402676460224,
          -0.3730394316512131,
          -0.3662009856499131,
          -0.3522979061879712,
          -0.338992395031787,
          -0.31929871344830474,
          -0.29737295442173584,
          -0.28106212977133826,
          -0.2576905994664789,
          -0.2525474081567074,
          -0.244811052118457,
          -0.23312894388902272,
          -0.2324104262412332,
          -0.2315318166312028,
          -0.20854399235767018,
          -0.20581795942702708,
          -0.1939113567581563,
          -0.18532767811772466,
          -0.16652513449157103,
          -0.14661840328321163,
          -0.13349438386087087,
          -0.09627462793899966,
          -0.0654017327587395,
          -0.022453271523063645,
          -0.01530662817821149,
          0.002984420274167121,
          0.05458306197215279,
          0.08334516765533895,
          0.09375581793592813,
          0.1127336907034695,
          0.13002646689891417,
          0.16088615652391347,
          0.18078509984070879,
          0.2143915449599918,
          0.26715986025011906,
          0.2681502768946924,
          0.2968990415810251,
          0.31583005155758936,
          0.3279581012300672,
          0.3447262444172723,
          0.3717242910799805,
          0.40953755205983766,
          0.41328955505306375,
          0.4256828670842969,
          0.4271308731488621,
          0.4325813814318358,
          0.44824567564081486,
          0.46058521735985725,
          0.4844681073968995,
          0.5148387174316689,
          0.5193214955367993,
          0.5256736385005145,
          0.5625489664528609,
          0.5637229064551632,
          0.574599678976067,
          0.5803617706424027,
          0.6425992139834094,
          0.6475361954687213,
          0.6909921563511956,
          0.7052427112184918,
          0.7263760692086061,
          0.7281290220185053,
          0.7319730575737817,
          0.7356005220227777,
          0.7744184887352086,
          0.7821298557996577,
          0.8010081112759737,
          0.8153374931500585,
          0.8426891778105761,
          0.8687408940670442,
          0.8758575370991757,
          0.912415999446055,
          0.9159809576001492,
          0.9557879865412287,
          0.9594500563170882,
          0.9852863527208116,
          0.9943063564512253,
          1.0494825523714,
          1.0565193525847998,
          1.1427894843640654,
          1.165271637452297,
          1.1870057466255908,
          1.1894860885075835,
          1.264028061915992,
          1.2835634799987314,
          1.297511932394134,
          1.2984139733996534,
          1.3397244040165979,
          1.3654140171757305,
          1.3669482995346671,
          1.3699639743107008,
          1.3887819582783902,
          1.3983383784355845,
          1.4285434111236208,
          1.454371310148614,
          1.4770925176474674,
          1.5127015344314803,
          1.5182874165860771,
          1.5361669257598867,
          1.5814996330677324,
          1.587767734523351,
          1.5910505678404334,
          1.5920600140287422,
          1.615916222072077,
          1.65097541371166,
          1.6855409884676673,
          1.7054855756011085,
          1.7461246222444258,
          1.7524857043532402,
          1.7609762668988838,
          1.820541786225419,
          1.847823108978674,
          1.8610495899656803,
          1.9047146049460557,
          1.9408855011762243,
          1.9757808084889787,
          1.9828820111795742,
          2.0000000000000004
         ],
         "y": [
          0.38496211060413216,
          0.38262841971724904,
          0.3812667982406886,
          0.37862340253587345,
          0.3782978257010323,
          0.3776995734189728,
          0.3769668386987084,
          0.37432124419032,
          0.3729227066178541,
          0.3636321900163301,
          0.35359357949239034,
          0.34305778900713646,
          0.3358437125087763,
          0.3352104570796598,
          0.3261107570749351,
          0.3257201748355985,
          0.32409435310272783,
          0.31704541483606513,
          0.300186502284714,
          0.29356747542098843,
          0.28261430632098583,
          0.2456439518891444,
          0.22764082526727097,
          0.22375603164535565,
          0.22040013335149367,
          0.19958194394508239,
          0.17546981484518842,
          0.17238293019457657,
          0.17103574913152358,
          0.1676597938183626,
          0.14855672971993356,
          0.1479562332798382,
          0.14679759620795657,
          0.14316667367363684,
          0.13561739890301705,
          0.13548538481434486,
          0.1350233473950112,
          0.1300158729816575,
          0.12984768641435646,
          0.12361557977580351,
          0.12088076165363959,
          0.11470480863233712,
          0.09957827099629596,
          0.09207660690793873,
          0.07348133415390784,
          0.07196286763965976,
          0.08788229890282973,
          0.09911578351635236,
          0.10169169122227822,
          0.14419396549247088,
          0.16268706881592265,
          0.19397815388009687,
          0.207874412468057,
          0.2143165981678555,
          0.21576203475411718,
          0.24491161768164837,
          0.3538225195944971,
          0.356762633379716,
          0.3975832885945514,
          0.45157341104490534,
          0.4601454712701313,
          0.46033611100559335,
          0.4814061272704653,
          0.48307036745240206,
          0.48347620838546546,
          0.48846746438428784,
          0.5075394680178251,
          0.5110924022071404,
          0.512402570935616,
          0.5150662433455591,
          0.5176154284425685,
          0.5213885145727113,
          0.5255892414365693,
          0.5287142105287488,
          0.53319193077926,
          0.5341773079274234,
          0.5356595060396468,
          0.5378976655399139,
          0.5380353253756154,
          0.5382036570163684,
          0.5426078635412354,
          0.543130140546544,
          0.5454113106363822,
          0.5470558461533461,
          0.5506582003534236,
          0.5544721043764144,
          0.5569865177147356,
          0.5641174010003626,
          0.5697825420277167,
          0.5747093424266294,
          0.5755291642379184,
          0.5776274080915738,
          0.5835465074303372,
          0.5868459307315796,
          0.5880401806413469,
          0.5902172130292725,
          0.5922009408324762,
          0.595740986896536,
          0.5980236791991346,
          0.6018788172519547,
          0.6079320948163066,
          0.6080457097161001,
          0.6113436026149315,
          0.6135152591730688,
          0.6149065192612129,
          0.6168300641838218,
          0.6199271247825192,
          0.6242648445498808,
          0.6246952527487291,
          0.6261169422086674,
          0.6262830491343006,
          0.6269083000888218,
          0.6287052178068746,
          0.6301207390459282,
          0.634334184789223,
          0.6402906019295774,
          0.6411697840174986,
          0.6424155941340468,
          0.6632379415234462,
          0.6639261979907813,
          0.6703030222037423,
          0.6736812160185501,
          0.7101697271910479,
          0.7130641761660514,
          0.7385414970367667,
          0.7468962992679666,
          0.7592863449983094,
          0.7603140645631766,
          0.7625677422012129,
          0.7646944487297863,
          0.7874526106343409,
          0.7919736238408875,
          0.8030415501387367,
          0.8114425669951446,
          0.8274782875798357,
          0.8427518638814601,
          0.8452119125056381,
          0.8569113542786826,
          0.8580522124458402,
          0.8664369118795958,
          0.8662384296667218,
          0.8458003430730413,
          0.8376293282971086,
          0.7876464762254023,
          0.7812720000901978,
          0.7031218637312506,
          0.6807941258975914,
          0.6566122141518567,
          0.6538525239335293,
          0.5709152658226715,
          0.5491796726025314,
          0.5336602767015632,
          0.5326566433889404,
          0.4867290037628358,
          0.45835467771014476,
          0.456708630052433,
          0.4534732774639089,
          0.43328449131743463,
          0.4230319306174828,
          0.3908196773041462,
          0.36558346728458546,
          0.3434599186767911,
          0.30878756186051537,
          0.3033486108113306,
          0.2859394044427761,
          0.24179912916477178,
          0.23569590391853593,
          0.23249942228500367,
          0.23151652858029503,
          0.20828783449477975,
          0.17415084021630978,
          0.1410635971920875,
          0.1223879506830749,
          0.08451079183779575,
          0.07857399887035249,
          0.07064976347323842,
          0.01843790091537778,
          -0.003041878685489663,
          -0.013488547906779558,
          -0.04809168604363262,
          -0.07688172894870815,
          -0.10465647327152283,
          -0.11030863983214478,
          -0.12393361692567972
         ]
        },
        {
         "line": {
          "width": 0
         },
         "marker": {
          "color": "#444"
         },
         "mode": "lines",
         "name": "Upper Bound",
         "showlegend": false,
         "type": "scatter",
         "x": [
          -1.9999999999999998,
          -1.9922985743484347,
          -1.987805080104512,
          -1.9790815959435524,
          -1.978007158107121,
          -1.9760328625836405,
          -1.9736147608538208,
          -1.9648840204095472,
          -1.9602686991620744,
          -1.929609016136602,
          -1.8964805443969703,
          -1.8617113264346798,
          -1.8379041143874026,
          -1.8358143047929947,
          -1.8061026722819864,
          -1.8048421918742066,
          -1.7995953674299947,
          -1.7768471528776129,
          -1.7215749898171284,
          -1.6984348547008397,
          -1.6628269823982826,
          -1.548224494336501,
          -1.4965170862677222,
          -1.4853594349724577,
          -1.475720842401142,
          -1.4159281942961977,
          -1.346095376070491,
          -1.337305284443211,
          -1.333469104500295,
          -1.3238558665950806,
          -1.269458730714507,
          -1.267748780610201,
          -1.2644494911396391,
          -1.2541102185782558,
          -1.2326131999124934,
          -1.2322372817727305,
          -1.23092160214396,
          -1.2166625144563414,
          -1.2161835929855433,
          -1.1984372906178793,
          -1.1905681340982608,
          -1.1706828703822998,
          -1.1219786155143354,
          -1.097824842292453,
          -1.014792238617606,
          -1.0048781172148298,
          -0.9513328412297837,
          -0.9371114063048578,
          -0.9341019618420752,
          -0.8844463652289509,
          -0.8628407901268635,
          -0.8262832758711316,
          -0.8098621340437078,
          -0.8023330713626566,
          -0.8007836872661649,
          -0.7695520750283793,
          -0.6537149081821738,
          -0.6505575615004684,
          -0.6062782511776712,
          -0.5465489152451033,
          -0.5349868759873495,
          -0.5347297401241398,
          -0.5026456585036609,
          -0.49814351225081444,
          -0.4967727756147251,
          -0.4799146992101535,
          -0.39158402676460224,
          -0.3730394316512131,
          -0.3662009856499131,
          -0.3522979061879712,
          -0.338992395031787,
          -0.31929871344830474,
          -0.29737295442173584,
          -0.28106212977133826,
          -0.2576905994664789,
          -0.2525474081567074,
          -0.244811052118457,
          -0.23312894388902272,
          -0.2324104262412332,
          -0.2315318166312028,
          -0.20854399235767018,
          -0.20581795942702708,
          -0.1939113567581563,
          -0.18532767811772466,
          -0.16652513449157103,
          -0.14661840328321163,
          -0.13349438386087087,
          -0.09627462793899966,
          -0.0654017327587395,
          -0.022453271523063645,
          -0.01530662817821149,
          0.002984420274167121,
          0.05458306197215279,
          0.08334516765533895,
          0.09375581793592813,
          0.1127336907034695,
          0.13002646689891417,
          0.16088615652391347,
          0.18078509984070879,
          0.2143915449599918,
          0.26715986025011906,
          0.2681502768946924,
          0.2968990415810251,
          0.31583005155758936,
          0.3279581012300672,
          0.3447262444172723,
          0.3717242910799805,
          0.40953755205983766,
          0.41328955505306375,
          0.4256828670842969,
          0.4271308731488621,
          0.4325813814318358,
          0.44824567564081486,
          0.46058521735985725,
          0.4844681073968995,
          0.5148387174316689,
          0.5193214955367993,
          0.5256736385005145,
          0.5625489664528609,
          0.5637229064551632,
          0.574599678976067,
          0.5803617706424027,
          0.6425992139834094,
          0.6475361954687213,
          0.6909921563511956,
          0.7052427112184918,
          0.7263760692086061,
          0.7281290220185053,
          0.7319730575737817,
          0.7356005220227777,
          0.7744184887352086,
          0.7821298557996577,
          0.8010081112759737,
          0.8153374931500585,
          0.8426891778105761,
          0.8687408940670442,
          0.8758575370991757,
          0.912415999446055,
          0.9159809576001492,
          0.9557879865412287,
          0.9594500563170882,
          0.9852863527208116,
          0.9943063564512253,
          1.0494825523714,
          1.0565193525847998,
          1.1427894843640654,
          1.165271637452297,
          1.1870057466255908,
          1.1894860885075835,
          1.264028061915992,
          1.2835634799987314,
          1.297511932394134,
          1.2984139733996534,
          1.3397244040165979,
          1.3654140171757305,
          1.3669482995346671,
          1.3699639743107008,
          1.3887819582783902,
          1.3983383784355845,
          1.4285434111236208,
          1.454371310148614,
          1.4770925176474674,
          1.5127015344314803,
          1.5182874165860771,
          1.5361669257598867,
          1.5814996330677324,
          1.587767734523351,
          1.5910505678404334,
          1.5920600140287422,
          1.615916222072077,
          1.65097541371166,
          1.6855409884676673,
          1.7054855756011085,
          1.7461246222444258,
          1.7524857043532402,
          1.7609762668988838,
          1.820541786225419,
          1.847823108978674,
          1.8610495899656803,
          1.9047146049460557,
          1.9408855011762243,
          1.9757808084889787,
          1.9828820111795742,
          2.0000000000000004
         ],
         "y": [
          0.5266210325356422,
          0.5232527741788541,
          0.5212913574584015,
          0.5174917779786388,
          0.5170245605276581,
          0.5161664821216818,
          0.5151162959531272,
          0.5113317712294267,
          0.5093358208433277,
          0.4961619663102107,
          0.48210510578928645,
          0.4675697062335881,
          0.4577567521674345,
          0.4569010884743737,
          0.44474280152961587,
          0.4442267158280286,
          0.44208224927051004,
          0.4328567349871453,
          0.411198193481767,
          0.4027636850320474,
          0.3892708935018665,
          0.3457001231703639,
          0.3253299499320086,
          0.3210000724699694,
          0.3172790459763569,
          0.2946088423914366,
          0.2692260390694662,
          0.26597599892703316,
          0.26456168572348865,
          0.2610284168095755,
          0.24133220935842659,
          0.24072131696025062,
          0.23954404981710828,
          0.23586694422969193,
          0.22828093920100345,
          0.22814899569180785,
          0.22768739828599302,
          0.22270394726564818,
          0.22253717936195208,
          0.21638564390161474,
          0.2136992052963078,
          0.20755205826140355,
          0.19275795759867237,
          0.18555815868610062,
          0.16806541765149607,
          0.1667025788975527,
          0.18264780680676562,
          0.19366529478898603,
          0.19618284925124013,
          0.23799694222074186,
          0.25635395849795073,
          0.2876421824240209,
          0.3016321938618446,
          0.3080963107377813,
          0.30952529765511383,
          0.33845954285727076,
          0.4482581964905469,
          0.4512569767599822,
          0.49305167930782934,
          0.5488859274277439,
          0.5577325019951239,
          0.5579301936093485,
          0.5799676578384194,
          0.5816454115692221,
          0.5820440399368474,
          0.5869761432436358,
          0.6055770352318324,
          0.609049820780804,
          0.6103358077801377,
          0.6129592570889487,
          0.6154811824297601,
          0.6192341071968486,
          0.6234407466911707,
          0.6265894936614778,
          0.6311300764435543,
          0.6321338348613519,
          0.6336467678641936,
          0.6359383562755642,
          0.6360795777129584,
          0.6362523078578953,
          0.640788521085737,
          0.6413286112574118,
          0.6436929377913201,
          0.6454028173025738,
          0.6491640539921459,
          0.6531696376570367,
          0.6558235560915641,
          0.6634064163495373,
          0.6694388340553763,
          0.6734585027107636,
          0.674136485495649,
          0.6758837111850868,
          0.6809069987975104,
          0.6837686455511033,
          0.6848154626024024,
          0.686738941119658,
          0.68850883896113,
          0.6917084177034903,
          0.6937997392222103,
          0.6973822523267987,
          0.703136743736802,
          0.7032462694367277,
          0.7064499477079398,
          0.7085854512124037,
          0.7099643679025485,
          0.711884769431473,
          0.7150107201576843,
          0.7194592377202277,
          0.719905107173338,
          0.7213835866451712,
          0.7215569012099126,
          0.7222103556183505,
          0.7240977527630588,
          0.7255943758982518,
          0.729780174615059,
          0.7357140989068804,
          0.7365997963259978,
          0.7378591699718752,
          0.7578104243710012,
          0.7584705997509605,
          0.7645962121193352,
          0.7678479094020616,
          0.8032657897000027,
          0.8060987943111623,
          0.8311865159967968,
          0.8394730442821655,
          0.8518161922789622,
          0.8528429409077853,
          0.855096055393006,
          0.8572242032173056,
          0.8801176159498281,
          0.884691540657398,
          0.8959252769439672,
          0.9044864032392257,
          0.9209091915420157,
          0.9366497956254738,
          0.9390662490759796,
          0.950831072078729,
          0.952013811168105,
          0.9610252537027059,
          0.9608498132832335,
          0.9400129057572307,
          0.9316827948657431,
          0.8811075149178023,
          0.8747049352052421,
          0.7970859262723059,
          0.775028630781348,
          0.7504361836168528,
          0.7476356755122253,
          0.6640569005010682,
          0.6423420058666652,
          0.6268854883519835,
          0.6258872991297891,
          0.5803802255110845,
          0.5524365091250342,
          0.5508197271624955,
          0.5476433406706267,
          0.5278655134789205,
          0.5178498267540814,
          0.4864997193169136,
          0.46212057548844176,
          0.44098999588800175,
          0.4083135365904287,
          0.4032346979780769,
          0.3870607483844337,
          0.3465895125391049,
          0.3410510316177935,
          0.3381556447158872,
          0.3372660634750036,
          0.3163398616659302,
          0.2859071889299664,
          0.2567778327935247,
          0.24050654932725118,
          0.20800601882345762,
          0.2029894314295293,
          0.19632538339502376,
          0.15346410493607218,
          0.1368079486122406,
          0.12880616225868308,
          0.1027207281863006,
          0.08145189803362832,
          0.061274426722010056,
          0.0572052196309461,
          0.04744347539993968
         ]
        },
        {
         "fill": "tonexty",
         "fillcolor": "rgba(68, 68, 68, 0.3)",
         "line": {
          "width": 0
         },
         "marker": {
          "color": "#444"
         },
         "mode": "lines",
         "name": "Lower Bound",
         "showlegend": false,
         "type": "scatter",
         "x": [
          -1.9999999999999998,
          -1.9922985743484347,
          -1.987805080104512,
          -1.9790815959435524,
          -1.978007158107121,
          -1.9760328625836405,
          -1.9736147608538208,
          -1.9648840204095472,
          -1.9602686991620744,
          -1.929609016136602,
          -1.8964805443969703,
          -1.8617113264346798,
          -1.8379041143874026,
          -1.8358143047929947,
          -1.8061026722819864,
          -1.8048421918742066,
          -1.7995953674299947,
          -1.7768471528776129,
          -1.7215749898171284,
          -1.6984348547008397,
          -1.6628269823982826,
          -1.548224494336501,
          -1.4965170862677222,
          -1.4853594349724577,
          -1.475720842401142,
          -1.4159281942961977,
          -1.346095376070491,
          -1.337305284443211,
          -1.333469104500295,
          -1.3238558665950806,
          -1.269458730714507,
          -1.267748780610201,
          -1.2644494911396391,
          -1.2541102185782558,
          -1.2326131999124934,
          -1.2322372817727305,
          -1.23092160214396,
          -1.2166625144563414,
          -1.2161835929855433,
          -1.1984372906178793,
          -1.1905681340982608,
          -1.1706828703822998,
          -1.1219786155143354,
          -1.097824842292453,
          -1.014792238617606,
          -1.0048781172148298,
          -0.9513328412297837,
          -0.9371114063048578,
          -0.9341019618420752,
          -0.8844463652289509,
          -0.8628407901268635,
          -0.8262832758711316,
          -0.8098621340437078,
          -0.8023330713626566,
          -0.8007836872661649,
          -0.7695520750283793,
          -0.6537149081821738,
          -0.6505575615004684,
          -0.6062782511776712,
          -0.5465489152451033,
          -0.5349868759873495,
          -0.5347297401241398,
          -0.5026456585036609,
          -0.49814351225081444,
          -0.4967727756147251,
          -0.4799146992101535,
          -0.39158402676460224,
          -0.3730394316512131,
          -0.3662009856499131,
          -0.3522979061879712,
          -0.338992395031787,
          -0.31929871344830474,
          -0.29737295442173584,
          -0.28106212977133826,
          -0.2576905994664789,
          -0.2525474081567074,
          -0.244811052118457,
          -0.23312894388902272,
          -0.2324104262412332,
          -0.2315318166312028,
          -0.20854399235767018,
          -0.20581795942702708,
          -0.1939113567581563,
          -0.18532767811772466,
          -0.16652513449157103,
          -0.14661840328321163,
          -0.13349438386087087,
          -0.09627462793899966,
          -0.0654017327587395,
          -0.022453271523063645,
          -0.01530662817821149,
          0.002984420274167121,
          0.05458306197215279,
          0.08334516765533895,
          0.09375581793592813,
          0.1127336907034695,
          0.13002646689891417,
          0.16088615652391347,
          0.18078509984070879,
          0.2143915449599918,
          0.26715986025011906,
          0.2681502768946924,
          0.2968990415810251,
          0.31583005155758936,
          0.3279581012300672,
          0.3447262444172723,
          0.3717242910799805,
          0.40953755205983766,
          0.41328955505306375,
          0.4256828670842969,
          0.4271308731488621,
          0.4325813814318358,
          0.44824567564081486,
          0.46058521735985725,
          0.4844681073968995,
          0.5148387174316689,
          0.5193214955367993,
          0.5256736385005145,
          0.5625489664528609,
          0.5637229064551632,
          0.574599678976067,
          0.5803617706424027,
          0.6425992139834094,
          0.6475361954687213,
          0.6909921563511956,
          0.7052427112184918,
          0.7263760692086061,
          0.7281290220185053,
          0.7319730575737817,
          0.7356005220227777,
          0.7744184887352086,
          0.7821298557996577,
          0.8010081112759737,
          0.8153374931500585,
          0.8426891778105761,
          0.8687408940670442,
          0.8758575370991757,
          0.912415999446055,
          0.9159809576001492,
          0.9557879865412287,
          0.9594500563170882,
          0.9852863527208116,
          0.9943063564512253,
          1.0494825523714,
          1.0565193525847998,
          1.1427894843640654,
          1.165271637452297,
          1.1870057466255908,
          1.1894860885075835,
          1.264028061915992,
          1.2835634799987314,
          1.297511932394134,
          1.2984139733996534,
          1.3397244040165979,
          1.3654140171757305,
          1.3669482995346671,
          1.3699639743107008,
          1.3887819582783902,
          1.3983383784355845,
          1.4285434111236208,
          1.454371310148614,
          1.4770925176474674,
          1.5127015344314803,
          1.5182874165860771,
          1.5361669257598867,
          1.5814996330677324,
          1.587767734523351,
          1.5910505678404334,
          1.5920600140287422,
          1.615916222072077,
          1.65097541371166,
          1.6855409884676673,
          1.7054855756011085,
          1.7461246222444258,
          1.7524857043532402,
          1.7609762668988838,
          1.820541786225419,
          1.847823108978674,
          1.8610495899656803,
          1.9047146049460557,
          1.9408855011762243,
          1.9757808084889787,
          1.9828820111795742,
          2.0000000000000004
         ],
         "y": [
          0.24330318867262218,
          0.24200406525564397,
          0.24124223902297565,
          0.23975502709310814,
          0.23957109087440656,
          0.23923266471626384,
          0.2388173814442895,
          0.23731071715121319,
          0.23650959239238048,
          0.23110241372244955,
          0.22508205319549424,
          0.2185458717806848,
          0.2139306728501181,
          0.21351982568494587,
          0.20747871262025427,
          0.20721363384316843,
          0.20610645693494561,
          0.201234094684985,
          0.189174811087661,
          0.18437126580992946,
          0.17595771914010516,
          0.14558778060792485,
          0.12995170060253336,
          0.12651199082074188,
          0.12352122072663042,
          0.1045550454987282,
          0.08171359062091063,
          0.07878986146211998,
          0.0775098125395585,
          0.07429117082714971,
          0.05578125008144054,
          0.055191149599425796,
          0.05405114259880486,
          0.05046640311758174,
          0.04295385860503066,
          0.04282177393688184,
          0.04235929650402939,
          0.03732779869766685,
          0.03715819346676083,
          0.030845515649992272,
          0.028062318010971393,
          0.021857559003270702,
          0.0063985843939195625,
          -0.0014049448702231626,
          -0.02110274934368038,
          -0.022776843618233178,
          -0.006883209001106172,
          0.004566272243718708,
          0.00720053319331633,
          0.05039098876419988,
          0.06902017913389459,
          0.10031412533617283,
          0.1141166310742694,
          0.1205368855979297,
          0.12199877185312051,
          0.15136369250602597,
          0.25938684269844736,
          0.26226828999944973,
          0.30211489788127344,
          0.3542608946620668,
          0.36255844054513864,
          0.3627420284018383,
          0.38284459670251114,
          0.384495323335582,
          0.3849083768340835,
          0.38995878552493995,
          0.4095019008038179,
          0.4131349836334766,
          0.4144693340910944,
          0.41717322960216946,
          0.41974967445537675,
          0.42354292194857396,
          0.42773773618196786,
          0.4308389273960198,
          0.43525378511496565,
          0.4362207809934948,
          0.4376722442151001,
          0.43985697480426367,
          0.43999107303827234,
          0.4401550061748415,
          0.44442720599673363,
          0.4449316698356761,
          0.4471296834814443,
          0.4487088750041185,
          0.4521523467147013,
          0.455774571095792,
          0.45814947933790723,
          0.4648283856511878,
          0.4701262500000571,
          0.4759601821424953,
          0.4769218429801879,
          0.4793711049980606,
          0.48618601606316403,
          0.489923215912056,
          0.49126489868029133,
          0.493695484938887,
          0.4958930427038224,
          0.4997735560895816,
          0.5022476191760589,
          0.5063753821771106,
          0.5127274458958112,
          0.5128451499954724,
          0.5162372575219232,
          0.518445067133734,
          0.5198486706198773,
          0.5217753589361706,
          0.5248435294073541,
          0.529070451379534,
          0.5294853983241201,
          0.5308502977721636,
          0.5310091970586885,
          0.5316062445592932,
          0.5333126828506904,
          0.5346471021936047,
          0.538888194963387,
          0.5448671049522744,
          0.5457397717089993,
          0.5469720182962184,
          0.5686654586758911,
          0.5693817962306021,
          0.5760098322881494,
          0.5795145226350387,
          0.617073664682093,
          0.6200295580209406,
          0.6458964780767367,
          0.6543195542537678,
          0.6667564977176565,
          0.6677851882185679,
          0.6700394290094198,
          0.672164694242267,
          0.6947876053188538,
          0.6992557070243771,
          0.7101578233335062,
          0.7183987307510635,
          0.7340473836176556,
          0.7488539321374463,
          0.7513575759352966,
          0.7629916364786362,
          0.7640906137235753,
          0.7718485700564858,
          0.7716270460502102,
          0.7515877803888519,
          0.743575861728474,
          0.6941854375330023,
          0.6878390649751536,
          0.6091578011901954,
          0.5865596210138347,
          0.5627882446868605,
          0.5600693723548333,
          0.47777363114427474,
          0.4560173393383976,
          0.4404350650511429,
          0.4394259876480916,
          0.3930777820145871,
          0.3642728462952554,
          0.3625975329423705,
          0.35930321425719114,
          0.3387034691559488,
          0.32821403448088415,
          0.29513963529137877,
          0.26904635908072916,
          0.24592984146558045,
          0.20926158713060206,
          0.20346252364458425,
          0.1848180605011185,
          0.13700874579043865,
          0.13034077621927836,
          0.1268431998541201,
          0.12576699368558647,
          0.10023580732362929,
          0.06239449150265315,
          0.02534936159065032,
          0.004269352038898597,
          -0.03898443514786612,
          -0.045841433688824304,
          -0.055025856448546906,
          -0.11658830310531662,
          -0.14289170598321993,
          -0.1557832580722422,
          -0.19890410027356584,
          -0.23521535593104462,
          -0.2705873732650557,
          -0.27782249929523567,
          -0.2953107092512991
         ]
        }
       ],
       "layout": {
        "autosize": false,
        "height": 1000,
        "hovermode": "x",
        "template": {
         "data": {
          "bar": [
           {
            "error_x": {
             "color": "#2a3f5f"
            },
            "error_y": {
             "color": "#2a3f5f"
            },
            "marker": {
             "line": {
              "color": "#E5ECF6",
              "width": 0.5
             },
             "pattern": {
              "fillmode": "overlay",
              "size": 10,
              "solidity": 0.2
             }
            },
            "type": "bar"
           }
          ],
          "barpolar": [
           {
            "marker": {
             "line": {
              "color": "#E5ECF6",
              "width": 0.5
             },
             "pattern": {
              "fillmode": "overlay",
              "size": 10,
              "solidity": 0.2
             }
            },
            "type": "barpolar"
           }
          ],
          "carpet": [
           {
            "aaxis": {
             "endlinecolor": "#2a3f5f",
             "gridcolor": "white",
             "linecolor": "white",
             "minorgridcolor": "white",
             "startlinecolor": "#2a3f5f"
            },
            "baxis": {
             "endlinecolor": "#2a3f5f",
             "gridcolor": "white",
             "linecolor": "white",
             "minorgridcolor": "white",
             "startlinecolor": "#2a3f5f"
            },
            "type": "carpet"
           }
          ],
          "choropleth": [
           {
            "colorbar": {
             "outlinewidth": 0,
             "ticks": ""
            },
            "type": "choropleth"
           }
          ],
          "contour": [
           {
            "colorbar": {
             "outlinewidth": 0,
             "ticks": ""
            },
            "colorscale": [
             [
              0,
              "#0d0887"
             ],
             [
              0.1111111111111111,
              "#46039f"
             ],
             [
              0.2222222222222222,
              "#7201a8"
             ],
             [
              0.3333333333333333,
              "#9c179e"
             ],
             [
              0.4444444444444444,
              "#bd3786"
             ],
             [
              0.5555555555555556,
              "#d8576b"
             ],
             [
              0.6666666666666666,
              "#ed7953"
             ],
             [
              0.7777777777777778,
              "#fb9f3a"
             ],
             [
              0.8888888888888888,
              "#fdca26"
             ],
             [
              1,
              "#f0f921"
             ]
            ],
            "type": "contour"
           }
          ],
          "contourcarpet": [
           {
            "colorbar": {
             "outlinewidth": 0,
             "ticks": ""
            },
            "type": "contourcarpet"
           }
          ],
          "heatmap": [
           {
            "colorbar": {
             "outlinewidth": 0,
             "ticks": ""
            },
            "colorscale": [
             [
              0,
              "#0d0887"
             ],
             [
              0.1111111111111111,
              "#46039f"
             ],
             [
              0.2222222222222222,
              "#7201a8"
             ],
             [
              0.3333333333333333,
              "#9c179e"
             ],
             [
              0.4444444444444444,
              "#bd3786"
             ],
             [
              0.5555555555555556,
              "#d8576b"
             ],
             [
              0.6666666666666666,
              "#ed7953"
             ],
             [
              0.7777777777777778,
              "#fb9f3a"
             ],
             [
              0.8888888888888888,
              "#fdca26"
             ],
             [
              1,
              "#f0f921"
             ]
            ],
            "type": "heatmap"
           }
          ],
          "heatmapgl": [
           {
            "colorbar": {
             "outlinewidth": 0,
             "ticks": ""
            },
            "colorscale": [
             [
              0,
              "#0d0887"
             ],
             [
              0.1111111111111111,
              "#46039f"
             ],
             [
              0.2222222222222222,
              "#7201a8"
             ],
             [
              0.3333333333333333,
              "#9c179e"
             ],
             [
              0.4444444444444444,
              "#bd3786"
             ],
             [
              0.5555555555555556,
              "#d8576b"
             ],
             [
              0.6666666666666666,
              "#ed7953"
             ],
             [
              0.7777777777777778,
              "#fb9f3a"
             ],
             [
              0.8888888888888888,
              "#fdca26"
             ],
             [
              1,
              "#f0f921"
             ]
            ],
            "type": "heatmapgl"
           }
          ],
          "histogram": [
           {
            "marker": {
             "pattern": {
              "fillmode": "overlay",
              "size": 10,
              "solidity": 0.2
             }
            },
            "type": "histogram"
           }
          ],
          "histogram2d": [
           {
            "colorbar": {
             "outlinewidth": 0,
             "ticks": ""
            },
            "colorscale": [
             [
              0,
              "#0d0887"
             ],
             [
              0.1111111111111111,
              "#46039f"
             ],
             [
              0.2222222222222222,
              "#7201a8"
             ],
             [
              0.3333333333333333,
              "#9c179e"
             ],
             [
              0.4444444444444444,
              "#bd3786"
             ],
             [
              0.5555555555555556,
              "#d8576b"
             ],
             [
              0.6666666666666666,
              "#ed7953"
             ],
             [
              0.7777777777777778,
              "#fb9f3a"
             ],
             [
              0.8888888888888888,
              "#fdca26"
             ],
             [
              1,
              "#f0f921"
             ]
            ],
            "type": "histogram2d"
           }
          ],
          "histogram2dcontour": [
           {
            "colorbar": {
             "outlinewidth": 0,
             "ticks": ""
            },
            "colorscale": [
             [
              0,
              "#0d0887"
             ],
             [
              0.1111111111111111,
              "#46039f"
             ],
             [
              0.2222222222222222,
              "#7201a8"
             ],
             [
              0.3333333333333333,
              "#9c179e"
             ],
             [
              0.4444444444444444,
              "#bd3786"
             ],
             [
              0.5555555555555556,
              "#d8576b"
             ],
             [
              0.6666666666666666,
              "#ed7953"
             ],
             [
              0.7777777777777778,
              "#fb9f3a"
             ],
             [
              0.8888888888888888,
              "#fdca26"
             ],
             [
              1,
              "#f0f921"
             ]
            ],
            "type": "histogram2dcontour"
           }
          ],
          "mesh3d": [
           {
            "colorbar": {
             "outlinewidth": 0,
             "ticks": ""
            },
            "type": "mesh3d"
           }
          ],
          "parcoords": [
           {
            "line": {
             "colorbar": {
              "outlinewidth": 0,
              "ticks": ""
             }
            },
            "type": "parcoords"
           }
          ],
          "pie": [
           {
            "automargin": true,
            "type": "pie"
           }
          ],
          "scatter": [
           {
            "fillpattern": {
             "fillmode": "overlay",
             "size": 10,
             "solidity": 0.2
            },
            "type": "scatter"
           }
          ],
          "scatter3d": [
           {
            "line": {
             "colorbar": {
              "outlinewidth": 0,
              "ticks": ""
             }
            },
            "marker": {
             "colorbar": {
              "outlinewidth": 0,
              "ticks": ""
             }
            },
            "type": "scatter3d"
           }
          ],
          "scattercarpet": [
           {
            "marker": {
             "colorbar": {
              "outlinewidth": 0,
              "ticks": ""
             }
            },
            "type": "scattercarpet"
           }
          ],
          "scattergeo": [
           {
            "marker": {
             "colorbar": {
              "outlinewidth": 0,
              "ticks": ""
             }
            },
            "type": "scattergeo"
           }
          ],
          "scattergl": [
           {
            "marker": {
             "colorbar": {
              "outlinewidth": 0,
              "ticks": ""
             }
            },
            "type": "scattergl"
           }
          ],
          "scattermapbox": [
           {
            "marker": {
             "colorbar": {
              "outlinewidth": 0,
              "ticks": ""
             }
            },
            "type": "scattermapbox"
           }
          ],
          "scatterpolar": [
           {
            "marker": {
             "colorbar": {
              "outlinewidth": 0,
              "ticks": ""
             }
            },
            "type": "scatterpolar"
           }
          ],
          "scatterpolargl": [
           {
            "marker": {
             "colorbar": {
              "outlinewidth": 0,
              "ticks": ""
             }
            },
            "type": "scatterpolargl"
           }
          ],
          "scatterternary": [
           {
            "marker": {
             "colorbar": {
              "outlinewidth": 0,
              "ticks": ""
             }
            },
            "type": "scatterternary"
           }
          ],
          "surface": [
           {
            "colorbar": {
             "outlinewidth": 0,
             "ticks": ""
            },
            "colorscale": [
             [
              0,
              "#0d0887"
             ],
             [
              0.1111111111111111,
              "#46039f"
             ],
             [
              0.2222222222222222,
              "#7201a8"
             ],
             [
              0.3333333333333333,
              "#9c179e"
             ],
             [
              0.4444444444444444,
              "#bd3786"
             ],
             [
              0.5555555555555556,
              "#d8576b"
             ],
             [
              0.6666666666666666,
              "#ed7953"
             ],
             [
              0.7777777777777778,
              "#fb9f3a"
             ],
             [
              0.8888888888888888,
              "#fdca26"
             ],
             [
              1,
              "#f0f921"
             ]
            ],
            "type": "surface"
           }
          ],
          "table": [
           {
            "cells": {
             "fill": {
              "color": "#EBF0F8"
             },
             "line": {
              "color": "white"
             }
            },
            "header": {
             "fill": {
              "color": "#C8D4E3"
             },
             "line": {
              "color": "white"
             }
            },
            "type": "table"
           }
          ]
         },
         "layout": {
          "annotationdefaults": {
           "arrowcolor": "#2a3f5f",
           "arrowhead": 0,
           "arrowwidth": 1
          },
          "autotypenumbers": "strict",
          "coloraxis": {
           "colorbar": {
            "outlinewidth": 0,
            "ticks": ""
           }
          },
          "colorscale": {
           "diverging": [
            [
             0,
             "#8e0152"
            ],
            [
             0.1,
             "#c51b7d"
            ],
            [
             0.2,
             "#de77ae"
            ],
            [
             0.3,
             "#f1b6da"
            ],
            [
             0.4,
             "#fde0ef"
            ],
            [
             0.5,
             "#f7f7f7"
            ],
            [
             0.6,
             "#e6f5d0"
            ],
            [
             0.7,
             "#b8e186"
            ],
            [
             0.8,
             "#7fbc41"
            ],
            [
             0.9,
             "#4d9221"
            ],
            [
             1,
             "#276419"
            ]
           ],
           "sequential": [
            [
             0,
             "#0d0887"
            ],
            [
             0.1111111111111111,
             "#46039f"
            ],
            [
             0.2222222222222222,
             "#7201a8"
            ],
            [
             0.3333333333333333,
             "#9c179e"
            ],
            [
             0.4444444444444444,
             "#bd3786"
            ],
            [
             0.5555555555555556,
             "#d8576b"
            ],
            [
             0.6666666666666666,
             "#ed7953"
            ],
            [
             0.7777777777777778,
             "#fb9f3a"
            ],
            [
             0.8888888888888888,
             "#fdca26"
            ],
            [
             1,
             "#f0f921"
            ]
           ],
           "sequentialminus": [
            [
             0,
             "#0d0887"
            ],
            [
             0.1111111111111111,
             "#46039f"
            ],
            [
             0.2222222222222222,
             "#7201a8"
            ],
            [
             0.3333333333333333,
             "#9c179e"
            ],
            [
             0.4444444444444444,
             "#bd3786"
            ],
            [
             0.5555555555555556,
             "#d8576b"
            ],
            [
             0.6666666666666666,
             "#ed7953"
            ],
            [
             0.7777777777777778,
             "#fb9f3a"
            ],
            [
             0.8888888888888888,
             "#fdca26"
            ],
            [
             1,
             "#f0f921"
            ]
           ]
          },
          "colorway": [
           "#636efa",
           "#EF553B",
           "#00cc96",
           "#ab63fa",
           "#FFA15A",
           "#19d3f3",
           "#FF6692",
           "#B6E880",
           "#FF97FF",
           "#FECB52"
          ],
          "font": {
           "color": "#2a3f5f"
          },
          "geo": {
           "bgcolor": "white",
           "lakecolor": "white",
           "landcolor": "#E5ECF6",
           "showlakes": true,
           "showland": true,
           "subunitcolor": "white"
          },
          "hoverlabel": {
           "align": "left"
          },
          "hovermode": "closest",
          "mapbox": {
           "style": "light"
          },
          "paper_bgcolor": "white",
          "plot_bgcolor": "#E5ECF6",
          "polar": {
           "angularaxis": {
            "gridcolor": "white",
            "linecolor": "white",
            "ticks": ""
           },
           "bgcolor": "#E5ECF6",
           "radialaxis": {
            "gridcolor": "white",
            "linecolor": "white",
            "ticks": ""
           }
          },
          "scene": {
           "xaxis": {
            "backgroundcolor": "#E5ECF6",
            "gridcolor": "white",
            "gridwidth": 2,
            "linecolor": "white",
            "showbackground": true,
            "ticks": "",
            "zerolinecolor": "white"
           },
           "yaxis": {
            "backgroundcolor": "#E5ECF6",
            "gridcolor": "white",
            "gridwidth": 2,
            "linecolor": "white",
            "showbackground": true,
            "ticks": "",
            "zerolinecolor": "white"
           },
           "zaxis": {
            "backgroundcolor": "#E5ECF6",
            "gridcolor": "white",
            "gridwidth": 2,
            "linecolor": "white",
            "showbackground": true,
            "ticks": "",
            "zerolinecolor": "white"
           }
          },
          "shapedefaults": {
           "line": {
            "color": "#2a3f5f"
           }
          },
          "ternary": {
           "aaxis": {
            "gridcolor": "white",
            "linecolor": "white",
            "ticks": ""
           },
           "baxis": {
            "gridcolor": "white",
            "linecolor": "white",
            "ticks": ""
           },
           "bgcolor": "#E5ECF6",
           "caxis": {
            "gridcolor": "white",
            "linecolor": "white",
            "ticks": ""
           }
          },
          "title": {
           "x": 0.05
          },
          "xaxis": {
           "automargin": true,
           "gridcolor": "white",
           "linecolor": "white",
           "ticks": "",
           "title": {
            "standoff": 15
           },
           "zerolinecolor": "white",
           "zerolinewidth": 2
          },
          "yaxis": {
           "automargin": true,
           "gridcolor": "white",
           "linecolor": "white",
           "ticks": "",
           "title": {
            "standoff": 15
           },
           "zerolinecolor": "white",
           "zerolinewidth": 2
          }
         }
        },
        "title": {
         "text": "Last layer diag covariance approximation"
        },
        "width": 1000,
        "xaxis": {
         "title": {
          "text": "x"
         }
        },
        "yaxis": {
         "title": {
          "text": "y"
         }
        }
       }
      }
     },
     "metadata": {},
     "output_type": "display_data"
    }
   ],
   "source": [
    "fig = bayesian_regression(last_layer_full_la, train_dataloader, test_dataloader, title=\"Last layer diag covariance approximation\")\n",
    "fig.show()"
   ]
  },
  {
   "cell_type": "code",
   "execution_count": null,
   "metadata": {},
   "outputs": [],
   "source": [
    "subnet_sizes = [30, 90, 300, 600, 1200, 1800]\n"
   ]
  },
  {
   "attachments": {},
   "cell_type": "markdown",
   "metadata": {},
   "source": [
    "### Subnetwork Inference using LargestVarianceDiagLaplaceSubnetMask"
   ]
  },
  {
   "cell_type": "code",
   "execution_count": null,
   "metadata": {},
   "outputs": [
    {
     "name": "stdout",
     "output_type": "stream",
     "text": [
      "LA NLL: 2.2408168961536554\n",
      "LA NLL: 1.7028994646171505\n",
      "LA NLL: 1.6844595647224019\n",
      "LA NLL: 0.5417533579179888\n",
      "LA NLL: 0.5512365860923402\n",
      "LA NLL: 0.40136672058716155\n"
     ]
    }
   ],
   "source": [
    "largest_variance_subnet_results = []\n",
    "for n_params_subnet in subnet_sizes:\n",
    "    model_for_selection = copy.deepcopy(map_model)\n",
    "    laplace_model_for_selection = Laplace(\n",
    "        model=model_for_selection,\n",
    "        likelihood=\"regression\",\n",
    "        subset_of_weights=\"all\",\n",
    "        hessian_structure=\"diag\",\n",
    "        sigma_noise=sigma,\n",
    "        prior_mean=config.trainer.la.prior_mean,\n",
    "    )\n",
    "\n",
    "    subnetwork_mask = LargestVarianceDiagLaplaceSubnetMask(\n",
    "        model_for_selection,\n",
    "        n_params_subnet=n_params_subnet,\n",
    "        diag_laplace_model=laplace_model_for_selection,\n",
    "    )\n",
    "    subnetwork_indices = subnetwork_mask.select(train_loader=train_dataloader)\n",
    "    subnetwork_indices = torch.tensor(\n",
    "        subnetwork_indices.cpu().numpy(), dtype=torch.long\n",
    "    )\n",
    "\n",
    "    model_copy = copy.deepcopy(map_model)\n",
    "    la, prior_precision = trainer.train_la_posthoc(\n",
    "        model=model_copy,\n",
    "        dataloader=train_dataloader,\n",
    "        subset_of_weights=\"subnetwork\",\n",
    "        hessian_structure=\"full\",\n",
    "        sigma_noise=sigma,\n",
    "        prior_mean=config.trainer.la.prior_mean,\n",
    "        prior_precisions=prior_precisions,\n",
    "        subnetwork_indices=subnetwork_indices,\n",
    "        val_dataloader=val_dataloader,\n",
    "    )\n",
    "\n",
    "    nll = trainer.evaluate_la(la, test_dataloader)\n",
    "    largest_variance_subnet_results.append(nll)\n",
    "    print(f\"LA NLL: {nll}\")"
   ]
  },
  {
   "attachments": {},
   "cell_type": "markdown",
   "metadata": {},
   "source": [
    "### Subnetwork Inference using OBDSubnetMask (Pruning using optimal brain damage)"
   ]
  },
  {
   "cell_type": "code",
   "execution_count": null,
   "metadata": {},
   "outputs": [
    {
     "name": "stdout",
     "output_type": "stream",
     "text": [
      "LA NLL: 0.5884815892787665\n",
      "LA NLL: 0.08248394014475549\n",
      "LA NLL: -0.09442881380490104\n",
      "LA NLL: -0.10528269093827654\n",
      "LA NLL: -0.13510393987278477\n",
      "LA NLL: -0.106723727820922\n"
     ]
    }
   ],
   "source": [
    "obd_subnet_results = []\n",
    "for n_params_subnet in subnet_sizes:\n",
    "    model_for_selection = copy.deepcopy(map_model)\n",
    "    laplace_model_for_selection = Laplace(\n",
    "        model=model_for_selection,\n",
    "        likelihood=\"regression\",\n",
    "        subset_of_weights=\"all\",\n",
    "        hessian_structure=\"diag\",\n",
    "        sigma_noise=sigma,\n",
    "        prior_mean=config.trainer.la.prior_mean,\n",
    "    )\n",
    "\n",
    "    subnetwork_mask = OBDSubnetMask(\n",
    "        model_for_selection,\n",
    "        n_params_subnet=n_params_subnet,\n",
    "        diag_laplace_model=laplace_model_for_selection,\n",
    "    )\n",
    "    subnetwork_indices = subnetwork_mask.select(train_loader=train_dataloader)\n",
    "    subnetwork_indices = torch.tensor(\n",
    "        subnetwork_indices.cpu().numpy(), dtype=torch.long\n",
    "    )\n",
    "\n",
    "    model_copy = copy.deepcopy(map_model)\n",
    "    la, prior_precision = trainer.train_la_posthoc(\n",
    "        model=model_copy,\n",
    "        dataloader=train_dataloader,\n",
    "        subset_of_weights=\"subnetwork\",\n",
    "        hessian_structure=\"full\",\n",
    "        sigma_noise=sigma,\n",
    "        prior_mean=config.trainer.la.prior_mean,\n",
    "        prior_precisions=prior_precisions,\n",
    "        subnetwork_indices=subnetwork_indices,\n",
    "        val_dataloader=val_dataloader,\n",
    "    )\n",
    "\n",
    "    nll = trainer.evaluate_la(la, test_dataloader)\n",
    "    obd_subnet_results.append(nll)\n",
    "    print(f\"LA NLL: {nll}\")"
   ]
  },
  {
   "attachments": {},
   "cell_type": "markdown",
   "metadata": {},
   "source": [
    "### Subnetwork Inference using KroneckerFactoredEigenSubnetMask"
   ]
  },
  {
   "cell_type": "code",
   "execution_count": null,
   "metadata": {},
   "outputs": [
    {
     "name": "stdout",
     "output_type": "stream",
     "text": [
      "LA NLL: 1.214360673716097\n",
      "LA NLL: 0.4094849087821557\n",
      "LA NLL: 0.2900903987165472\n",
      "LA NLL: 0.2519949163304585\n",
      "LA NLL: 0.15969015615952484\n",
      "LA NLL: -0.07581899164076436\n"
     ]
    }
   ],
   "source": [
    "kfe_subnet_results = []\n",
    "for n_params_subnet in subnet_sizes:\n",
    "    model_for_selection = copy.deepcopy(map_model)\n",
    "    laplace_model_for_selection = Laplace(\n",
    "        model=model_for_selection,\n",
    "        likelihood=\"regression\",\n",
    "        subset_of_weights=\"all\",\n",
    "        hessian_structure=\"kron\",\n",
    "        sigma_noise=sigma,\n",
    "        prior_mean=config.trainer.la.prior_mean,\n",
    "    )\n",
    "\n",
    "    subnetwork_mask = KronckerFactoredEigenSubnetMask(\n",
    "        model_for_selection,\n",
    "        n_params_subnet=n_params_subnet,\n",
    "        kron_laplace_model=laplace_model_for_selection,\n",
    "    )\n",
    "    subnetwork_indices = subnetwork_mask.select(train_loader=train_dataloader)\n",
    "    subnetwork_indices = torch.tensor(\n",
    "        subnetwork_indices.cpu().numpy(), dtype=torch.long\n",
    "    )\n",
    "\n",
    "    model_copy = copy.deepcopy(map_model)\n",
    "    la, prior_precision = trainer.train_la_posthoc(\n",
    "        model=model_copy,\n",
    "        dataloader=train_dataloader,\n",
    "        subset_of_weights=\"subnetwork\",\n",
    "        hessian_structure=\"full\",\n",
    "        sigma_noise=sigma,\n",
    "        prior_mean=config.trainer.la.prior_mean,\n",
    "        subnetwork_indices=subnetwork_indices,\n",
    "        prior_precisions=prior_precisions,\n",
    "        val_dataloader=val_dataloader,\n",
    "    )\n",
    "\n",
    "    nll = trainer.evaluate_la(la, test_dataloader)\n",
    "    kfe_subnet_results.append(nll)\n",
    "    print(f\"LA NLL: {nll}\")"
   ]
  },
  {
   "attachments": {},
   "cell_type": "markdown",
   "metadata": {},
   "source": [
    "### Compare the results"
   ]
  },
  {
   "cell_type": "code",
   "execution_count": null,
   "metadata": {},
   "outputs": [
    {
     "data": {
      "application/vnd.plotly.v1+json": {
       "config": {
        "plotlyServerURL": "https://plot.ly"
       },
       "data": [
        {
         "name": "LVD",
         "type": "bar",
         "x": [
          "30",
          "90",
          "300",
          "600",
          "1200",
          "1800"
         ],
         "y": [
          2.2408168961536554,
          1.7028994646171505,
          1.6844595647224019,
          0.5417533579179888,
          0.5512365860923402,
          0.40136672058716155
         ]
        },
        {
         "name": "KFE",
         "type": "bar",
         "x": [
          30,
          90,
          300,
          600,
          1200,
          1800
         ],
         "y": [
          1.214360673716097,
          0.4094849087821557,
          0.2900903987165472,
          0.2519949163304585,
          0.15969015615952484,
          -0.07581899164076436
         ]
        },
        {
         "name": "OBD",
         "type": "bar",
         "x": [
          30,
          90,
          300,
          600,
          1200,
          1800
         ],
         "y": [
          0.5884815892787665,
          0.08248394014475549,
          -0.09442881380490104,
          -0.10528269093827654,
          -0.13510393987278477,
          -0.106723727820922
         ]
        }
       ],
       "layout": {
        "autosize": false,
        "barmode": "group",
        "height": 500,
        "hovermode": "x",
        "template": {
         "data": {
          "bar": [
           {
            "error_x": {
             "color": "#2a3f5f"
            },
            "error_y": {
             "color": "#2a3f5f"
            },
            "marker": {
             "line": {
              "color": "#E5ECF6",
              "width": 0.5
             },
             "pattern": {
              "fillmode": "overlay",
              "size": 10,
              "solidity": 0.2
             }
            },
            "type": "bar"
           }
          ],
          "barpolar": [
           {
            "marker": {
             "line": {
              "color": "#E5ECF6",
              "width": 0.5
             },
             "pattern": {
              "fillmode": "overlay",
              "size": 10,
              "solidity": 0.2
             }
            },
            "type": "barpolar"
           }
          ],
          "carpet": [
           {
            "aaxis": {
             "endlinecolor": "#2a3f5f",
             "gridcolor": "white",
             "linecolor": "white",
             "minorgridcolor": "white",
             "startlinecolor": "#2a3f5f"
            },
            "baxis": {
             "endlinecolor": "#2a3f5f",
             "gridcolor": "white",
             "linecolor": "white",
             "minorgridcolor": "white",
             "startlinecolor": "#2a3f5f"
            },
            "type": "carpet"
           }
          ],
          "choropleth": [
           {
            "colorbar": {
             "outlinewidth": 0,
             "ticks": ""
            },
            "type": "choropleth"
           }
          ],
          "contour": [
           {
            "colorbar": {
             "outlinewidth": 0,
             "ticks": ""
            },
            "colorscale": [
             [
              0,
              "#0d0887"
             ],
             [
              0.1111111111111111,
              "#46039f"
             ],
             [
              0.2222222222222222,
              "#7201a8"
             ],
             [
              0.3333333333333333,
              "#9c179e"
             ],
             [
              0.4444444444444444,
              "#bd3786"
             ],
             [
              0.5555555555555556,
              "#d8576b"
             ],
             [
              0.6666666666666666,
              "#ed7953"
             ],
             [
              0.7777777777777778,
              "#fb9f3a"
             ],
             [
              0.8888888888888888,
              "#fdca26"
             ],
             [
              1,
              "#f0f921"
             ]
            ],
            "type": "contour"
           }
          ],
          "contourcarpet": [
           {
            "colorbar": {
             "outlinewidth": 0,
             "ticks": ""
            },
            "type": "contourcarpet"
           }
          ],
          "heatmap": [
           {
            "colorbar": {
             "outlinewidth": 0,
             "ticks": ""
            },
            "colorscale": [
             [
              0,
              "#0d0887"
             ],
             [
              0.1111111111111111,
              "#46039f"
             ],
             [
              0.2222222222222222,
              "#7201a8"
             ],
             [
              0.3333333333333333,
              "#9c179e"
             ],
             [
              0.4444444444444444,
              "#bd3786"
             ],
             [
              0.5555555555555556,
              "#d8576b"
             ],
             [
              0.6666666666666666,
              "#ed7953"
             ],
             [
              0.7777777777777778,
              "#fb9f3a"
             ],
             [
              0.8888888888888888,
              "#fdca26"
             ],
             [
              1,
              "#f0f921"
             ]
            ],
            "type": "heatmap"
           }
          ],
          "heatmapgl": [
           {
            "colorbar": {
             "outlinewidth": 0,
             "ticks": ""
            },
            "colorscale": [
             [
              0,
              "#0d0887"
             ],
             [
              0.1111111111111111,
              "#46039f"
             ],
             [
              0.2222222222222222,
              "#7201a8"
             ],
             [
              0.3333333333333333,
              "#9c179e"
             ],
             [
              0.4444444444444444,
              "#bd3786"
             ],
             [
              0.5555555555555556,
              "#d8576b"
             ],
             [
              0.6666666666666666,
              "#ed7953"
             ],
             [
              0.7777777777777778,
              "#fb9f3a"
             ],
             [
              0.8888888888888888,
              "#fdca26"
             ],
             [
              1,
              "#f0f921"
             ]
            ],
            "type": "heatmapgl"
           }
          ],
          "histogram": [
           {
            "marker": {
             "pattern": {
              "fillmode": "overlay",
              "size": 10,
              "solidity": 0.2
             }
            },
            "type": "histogram"
           }
          ],
          "histogram2d": [
           {
            "colorbar": {
             "outlinewidth": 0,
             "ticks": ""
            },
            "colorscale": [
             [
              0,
              "#0d0887"
             ],
             [
              0.1111111111111111,
              "#46039f"
             ],
             [
              0.2222222222222222,
              "#7201a8"
             ],
             [
              0.3333333333333333,
              "#9c179e"
             ],
             [
              0.4444444444444444,
              "#bd3786"
             ],
             [
              0.5555555555555556,
              "#d8576b"
             ],
             [
              0.6666666666666666,
              "#ed7953"
             ],
             [
              0.7777777777777778,
              "#fb9f3a"
             ],
             [
              0.8888888888888888,
              "#fdca26"
             ],
             [
              1,
              "#f0f921"
             ]
            ],
            "type": "histogram2d"
           }
          ],
          "histogram2dcontour": [
           {
            "colorbar": {
             "outlinewidth": 0,
             "ticks": ""
            },
            "colorscale": [
             [
              0,
              "#0d0887"
             ],
             [
              0.1111111111111111,
              "#46039f"
             ],
             [
              0.2222222222222222,
              "#7201a8"
             ],
             [
              0.3333333333333333,
              "#9c179e"
             ],
             [
              0.4444444444444444,
              "#bd3786"
             ],
             [
              0.5555555555555556,
              "#d8576b"
             ],
             [
              0.6666666666666666,
              "#ed7953"
             ],
             [
              0.7777777777777778,
              "#fb9f3a"
             ],
             [
              0.8888888888888888,
              "#fdca26"
             ],
             [
              1,
              "#f0f921"
             ]
            ],
            "type": "histogram2dcontour"
           }
          ],
          "mesh3d": [
           {
            "colorbar": {
             "outlinewidth": 0,
             "ticks": ""
            },
            "type": "mesh3d"
           }
          ],
          "parcoords": [
           {
            "line": {
             "colorbar": {
              "outlinewidth": 0,
              "ticks": ""
             }
            },
            "type": "parcoords"
           }
          ],
          "pie": [
           {
            "automargin": true,
            "type": "pie"
           }
          ],
          "scatter": [
           {
            "fillpattern": {
             "fillmode": "overlay",
             "size": 10,
             "solidity": 0.2
            },
            "type": "scatter"
           }
          ],
          "scatter3d": [
           {
            "line": {
             "colorbar": {
              "outlinewidth": 0,
              "ticks": ""
             }
            },
            "marker": {
             "colorbar": {
              "outlinewidth": 0,
              "ticks": ""
             }
            },
            "type": "scatter3d"
           }
          ],
          "scattercarpet": [
           {
            "marker": {
             "colorbar": {
              "outlinewidth": 0,
              "ticks": ""
             }
            },
            "type": "scattercarpet"
           }
          ],
          "scattergeo": [
           {
            "marker": {
             "colorbar": {
              "outlinewidth": 0,
              "ticks": ""
             }
            },
            "type": "scattergeo"
           }
          ],
          "scattergl": [
           {
            "marker": {
             "colorbar": {
              "outlinewidth": 0,
              "ticks": ""
             }
            },
            "type": "scattergl"
           }
          ],
          "scattermapbox": [
           {
            "marker": {
             "colorbar": {
              "outlinewidth": 0,
              "ticks": ""
             }
            },
            "type": "scattermapbox"
           }
          ],
          "scatterpolar": [
           {
            "marker": {
             "colorbar": {
              "outlinewidth": 0,
              "ticks": ""
             }
            },
            "type": "scatterpolar"
           }
          ],
          "scatterpolargl": [
           {
            "marker": {
             "colorbar": {
              "outlinewidth": 0,
              "ticks": ""
             }
            },
            "type": "scatterpolargl"
           }
          ],
          "scatterternary": [
           {
            "marker": {
             "colorbar": {
              "outlinewidth": 0,
              "ticks": ""
             }
            },
            "type": "scatterternary"
           }
          ],
          "surface": [
           {
            "colorbar": {
             "outlinewidth": 0,
             "ticks": ""
            },
            "colorscale": [
             [
              0,
              "#0d0887"
             ],
             [
              0.1111111111111111,
              "#46039f"
             ],
             [
              0.2222222222222222,
              "#7201a8"
             ],
             [
              0.3333333333333333,
              "#9c179e"
             ],
             [
              0.4444444444444444,
              "#bd3786"
             ],
             [
              0.5555555555555556,
              "#d8576b"
             ],
             [
              0.6666666666666666,
              "#ed7953"
             ],
             [
              0.7777777777777778,
              "#fb9f3a"
             ],
             [
              0.8888888888888888,
              "#fdca26"
             ],
             [
              1,
              "#f0f921"
             ]
            ],
            "type": "surface"
           }
          ],
          "table": [
           {
            "cells": {
             "fill": {
              "color": "#EBF0F8"
             },
             "line": {
              "color": "white"
             }
            },
            "header": {
             "fill": {
              "color": "#C8D4E3"
             },
             "line": {
              "color": "white"
             }
            },
            "type": "table"
           }
          ]
         },
         "layout": {
          "annotationdefaults": {
           "arrowcolor": "#2a3f5f",
           "arrowhead": 0,
           "arrowwidth": 1
          },
          "autotypenumbers": "strict",
          "coloraxis": {
           "colorbar": {
            "outlinewidth": 0,
            "ticks": ""
           }
          },
          "colorscale": {
           "diverging": [
            [
             0,
             "#8e0152"
            ],
            [
             0.1,
             "#c51b7d"
            ],
            [
             0.2,
             "#de77ae"
            ],
            [
             0.3,
             "#f1b6da"
            ],
            [
             0.4,
             "#fde0ef"
            ],
            [
             0.5,
             "#f7f7f7"
            ],
            [
             0.6,
             "#e6f5d0"
            ],
            [
             0.7,
             "#b8e186"
            ],
            [
             0.8,
             "#7fbc41"
            ],
            [
             0.9,
             "#4d9221"
            ],
            [
             1,
             "#276419"
            ]
           ],
           "sequential": [
            [
             0,
             "#0d0887"
            ],
            [
             0.1111111111111111,
             "#46039f"
            ],
            [
             0.2222222222222222,
             "#7201a8"
            ],
            [
             0.3333333333333333,
             "#9c179e"
            ],
            [
             0.4444444444444444,
             "#bd3786"
            ],
            [
             0.5555555555555556,
             "#d8576b"
            ],
            [
             0.6666666666666666,
             "#ed7953"
            ],
            [
             0.7777777777777778,
             "#fb9f3a"
            ],
            [
             0.8888888888888888,
             "#fdca26"
            ],
            [
             1,
             "#f0f921"
            ]
           ],
           "sequentialminus": [
            [
             0,
             "#0d0887"
            ],
            [
             0.1111111111111111,
             "#46039f"
            ],
            [
             0.2222222222222222,
             "#7201a8"
            ],
            [
             0.3333333333333333,
             "#9c179e"
            ],
            [
             0.4444444444444444,
             "#bd3786"
            ],
            [
             0.5555555555555556,
             "#d8576b"
            ],
            [
             0.6666666666666666,
             "#ed7953"
            ],
            [
             0.7777777777777778,
             "#fb9f3a"
            ],
            [
             0.8888888888888888,
             "#fdca26"
            ],
            [
             1,
             "#f0f921"
            ]
           ]
          },
          "colorway": [
           "#636efa",
           "#EF553B",
           "#00cc96",
           "#ab63fa",
           "#FFA15A",
           "#19d3f3",
           "#FF6692",
           "#B6E880",
           "#FF97FF",
           "#FECB52"
          ],
          "font": {
           "color": "#2a3f5f"
          },
          "geo": {
           "bgcolor": "white",
           "lakecolor": "white",
           "landcolor": "#E5ECF6",
           "showlakes": true,
           "showland": true,
           "subunitcolor": "white"
          },
          "hoverlabel": {
           "align": "left"
          },
          "hovermode": "closest",
          "mapbox": {
           "style": "light"
          },
          "paper_bgcolor": "white",
          "plot_bgcolor": "#E5ECF6",
          "polar": {
           "angularaxis": {
            "gridcolor": "white",
            "linecolor": "white",
            "ticks": ""
           },
           "bgcolor": "#E5ECF6",
           "radialaxis": {
            "gridcolor": "white",
            "linecolor": "white",
            "ticks": ""
           }
          },
          "scene": {
           "xaxis": {
            "backgroundcolor": "#E5ECF6",
            "gridcolor": "white",
            "gridwidth": 2,
            "linecolor": "white",
            "showbackground": true,
            "ticks": "",
            "zerolinecolor": "white"
           },
           "yaxis": {
            "backgroundcolor": "#E5ECF6",
            "gridcolor": "white",
            "gridwidth": 2,
            "linecolor": "white",
            "showbackground": true,
            "ticks": "",
            "zerolinecolor": "white"
           },
           "zaxis": {
            "backgroundcolor": "#E5ECF6",
            "gridcolor": "white",
            "gridwidth": 2,
            "linecolor": "white",
            "showbackground": true,
            "ticks": "",
            "zerolinecolor": "white"
           }
          },
          "shapedefaults": {
           "line": {
            "color": "#2a3f5f"
           }
          },
          "ternary": {
           "aaxis": {
            "gridcolor": "white",
            "linecolor": "white",
            "ticks": ""
           },
           "baxis": {
            "gridcolor": "white",
            "linecolor": "white",
            "ticks": ""
           },
           "bgcolor": "#E5ECF6",
           "caxis": {
            "gridcolor": "white",
            "linecolor": "white",
            "ticks": ""
           }
          },
          "title": {
           "x": 0.05
          },
          "xaxis": {
           "automargin": true,
           "gridcolor": "white",
           "linecolor": "white",
           "ticks": "",
           "title": {
            "standoff": 15
           },
           "zerolinecolor": "white",
           "zerolinewidth": 2
          },
          "yaxis": {
           "automargin": true,
           "gridcolor": "white",
           "linecolor": "white",
           "ticks": "",
           "title": {
            "standoff": 15
           },
           "zerolinecolor": "white",
           "zerolinewidth": 2
          }
         }
        },
        "title": {
         "text": "Comparison of selection strategies (Snelson 1D)"
        },
        "width": 500,
        "xaxis": {
         "title": {
          "text": "subnetwork size"
         }
        },
        "yaxis": {
         "title": {
          "text": "NLL"
         }
        }
       }
      }
     },
     "metadata": {},
     "output_type": "display_data"
    }
   ],
   "source": [
    "\n",
    "fig = go.Figure(data=[\n",
    "    go.Bar(name='LVD', x=[str(s) for s in subnet_sizes], y=largest_variance_subnet_results),\n",
    "    go.Bar(name='KFE', x=subnet_sizes, y=kfe_subnet_results),\n",
    "    go.Bar(name='OBD', x=subnet_sizes, y=obd_subnet_results),\n",
    "    \n",
    "])\n",
    "fig.update_layout(barmode='group')\n",
    "fig.update_layout(yaxis_title=\"NLL\", xaxis_title=\"subnetwork size\", title=\"Comparison of selection strategies (Snelson 1D)\", hovermode=\"x\")\n",
    "\n",
    "fig.update_layout(autosize=False, width=500, height=500)\n",
    "fig.show()\n"
   ]
  },
  {
   "attachments": {},
   "cell_type": "markdown",
   "metadata": {},
   "source": [
    "## Conclusion"
   ]
  }
 ],
 "metadata": {
  "kernelspec": {
   "display_name": "laplace_regression",
   "language": "python",
   "name": "python3"
  },
  "language_info": {
   "codemirror_mode": {
    "name": "ipython",
    "version": 3
   },
   "file_extension": ".py",
   "mimetype": "text/x-python",
   "name": "python",
   "nbconvert_exporter": "python",
   "pygments_lexer": "ipython3",
   "version": "3.8.16"
  }
 },
 "nbformat": 4,
 "nbformat_minor": 2
}
