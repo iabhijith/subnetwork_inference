{
 "cells": [
  {
   "attachments": {},
   "cell_type": "markdown",
   "metadata": {},
   "source": [
    "# Subnetwork Inference"
   ]
  },
  {
   "cell_type": "code",
   "execution_count": 1,
   "metadata": {},
   "outputs": [],
   "source": [
    "%load_ext autoreload\n",
    "%autoreload 2"
   ]
  },
  {
   "cell_type": "code",
   "execution_count": 2,
   "metadata": {},
   "outputs": [],
   "source": [
    "import polars as pl\n",
    "import numpy as np\n",
    "import glob\n",
    "import plotly.express as px"
   ]
  },
  {
   "attachments": {},
   "cell_type": "markdown",
   "metadata": {},
   "source": [
    "## Experiments using UCI gap datasets"
   ]
  },
  {
   "attachments": {},
   "cell_type": "markdown",
   "metadata": {},
   "source": [
    "### Reproduce results using the sub-network selection strategy proposed in Daxberger et al., 2020"
   ]
  },
  {
   "cell_type": "code",
   "execution_count": 5,
   "metadata": {},
   "outputs": [],
   "source": [
    "def plot_nll(path, title):\n",
    "    queries = []\n",
    "    for file in glob.glob(path):\n",
    "        q = pl.scan_ndjson(file)\n",
    "        queries.append(q)\n",
    "    df = pl.concat(queries)\n",
    "    agg_df = df.groupby([\"seed\", \"split\",  \"selection_strategy\", \"subset_size\"]).agg(pl.mean(\"nll\")).sort([\"seed\", \"split\",  \"subset_size\", \"selection_strategy\",]).collect()\n",
    "    df = agg_df.select([pl.col(\"seed\"), pl.col(\"split\"), pl.col(\"selection_strategy\").alias(\"Selection strategy\"), pl.col(\"subset_size\").alias(\"Subnetwork size\"), pl.col(\"nll\").alias(\"NLL\")]).to_pandas()\n",
    "    fig = px.box(df, x=\"Subnetwork size\", y=\"NLL\", color=\"Selection strategy\", title=title, hover_data=[\"seed\", \"split\"])\n",
    "    fig.update_traces(quartilemethod=\"exclusive\", showlegend=True) # or \"inclusive\", or \"linear\" by default\n",
    "    fig.show()"
   ]
  },
  {
   "attachments": {},
   "cell_type": "markdown",
   "metadata": {},
   "source": [
    "#### Plot Mean and Standard Deviation of Negative Log Likelihoods of different selection strategies on wine-gap dataset\n",
    "\n"
   ]
  },
  {
   "cell_type": "code",
   "execution_count": 6,
   "metadata": {},
   "outputs": [
    {
     "data": {
      "application/vnd.plotly.v1+json": {
       "config": {
        "plotlyServerURL": "https://plot.ly"
       },
       "data": [
        {
         "alignmentgroup": "True",
         "customdata": [
          [
           0,
           "GAP"
          ],
          [
           0,
           "GAP"
          ],
          [
           0,
           "GAP"
          ],
          [
           1,
           "GAP"
          ],
          [
           1,
           "GAP"
          ],
          [
           1,
           "GAP"
          ],
          [
           2,
           "GAP"
          ],
          [
           2,
           "GAP"
          ],
          [
           2,
           "GAP"
          ],
          [
           3,
           "GAP"
          ],
          [
           3,
           "GAP"
          ],
          [
           3,
           "GAP"
          ],
          [
           4,
           "GAP"
          ],
          [
           4,
           "GAP"
          ],
          [
           4,
           "GAP"
          ]
         ],
         "hovertemplate": "Selection strategy=KFE<br>Subnetwork size=%{x}<br>NLL=%{y}<br>seed=%{customdata[0]}<br>split=%{customdata[1]}<extra></extra>",
         "legendgroup": "KFE",
         "marker": {
          "color": "#636efa"
         },
         "name": "KFE",
         "notched": false,
         "offsetgroup": "KFE",
         "orientation": "v",
         "quartilemethod": "exclusive",
         "showlegend": true,
         "type": "box",
         "x": [
          600,
          1200,
          1800,
          600,
          1200,
          1800,
          600,
          1200,
          1800,
          600,
          1200,
          1800,
          600,
          1200,
          1800
         ],
         "x0": " ",
         "xaxis": "x",
         "y": [
          1.1542065470964944,
          1.1503411100619656,
          1.1467020311034395,
          1.1598159953337714,
          1.1558949664778442,
          1.1526608651493786,
          1.1661811110321354,
          1.1582228912945451,
          1.1561813118253108,
          1.169251543334018,
          1.1628971196060716,
          1.1600619657840758,
          1.1592418578556858,
          1.1544473914970823,
          1.1496386767599174
         ],
         "y0": " ",
         "yaxis": "y"
        },
        {
         "alignmentgroup": "True",
         "customdata": [
          [
           0,
           "GAP"
          ],
          [
           0,
           "GAP"
          ],
          [
           0,
           "GAP"
          ],
          [
           1,
           "GAP"
          ],
          [
           1,
           "GAP"
          ],
          [
           1,
           "GAP"
          ],
          [
           2,
           "GAP"
          ],
          [
           2,
           "GAP"
          ],
          [
           2,
           "GAP"
          ],
          [
           3,
           "GAP"
          ],
          [
           3,
           "GAP"
          ],
          [
           3,
           "GAP"
          ],
          [
           4,
           "GAP"
          ],
          [
           4,
           "GAP"
          ],
          [
           4,
           "GAP"
          ]
         ],
         "hovertemplate": "Selection strategy=LVD<br>Subnetwork size=%{x}<br>NLL=%{y}<br>seed=%{customdata[0]}<br>split=%{customdata[1]}<extra></extra>",
         "legendgroup": "LVD",
         "marker": {
          "color": "#EF553B"
         },
         "name": "LVD",
         "notched": false,
         "offsetgroup": "LVD",
         "orientation": "v",
         "quartilemethod": "exclusive",
         "showlegend": true,
         "type": "box",
         "x": [
          600,
          1200,
          1800,
          600,
          1200,
          1800,
          600,
          1200,
          1800,
          600,
          1200,
          1800,
          600,
          1200,
          1800
         ],
         "x0": " ",
         "xaxis": "x",
         "y": [
          1.1643766217150948,
          1.1590481887979616,
          1.1513374273542079,
          1.1697758734784913,
          1.1634697260533766,
          1.1555247276610414,
          1.1772584597168814,
          1.169550936777711,
          1.1606441176924762,
          1.1817537544554273,
          1.173317415961922,
          1.1636085975955355,
          1.1725617064906162,
          1.1619980935969112,
          1.1528805872188141
         ],
         "y0": " ",
         "yaxis": "y"
        },
        {
         "alignmentgroup": "True",
         "customdata": [
          [
           0,
           "GAP"
          ],
          [
           0,
           "GAP"
          ],
          [
           0,
           "GAP"
          ],
          [
           1,
           "GAP"
          ],
          [
           1,
           "GAP"
          ],
          [
           1,
           "GAP"
          ],
          [
           2,
           "GAP"
          ],
          [
           2,
           "GAP"
          ],
          [
           2,
           "GAP"
          ],
          [
           3,
           "GAP"
          ],
          [
           3,
           "GAP"
          ],
          [
           3,
           "GAP"
          ],
          [
           4,
           "GAP"
          ],
          [
           4,
           "GAP"
          ],
          [
           4,
           "GAP"
          ]
         ],
         "hovertemplate": "Selection strategy=MN<br>Subnetwork size=%{x}<br>NLL=%{y}<br>seed=%{customdata[0]}<br>split=%{customdata[1]}<extra></extra>",
         "legendgroup": "MN",
         "marker": {
          "color": "#00cc96"
         },
         "name": "MN",
         "notched": false,
         "offsetgroup": "MN",
         "orientation": "v",
         "quartilemethod": "exclusive",
         "showlegend": true,
         "type": "box",
         "x": [
          600,
          1200,
          1800,
          600,
          1200,
          1800,
          600,
          1200,
          1800,
          600,
          1200,
          1800,
          600,
          1200,
          1800
         ],
         "x0": " ",
         "xaxis": "x",
         "y": [
          1.16437639670392,
          1.1590672843953045,
          1.15099945308634,
          1.1697726885492319,
          1.1633324348199294,
          1.15516089663433,
          1.1772582157024232,
          1.1694105561174586,
          1.1601218736861254,
          1.1817552301208112,
          1.1732118273857457,
          1.1625498251263087,
          1.172541564588686,
          1.1612425682927598,
          1.1510733336851495
         ],
         "y0": " ",
         "yaxis": "y"
        },
        {
         "alignmentgroup": "True",
         "customdata": [
          [
           0,
           "GAP"
          ],
          [
           0,
           "GAP"
          ],
          [
           0,
           "GAP"
          ],
          [
           1,
           "GAP"
          ],
          [
           1,
           "GAP"
          ],
          [
           1,
           "GAP"
          ],
          [
           2,
           "GAP"
          ],
          [
           2,
           "GAP"
          ],
          [
           2,
           "GAP"
          ],
          [
           3,
           "GAP"
          ],
          [
           3,
           "GAP"
          ],
          [
           3,
           "GAP"
          ],
          [
           4,
           "GAP"
          ],
          [
           4,
           "GAP"
          ],
          [
           4,
           "GAP"
          ]
         ],
         "hovertemplate": "Selection strategy=OBD<br>Subnetwork size=%{x}<br>NLL=%{y}<br>seed=%{customdata[0]}<br>split=%{customdata[1]}<extra></extra>",
         "legendgroup": "OBD",
         "marker": {
          "color": "#ab63fa"
         },
         "name": "OBD",
         "notched": false,
         "offsetgroup": "OBD",
         "orientation": "v",
         "quartilemethod": "exclusive",
         "showlegend": true,
         "type": "box",
         "x": [
          600,
          1200,
          1800,
          600,
          1200,
          1800,
          600,
          1200,
          1800,
          600,
          1200,
          1800,
          600,
          1200,
          1800
         ],
         "x0": " ",
         "xaxis": "x",
         "y": [
          1.143105646549403,
          1.1422840423150984,
          1.1430927385804734,
          1.1488162756360798,
          1.1476187418307215,
          1.1483089019110084,
          1.15126374099825,
          1.1504285679264776,
          1.1508822831722727,
          1.156217509446325,
          1.1548582250548838,
          1.15568530655859,
          1.1454861304194563,
          1.1435601140461256,
          1.1445627746244116
         ],
         "y0": " ",
         "yaxis": "y"
        },
        {
         "alignmentgroup": "True",
         "customdata": [
          [
           0,
           "GAP"
          ],
          [
           0,
           "GAP"
          ],
          [
           0,
           "GAP"
          ],
          [
           1,
           "GAP"
          ],
          [
           1,
           "GAP"
          ],
          [
           1,
           "GAP"
          ],
          [
           2,
           "GAP"
          ],
          [
           2,
           "GAP"
          ],
          [
           2,
           "GAP"
          ],
          [
           3,
           "GAP"
          ],
          [
           3,
           "GAP"
          ],
          [
           3,
           "GAP"
          ],
          [
           4,
           "GAP"
          ],
          [
           4,
           "GAP"
          ],
          [
           4,
           "GAP"
          ]
         ],
         "hovertemplate": "Selection strategy=SPR<br>Subnetwork size=%{x}<br>NLL=%{y}<br>seed=%{customdata[0]}<br>split=%{customdata[1]}<extra></extra>",
         "legendgroup": "SPR",
         "marker": {
          "color": "#FFA15A"
         },
         "name": "SPR",
         "notched": false,
         "offsetgroup": "SPR",
         "orientation": "v",
         "quartilemethod": "exclusive",
         "showlegend": true,
         "type": "box",
         "x": [
          600,
          1200,
          1800,
          600,
          1200,
          1800,
          600,
          1200,
          1800,
          600,
          1200,
          1800,
          600,
          1200,
          1800
         ],
         "x0": " ",
         "xaxis": "x",
         "y": [
          1.164385551600172,
          1.1588034632864141,
          1.1502038740985001,
          1.1697985871749907,
          1.162796869292221,
          1.1546237400746477,
          1.177249369013156,
          1.1693121450931487,
          1.1596339143196042,
          1.181747476172565,
          1.172821869726845,
          1.1618139502314793,
          1.1725333478750017,
          1.1601741133585286,
          1.150193459249765
         ],
         "y0": " ",
         "yaxis": "y"
        }
       ],
       "layout": {
        "boxmode": "group",
        "legend": {
         "title": {
          "text": "Selection strategy"
         },
         "tracegroupgap": 0
        },
        "template": {
         "data": {
          "bar": [
           {
            "error_x": {
             "color": "#2a3f5f"
            },
            "error_y": {
             "color": "#2a3f5f"
            },
            "marker": {
             "line": {
              "color": "#E5ECF6",
              "width": 0.5
             },
             "pattern": {
              "fillmode": "overlay",
              "size": 10,
              "solidity": 0.2
             }
            },
            "type": "bar"
           }
          ],
          "barpolar": [
           {
            "marker": {
             "line": {
              "color": "#E5ECF6",
              "width": 0.5
             },
             "pattern": {
              "fillmode": "overlay",
              "size": 10,
              "solidity": 0.2
             }
            },
            "type": "barpolar"
           }
          ],
          "carpet": [
           {
            "aaxis": {
             "endlinecolor": "#2a3f5f",
             "gridcolor": "white",
             "linecolor": "white",
             "minorgridcolor": "white",
             "startlinecolor": "#2a3f5f"
            },
            "baxis": {
             "endlinecolor": "#2a3f5f",
             "gridcolor": "white",
             "linecolor": "white",
             "minorgridcolor": "white",
             "startlinecolor": "#2a3f5f"
            },
            "type": "carpet"
           }
          ],
          "choropleth": [
           {
            "colorbar": {
             "outlinewidth": 0,
             "ticks": ""
            },
            "type": "choropleth"
           }
          ],
          "contour": [
           {
            "colorbar": {
             "outlinewidth": 0,
             "ticks": ""
            },
            "colorscale": [
             [
              0,
              "#0d0887"
             ],
             [
              0.1111111111111111,
              "#46039f"
             ],
             [
              0.2222222222222222,
              "#7201a8"
             ],
             [
              0.3333333333333333,
              "#9c179e"
             ],
             [
              0.4444444444444444,
              "#bd3786"
             ],
             [
              0.5555555555555556,
              "#d8576b"
             ],
             [
              0.6666666666666666,
              "#ed7953"
             ],
             [
              0.7777777777777778,
              "#fb9f3a"
             ],
             [
              0.8888888888888888,
              "#fdca26"
             ],
             [
              1,
              "#f0f921"
             ]
            ],
            "type": "contour"
           }
          ],
          "contourcarpet": [
           {
            "colorbar": {
             "outlinewidth": 0,
             "ticks": ""
            },
            "type": "contourcarpet"
           }
          ],
          "heatmap": [
           {
            "colorbar": {
             "outlinewidth": 0,
             "ticks": ""
            },
            "colorscale": [
             [
              0,
              "#0d0887"
             ],
             [
              0.1111111111111111,
              "#46039f"
             ],
             [
              0.2222222222222222,
              "#7201a8"
             ],
             [
              0.3333333333333333,
              "#9c179e"
             ],
             [
              0.4444444444444444,
              "#bd3786"
             ],
             [
              0.5555555555555556,
              "#d8576b"
             ],
             [
              0.6666666666666666,
              "#ed7953"
             ],
             [
              0.7777777777777778,
              "#fb9f3a"
             ],
             [
              0.8888888888888888,
              "#fdca26"
             ],
             [
              1,
              "#f0f921"
             ]
            ],
            "type": "heatmap"
           }
          ],
          "heatmapgl": [
           {
            "colorbar": {
             "outlinewidth": 0,
             "ticks": ""
            },
            "colorscale": [
             [
              0,
              "#0d0887"
             ],
             [
              0.1111111111111111,
              "#46039f"
             ],
             [
              0.2222222222222222,
              "#7201a8"
             ],
             [
              0.3333333333333333,
              "#9c179e"
             ],
             [
              0.4444444444444444,
              "#bd3786"
             ],
             [
              0.5555555555555556,
              "#d8576b"
             ],
             [
              0.6666666666666666,
              "#ed7953"
             ],
             [
              0.7777777777777778,
              "#fb9f3a"
             ],
             [
              0.8888888888888888,
              "#fdca26"
             ],
             [
              1,
              "#f0f921"
             ]
            ],
            "type": "heatmapgl"
           }
          ],
          "histogram": [
           {
            "marker": {
             "pattern": {
              "fillmode": "overlay",
              "size": 10,
              "solidity": 0.2
             }
            },
            "type": "histogram"
           }
          ],
          "histogram2d": [
           {
            "colorbar": {
             "outlinewidth": 0,
             "ticks": ""
            },
            "colorscale": [
             [
              0,
              "#0d0887"
             ],
             [
              0.1111111111111111,
              "#46039f"
             ],
             [
              0.2222222222222222,
              "#7201a8"
             ],
             [
              0.3333333333333333,
              "#9c179e"
             ],
             [
              0.4444444444444444,
              "#bd3786"
             ],
             [
              0.5555555555555556,
              "#d8576b"
             ],
             [
              0.6666666666666666,
              "#ed7953"
             ],
             [
              0.7777777777777778,
              "#fb9f3a"
             ],
             [
              0.8888888888888888,
              "#fdca26"
             ],
             [
              1,
              "#f0f921"
             ]
            ],
            "type": "histogram2d"
           }
          ],
          "histogram2dcontour": [
           {
            "colorbar": {
             "outlinewidth": 0,
             "ticks": ""
            },
            "colorscale": [
             [
              0,
              "#0d0887"
             ],
             [
              0.1111111111111111,
              "#46039f"
             ],
             [
              0.2222222222222222,
              "#7201a8"
             ],
             [
              0.3333333333333333,
              "#9c179e"
             ],
             [
              0.4444444444444444,
              "#bd3786"
             ],
             [
              0.5555555555555556,
              "#d8576b"
             ],
             [
              0.6666666666666666,
              "#ed7953"
             ],
             [
              0.7777777777777778,
              "#fb9f3a"
             ],
             [
              0.8888888888888888,
              "#fdca26"
             ],
             [
              1,
              "#f0f921"
             ]
            ],
            "type": "histogram2dcontour"
           }
          ],
          "mesh3d": [
           {
            "colorbar": {
             "outlinewidth": 0,
             "ticks": ""
            },
            "type": "mesh3d"
           }
          ],
          "parcoords": [
           {
            "line": {
             "colorbar": {
              "outlinewidth": 0,
              "ticks": ""
             }
            },
            "type": "parcoords"
           }
          ],
          "pie": [
           {
            "automargin": true,
            "type": "pie"
           }
          ],
          "scatter": [
           {
            "fillpattern": {
             "fillmode": "overlay",
             "size": 10,
             "solidity": 0.2
            },
            "type": "scatter"
           }
          ],
          "scatter3d": [
           {
            "line": {
             "colorbar": {
              "outlinewidth": 0,
              "ticks": ""
             }
            },
            "marker": {
             "colorbar": {
              "outlinewidth": 0,
              "ticks": ""
             }
            },
            "type": "scatter3d"
           }
          ],
          "scattercarpet": [
           {
            "marker": {
             "colorbar": {
              "outlinewidth": 0,
              "ticks": ""
             }
            },
            "type": "scattercarpet"
           }
          ],
          "scattergeo": [
           {
            "marker": {
             "colorbar": {
              "outlinewidth": 0,
              "ticks": ""
             }
            },
            "type": "scattergeo"
           }
          ],
          "scattergl": [
           {
            "marker": {
             "colorbar": {
              "outlinewidth": 0,
              "ticks": ""
             }
            },
            "type": "scattergl"
           }
          ],
          "scattermapbox": [
           {
            "marker": {
             "colorbar": {
              "outlinewidth": 0,
              "ticks": ""
             }
            },
            "type": "scattermapbox"
           }
          ],
          "scatterpolar": [
           {
            "marker": {
             "colorbar": {
              "outlinewidth": 0,
              "ticks": ""
             }
            },
            "type": "scatterpolar"
           }
          ],
          "scatterpolargl": [
           {
            "marker": {
             "colorbar": {
              "outlinewidth": 0,
              "ticks": ""
             }
            },
            "type": "scatterpolargl"
           }
          ],
          "scatterternary": [
           {
            "marker": {
             "colorbar": {
              "outlinewidth": 0,
              "ticks": ""
             }
            },
            "type": "scatterternary"
           }
          ],
          "surface": [
           {
            "colorbar": {
             "outlinewidth": 0,
             "ticks": ""
            },
            "colorscale": [
             [
              0,
              "#0d0887"
             ],
             [
              0.1111111111111111,
              "#46039f"
             ],
             [
              0.2222222222222222,
              "#7201a8"
             ],
             [
              0.3333333333333333,
              "#9c179e"
             ],
             [
              0.4444444444444444,
              "#bd3786"
             ],
             [
              0.5555555555555556,
              "#d8576b"
             ],
             [
              0.6666666666666666,
              "#ed7953"
             ],
             [
              0.7777777777777778,
              "#fb9f3a"
             ],
             [
              0.8888888888888888,
              "#fdca26"
             ],
             [
              1,
              "#f0f921"
             ]
            ],
            "type": "surface"
           }
          ],
          "table": [
           {
            "cells": {
             "fill": {
              "color": "#EBF0F8"
             },
             "line": {
              "color": "white"
             }
            },
            "header": {
             "fill": {
              "color": "#C8D4E3"
             },
             "line": {
              "color": "white"
             }
            },
            "type": "table"
           }
          ]
         },
         "layout": {
          "annotationdefaults": {
           "arrowcolor": "#2a3f5f",
           "arrowhead": 0,
           "arrowwidth": 1
          },
          "autotypenumbers": "strict",
          "coloraxis": {
           "colorbar": {
            "outlinewidth": 0,
            "ticks": ""
           }
          },
          "colorscale": {
           "diverging": [
            [
             0,
             "#8e0152"
            ],
            [
             0.1,
             "#c51b7d"
            ],
            [
             0.2,
             "#de77ae"
            ],
            [
             0.3,
             "#f1b6da"
            ],
            [
             0.4,
             "#fde0ef"
            ],
            [
             0.5,
             "#f7f7f7"
            ],
            [
             0.6,
             "#e6f5d0"
            ],
            [
             0.7,
             "#b8e186"
            ],
            [
             0.8,
             "#7fbc41"
            ],
            [
             0.9,
             "#4d9221"
            ],
            [
             1,
             "#276419"
            ]
           ],
           "sequential": [
            [
             0,
             "#0d0887"
            ],
            [
             0.1111111111111111,
             "#46039f"
            ],
            [
             0.2222222222222222,
             "#7201a8"
            ],
            [
             0.3333333333333333,
             "#9c179e"
            ],
            [
             0.4444444444444444,
             "#bd3786"
            ],
            [
             0.5555555555555556,
             "#d8576b"
            ],
            [
             0.6666666666666666,
             "#ed7953"
            ],
            [
             0.7777777777777778,
             "#fb9f3a"
            ],
            [
             0.8888888888888888,
             "#fdca26"
            ],
            [
             1,
             "#f0f921"
            ]
           ],
           "sequentialminus": [
            [
             0,
             "#0d0887"
            ],
            [
             0.1111111111111111,
             "#46039f"
            ],
            [
             0.2222222222222222,
             "#7201a8"
            ],
            [
             0.3333333333333333,
             "#9c179e"
            ],
            [
             0.4444444444444444,
             "#bd3786"
            ],
            [
             0.5555555555555556,
             "#d8576b"
            ],
            [
             0.6666666666666666,
             "#ed7953"
            ],
            [
             0.7777777777777778,
             "#fb9f3a"
            ],
            [
             0.8888888888888888,
             "#fdca26"
            ],
            [
             1,
             "#f0f921"
            ]
           ]
          },
          "colorway": [
           "#636efa",
           "#EF553B",
           "#00cc96",
           "#ab63fa",
           "#FFA15A",
           "#19d3f3",
           "#FF6692",
           "#B6E880",
           "#FF97FF",
           "#FECB52"
          ],
          "font": {
           "color": "#2a3f5f"
          },
          "geo": {
           "bgcolor": "white",
           "lakecolor": "white",
           "landcolor": "#E5ECF6",
           "showlakes": true,
           "showland": true,
           "subunitcolor": "white"
          },
          "hoverlabel": {
           "align": "left"
          },
          "hovermode": "closest",
          "mapbox": {
           "style": "light"
          },
          "paper_bgcolor": "white",
          "plot_bgcolor": "#E5ECF6",
          "polar": {
           "angularaxis": {
            "gridcolor": "white",
            "linecolor": "white",
            "ticks": ""
           },
           "bgcolor": "#E5ECF6",
           "radialaxis": {
            "gridcolor": "white",
            "linecolor": "white",
            "ticks": ""
           }
          },
          "scene": {
           "xaxis": {
            "backgroundcolor": "#E5ECF6",
            "gridcolor": "white",
            "gridwidth": 2,
            "linecolor": "white",
            "showbackground": true,
            "ticks": "",
            "zerolinecolor": "white"
           },
           "yaxis": {
            "backgroundcolor": "#E5ECF6",
            "gridcolor": "white",
            "gridwidth": 2,
            "linecolor": "white",
            "showbackground": true,
            "ticks": "",
            "zerolinecolor": "white"
           },
           "zaxis": {
            "backgroundcolor": "#E5ECF6",
            "gridcolor": "white",
            "gridwidth": 2,
            "linecolor": "white",
            "showbackground": true,
            "ticks": "",
            "zerolinecolor": "white"
           }
          },
          "shapedefaults": {
           "line": {
            "color": "#2a3f5f"
           }
          },
          "ternary": {
           "aaxis": {
            "gridcolor": "white",
            "linecolor": "white",
            "ticks": ""
           },
           "baxis": {
            "gridcolor": "white",
            "linecolor": "white",
            "ticks": ""
           },
           "bgcolor": "#E5ECF6",
           "caxis": {
            "gridcolor": "white",
            "linecolor": "white",
            "ticks": ""
           }
          },
          "title": {
           "x": 0.05
          },
          "xaxis": {
           "automargin": true,
           "gridcolor": "white",
           "linecolor": "white",
           "ticks": "",
           "title": {
            "standoff": 15
           },
           "zerolinecolor": "white",
           "zerolinewidth": 2
          },
          "yaxis": {
           "automargin": true,
           "gridcolor": "white",
           "linecolor": "white",
           "ticks": "",
           "title": {
            "standoff": 15
           },
           "zerolinecolor": "white",
           "zerolinewidth": 2
          }
         }
        },
        "title": {
         "text": "Mean NLL for wine-gap dataset"
        },
        "xaxis": {
         "anchor": "y",
         "domain": [
          0,
          1
         ],
         "title": {
          "text": "Subnetwork size"
         }
        },
        "yaxis": {
         "anchor": "x",
         "domain": [
          0,
          1
         ],
         "title": {
          "text": "NLL"
         }
        }
       }
      }
     },
     "metadata": {},
     "output_type": "display_data"
    }
   ],
   "source": [
    "plot_nll(path=\"results/wine_GAP_*LA*.json\", title=\"Mean NLL for wine-gap dataset\")"
   ]
  },
  {
   "attachments": {},
   "cell_type": "markdown",
   "metadata": {},
   "source": [
    "#### Plot Mean and Standard Deviation of Negative Log Likelihoods of different selection strategies on wine dataset\n",
    "\n"
   ]
  },
  {
   "cell_type": "code",
   "execution_count": 7,
   "metadata": {},
   "outputs": [
    {
     "data": {
      "application/vnd.plotly.v1+json": {
       "config": {
        "plotlyServerURL": "https://plot.ly"
       },
       "data": [
        {
         "alignmentgroup": "True",
         "customdata": [
          [
           0,
           "STANDARD"
          ],
          [
           0,
           "STANDARD"
          ],
          [
           0,
           "STANDARD"
          ],
          [
           1,
           "STANDARD"
          ],
          [
           1,
           "STANDARD"
          ],
          [
           1,
           "STANDARD"
          ],
          [
           2,
           "STANDARD"
          ],
          [
           2,
           "STANDARD"
          ],
          [
           2,
           "STANDARD"
          ],
          [
           3,
           "STANDARD"
          ],
          [
           3,
           "STANDARD"
          ],
          [
           3,
           "STANDARD"
          ],
          [
           4,
           "STANDARD"
          ],
          [
           4,
           "STANDARD"
          ],
          [
           4,
           "STANDARD"
          ]
         ],
         "hovertemplate": "Selection strategy=KFE<br>Subnetwork size=%{x}<br>NLL=%{y}<br>seed=%{customdata[0]}<br>split=%{customdata[1]}<extra></extra>",
         "legendgroup": "KFE",
         "marker": {
          "color": "#636efa"
         },
         "name": "KFE",
         "notched": false,
         "offsetgroup": "KFE",
         "orientation": "v",
         "quartilemethod": "exclusive",
         "showlegend": true,
         "type": "box",
         "x": [
          600,
          1200,
          1800,
          600,
          1200,
          1800,
          600,
          1200,
          1800,
          600,
          1200,
          1800,
          600,
          1200,
          1800
         ],
         "x0": " ",
         "xaxis": "x",
         "y": [
          1.179736090705108,
          1.177443326701734,
          1.1747571033833242,
          1.1828658056912484,
          1.1798268670610563,
          1.1776204690097065,
          1.1828017484824556,
          1.176288420782045,
          1.1744642264785208,
          1.1934465825133476,
          1.1900220728633493,
          1.1881894440241652,
          1.1785976676006473,
          1.1760420545733998,
          1.173748247852281
         ],
         "y0": " ",
         "yaxis": "y"
        },
        {
         "alignmentgroup": "True",
         "customdata": [
          [
           0,
           "STANDARD"
          ],
          [
           0,
           "STANDARD"
          ],
          [
           0,
           "STANDARD"
          ],
          [
           1,
           "STANDARD"
          ],
          [
           1,
           "STANDARD"
          ],
          [
           1,
           "STANDARD"
          ],
          [
           2,
           "STANDARD"
          ],
          [
           2,
           "STANDARD"
          ],
          [
           2,
           "STANDARD"
          ],
          [
           3,
           "STANDARD"
          ],
          [
           3,
           "STANDARD"
          ],
          [
           3,
           "STANDARD"
          ],
          [
           4,
           "STANDARD"
          ],
          [
           4,
           "STANDARD"
          ],
          [
           4,
           "STANDARD"
          ]
         ],
         "hovertemplate": "Selection strategy=LVD<br>Subnetwork size=%{x}<br>NLL=%{y}<br>seed=%{customdata[0]}<br>split=%{customdata[1]}<extra></extra>",
         "legendgroup": "LVD",
         "marker": {
          "color": "#EF553B"
         },
         "name": "LVD",
         "notched": false,
         "offsetgroup": "LVD",
         "orientation": "v",
         "quartilemethod": "exclusive",
         "showlegend": true,
         "type": "box",
         "x": [
          600,
          1200,
          1800,
          600,
          1200,
          1800,
          600,
          1200,
          1800,
          600,
          1200,
          1800,
          600,
          1200,
          1800
         ],
         "x0": " ",
         "xaxis": "x",
         "y": [
          1.1869909334866997,
          1.18379592096316,
          1.17894160297821,
          1.1886342627519144,
          1.1848974668086705,
          1.180228296894859,
          1.1904813041647437,
          1.185346680824302,
          1.179000620636775,
          1.201515231020082,
          1.1975255594603962,
          1.191706624370935,
          1.1866899357675091,
          1.1814931470697279,
          1.1761259830344557
         ],
         "y0": " ",
         "yaxis": "y"
        },
        {
         "alignmentgroup": "True",
         "customdata": [
          [
           0,
           "STANDARD"
          ],
          [
           0,
           "STANDARD"
          ],
          [
           0,
           "STANDARD"
          ],
          [
           1,
           "STANDARD"
          ],
          [
           1,
           "STANDARD"
          ],
          [
           1,
           "STANDARD"
          ],
          [
           2,
           "STANDARD"
          ],
          [
           2,
           "STANDARD"
          ],
          [
           2,
           "STANDARD"
          ],
          [
           3,
           "STANDARD"
          ],
          [
           3,
           "STANDARD"
          ],
          [
           3,
           "STANDARD"
          ],
          [
           4,
           "STANDARD"
          ],
          [
           4,
           "STANDARD"
          ],
          [
           4,
           "STANDARD"
          ]
         ],
         "hovertemplate": "Selection strategy=MN<br>Subnetwork size=%{x}<br>NLL=%{y}<br>seed=%{customdata[0]}<br>split=%{customdata[1]}<extra></extra>",
         "legendgroup": "MN",
         "marker": {
          "color": "#00cc96"
         },
         "name": "MN",
         "notched": false,
         "offsetgroup": "MN",
         "orientation": "v",
         "quartilemethod": "exclusive",
         "showlegend": true,
         "type": "box",
         "x": [
          600,
          1200,
          1800,
          600,
          1200,
          1800,
          600,
          1200,
          1800,
          600,
          1200,
          1800,
          600,
          1200,
          1800
         ],
         "x0": " ",
         "xaxis": "x",
         "y": [
          1.186991129021856,
          1.1838040186184997,
          1.178850315754566,
          1.1886345021716216,
          1.184899054753379,
          1.1801342897084968,
          1.1904779851393372,
          1.1852361372434523,
          1.1786044523292005,
          1.2015154646107589,
          1.1974930114204863,
          1.1916096033703567,
          1.186697314258148,
          1.1814125625181797,
          1.1759104661356061
         ],
         "y0": " ",
         "yaxis": "y"
        },
        {
         "alignmentgroup": "True",
         "customdata": [
          [
           0,
           "STANDARD"
          ],
          [
           0,
           "STANDARD"
          ],
          [
           0,
           "STANDARD"
          ],
          [
           1,
           "STANDARD"
          ],
          [
           1,
           "STANDARD"
          ],
          [
           1,
           "STANDARD"
          ],
          [
           2,
           "STANDARD"
          ],
          [
           2,
           "STANDARD"
          ],
          [
           2,
           "STANDARD"
          ],
          [
           3,
           "STANDARD"
          ],
          [
           3,
           "STANDARD"
          ],
          [
           3,
           "STANDARD"
          ],
          [
           4,
           "STANDARD"
          ],
          [
           4,
           "STANDARD"
          ],
          [
           4,
           "STANDARD"
          ]
         ],
         "hovertemplate": "Selection strategy=OBD<br>Subnetwork size=%{x}<br>NLL=%{y}<br>seed=%{customdata[0]}<br>split=%{customdata[1]}<extra></extra>",
         "legendgroup": "OBD",
         "marker": {
          "color": "#ab63fa"
         },
         "name": "OBD",
         "notched": false,
         "offsetgroup": "OBD",
         "orientation": "v",
         "quartilemethod": "exclusive",
         "showlegend": true,
         "type": "box",
         "x": [
          600,
          1200,
          1800,
          600,
          1200,
          1800,
          600,
          1200,
          1800,
          600,
          1200,
          1800,
          600,
          1200,
          1800
         ],
         "x0": " ",
         "xaxis": "x",
         "y": [
          1.1729102365284914,
          1.1711528969731948,
          1.1706872996152113,
          1.1744500444276231,
          1.173174314237648,
          1.1730701370361873,
          1.1716337698404105,
          1.1694266942205298,
          1.168792681891676,
          1.186139373651108,
          1.1845123231245434,
          1.184079971836654,
          1.1720547041330802,
          1.170314599300958,
          1.169973139687978
         ],
         "y0": " ",
         "yaxis": "y"
        },
        {
         "alignmentgroup": "True",
         "customdata": [
          [
           0,
           "STANDARD"
          ],
          [
           0,
           "STANDARD"
          ],
          [
           0,
           "STANDARD"
          ],
          [
           1,
           "STANDARD"
          ],
          [
           1,
           "STANDARD"
          ],
          [
           1,
           "STANDARD"
          ],
          [
           2,
           "STANDARD"
          ],
          [
           2,
           "STANDARD"
          ],
          [
           2,
           "STANDARD"
          ],
          [
           3,
           "STANDARD"
          ],
          [
           3,
           "STANDARD"
          ],
          [
           3,
           "STANDARD"
          ],
          [
           4,
           "STANDARD"
          ],
          [
           4,
           "STANDARD"
          ],
          [
           4,
           "STANDARD"
          ]
         ],
         "hovertemplate": "Selection strategy=SPR<br>Subnetwork size=%{x}<br>NLL=%{y}<br>seed=%{customdata[0]}<br>split=%{customdata[1]}<extra></extra>",
         "legendgroup": "SPR",
         "marker": {
          "color": "#FFA15A"
         },
         "name": "SPR",
         "notched": false,
         "offsetgroup": "SPR",
         "orientation": "v",
         "quartilemethod": "exclusive",
         "showlegend": true,
         "type": "box",
         "x": [
          600,
          1200,
          1800,
          600,
          1200,
          1800,
          600,
          1200,
          1800,
          600,
          1200,
          1800,
          600,
          1200,
          1800
         ],
         "x0": " ",
         "xaxis": "x",
         "y": [
          1.1869868455734713,
          1.1837126290026667,
          1.1786175004924668,
          1.1886289271150505,
          1.184764908221943,
          1.179469614009778,
          1.1904715542910793,
          1.1851398514520741,
          1.1782289671093142,
          1.2015184147499876,
          1.1975138087001471,
          1.1912571590812007,
          1.1866793176519774,
          1.1810570773671007,
          1.1753079653642682
         ],
         "y0": " ",
         "yaxis": "y"
        }
       ],
       "layout": {
        "boxmode": "group",
        "legend": {
         "title": {
          "text": "Selection strategy"
         },
         "tracegroupgap": 0
        },
        "template": {
         "data": {
          "bar": [
           {
            "error_x": {
             "color": "#2a3f5f"
            },
            "error_y": {
             "color": "#2a3f5f"
            },
            "marker": {
             "line": {
              "color": "#E5ECF6",
              "width": 0.5
             },
             "pattern": {
              "fillmode": "overlay",
              "size": 10,
              "solidity": 0.2
             }
            },
            "type": "bar"
           }
          ],
          "barpolar": [
           {
            "marker": {
             "line": {
              "color": "#E5ECF6",
              "width": 0.5
             },
             "pattern": {
              "fillmode": "overlay",
              "size": 10,
              "solidity": 0.2
             }
            },
            "type": "barpolar"
           }
          ],
          "carpet": [
           {
            "aaxis": {
             "endlinecolor": "#2a3f5f",
             "gridcolor": "white",
             "linecolor": "white",
             "minorgridcolor": "white",
             "startlinecolor": "#2a3f5f"
            },
            "baxis": {
             "endlinecolor": "#2a3f5f",
             "gridcolor": "white",
             "linecolor": "white",
             "minorgridcolor": "white",
             "startlinecolor": "#2a3f5f"
            },
            "type": "carpet"
           }
          ],
          "choropleth": [
           {
            "colorbar": {
             "outlinewidth": 0,
             "ticks": ""
            },
            "type": "choropleth"
           }
          ],
          "contour": [
           {
            "colorbar": {
             "outlinewidth": 0,
             "ticks": ""
            },
            "colorscale": [
             [
              0,
              "#0d0887"
             ],
             [
              0.1111111111111111,
              "#46039f"
             ],
             [
              0.2222222222222222,
              "#7201a8"
             ],
             [
              0.3333333333333333,
              "#9c179e"
             ],
             [
              0.4444444444444444,
              "#bd3786"
             ],
             [
              0.5555555555555556,
              "#d8576b"
             ],
             [
              0.6666666666666666,
              "#ed7953"
             ],
             [
              0.7777777777777778,
              "#fb9f3a"
             ],
             [
              0.8888888888888888,
              "#fdca26"
             ],
             [
              1,
              "#f0f921"
             ]
            ],
            "type": "contour"
           }
          ],
          "contourcarpet": [
           {
            "colorbar": {
             "outlinewidth": 0,
             "ticks": ""
            },
            "type": "contourcarpet"
           }
          ],
          "heatmap": [
           {
            "colorbar": {
             "outlinewidth": 0,
             "ticks": ""
            },
            "colorscale": [
             [
              0,
              "#0d0887"
             ],
             [
              0.1111111111111111,
              "#46039f"
             ],
             [
              0.2222222222222222,
              "#7201a8"
             ],
             [
              0.3333333333333333,
              "#9c179e"
             ],
             [
              0.4444444444444444,
              "#bd3786"
             ],
             [
              0.5555555555555556,
              "#d8576b"
             ],
             [
              0.6666666666666666,
              "#ed7953"
             ],
             [
              0.7777777777777778,
              "#fb9f3a"
             ],
             [
              0.8888888888888888,
              "#fdca26"
             ],
             [
              1,
              "#f0f921"
             ]
            ],
            "type": "heatmap"
           }
          ],
          "heatmapgl": [
           {
            "colorbar": {
             "outlinewidth": 0,
             "ticks": ""
            },
            "colorscale": [
             [
              0,
              "#0d0887"
             ],
             [
              0.1111111111111111,
              "#46039f"
             ],
             [
              0.2222222222222222,
              "#7201a8"
             ],
             [
              0.3333333333333333,
              "#9c179e"
             ],
             [
              0.4444444444444444,
              "#bd3786"
             ],
             [
              0.5555555555555556,
              "#d8576b"
             ],
             [
              0.6666666666666666,
              "#ed7953"
             ],
             [
              0.7777777777777778,
              "#fb9f3a"
             ],
             [
              0.8888888888888888,
              "#fdca26"
             ],
             [
              1,
              "#f0f921"
             ]
            ],
            "type": "heatmapgl"
           }
          ],
          "histogram": [
           {
            "marker": {
             "pattern": {
              "fillmode": "overlay",
              "size": 10,
              "solidity": 0.2
             }
            },
            "type": "histogram"
           }
          ],
          "histogram2d": [
           {
            "colorbar": {
             "outlinewidth": 0,
             "ticks": ""
            },
            "colorscale": [
             [
              0,
              "#0d0887"
             ],
             [
              0.1111111111111111,
              "#46039f"
             ],
             [
              0.2222222222222222,
              "#7201a8"
             ],
             [
              0.3333333333333333,
              "#9c179e"
             ],
             [
              0.4444444444444444,
              "#bd3786"
             ],
             [
              0.5555555555555556,
              "#d8576b"
             ],
             [
              0.6666666666666666,
              "#ed7953"
             ],
             [
              0.7777777777777778,
              "#fb9f3a"
             ],
             [
              0.8888888888888888,
              "#fdca26"
             ],
             [
              1,
              "#f0f921"
             ]
            ],
            "type": "histogram2d"
           }
          ],
          "histogram2dcontour": [
           {
            "colorbar": {
             "outlinewidth": 0,
             "ticks": ""
            },
            "colorscale": [
             [
              0,
              "#0d0887"
             ],
             [
              0.1111111111111111,
              "#46039f"
             ],
             [
              0.2222222222222222,
              "#7201a8"
             ],
             [
              0.3333333333333333,
              "#9c179e"
             ],
             [
              0.4444444444444444,
              "#bd3786"
             ],
             [
              0.5555555555555556,
              "#d8576b"
             ],
             [
              0.6666666666666666,
              "#ed7953"
             ],
             [
              0.7777777777777778,
              "#fb9f3a"
             ],
             [
              0.8888888888888888,
              "#fdca26"
             ],
             [
              1,
              "#f0f921"
             ]
            ],
            "type": "histogram2dcontour"
           }
          ],
          "mesh3d": [
           {
            "colorbar": {
             "outlinewidth": 0,
             "ticks": ""
            },
            "type": "mesh3d"
           }
          ],
          "parcoords": [
           {
            "line": {
             "colorbar": {
              "outlinewidth": 0,
              "ticks": ""
             }
            },
            "type": "parcoords"
           }
          ],
          "pie": [
           {
            "automargin": true,
            "type": "pie"
           }
          ],
          "scatter": [
           {
            "fillpattern": {
             "fillmode": "overlay",
             "size": 10,
             "solidity": 0.2
            },
            "type": "scatter"
           }
          ],
          "scatter3d": [
           {
            "line": {
             "colorbar": {
              "outlinewidth": 0,
              "ticks": ""
             }
            },
            "marker": {
             "colorbar": {
              "outlinewidth": 0,
              "ticks": ""
             }
            },
            "type": "scatter3d"
           }
          ],
          "scattercarpet": [
           {
            "marker": {
             "colorbar": {
              "outlinewidth": 0,
              "ticks": ""
             }
            },
            "type": "scattercarpet"
           }
          ],
          "scattergeo": [
           {
            "marker": {
             "colorbar": {
              "outlinewidth": 0,
              "ticks": ""
             }
            },
            "type": "scattergeo"
           }
          ],
          "scattergl": [
           {
            "marker": {
             "colorbar": {
              "outlinewidth": 0,
              "ticks": ""
             }
            },
            "type": "scattergl"
           }
          ],
          "scattermapbox": [
           {
            "marker": {
             "colorbar": {
              "outlinewidth": 0,
              "ticks": ""
             }
            },
            "type": "scattermapbox"
           }
          ],
          "scatterpolar": [
           {
            "marker": {
             "colorbar": {
              "outlinewidth": 0,
              "ticks": ""
             }
            },
            "type": "scatterpolar"
           }
          ],
          "scatterpolargl": [
           {
            "marker": {
             "colorbar": {
              "outlinewidth": 0,
              "ticks": ""
             }
            },
            "type": "scatterpolargl"
           }
          ],
          "scatterternary": [
           {
            "marker": {
             "colorbar": {
              "outlinewidth": 0,
              "ticks": ""
             }
            },
            "type": "scatterternary"
           }
          ],
          "surface": [
           {
            "colorbar": {
             "outlinewidth": 0,
             "ticks": ""
            },
            "colorscale": [
             [
              0,
              "#0d0887"
             ],
             [
              0.1111111111111111,
              "#46039f"
             ],
             [
              0.2222222222222222,
              "#7201a8"
             ],
             [
              0.3333333333333333,
              "#9c179e"
             ],
             [
              0.4444444444444444,
              "#bd3786"
             ],
             [
              0.5555555555555556,
              "#d8576b"
             ],
             [
              0.6666666666666666,
              "#ed7953"
             ],
             [
              0.7777777777777778,
              "#fb9f3a"
             ],
             [
              0.8888888888888888,
              "#fdca26"
             ],
             [
              1,
              "#f0f921"
             ]
            ],
            "type": "surface"
           }
          ],
          "table": [
           {
            "cells": {
             "fill": {
              "color": "#EBF0F8"
             },
             "line": {
              "color": "white"
             }
            },
            "header": {
             "fill": {
              "color": "#C8D4E3"
             },
             "line": {
              "color": "white"
             }
            },
            "type": "table"
           }
          ]
         },
         "layout": {
          "annotationdefaults": {
           "arrowcolor": "#2a3f5f",
           "arrowhead": 0,
           "arrowwidth": 1
          },
          "autotypenumbers": "strict",
          "coloraxis": {
           "colorbar": {
            "outlinewidth": 0,
            "ticks": ""
           }
          },
          "colorscale": {
           "diverging": [
            [
             0,
             "#8e0152"
            ],
            [
             0.1,
             "#c51b7d"
            ],
            [
             0.2,
             "#de77ae"
            ],
            [
             0.3,
             "#f1b6da"
            ],
            [
             0.4,
             "#fde0ef"
            ],
            [
             0.5,
             "#f7f7f7"
            ],
            [
             0.6,
             "#e6f5d0"
            ],
            [
             0.7,
             "#b8e186"
            ],
            [
             0.8,
             "#7fbc41"
            ],
            [
             0.9,
             "#4d9221"
            ],
            [
             1,
             "#276419"
            ]
           ],
           "sequential": [
            [
             0,
             "#0d0887"
            ],
            [
             0.1111111111111111,
             "#46039f"
            ],
            [
             0.2222222222222222,
             "#7201a8"
            ],
            [
             0.3333333333333333,
             "#9c179e"
            ],
            [
             0.4444444444444444,
             "#bd3786"
            ],
            [
             0.5555555555555556,
             "#d8576b"
            ],
            [
             0.6666666666666666,
             "#ed7953"
            ],
            [
             0.7777777777777778,
             "#fb9f3a"
            ],
            [
             0.8888888888888888,
             "#fdca26"
            ],
            [
             1,
             "#f0f921"
            ]
           ],
           "sequentialminus": [
            [
             0,
             "#0d0887"
            ],
            [
             0.1111111111111111,
             "#46039f"
            ],
            [
             0.2222222222222222,
             "#7201a8"
            ],
            [
             0.3333333333333333,
             "#9c179e"
            ],
            [
             0.4444444444444444,
             "#bd3786"
            ],
            [
             0.5555555555555556,
             "#d8576b"
            ],
            [
             0.6666666666666666,
             "#ed7953"
            ],
            [
             0.7777777777777778,
             "#fb9f3a"
            ],
            [
             0.8888888888888888,
             "#fdca26"
            ],
            [
             1,
             "#f0f921"
            ]
           ]
          },
          "colorway": [
           "#636efa",
           "#EF553B",
           "#00cc96",
           "#ab63fa",
           "#FFA15A",
           "#19d3f3",
           "#FF6692",
           "#B6E880",
           "#FF97FF",
           "#FECB52"
          ],
          "font": {
           "color": "#2a3f5f"
          },
          "geo": {
           "bgcolor": "white",
           "lakecolor": "white",
           "landcolor": "#E5ECF6",
           "showlakes": true,
           "showland": true,
           "subunitcolor": "white"
          },
          "hoverlabel": {
           "align": "left"
          },
          "hovermode": "closest",
          "mapbox": {
           "style": "light"
          },
          "paper_bgcolor": "white",
          "plot_bgcolor": "#E5ECF6",
          "polar": {
           "angularaxis": {
            "gridcolor": "white",
            "linecolor": "white",
            "ticks": ""
           },
           "bgcolor": "#E5ECF6",
           "radialaxis": {
            "gridcolor": "white",
            "linecolor": "white",
            "ticks": ""
           }
          },
          "scene": {
           "xaxis": {
            "backgroundcolor": "#E5ECF6",
            "gridcolor": "white",
            "gridwidth": 2,
            "linecolor": "white",
            "showbackground": true,
            "ticks": "",
            "zerolinecolor": "white"
           },
           "yaxis": {
            "backgroundcolor": "#E5ECF6",
            "gridcolor": "white",
            "gridwidth": 2,
            "linecolor": "white",
            "showbackground": true,
            "ticks": "",
            "zerolinecolor": "white"
           },
           "zaxis": {
            "backgroundcolor": "#E5ECF6",
            "gridcolor": "white",
            "gridwidth": 2,
            "linecolor": "white",
            "showbackground": true,
            "ticks": "",
            "zerolinecolor": "white"
           }
          },
          "shapedefaults": {
           "line": {
            "color": "#2a3f5f"
           }
          },
          "ternary": {
           "aaxis": {
            "gridcolor": "white",
            "linecolor": "white",
            "ticks": ""
           },
           "baxis": {
            "gridcolor": "white",
            "linecolor": "white",
            "ticks": ""
           },
           "bgcolor": "#E5ECF6",
           "caxis": {
            "gridcolor": "white",
            "linecolor": "white",
            "ticks": ""
           }
          },
          "title": {
           "x": 0.05
          },
          "xaxis": {
           "automargin": true,
           "gridcolor": "white",
           "linecolor": "white",
           "ticks": "",
           "title": {
            "standoff": 15
           },
           "zerolinecolor": "white",
           "zerolinewidth": 2
          },
          "yaxis": {
           "automargin": true,
           "gridcolor": "white",
           "linecolor": "white",
           "ticks": "",
           "title": {
            "standoff": 15
           },
           "zerolinecolor": "white",
           "zerolinewidth": 2
          }
         }
        },
        "title": {
         "text": "Mean NLL for wine dataset"
        },
        "xaxis": {
         "anchor": "y",
         "domain": [
          0,
          1
         ],
         "title": {
          "text": "Subnetwork size"
         }
        },
        "yaxis": {
         "anchor": "x",
         "domain": [
          0,
          1
         ],
         "title": {
          "text": "NLL"
         }
        }
       }
      }
     },
     "metadata": {},
     "output_type": "display_data"
    }
   ],
   "source": [
    "plot_nll(path=\"results/wine_STANDARD_*LA*.json\", title=\"Mean NLL for wine dataset\")"
   ]
  },
  {
   "cell_type": "markdown",
   "metadata": {},
   "source": [
    "#### Plot Mean and Standard Deviation of Negative Log Likelihoods of different selection strategies on kin8nm-gap dataset\n",
    "\n"
   ]
  },
  {
   "cell_type": "code",
   "execution_count": 6,
   "metadata": {},
   "outputs": [
    {
     "data": {
      "application/vnd.plotly.v1+json": {
       "config": {
        "plotlyServerURL": "https://plot.ly"
       },
       "data": [
        {
         "alignmentgroup": "True",
         "customdata": [
          [
           0,
           "GAP"
          ],
          [
           0,
           "GAP"
          ],
          [
           0,
           "GAP"
          ],
          [
           1,
           "GAP"
          ],
          [
           1,
           "GAP"
          ],
          [
           1,
           "GAP"
          ],
          [
           2,
           "GAP"
          ],
          [
           2,
           "GAP"
          ],
          [
           2,
           "GAP"
          ],
          [
           3,
           "GAP"
          ],
          [
           3,
           "GAP"
          ],
          [
           3,
           "GAP"
          ],
          [
           4,
           "GAP"
          ],
          [
           4,
           "GAP"
          ],
          [
           4,
           "GAP"
          ]
         ],
         "hovertemplate": "Selection strategy=KFE<br>Subnetwork size=%{x}<br>NLL=%{y}<br>seed=%{customdata[0]}<br>split=%{customdata[1]}<extra></extra>",
         "legendgroup": "KFE",
         "marker": {
          "color": "#636efa"
         },
         "name": "KFE",
         "notched": false,
         "offsetgroup": "KFE",
         "orientation": "v",
         "quartilemethod": "exclusive",
         "showlegend": false,
         "type": "box",
         "x": [
          600,
          1200,
          1800,
          600,
          1200,
          1800,
          600,
          1200,
          1800,
          600,
          1200,
          1800,
          600,
          1200,
          1800
         ],
         "x0": " ",
         "xaxis": "x",
         "y": [
          0.2087481242959387,
          0.19531004929531262,
          0.18630961658177142,
          0.18569211182361167,
          0.17428527756943377,
          0.16766198048171552,
          0.20220620360869346,
          0.18740338751957197,
          0.18081431247978183,
          0.1810461104357388,
          0.16751198844868323,
          0.16001345708147457,
          0.19005658040878534,
          0.17611691775607244,
          0.16706126668204208
         ],
         "y0": " ",
         "yaxis": "y"
        },
        {
         "alignmentgroup": "True",
         "customdata": [
          [
           0,
           "GAP"
          ],
          [
           0,
           "GAP"
          ],
          [
           0,
           "GAP"
          ],
          [
           1,
           "GAP"
          ],
          [
           1,
           "GAP"
          ],
          [
           1,
           "GAP"
          ],
          [
           2,
           "GAP"
          ],
          [
           2,
           "GAP"
          ],
          [
           2,
           "GAP"
          ],
          [
           3,
           "GAP"
          ],
          [
           3,
           "GAP"
          ],
          [
           3,
           "GAP"
          ],
          [
           4,
           "GAP"
          ],
          [
           4,
           "GAP"
          ],
          [
           4,
           "GAP"
          ]
         ],
         "hovertemplate": "Selection strategy=LVD<br>Subnetwork size=%{x}<br>NLL=%{y}<br>seed=%{customdata[0]}<br>split=%{customdata[1]}<extra></extra>",
         "legendgroup": "LVD",
         "marker": {
          "color": "#EF553B"
         },
         "name": "LVD",
         "notched": false,
         "offsetgroup": "LVD",
         "orientation": "v",
         "quartilemethod": "exclusive",
         "showlegend": false,
         "type": "box",
         "x": [
          600,
          1200,
          1800,
          600,
          1200,
          1800,
          600,
          1200,
          1800,
          600,
          1200,
          1800,
          600,
          1200,
          1800
         ],
         "x0": " ",
         "xaxis": "x",
         "y": [
          0.2155004573946295,
          0.19850821164790594,
          0.18579391898269265,
          0.19690856282875302,
          0.1818203425664682,
          0.1710099192801675,
          0.21063658809882432,
          0.19431467592977308,
          0.18185343577821744,
          0.18552143021882556,
          0.1703855893510033,
          0.16018912364355598,
          0.19229461086947366,
          0.17702770492376102,
          0.16660000100040553
         ],
         "y0": " ",
         "yaxis": "y"
        },
        {
         "alignmentgroup": "True",
         "customdata": [
          [
           0,
           "GAP"
          ],
          [
           0,
           "GAP"
          ],
          [
           0,
           "GAP"
          ],
          [
           1,
           "GAP"
          ],
          [
           1,
           "GAP"
          ],
          [
           1,
           "GAP"
          ],
          [
           2,
           "GAP"
          ],
          [
           2,
           "GAP"
          ],
          [
           2,
           "GAP"
          ],
          [
           3,
           "GAP"
          ],
          [
           3,
           "GAP"
          ],
          [
           3,
           "GAP"
          ],
          [
           4,
           "GAP"
          ],
          [
           4,
           "GAP"
          ],
          [
           4,
           "GAP"
          ]
         ],
         "hovertemplate": "Selection strategy=OBD<br>Subnetwork size=%{x}<br>NLL=%{y}<br>seed=%{customdata[0]}<br>split=%{customdata[1]}<extra></extra>",
         "legendgroup": "OBD",
         "marker": {
          "color": "#00cc96"
         },
         "name": "OBD",
         "notched": false,
         "offsetgroup": "OBD",
         "orientation": "v",
         "quartilemethod": "exclusive",
         "showlegend": false,
         "type": "box",
         "x": [
          600,
          1200,
          1800,
          600,
          1200,
          1800,
          600,
          1200,
          1800,
          600,
          1200,
          1800,
          600,
          1200,
          1800
         ],
         "x0": " ",
         "xaxis": "x",
         "y": [
          0.19927641327884787,
          0.1834065878251727,
          0.17700158536999427,
          0.18149551577594467,
          0.16842255950327625,
          0.16409187722573734,
          0.19224196194659404,
          0.17833887955888877,
          0.1734446580810382,
          0.17248211405539637,
          0.1594316461833551,
          0.15497797327955842,
          0.18066048594434314,
          0.1649348261517233,
          0.15915450875930393
         ],
         "y0": " ",
         "yaxis": "y"
        }
       ],
       "layout": {
        "boxmode": "group",
        "legend": {
         "title": {
          "text": "Selection strategy"
         },
         "tracegroupgap": 0
        },
        "template": {
         "data": {
          "bar": [
           {
            "error_x": {
             "color": "#2a3f5f"
            },
            "error_y": {
             "color": "#2a3f5f"
            },
            "marker": {
             "line": {
              "color": "#E5ECF6",
              "width": 0.5
             },
             "pattern": {
              "fillmode": "overlay",
              "size": 10,
              "solidity": 0.2
             }
            },
            "type": "bar"
           }
          ],
          "barpolar": [
           {
            "marker": {
             "line": {
              "color": "#E5ECF6",
              "width": 0.5
             },
             "pattern": {
              "fillmode": "overlay",
              "size": 10,
              "solidity": 0.2
             }
            },
            "type": "barpolar"
           }
          ],
          "carpet": [
           {
            "aaxis": {
             "endlinecolor": "#2a3f5f",
             "gridcolor": "white",
             "linecolor": "white",
             "minorgridcolor": "white",
             "startlinecolor": "#2a3f5f"
            },
            "baxis": {
             "endlinecolor": "#2a3f5f",
             "gridcolor": "white",
             "linecolor": "white",
             "minorgridcolor": "white",
             "startlinecolor": "#2a3f5f"
            },
            "type": "carpet"
           }
          ],
          "choropleth": [
           {
            "colorbar": {
             "outlinewidth": 0,
             "ticks": ""
            },
            "type": "choropleth"
           }
          ],
          "contour": [
           {
            "colorbar": {
             "outlinewidth": 0,
             "ticks": ""
            },
            "colorscale": [
             [
              0,
              "#0d0887"
             ],
             [
              0.1111111111111111,
              "#46039f"
             ],
             [
              0.2222222222222222,
              "#7201a8"
             ],
             [
              0.3333333333333333,
              "#9c179e"
             ],
             [
              0.4444444444444444,
              "#bd3786"
             ],
             [
              0.5555555555555556,
              "#d8576b"
             ],
             [
              0.6666666666666666,
              "#ed7953"
             ],
             [
              0.7777777777777778,
              "#fb9f3a"
             ],
             [
              0.8888888888888888,
              "#fdca26"
             ],
             [
              1,
              "#f0f921"
             ]
            ],
            "type": "contour"
           }
          ],
          "contourcarpet": [
           {
            "colorbar": {
             "outlinewidth": 0,
             "ticks": ""
            },
            "type": "contourcarpet"
           }
          ],
          "heatmap": [
           {
            "colorbar": {
             "outlinewidth": 0,
             "ticks": ""
            },
            "colorscale": [
             [
              0,
              "#0d0887"
             ],
             [
              0.1111111111111111,
              "#46039f"
             ],
             [
              0.2222222222222222,
              "#7201a8"
             ],
             [
              0.3333333333333333,
              "#9c179e"
             ],
             [
              0.4444444444444444,
              "#bd3786"
             ],
             [
              0.5555555555555556,
              "#d8576b"
             ],
             [
              0.6666666666666666,
              "#ed7953"
             ],
             [
              0.7777777777777778,
              "#fb9f3a"
             ],
             [
              0.8888888888888888,
              "#fdca26"
             ],
             [
              1,
              "#f0f921"
             ]
            ],
            "type": "heatmap"
           }
          ],
          "heatmapgl": [
           {
            "colorbar": {
             "outlinewidth": 0,
             "ticks": ""
            },
            "colorscale": [
             [
              0,
              "#0d0887"
             ],
             [
              0.1111111111111111,
              "#46039f"
             ],
             [
              0.2222222222222222,
              "#7201a8"
             ],
             [
              0.3333333333333333,
              "#9c179e"
             ],
             [
              0.4444444444444444,
              "#bd3786"
             ],
             [
              0.5555555555555556,
              "#d8576b"
             ],
             [
              0.6666666666666666,
              "#ed7953"
             ],
             [
              0.7777777777777778,
              "#fb9f3a"
             ],
             [
              0.8888888888888888,
              "#fdca26"
             ],
             [
              1,
              "#f0f921"
             ]
            ],
            "type": "heatmapgl"
           }
          ],
          "histogram": [
           {
            "marker": {
             "pattern": {
              "fillmode": "overlay",
              "size": 10,
              "solidity": 0.2
             }
            },
            "type": "histogram"
           }
          ],
          "histogram2d": [
           {
            "colorbar": {
             "outlinewidth": 0,
             "ticks": ""
            },
            "colorscale": [
             [
              0,
              "#0d0887"
             ],
             [
              0.1111111111111111,
              "#46039f"
             ],
             [
              0.2222222222222222,
              "#7201a8"
             ],
             [
              0.3333333333333333,
              "#9c179e"
             ],
             [
              0.4444444444444444,
              "#bd3786"
             ],
             [
              0.5555555555555556,
              "#d8576b"
             ],
             [
              0.6666666666666666,
              "#ed7953"
             ],
             [
              0.7777777777777778,
              "#fb9f3a"
             ],
             [
              0.8888888888888888,
              "#fdca26"
             ],
             [
              1,
              "#f0f921"
             ]
            ],
            "type": "histogram2d"
           }
          ],
          "histogram2dcontour": [
           {
            "colorbar": {
             "outlinewidth": 0,
             "ticks": ""
            },
            "colorscale": [
             [
              0,
              "#0d0887"
             ],
             [
              0.1111111111111111,
              "#46039f"
             ],
             [
              0.2222222222222222,
              "#7201a8"
             ],
             [
              0.3333333333333333,
              "#9c179e"
             ],
             [
              0.4444444444444444,
              "#bd3786"
             ],
             [
              0.5555555555555556,
              "#d8576b"
             ],
             [
              0.6666666666666666,
              "#ed7953"
             ],
             [
              0.7777777777777778,
              "#fb9f3a"
             ],
             [
              0.8888888888888888,
              "#fdca26"
             ],
             [
              1,
              "#f0f921"
             ]
            ],
            "type": "histogram2dcontour"
           }
          ],
          "mesh3d": [
           {
            "colorbar": {
             "outlinewidth": 0,
             "ticks": ""
            },
            "type": "mesh3d"
           }
          ],
          "parcoords": [
           {
            "line": {
             "colorbar": {
              "outlinewidth": 0,
              "ticks": ""
             }
            },
            "type": "parcoords"
           }
          ],
          "pie": [
           {
            "automargin": true,
            "type": "pie"
           }
          ],
          "scatter": [
           {
            "fillpattern": {
             "fillmode": "overlay",
             "size": 10,
             "solidity": 0.2
            },
            "type": "scatter"
           }
          ],
          "scatter3d": [
           {
            "line": {
             "colorbar": {
              "outlinewidth": 0,
              "ticks": ""
             }
            },
            "marker": {
             "colorbar": {
              "outlinewidth": 0,
              "ticks": ""
             }
            },
            "type": "scatter3d"
           }
          ],
          "scattercarpet": [
           {
            "marker": {
             "colorbar": {
              "outlinewidth": 0,
              "ticks": ""
             }
            },
            "type": "scattercarpet"
           }
          ],
          "scattergeo": [
           {
            "marker": {
             "colorbar": {
              "outlinewidth": 0,
              "ticks": ""
             }
            },
            "type": "scattergeo"
           }
          ],
          "scattergl": [
           {
            "marker": {
             "colorbar": {
              "outlinewidth": 0,
              "ticks": ""
             }
            },
            "type": "scattergl"
           }
          ],
          "scattermapbox": [
           {
            "marker": {
             "colorbar": {
              "outlinewidth": 0,
              "ticks": ""
             }
            },
            "type": "scattermapbox"
           }
          ],
          "scatterpolar": [
           {
            "marker": {
             "colorbar": {
              "outlinewidth": 0,
              "ticks": ""
             }
            },
            "type": "scatterpolar"
           }
          ],
          "scatterpolargl": [
           {
            "marker": {
             "colorbar": {
              "outlinewidth": 0,
              "ticks": ""
             }
            },
            "type": "scatterpolargl"
           }
          ],
          "scatterternary": [
           {
            "marker": {
             "colorbar": {
              "outlinewidth": 0,
              "ticks": ""
             }
            },
            "type": "scatterternary"
           }
          ],
          "surface": [
           {
            "colorbar": {
             "outlinewidth": 0,
             "ticks": ""
            },
            "colorscale": [
             [
              0,
              "#0d0887"
             ],
             [
              0.1111111111111111,
              "#46039f"
             ],
             [
              0.2222222222222222,
              "#7201a8"
             ],
             [
              0.3333333333333333,
              "#9c179e"
             ],
             [
              0.4444444444444444,
              "#bd3786"
             ],
             [
              0.5555555555555556,
              "#d8576b"
             ],
             [
              0.6666666666666666,
              "#ed7953"
             ],
             [
              0.7777777777777778,
              "#fb9f3a"
             ],
             [
              0.8888888888888888,
              "#fdca26"
             ],
             [
              1,
              "#f0f921"
             ]
            ],
            "type": "surface"
           }
          ],
          "table": [
           {
            "cells": {
             "fill": {
              "color": "#EBF0F8"
             },
             "line": {
              "color": "white"
             }
            },
            "header": {
             "fill": {
              "color": "#C8D4E3"
             },
             "line": {
              "color": "white"
             }
            },
            "type": "table"
           }
          ]
         },
         "layout": {
          "annotationdefaults": {
           "arrowcolor": "#2a3f5f",
           "arrowhead": 0,
           "arrowwidth": 1
          },
          "autotypenumbers": "strict",
          "coloraxis": {
           "colorbar": {
            "outlinewidth": 0,
            "ticks": ""
           }
          },
          "colorscale": {
           "diverging": [
            [
             0,
             "#8e0152"
            ],
            [
             0.1,
             "#c51b7d"
            ],
            [
             0.2,
             "#de77ae"
            ],
            [
             0.3,
             "#f1b6da"
            ],
            [
             0.4,
             "#fde0ef"
            ],
            [
             0.5,
             "#f7f7f7"
            ],
            [
             0.6,
             "#e6f5d0"
            ],
            [
             0.7,
             "#b8e186"
            ],
            [
             0.8,
             "#7fbc41"
            ],
            [
             0.9,
             "#4d9221"
            ],
            [
             1,
             "#276419"
            ]
           ],
           "sequential": [
            [
             0,
             "#0d0887"
            ],
            [
             0.1111111111111111,
             "#46039f"
            ],
            [
             0.2222222222222222,
             "#7201a8"
            ],
            [
             0.3333333333333333,
             "#9c179e"
            ],
            [
             0.4444444444444444,
             "#bd3786"
            ],
            [
             0.5555555555555556,
             "#d8576b"
            ],
            [
             0.6666666666666666,
             "#ed7953"
            ],
            [
             0.7777777777777778,
             "#fb9f3a"
            ],
            [
             0.8888888888888888,
             "#fdca26"
            ],
            [
             1,
             "#f0f921"
            ]
           ],
           "sequentialminus": [
            [
             0,
             "#0d0887"
            ],
            [
             0.1111111111111111,
             "#46039f"
            ],
            [
             0.2222222222222222,
             "#7201a8"
            ],
            [
             0.3333333333333333,
             "#9c179e"
            ],
            [
             0.4444444444444444,
             "#bd3786"
            ],
            [
             0.5555555555555556,
             "#d8576b"
            ],
            [
             0.6666666666666666,
             "#ed7953"
            ],
            [
             0.7777777777777778,
             "#fb9f3a"
            ],
            [
             0.8888888888888888,
             "#fdca26"
            ],
            [
             1,
             "#f0f921"
            ]
           ]
          },
          "colorway": [
           "#636efa",
           "#EF553B",
           "#00cc96",
           "#ab63fa",
           "#FFA15A",
           "#19d3f3",
           "#FF6692",
           "#B6E880",
           "#FF97FF",
           "#FECB52"
          ],
          "font": {
           "color": "#2a3f5f"
          },
          "geo": {
           "bgcolor": "white",
           "lakecolor": "white",
           "landcolor": "#E5ECF6",
           "showlakes": true,
           "showland": true,
           "subunitcolor": "white"
          },
          "hoverlabel": {
           "align": "left"
          },
          "hovermode": "closest",
          "mapbox": {
           "style": "light"
          },
          "paper_bgcolor": "white",
          "plot_bgcolor": "#E5ECF6",
          "polar": {
           "angularaxis": {
            "gridcolor": "white",
            "linecolor": "white",
            "ticks": ""
           },
           "bgcolor": "#E5ECF6",
           "radialaxis": {
            "gridcolor": "white",
            "linecolor": "white",
            "ticks": ""
           }
          },
          "scene": {
           "xaxis": {
            "backgroundcolor": "#E5ECF6",
            "gridcolor": "white",
            "gridwidth": 2,
            "linecolor": "white",
            "showbackground": true,
            "ticks": "",
            "zerolinecolor": "white"
           },
           "yaxis": {
            "backgroundcolor": "#E5ECF6",
            "gridcolor": "white",
            "gridwidth": 2,
            "linecolor": "white",
            "showbackground": true,
            "ticks": "",
            "zerolinecolor": "white"
           },
           "zaxis": {
            "backgroundcolor": "#E5ECF6",
            "gridcolor": "white",
            "gridwidth": 2,
            "linecolor": "white",
            "showbackground": true,
            "ticks": "",
            "zerolinecolor": "white"
           }
          },
          "shapedefaults": {
           "line": {
            "color": "#2a3f5f"
           }
          },
          "ternary": {
           "aaxis": {
            "gridcolor": "white",
            "linecolor": "white",
            "ticks": ""
           },
           "baxis": {
            "gridcolor": "white",
            "linecolor": "white",
            "ticks": ""
           },
           "bgcolor": "#E5ECF6",
           "caxis": {
            "gridcolor": "white",
            "linecolor": "white",
            "ticks": ""
           }
          },
          "title": {
           "x": 0.05
          },
          "xaxis": {
           "automargin": true,
           "gridcolor": "white",
           "linecolor": "white",
           "ticks": "",
           "title": {
            "standoff": 15
           },
           "zerolinecolor": "white",
           "zerolinewidth": 2
          },
          "yaxis": {
           "automargin": true,
           "gridcolor": "white",
           "linecolor": "white",
           "ticks": "",
           "title": {
            "standoff": 15
           },
           "zerolinecolor": "white",
           "zerolinewidth": 2
          }
         }
        },
        "title": {
         "text": "Mean NLL for kin8nm-gap dataset"
        },
        "xaxis": {
         "anchor": "y",
         "domain": [
          0,
          1
         ],
         "title": {
          "text": "Subnetwork size"
         }
        },
        "yaxis": {
         "anchor": "x",
         "domain": [
          0,
          1
         ],
         "title": {
          "text": "NLL"
         }
        }
       }
      }
     },
     "metadata": {},
     "output_type": "display_data"
    }
   ],
   "source": [
    "plot_nll(path=\"results/kin8nm_GAP_*LA*.json\", title=\"Mean NLL for kin8nm-gap dataset\")"
   ]
  },
  {
   "attachments": {},
   "cell_type": "markdown",
   "metadata": {},
   "source": [
    "#### Plot Mean and Standard Deviation of Negative Log Likelihoods of different selection strategies on kin8nm dataset\n",
    "\n"
   ]
  },
  {
   "cell_type": "code",
   "execution_count": 7,
   "metadata": {},
   "outputs": [
    {
     "data": {
      "application/vnd.plotly.v1+json": {
       "config": {
        "plotlyServerURL": "https://plot.ly"
       },
       "data": [
        {
         "alignmentgroup": "True",
         "customdata": [
          [
           0,
           "STANDARD"
          ],
          [
           0,
           "STANDARD"
          ],
          [
           0,
           "STANDARD"
          ],
          [
           1,
           "STANDARD"
          ],
          [
           1,
           "STANDARD"
          ],
          [
           1,
           "STANDARD"
          ],
          [
           2,
           "STANDARD"
          ],
          [
           2,
           "STANDARD"
          ],
          [
           2,
           "STANDARD"
          ],
          [
           3,
           "STANDARD"
          ],
          [
           3,
           "STANDARD"
          ],
          [
           3,
           "STANDARD"
          ],
          [
           4,
           "STANDARD"
          ],
          [
           4,
           "STANDARD"
          ],
          [
           4,
           "STANDARD"
          ]
         ],
         "hovertemplate": "Selection strategy=KFE<br>Subnetwork size=%{x}<br>NLL=%{y}<br>seed=%{customdata[0]}<br>split=%{customdata[1]}<extra></extra>",
         "legendgroup": "KFE",
         "marker": {
          "color": "#636efa"
         },
         "name": "KFE",
         "notched": false,
         "offsetgroup": "KFE",
         "orientation": "v",
         "quartilemethod": "exclusive",
         "showlegend": false,
         "type": "box",
         "x": [
          600,
          1200,
          1800,
          600,
          1200,
          1800,
          600,
          1200,
          1800,
          600,
          1200,
          1800,
          600,
          1200,
          1800
         ],
         "x0": " ",
         "xaxis": "x",
         "y": [
          0.13643545650537242,
          0.12932911723815138,
          0.1249328291746703,
          0.1296012007965121,
          0.12346020922646864,
          0.12035307652146283,
          0.13163474580992873,
          0.12218654414044446,
          0.11901087650363493,
          0.12602395026996882,
          0.1155437445913529,
          0.11049664833117782,
          0.1393109519935786,
          0.13113936292758188,
          0.12571005399881657
         ],
         "y0": " ",
         "yaxis": "y"
        },
        {
         "alignmentgroup": "True",
         "customdata": [
          [
           0,
           "STANDARD"
          ],
          [
           0,
           "STANDARD"
          ],
          [
           0,
           "STANDARD"
          ],
          [
           1,
           "STANDARD"
          ],
          [
           1,
           "STANDARD"
          ],
          [
           1,
           "STANDARD"
          ],
          [
           2,
           "STANDARD"
          ],
          [
           2,
           "STANDARD"
          ],
          [
           2,
           "STANDARD"
          ],
          [
           3,
           "STANDARD"
          ],
          [
           3,
           "STANDARD"
          ],
          [
           3,
           "STANDARD"
          ],
          [
           4,
           "STANDARD"
          ],
          [
           4,
           "STANDARD"
          ],
          [
           4,
           "STANDARD"
          ]
         ],
         "hovertemplate": "Selection strategy=LVD<br>Subnetwork size=%{x}<br>NLL=%{y}<br>seed=%{customdata[0]}<br>split=%{customdata[1]}<extra></extra>",
         "legendgroup": "LVD",
         "marker": {
          "color": "#EF553B"
         },
         "name": "LVD",
         "notched": false,
         "offsetgroup": "LVD",
         "orientation": "v",
         "quartilemethod": "exclusive",
         "showlegend": false,
         "type": "box",
         "x": [
          600,
          1200,
          1800,
          600,
          1200,
          1800,
          600,
          1200,
          1800,
          600,
          1200,
          1800,
          600,
          1200,
          1800
         ],
         "x0": " ",
         "xaxis": "x",
         "y": [
          0.13762554608813177,
          0.12923755842568965,
          0.12396297404801102,
          0.13466219529759044,
          0.12695948604692192,
          0.12193388361597265,
          0.13266361681507433,
          0.12400359292134414,
          0.1184122073829366,
          0.1275142989159743,
          0.11667235763566901,
          0.11008588684734248,
          0.13969462545832304,
          0.13068227742315958,
          0.12509136344434477
         ],
         "y0": " ",
         "yaxis": "y"
        },
        {
         "alignmentgroup": "True",
         "customdata": [
          [
           0,
           "STANDARD"
          ],
          [
           0,
           "STANDARD"
          ],
          [
           0,
           "STANDARD"
          ],
          [
           1,
           "STANDARD"
          ],
          [
           1,
           "STANDARD"
          ],
          [
           1,
           "STANDARD"
          ],
          [
           2,
           "STANDARD"
          ],
          [
           2,
           "STANDARD"
          ],
          [
           2,
           "STANDARD"
          ],
          [
           3,
           "STANDARD"
          ],
          [
           3,
           "STANDARD"
          ],
          [
           3,
           "STANDARD"
          ],
          [
           4,
           "STANDARD"
          ],
          [
           4,
           "STANDARD"
          ],
          [
           4,
           "STANDARD"
          ]
         ],
         "hovertemplate": "Selection strategy=OBD<br>Subnetwork size=%{x}<br>NLL=%{y}<br>seed=%{customdata[0]}<br>split=%{customdata[1]}<extra></extra>",
         "legendgroup": "OBD",
         "marker": {
          "color": "#00cc96"
         },
         "name": "OBD",
         "notched": false,
         "offsetgroup": "OBD",
         "orientation": "v",
         "quartilemethod": "exclusive",
         "showlegend": false,
         "type": "box",
         "x": [
          600,
          1200,
          1800,
          600,
          1200,
          1800,
          600,
          1200,
          1800,
          600,
          1200,
          1800,
          600,
          1200,
          1800
         ],
         "x0": " ",
         "xaxis": "x",
         "y": [
          0.1309446903529189,
          0.12295489178260435,
          0.12035047890519657,
          0.1270783428137502,
          0.12056708313041957,
          0.11858530221591816,
          0.12541566092939233,
          0.11810585602024497,
          0.11552740899361921,
          0.12007303127328017,
          0.1105405393010088,
          0.10641033902003497,
          0.13433805146378489,
          0.1253049253461821,
          0.12162915134090757
         ],
         "y0": " ",
         "yaxis": "y"
        }
       ],
       "layout": {
        "boxmode": "group",
        "legend": {
         "title": {
          "text": "Selection strategy"
         },
         "tracegroupgap": 0
        },
        "template": {
         "data": {
          "bar": [
           {
            "error_x": {
             "color": "#2a3f5f"
            },
            "error_y": {
             "color": "#2a3f5f"
            },
            "marker": {
             "line": {
              "color": "#E5ECF6",
              "width": 0.5
             },
             "pattern": {
              "fillmode": "overlay",
              "size": 10,
              "solidity": 0.2
             }
            },
            "type": "bar"
           }
          ],
          "barpolar": [
           {
            "marker": {
             "line": {
              "color": "#E5ECF6",
              "width": 0.5
             },
             "pattern": {
              "fillmode": "overlay",
              "size": 10,
              "solidity": 0.2
             }
            },
            "type": "barpolar"
           }
          ],
          "carpet": [
           {
            "aaxis": {
             "endlinecolor": "#2a3f5f",
             "gridcolor": "white",
             "linecolor": "white",
             "minorgridcolor": "white",
             "startlinecolor": "#2a3f5f"
            },
            "baxis": {
             "endlinecolor": "#2a3f5f",
             "gridcolor": "white",
             "linecolor": "white",
             "minorgridcolor": "white",
             "startlinecolor": "#2a3f5f"
            },
            "type": "carpet"
           }
          ],
          "choropleth": [
           {
            "colorbar": {
             "outlinewidth": 0,
             "ticks": ""
            },
            "type": "choropleth"
           }
          ],
          "contour": [
           {
            "colorbar": {
             "outlinewidth": 0,
             "ticks": ""
            },
            "colorscale": [
             [
              0,
              "#0d0887"
             ],
             [
              0.1111111111111111,
              "#46039f"
             ],
             [
              0.2222222222222222,
              "#7201a8"
             ],
             [
              0.3333333333333333,
              "#9c179e"
             ],
             [
              0.4444444444444444,
              "#bd3786"
             ],
             [
              0.5555555555555556,
              "#d8576b"
             ],
             [
              0.6666666666666666,
              "#ed7953"
             ],
             [
              0.7777777777777778,
              "#fb9f3a"
             ],
             [
              0.8888888888888888,
              "#fdca26"
             ],
             [
              1,
              "#f0f921"
             ]
            ],
            "type": "contour"
           }
          ],
          "contourcarpet": [
           {
            "colorbar": {
             "outlinewidth": 0,
             "ticks": ""
            },
            "type": "contourcarpet"
           }
          ],
          "heatmap": [
           {
            "colorbar": {
             "outlinewidth": 0,
             "ticks": ""
            },
            "colorscale": [
             [
              0,
              "#0d0887"
             ],
             [
              0.1111111111111111,
              "#46039f"
             ],
             [
              0.2222222222222222,
              "#7201a8"
             ],
             [
              0.3333333333333333,
              "#9c179e"
             ],
             [
              0.4444444444444444,
              "#bd3786"
             ],
             [
              0.5555555555555556,
              "#d8576b"
             ],
             [
              0.6666666666666666,
              "#ed7953"
             ],
             [
              0.7777777777777778,
              "#fb9f3a"
             ],
             [
              0.8888888888888888,
              "#fdca26"
             ],
             [
              1,
              "#f0f921"
             ]
            ],
            "type": "heatmap"
           }
          ],
          "heatmapgl": [
           {
            "colorbar": {
             "outlinewidth": 0,
             "ticks": ""
            },
            "colorscale": [
             [
              0,
              "#0d0887"
             ],
             [
              0.1111111111111111,
              "#46039f"
             ],
             [
              0.2222222222222222,
              "#7201a8"
             ],
             [
              0.3333333333333333,
              "#9c179e"
             ],
             [
              0.4444444444444444,
              "#bd3786"
             ],
             [
              0.5555555555555556,
              "#d8576b"
             ],
             [
              0.6666666666666666,
              "#ed7953"
             ],
             [
              0.7777777777777778,
              "#fb9f3a"
             ],
             [
              0.8888888888888888,
              "#fdca26"
             ],
             [
              1,
              "#f0f921"
             ]
            ],
            "type": "heatmapgl"
           }
          ],
          "histogram": [
           {
            "marker": {
             "pattern": {
              "fillmode": "overlay",
              "size": 10,
              "solidity": 0.2
             }
            },
            "type": "histogram"
           }
          ],
          "histogram2d": [
           {
            "colorbar": {
             "outlinewidth": 0,
             "ticks": ""
            },
            "colorscale": [
             [
              0,
              "#0d0887"
             ],
             [
              0.1111111111111111,
              "#46039f"
             ],
             [
              0.2222222222222222,
              "#7201a8"
             ],
             [
              0.3333333333333333,
              "#9c179e"
             ],
             [
              0.4444444444444444,
              "#bd3786"
             ],
             [
              0.5555555555555556,
              "#d8576b"
             ],
             [
              0.6666666666666666,
              "#ed7953"
             ],
             [
              0.7777777777777778,
              "#fb9f3a"
             ],
             [
              0.8888888888888888,
              "#fdca26"
             ],
             [
              1,
              "#f0f921"
             ]
            ],
            "type": "histogram2d"
           }
          ],
          "histogram2dcontour": [
           {
            "colorbar": {
             "outlinewidth": 0,
             "ticks": ""
            },
            "colorscale": [
             [
              0,
              "#0d0887"
             ],
             [
              0.1111111111111111,
              "#46039f"
             ],
             [
              0.2222222222222222,
              "#7201a8"
             ],
             [
              0.3333333333333333,
              "#9c179e"
             ],
             [
              0.4444444444444444,
              "#bd3786"
             ],
             [
              0.5555555555555556,
              "#d8576b"
             ],
             [
              0.6666666666666666,
              "#ed7953"
             ],
             [
              0.7777777777777778,
              "#fb9f3a"
             ],
             [
              0.8888888888888888,
              "#fdca26"
             ],
             [
              1,
              "#f0f921"
             ]
            ],
            "type": "histogram2dcontour"
           }
          ],
          "mesh3d": [
           {
            "colorbar": {
             "outlinewidth": 0,
             "ticks": ""
            },
            "type": "mesh3d"
           }
          ],
          "parcoords": [
           {
            "line": {
             "colorbar": {
              "outlinewidth": 0,
              "ticks": ""
             }
            },
            "type": "parcoords"
           }
          ],
          "pie": [
           {
            "automargin": true,
            "type": "pie"
           }
          ],
          "scatter": [
           {
            "fillpattern": {
             "fillmode": "overlay",
             "size": 10,
             "solidity": 0.2
            },
            "type": "scatter"
           }
          ],
          "scatter3d": [
           {
            "line": {
             "colorbar": {
              "outlinewidth": 0,
              "ticks": ""
             }
            },
            "marker": {
             "colorbar": {
              "outlinewidth": 0,
              "ticks": ""
             }
            },
            "type": "scatter3d"
           }
          ],
          "scattercarpet": [
           {
            "marker": {
             "colorbar": {
              "outlinewidth": 0,
              "ticks": ""
             }
            },
            "type": "scattercarpet"
           }
          ],
          "scattergeo": [
           {
            "marker": {
             "colorbar": {
              "outlinewidth": 0,
              "ticks": ""
             }
            },
            "type": "scattergeo"
           }
          ],
          "scattergl": [
           {
            "marker": {
             "colorbar": {
              "outlinewidth": 0,
              "ticks": ""
             }
            },
            "type": "scattergl"
           }
          ],
          "scattermapbox": [
           {
            "marker": {
             "colorbar": {
              "outlinewidth": 0,
              "ticks": ""
             }
            },
            "type": "scattermapbox"
           }
          ],
          "scatterpolar": [
           {
            "marker": {
             "colorbar": {
              "outlinewidth": 0,
              "ticks": ""
             }
            },
            "type": "scatterpolar"
           }
          ],
          "scatterpolargl": [
           {
            "marker": {
             "colorbar": {
              "outlinewidth": 0,
              "ticks": ""
             }
            },
            "type": "scatterpolargl"
           }
          ],
          "scatterternary": [
           {
            "marker": {
             "colorbar": {
              "outlinewidth": 0,
              "ticks": ""
             }
            },
            "type": "scatterternary"
           }
          ],
          "surface": [
           {
            "colorbar": {
             "outlinewidth": 0,
             "ticks": ""
            },
            "colorscale": [
             [
              0,
              "#0d0887"
             ],
             [
              0.1111111111111111,
              "#46039f"
             ],
             [
              0.2222222222222222,
              "#7201a8"
             ],
             [
              0.3333333333333333,
              "#9c179e"
             ],
             [
              0.4444444444444444,
              "#bd3786"
             ],
             [
              0.5555555555555556,
              "#d8576b"
             ],
             [
              0.6666666666666666,
              "#ed7953"
             ],
             [
              0.7777777777777778,
              "#fb9f3a"
             ],
             [
              0.8888888888888888,
              "#fdca26"
             ],
             [
              1,
              "#f0f921"
             ]
            ],
            "type": "surface"
           }
          ],
          "table": [
           {
            "cells": {
             "fill": {
              "color": "#EBF0F8"
             },
             "line": {
              "color": "white"
             }
            },
            "header": {
             "fill": {
              "color": "#C8D4E3"
             },
             "line": {
              "color": "white"
             }
            },
            "type": "table"
           }
          ]
         },
         "layout": {
          "annotationdefaults": {
           "arrowcolor": "#2a3f5f",
           "arrowhead": 0,
           "arrowwidth": 1
          },
          "autotypenumbers": "strict",
          "coloraxis": {
           "colorbar": {
            "outlinewidth": 0,
            "ticks": ""
           }
          },
          "colorscale": {
           "diverging": [
            [
             0,
             "#8e0152"
            ],
            [
             0.1,
             "#c51b7d"
            ],
            [
             0.2,
             "#de77ae"
            ],
            [
             0.3,
             "#f1b6da"
            ],
            [
             0.4,
             "#fde0ef"
            ],
            [
             0.5,
             "#f7f7f7"
            ],
            [
             0.6,
             "#e6f5d0"
            ],
            [
             0.7,
             "#b8e186"
            ],
            [
             0.8,
             "#7fbc41"
            ],
            [
             0.9,
             "#4d9221"
            ],
            [
             1,
             "#276419"
            ]
           ],
           "sequential": [
            [
             0,
             "#0d0887"
            ],
            [
             0.1111111111111111,
             "#46039f"
            ],
            [
             0.2222222222222222,
             "#7201a8"
            ],
            [
             0.3333333333333333,
             "#9c179e"
            ],
            [
             0.4444444444444444,
             "#bd3786"
            ],
            [
             0.5555555555555556,
             "#d8576b"
            ],
            [
             0.6666666666666666,
             "#ed7953"
            ],
            [
             0.7777777777777778,
             "#fb9f3a"
            ],
            [
             0.8888888888888888,
             "#fdca26"
            ],
            [
             1,
             "#f0f921"
            ]
           ],
           "sequentialminus": [
            [
             0,
             "#0d0887"
            ],
            [
             0.1111111111111111,
             "#46039f"
            ],
            [
             0.2222222222222222,
             "#7201a8"
            ],
            [
             0.3333333333333333,
             "#9c179e"
            ],
            [
             0.4444444444444444,
             "#bd3786"
            ],
            [
             0.5555555555555556,
             "#d8576b"
            ],
            [
             0.6666666666666666,
             "#ed7953"
            ],
            [
             0.7777777777777778,
             "#fb9f3a"
            ],
            [
             0.8888888888888888,
             "#fdca26"
            ],
            [
             1,
             "#f0f921"
            ]
           ]
          },
          "colorway": [
           "#636efa",
           "#EF553B",
           "#00cc96",
           "#ab63fa",
           "#FFA15A",
           "#19d3f3",
           "#FF6692",
           "#B6E880",
           "#FF97FF",
           "#FECB52"
          ],
          "font": {
           "color": "#2a3f5f"
          },
          "geo": {
           "bgcolor": "white",
           "lakecolor": "white",
           "landcolor": "#E5ECF6",
           "showlakes": true,
           "showland": true,
           "subunitcolor": "white"
          },
          "hoverlabel": {
           "align": "left"
          },
          "hovermode": "closest",
          "mapbox": {
           "style": "light"
          },
          "paper_bgcolor": "white",
          "plot_bgcolor": "#E5ECF6",
          "polar": {
           "angularaxis": {
            "gridcolor": "white",
            "linecolor": "white",
            "ticks": ""
           },
           "bgcolor": "#E5ECF6",
           "radialaxis": {
            "gridcolor": "white",
            "linecolor": "white",
            "ticks": ""
           }
          },
          "scene": {
           "xaxis": {
            "backgroundcolor": "#E5ECF6",
            "gridcolor": "white",
            "gridwidth": 2,
            "linecolor": "white",
            "showbackground": true,
            "ticks": "",
            "zerolinecolor": "white"
           },
           "yaxis": {
            "backgroundcolor": "#E5ECF6",
            "gridcolor": "white",
            "gridwidth": 2,
            "linecolor": "white",
            "showbackground": true,
            "ticks": "",
            "zerolinecolor": "white"
           },
           "zaxis": {
            "backgroundcolor": "#E5ECF6",
            "gridcolor": "white",
            "gridwidth": 2,
            "linecolor": "white",
            "showbackground": true,
            "ticks": "",
            "zerolinecolor": "white"
           }
          },
          "shapedefaults": {
           "line": {
            "color": "#2a3f5f"
           }
          },
          "ternary": {
           "aaxis": {
            "gridcolor": "white",
            "linecolor": "white",
            "ticks": ""
           },
           "baxis": {
            "gridcolor": "white",
            "linecolor": "white",
            "ticks": ""
           },
           "bgcolor": "#E5ECF6",
           "caxis": {
            "gridcolor": "white",
            "linecolor": "white",
            "ticks": ""
           }
          },
          "title": {
           "x": 0.05
          },
          "xaxis": {
           "automargin": true,
           "gridcolor": "white",
           "linecolor": "white",
           "ticks": "",
           "title": {
            "standoff": 15
           },
           "zerolinecolor": "white",
           "zerolinewidth": 2
          },
          "yaxis": {
           "automargin": true,
           "gridcolor": "white",
           "linecolor": "white",
           "ticks": "",
           "title": {
            "standoff": 15
           },
           "zerolinecolor": "white",
           "zerolinewidth": 2
          }
         }
        },
        "title": {
         "text": "Mean NLL for kin8nm dataset"
        },
        "xaxis": {
         "anchor": "y",
         "domain": [
          0,
          1
         ],
         "title": {
          "text": "Subnetwork size"
         }
        },
        "yaxis": {
         "anchor": "x",
         "domain": [
          0,
          1
         ],
         "title": {
          "text": "NLL"
         }
        }
       }
      }
     },
     "metadata": {},
     "output_type": "display_data"
    }
   ],
   "source": [
    "plot_nll(path=\"results/kin8nm_STANDARD_*LA*.json\", title=\"Mean NLL for kin8nm dataset\")"
   ]
  },
  {
   "attachments": {},
   "cell_type": "markdown",
   "metadata": {},
   "source": [
    "## Conclusion"
   ]
  },
  {
   "attachments": {},
   "cell_type": "markdown",
   "metadata": {},
   "source": [
    "From the above experiments, we can conclude that the pruning methods can not be completely ruled out for subnetwork inference. But since the datasets we have used in the experiments are low dimensional, we can not say for sure that the pruning methods will work better than the approach proposed by the authors. It might be the case that the MAP models used in the experiments are too expressive for the size of the datasets and many of the weights in the network are redundant as is and pruning techniques can easily prune them out. KFAC based strategy seems to be a more reliable choice for subnetwork selection as compared to the method in the paper. It is computationally feasible for larger networks, and it also enables to do a more structured subnetwork inference by considering more complex covariances for example covariance in the same channel in a convolutional layer etc. We propose to extend the experiments to larger datasets and more complex networks and see if the results hold."
   ]
  }
 ],
 "metadata": {
  "kernelspec": {
   "display_name": "laplace_regression",
   "language": "python",
   "name": "python3"
  },
  "language_info": {
   "codemirror_mode": {
    "name": "ipython",
    "version": 3
   },
   "file_extension": ".py",
   "mimetype": "text/x-python",
   "name": "python",
   "nbconvert_exporter": "python",
   "pygments_lexer": "ipython3",
   "version": "3.8.16"
  }
 },
 "nbformat": 4,
 "nbformat_minor": 2
}
